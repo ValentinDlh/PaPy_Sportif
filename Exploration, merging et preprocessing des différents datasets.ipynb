{
 "cells": [
  {
   "cell_type": "code",
   "execution_count": 1,
   "id": "6e06bb5a",
   "metadata": {},
   "outputs": [],
   "source": [
    "import pandas as pd\n",
    "import numpy as np\n",
    "import matplotlib.pyplot as plt\n",
    "%matplotlib inline\n",
    "import seaborn as sns\n",
    "sns.set_theme()"
   ]
  },
  {
   "cell_type": "code",
   "execution_count": 25,
   "id": "3e7391f2",
   "metadata": {},
   "outputs": [
    {
     "name": "stderr",
     "output_type": "stream",
     "text": [
      "D:\\TEMP\\ipykernel_7044\\3730307077.py:3: DtypeWarning: Columns (16) have mixed types. Specify dtype option on import or set low_memory=False.\n",
      "  match_scores = pd.read_csv('Sources/atp-world-tour-tennis-data-master/csv/2_match_scores/match_scores_2000_2022.csv', index_col=0).reset_index()\n",
      "D:\\TEMP\\ipykernel_7044\\3730307077.py:6: DtypeWarning: Columns (12,13,16,17,18,19,39) have mixed types. Specify dtype option on import or set low_memory=False.\n",
      "  odds_data = pd.read_csv('Sources/tennis-data.co.uk-with-odds/odds_data_2000_2022.csv', index_col=0).reset_index()\n"
     ]
    }
   ],
   "source": [
    "# Création des différents DataFrames\n",
    "tournaments = pd.read_csv('Sources/atp-world-tour-tennis-data-master/csv/1_tournaments/tournaments_2000_2022.csv', index_col=0).reset_index()\n",
    "match_scores = pd.read_csv('Sources/atp-world-tour-tennis-data-master/csv/2_match_scores/match_scores_2000_2022.csv', index_col=0).reset_index()\n",
    "match_stats = pd.read_csv('Sources/atp-world-tour-tennis-data-master/csv/3_match_stats/match_stats_2000_2022.csv', index_col=0).reset_index()\n",
    "kaggledata = pd.read_csv('tennis/atp_data.csv')\n",
    "odds_data = pd.read_csv('Sources/tennis-data.co.uk-with-odds/odds_data_2000_2022.csv', index_col=0).reset_index()"
   ]
  },
  {
   "cell_type": "code",
   "execution_count": null,
   "id": "d2f01c7c",
   "metadata": {},
   "outputs": [],
   "source": [
    "# drop de la colonne index\n",
    "tournaments = tournaments.drop('index', axis=1)\n",
    "match_scores = match_scores.drop('index', axis=1)\n",
    "match_stats = match_stats.drop('index', axis=1)\n",
    "odds_data = odds_data.drop('index', axis=1)"
   ]
  },
  {
   "cell_type": "markdown",
   "id": "1fb85469",
   "metadata": {},
   "source": [
    "Liaison tournaments et match_scores:"
   ]
  },
  {
   "cell_type": "code",
   "execution_count": 31,
   "id": "23f9a298",
   "metadata": {},
   "outputs": [
    {
     "name": "stdout",
     "output_type": "stream",
     "text": [
      "<class 'pandas.core.frame.DataFrame'>\n",
      "RangeIndex: 1573 entries, 0 to 1572\n",
      "Data columns (total 31 columns):\n",
      " #   Column                        Non-Null Count  Dtype  \n",
      "---  ------                        --------------  -----  \n",
      " 0   tourney_year_id               1573 non-null   object \n",
      " 1   tourney_order                 1573 non-null   int64  \n",
      " 2   tourney_type                  1076 non-null   object \n",
      " 3   tourney_name                  1573 non-null   object \n",
      " 4   tourney_id                    1573 non-null   int64  \n",
      " 5   tourney_slug                  1573 non-null   object \n",
      " 6   tourney_location              1562 non-null   object \n",
      " 7   tourney_date                  1573 non-null   object \n",
      " 8   year                          1573 non-null   int64  \n",
      " 9   tourney_month                 1573 non-null   int64  \n",
      " 10  tourney_day                   1573 non-null   int64  \n",
      " 11  tourney_singles_draw          1573 non-null   int64  \n",
      " 12  tourney_doubles_draw          1573 non-null   int64  \n",
      " 13  tourney_conditions            1573 non-null   object \n",
      " 14  tourney_surface               1573 non-null   object \n",
      " 15  tourney_fin_commit_raw        1546 non-null   object \n",
      " 16  currency                      1546 non-null   object \n",
      " 17  tourney_fin_commit            1546 non-null   float64\n",
      " 18  tourney_url_suffix            1573 non-null   object \n",
      " 19  singles_winner_name           1507 non-null   object \n",
      " 20  singles_winner_url            1507 non-null   object \n",
      " 21  singles_winner_player_slug    1507 non-null   object \n",
      " 22  singles_winner_player_id      1507 non-null   object \n",
      " 23  doubles_winner_1_name         1502 non-null   object \n",
      " 24  doubles_winner_1_url          1502 non-null   object \n",
      " 25  doubles_winner_1_player_slug  1502 non-null   object \n",
      " 26  doubles_winner_1_player_id    1502 non-null   object \n",
      " 27  doubles_winner_2_name         1502 non-null   object \n",
      " 28  doubles_winner_2_url          1502 non-null   object \n",
      " 29  doubles_winner_2_player_slug  1502 non-null   object \n",
      " 30  doubles_winner_2_player_id    1502 non-null   object \n",
      "dtypes: float64(1), int64(7), object(23)\n",
      "memory usage: 381.1+ KB\n"
     ]
    }
   ],
   "source": [
    "tournaments.info()"
   ]
  },
  {
   "cell_type": "code",
   "execution_count": 32,
   "id": "bf1f0cdf",
   "metadata": {},
   "outputs": [
    {
     "name": "stdout",
     "output_type": "stream",
     "text": [
      "<class 'pandas.core.frame.DataFrame'>\n",
      "RangeIndex: 86771 entries, 0 to 86770\n",
      "Data columns (total 36 columns):\n",
      " #   Column                  Non-Null Count  Dtype  \n",
      "---  ------                  --------------  -----  \n",
      " 0   tourney_year_id         86771 non-null  object \n",
      " 1   tourney_order           86771 non-null  int64  \n",
      " 2   tourney_name            86771 non-null  object \n",
      " 3   tourney_slug            86771 non-null  object \n",
      " 4   tourney_url_suffix      86771 non-null  object \n",
      " 5   start_date              86159 non-null  object \n",
      " 6   start_year              86159 non-null  float64\n",
      " 7   start_month             86159 non-null  float64\n",
      " 8   start_day               86159 non-null  float64\n",
      " 9   end_date                86159 non-null  object \n",
      " 10  end_year                86159 non-null  float64\n",
      " 11  end_month               86159 non-null  float64\n",
      " 12  end_day                 86159 non-null  float64\n",
      " 13  currency                86159 non-null  object \n",
      " 14  prize_money             86159 non-null  float64\n",
      " 15  match_index             83429 non-null  object \n",
      " 16  tourney_round_name      86771 non-null  object \n",
      " 17  round_order             86771 non-null  int64  \n",
      " 18  match_order             86771 non-null  int64  \n",
      " 19  winner_name             86771 non-null  object \n",
      " 20  winner_player_id        86771 non-null  object \n",
      " 21  winner_slug             86771 non-null  object \n",
      " 22  loser_name              86771 non-null  object \n",
      " 23  loser_player_id         86771 non-null  object \n",
      " 24  loser_slug              86771 non-null  object \n",
      " 25  winner_seed             51853 non-null  object \n",
      " 26  loser_seed              41225 non-null  object \n",
      " 27  match_score_tiebreaks   86771 non-null  object \n",
      " 28  winner_sets_won         86365 non-null  float64\n",
      " 29  loser_sets_won          86365 non-null  float64\n",
      " 30  winner_games_won        86365 non-null  float64\n",
      " 31  loser_games_won         86365 non-null  float64\n",
      " 32  winner_tiebreaks_won    86365 non-null  float64\n",
      " 33  loser_tiebreaks_won     86365 non-null  float64\n",
      " 34  match_id                86771 non-null  object \n",
      " 35  match_stats_url_suffix  83429 non-null  object \n",
      "dtypes: float64(13), int64(3), object(20)\n",
      "memory usage: 23.8+ MB\n"
     ]
    }
   ],
   "source": [
    "match_scores.info()"
   ]
  },
  {
   "cell_type": "code",
   "execution_count": 33,
   "id": "7ba88a0a",
   "metadata": {},
   "outputs": [
    {
     "name": "stdout",
     "output_type": "stream",
     "text": [
      "     tourney_year_id  tourney_order     tourney_type  \\\n",
      "0           2000-451              1              NaN   \n",
      "1           2000-891              2              NaN   \n",
      "2          2000-7308              3              NaN   \n",
      "3           2000-301              4              NaN   \n",
      "4           2000-338              5              NaN   \n",
      "...              ...            ...              ...   \n",
      "1568        2022-337             67          ATP 500   \n",
      "1569        2022-328             68          ATP 500   \n",
      "1570        2022-352             69     Masters 1000   \n",
      "1571       2022-7696             70  Next Gen Finals   \n",
      "1572        2022-605             71       ATP Finals   \n",
      "\n",
      "                             tourney_name  tourney_id  \\\n",
      "0                                    Doha         451   \n",
      "1                                 Chennai         891   \n",
      "2                                Adelaide        7308   \n",
      "3                                Auckland         301   \n",
      "4                                  Sydney         338   \n",
      "...                                   ...         ...   \n",
      "1568                      Erste Bank Open         337   \n",
      "1569                  Swiss Indoors Basel         328   \n",
      "1570                  Rolex Paris Masters         352   \n",
      "1571  Intesa Sanpaolo Next Gen ATP Finals        7696   \n",
      "1572                     Nitto ATP Finals         605   \n",
      "\n",
      "                             tourney_slug    tourney_location tourney_date  \\\n",
      "0                                    doha                Doha   2000.01.03   \n",
      "1                                 chennai             Chennai   2000.01.03   \n",
      "2                                adelaide            Adelaide   2000.01.03   \n",
      "3                                auckland            Auckland   2000.01.10   \n",
      "4                                  sydney              Sydney   2000.01.10   \n",
      "...                                   ...                 ...          ...   \n",
      "1568                               vienna     Vienna, Austria   2022.10.24   \n",
      "1569                                basel  Basel, Switzerland   2022.10.24   \n",
      "1570                                paris       Paris, France   2022.10.31   \n",
      "1571  intesa-sanpaolo-next-gen-atp-finals        Milan, Italy   2022.11.08   \n",
      "1572                     nitto-atp-finals        Turin, Italy   2022.11.13   \n",
      "\n",
      "      year  tourney_month  ...  singles_winner_player_slug  \\\n",
      "0     2000              1  ...             fabrice-santoro   \n",
      "1     2000              1  ...              jerome-golmard   \n",
      "2     2000              1  ...              lleyton-hewitt   \n",
      "3     2000              1  ...               magnus-norman   \n",
      "4     2000              1  ...              lleyton-hewitt   \n",
      "...    ...            ...  ...                         ...   \n",
      "1568  2022             10  ...             daniil-medvedev   \n",
      "1569  2022             10  ...       felix-auger-aliassime   \n",
      "1570  2022             10  ...                 holger-rune   \n",
      "1571  2022             11  ...                         NaN   \n",
      "1572  2022             11  ...                         NaN   \n",
      "\n",
      "      singles_winner_player_id  doubles_winner_1_name  \\\n",
      "0                         s424           Mark Knowles   \n",
      "1                         g319         Julien Boutter   \n",
      "2                         h432         Mark Woodforde   \n",
      "3                         n250         Ellis Ferreira   \n",
      "4                         h432         Mark Woodforde   \n",
      "...                        ...                    ...   \n",
      "1568                      mm58        Alexander Erler   \n",
      "1569                      ag37             Ivan Dodig   \n",
      "1570                      r0dg         Wesley Koolhof   \n",
      "1571                       NaN                    NaN   \n",
      "1572                       NaN                    NaN   \n",
      "\n",
      "                           doubles_winner_1_url doubles_winner_1_player_slug  \\\n",
      "0        /en/players/mark-knowles/k171/overview                 mark-knowles   \n",
      "1      /en/players/julien-boutter/b599/overview               julien-boutter   \n",
      "2      /en/players/mark-woodforde/w035/overview               mark-woodforde   \n",
      "3      /en/players/ellis-ferreira/f185/overview               ellis-ferreira   \n",
      "4      /en/players/mark-woodforde/w035/overview               mark-woodforde   \n",
      "...                                         ...                          ...   \n",
      "1568  /en/players/alexander-erler/e928/overview              alexander-erler   \n",
      "1569       /en/players/ivan-dodig/d646/overview                   ivan-dodig   \n",
      "1570   /en/players/wesley-koolhof/kc41/overview               wesley-koolhof   \n",
      "1571                                        NaN                          NaN   \n",
      "1572                                        NaN                          NaN   \n",
      "\n",
      "     doubles_winner_1_player_id doubles_winner_2_name  \\\n",
      "0                          k171            Max Mirnyi   \n",
      "1                          b599     Christophe Rochus   \n",
      "2                          w035       Todd Woodbridge   \n",
      "3                          f185            Rick Leach   \n",
      "4                          w035       Todd Woodbridge   \n",
      "...                         ...                   ...   \n",
      "1568                       e928         Lucas Miedler   \n",
      "1569                       d646       Austin Krajicek   \n",
      "1570                       kc41          Neal Skupski   \n",
      "1571                        NaN                   NaN   \n",
      "1572                        NaN                   NaN   \n",
      "\n",
      "                             doubles_winner_2_url  \\\n",
      "0            /en/players/max-mirnyi/m595/overview   \n",
      "1     /en/players/christophe-rochus/r336/overview   \n",
      "2       /en/players/todd-woodbridge/w136/overview   \n",
      "3            /en/players/rick-leach/l013/overview   \n",
      "4       /en/players/todd-woodbridge/w136/overview   \n",
      "...                                           ...   \n",
      "1568      /en/players/lucas-miedler/mo55/overview   \n",
      "1569    /en/players/austin-krajicek/ka00/overview   \n",
      "1570       /en/players/neal-skupski/sl22/overview   \n",
      "1571                                          NaN   \n",
      "1572                                          NaN   \n",
      "\n",
      "     doubles_winner_2_player_slug doubles_winner_2_player_id  \n",
      "0                      max-mirnyi                       m595  \n",
      "1               christophe-rochus                       r336  \n",
      "2                 todd-woodbridge                       w136  \n",
      "3                      rick-leach                       l013  \n",
      "4                 todd-woodbridge                       w136  \n",
      "...                           ...                        ...  \n",
      "1568                lucas-miedler                       mo55  \n",
      "1569              austin-krajicek                       ka00  \n",
      "1570                 neal-skupski                       sl22  \n",
      "1571                          NaN                        NaN  \n",
      "1572                          NaN                        NaN  \n",
      "\n",
      "[1573 rows x 31 columns]\n"
     ]
    }
   ],
   "source": [
    "print(tournaments)"
   ]
  },
  {
   "cell_type": "code",
   "execution_count": 34,
   "id": "2d42e879",
   "metadata": {},
   "outputs": [
    {
     "data": {
      "text/plain": [
       "2000-451    1\n",
       "2015-314    1\n",
       "2015-414    1\n",
       "2015-439    1\n",
       "2015-316    1\n",
       "           ..\n",
       "2007-315    1\n",
       "2007-316    1\n",
       "2007-314    1\n",
       "2007-540    1\n",
       "2022-605    1\n",
       "Name: tourney_year_id, Length: 1573, dtype: int64"
      ]
     },
     "execution_count": 34,
     "metadata": {},
     "output_type": "execute_result"
    }
   ],
   "source": [
    "tournaments['tourney_year_id'].value_counts()"
   ]
  },
  {
   "cell_type": "code",
   "execution_count": 35,
   "id": "3625f881",
   "metadata": {},
   "outputs": [
    {
     "data": {
      "text/plain": [
       "2021-540     239\n",
       "2014-540     239\n",
       "2019-540     239\n",
       "2019-520     239\n",
       "2012-540     239\n",
       "            ... \n",
       "2002-605      15\n",
       "2020-605      15\n",
       "2001-605      15\n",
       "2021-7696     15\n",
       "2022-605       2\n",
       "Name: tourney_year_id, Length: 1509, dtype: int64"
      ]
     },
     "execution_count": 35,
     "metadata": {},
     "output_type": "execute_result"
    }
   ],
   "source": [
    "match_scores['tourney_year_id'].value_counts()"
   ]
  },
  {
   "cell_type": "code",
   "execution_count": 48,
   "id": "c1522ed4",
   "metadata": {},
   "outputs": [],
   "source": [
    "mergetest = match_scores.merge(tournaments, on='tourney_year_id', how='inner')"
   ]
  },
  {
   "cell_type": "code",
   "execution_count": 51,
   "id": "b0a8337a",
   "metadata": {},
   "outputs": [
    {
     "name": "stdout",
     "output_type": "stream",
     "text": [
      "<class 'pandas.core.frame.DataFrame'>\n",
      "Int64Index: 86771 entries, 0 to 86770\n",
      "Data columns (total 66 columns):\n",
      " #   Column                        Non-Null Count  Dtype  \n",
      "---  ------                        --------------  -----  \n",
      " 0   tourney_year_id               86771 non-null  object \n",
      " 1   tourney_order_x               86771 non-null  int64  \n",
      " 2   tourney_name_x                86771 non-null  object \n",
      " 3   tourney_slug_x                86771 non-null  object \n",
      " 4   tourney_url_suffix_x          86771 non-null  object \n",
      " 5   start_date                    86159 non-null  object \n",
      " 6   start_year                    86159 non-null  float64\n",
      " 7   start_month                   86159 non-null  float64\n",
      " 8   start_day                     86159 non-null  float64\n",
      " 9   end_date                      86159 non-null  object \n",
      " 10  end_year                      86159 non-null  float64\n",
      " 11  end_month                     86159 non-null  float64\n",
      " 12  end_day                       86159 non-null  float64\n",
      " 13  currency_x                    86159 non-null  object \n",
      " 14  prize_money                   86159 non-null  float64\n",
      " 15  match_index                   83429 non-null  object \n",
      " 16  tourney_round_name            86771 non-null  object \n",
      " 17  round_order                   86771 non-null  int64  \n",
      " 18  match_order                   86771 non-null  int64  \n",
      " 19  winner_name                   86771 non-null  object \n",
      " 20  winner_player_id              86771 non-null  object \n",
      " 21  winner_slug                   86771 non-null  object \n",
      " 22  loser_name                    86771 non-null  object \n",
      " 23  loser_player_id               86771 non-null  object \n",
      " 24  loser_slug                    86771 non-null  object \n",
      " 25  winner_seed                   51853 non-null  object \n",
      " 26  loser_seed                    41225 non-null  object \n",
      " 27  match_score_tiebreaks         86771 non-null  object \n",
      " 28  winner_sets_won               86365 non-null  float64\n",
      " 29  loser_sets_won                86365 non-null  float64\n",
      " 30  winner_games_won              86365 non-null  float64\n",
      " 31  loser_games_won               86365 non-null  float64\n",
      " 32  winner_tiebreaks_won          86365 non-null  float64\n",
      " 33  loser_tiebreaks_won           86365 non-null  float64\n",
      " 34  match_id                      86771 non-null  object \n",
      " 35  match_stats_url_suffix        83429 non-null  object \n",
      " 36  tourney_order_y               86771 non-null  int64  \n",
      " 37  tourney_type                  67959 non-null  object \n",
      " 38  tourney_name_y                86771 non-null  object \n",
      " 39  tourney_id                    86771 non-null  int64  \n",
      " 40  tourney_slug_y                86771 non-null  object \n",
      " 41  tourney_location              86606 non-null  object \n",
      " 42  tourney_date                  86771 non-null  object \n",
      " 43  year                          86771 non-null  int64  \n",
      " 44  tourney_month                 86771 non-null  int64  \n",
      " 45  tourney_day                   86771 non-null  int64  \n",
      " 46  tourney_singles_draw          86771 non-null  int64  \n",
      " 47  tourney_doubles_draw          86771 non-null  int64  \n",
      " 48  tourney_conditions            86771 non-null  object \n",
      " 49  tourney_surface               86771 non-null  object \n",
      " 50  tourney_fin_commit_raw        86387 non-null  object \n",
      " 51  currency_y                    86387 non-null  object \n",
      " 52  tourney_fin_commit            86387 non-null  float64\n",
      " 53  tourney_url_suffix_y          86771 non-null  object \n",
      " 54  singles_winner_name           86728 non-null  object \n",
      " 55  singles_winner_url            86728 non-null  object \n",
      " 56  singles_winner_player_slug    86728 non-null  object \n",
      " 57  singles_winner_player_id      86728 non-null  object \n",
      " 58  doubles_winner_1_name         86621 non-null  object \n",
      " 59  doubles_winner_1_url          86621 non-null  object \n",
      " 60  doubles_winner_1_player_slug  86621 non-null  object \n",
      " 61  doubles_winner_1_player_id    86621 non-null  object \n",
      " 62  doubles_winner_2_name         86621 non-null  object \n",
      " 63  doubles_winner_2_url          86621 non-null  object \n",
      " 64  doubles_winner_2_player_slug  86621 non-null  object \n",
      " 65  doubles_winner_2_player_id    86621 non-null  object \n",
      "dtypes: float64(14), int64(10), object(42)\n",
      "memory usage: 44.4+ MB\n"
     ]
    }
   ],
   "source": [
    "mergetest.info()"
   ]
  },
  {
   "cell_type": "code",
   "execution_count": 52,
   "id": "faf3f65f",
   "metadata": {},
   "outputs": [
    {
     "data": {
      "text/plain": [
       "0        True\n",
       "1        True\n",
       "2        True\n",
       "3        True\n",
       "4        True\n",
       "         ... \n",
       "86766    True\n",
       "86767    True\n",
       "86768    True\n",
       "86769    True\n",
       "86770    True\n",
       "Length: 86771, dtype: bool"
      ]
     },
     "execution_count": 52,
     "metadata": {},
     "output_type": "execute_result"
    }
   ],
   "source": [
    "mergetest.tourney_order_x == mergetest.tourney_order_y"
   ]
  },
  {
   "cell_type": "code",
   "execution_count": 55,
   "id": "3b13fbcc",
   "metadata": {},
   "outputs": [
    {
     "name": "stdout",
     "output_type": "stream",
     "text": [
      "0\n",
      "0\n",
      "0\n",
      "0\n",
      "1650\n"
     ]
    }
   ],
   "source": [
    "# On vérifie bien que les colonnes dupliquées sont identiques\n",
    "print((mergetest.tourney_order_x != mergetest.tourney_order_y).sum())\n",
    "print((mergetest.tourney_name_x != mergetest.tourney_name_y).sum())\n",
    "print((mergetest.tourney_slug_x != mergetest.tourney_slug_y).sum())\n",
    "print((mergetest.tourney_url_suffix_x != mergetest.tourney_url_suffix_y).sum())\n",
    "print((mergetest.currency_x != mergetest.currency_y).sum())"
   ]
  },
  {
   "cell_type": "code",
   "execution_count": 60,
   "id": "f4c4e20d",
   "metadata": {},
   "outputs": [
    {
     "data": {
      "text/html": [
       "<div>\n",
       "<style scoped>\n",
       "    .dataframe tbody tr th:only-of-type {\n",
       "        vertical-align: middle;\n",
       "    }\n",
       "\n",
       "    .dataframe tbody tr th {\n",
       "        vertical-align: top;\n",
       "    }\n",
       "\n",
       "    .dataframe thead th {\n",
       "        text-align: right;\n",
       "    }\n",
       "</style>\n",
       "<table border=\"1\" class=\"dataframe\">\n",
       "  <thead>\n",
       "    <tr style=\"text-align: right;\">\n",
       "      <th></th>\n",
       "      <th>currency_x</th>\n",
       "      <th>currency_y</th>\n",
       "      <th>match_id</th>\n",
       "    </tr>\n",
       "  </thead>\n",
       "  <tbody>\n",
       "    <tr>\n",
       "      <th>406</th>\n",
       "      <td>NaN</td>\n",
       "      <td>USD</td>\n",
       "      <td>2000-402-MS001-6-1-l206-b397</td>\n",
       "    </tr>\n",
       "    <tr>\n",
       "      <th>407</th>\n",
       "      <td>NaN</td>\n",
       "      <td>USD</td>\n",
       "      <td>2000-402-MS003-5-2-b397-h355</td>\n",
       "    </tr>\n",
       "    <tr>\n",
       "      <th>408</th>\n",
       "      <td>NaN</td>\n",
       "      <td>USD</td>\n",
       "      <td>2000-402-MS002-5-1-l206-s604</td>\n",
       "    </tr>\n",
       "    <tr>\n",
       "      <th>409</th>\n",
       "      <td>NaN</td>\n",
       "      <td>USD</td>\n",
       "      <td>2000-402-MS007-4-4-h355-f196</td>\n",
       "    </tr>\n",
       "    <tr>\n",
       "      <th>410</th>\n",
       "      <td>NaN</td>\n",
       "      <td>USD</td>\n",
       "      <td>2000-402-MS006-4-3-b397-c274</td>\n",
       "    </tr>\n",
       "    <tr>\n",
       "      <th>...</th>\n",
       "      <td>...</td>\n",
       "      <td>...</td>\n",
       "      <td>...</td>\n",
       "    </tr>\n",
       "    <tr>\n",
       "      <th>81630</th>\n",
       "      <td>USD</td>\n",
       "      <td>NaN</td>\n",
       "      <td>2021-96-NULL-1-5-m0fh-sh90</td>\n",
       "    </tr>\n",
       "    <tr>\n",
       "      <th>81631</th>\n",
       "      <td>USD</td>\n",
       "      <td>NaN</td>\n",
       "      <td>2021-96-NULL-1-4-mh30-m0ej</td>\n",
       "    </tr>\n",
       "    <tr>\n",
       "      <th>81632</th>\n",
       "      <td>USD</td>\n",
       "      <td>NaN</td>\n",
       "      <td>2021-96-NULL-1-3-n897-i165</td>\n",
       "    </tr>\n",
       "    <tr>\n",
       "      <th>81633</th>\n",
       "      <td>USD</td>\n",
       "      <td>NaN</td>\n",
       "      <td>2021-96-NULL-1-2-sl28-mj08</td>\n",
       "    </tr>\n",
       "    <tr>\n",
       "      <th>81634</th>\n",
       "      <td>USD</td>\n",
       "      <td>NaN</td>\n",
       "      <td>2021-96-NULL-1-1-td51-kf17</td>\n",
       "    </tr>\n",
       "  </tbody>\n",
       "</table>\n",
       "<p>1650 rows × 3 columns</p>\n",
       "</div>"
      ],
      "text/plain": [
       "      currency_x currency_y                      match_id\n",
       "406          NaN        USD  2000-402-MS001-6-1-l206-b397\n",
       "407          NaN        USD  2000-402-MS003-5-2-b397-h355\n",
       "408          NaN        USD  2000-402-MS002-5-1-l206-s604\n",
       "409          NaN        USD  2000-402-MS007-4-4-h355-f196\n",
       "410          NaN        USD  2000-402-MS006-4-3-b397-c274\n",
       "...          ...        ...                           ...\n",
       "81630        USD        NaN    2021-96-NULL-1-5-m0fh-sh90\n",
       "81631        USD        NaN    2021-96-NULL-1-4-mh30-m0ej\n",
       "81632        USD        NaN    2021-96-NULL-1-3-n897-i165\n",
       "81633        USD        NaN    2021-96-NULL-1-2-sl28-mj08\n",
       "81634        USD        NaN    2021-96-NULL-1-1-td51-kf17\n",
       "\n",
       "[1650 rows x 3 columns]"
      ]
     },
     "execution_count": 60,
     "metadata": {},
     "output_type": "execute_result"
    }
   ],
   "source": [
    "mergetest[mergetest.currency_x != mergetest.currency_y][['currency_x', 'currency_y', 'match_id']]"
   ]
  },
  {
   "cell_type": "code",
   "execution_count": 59,
   "id": "668680dc",
   "metadata": {},
   "outputs": [
    {
     "data": {
      "text/plain": [
       "USD    51966\n",
       "EUR    27198\n",
       "AUD     3585\n",
       "GBP     3410\n",
       "Name: currency_x, dtype: int64"
      ]
     },
     "execution_count": 59,
     "metadata": {},
     "output_type": "execute_result"
    }
   ],
   "source": [
    "mergetest.currency_x.value_counts()"
   ]
  },
  {
   "cell_type": "code",
   "execution_count": 61,
   "id": "f0f21e5e",
   "metadata": {},
   "outputs": [
    {
     "name": "stdout",
     "output_type": "stream",
     "text": [
      "Index(['tourney_year_id', 'tourney_order_x', 'tourney_name_x',\n",
      "       'tourney_slug_x', 'tourney_url_suffix_x', 'start_date', 'start_year',\n",
      "       'start_month', 'start_day', 'end_date', 'end_year', 'end_month',\n",
      "       'end_day', 'currency_x', 'prize_money', 'match_index',\n",
      "       'tourney_round_name', 'round_order', 'match_order', 'winner_name',\n",
      "       'winner_player_id', 'winner_slug', 'loser_name', 'loser_player_id',\n",
      "       'loser_slug', 'winner_seed', 'loser_seed', 'match_score_tiebreaks',\n",
      "       'winner_sets_won', 'loser_sets_won', 'winner_games_won',\n",
      "       'loser_games_won', 'winner_tiebreaks_won', 'loser_tiebreaks_won',\n",
      "       'match_id', 'match_stats_url_suffix', 'tourney_order_y', 'tourney_type',\n",
      "       'tourney_name_y', 'tourney_id', 'tourney_slug_y', 'tourney_location',\n",
      "       'tourney_date', 'year', 'tourney_month', 'tourney_day',\n",
      "       'tourney_singles_draw', 'tourney_doubles_draw', 'tourney_conditions',\n",
      "       'tourney_surface', 'tourney_fin_commit_raw', 'currency_y',\n",
      "       'tourney_fin_commit', 'tourney_url_suffix_y', 'singles_winner_name',\n",
      "       'singles_winner_url', 'singles_winner_player_slug',\n",
      "       'singles_winner_player_id', 'doubles_winner_1_name',\n",
      "       'doubles_winner_1_url', 'doubles_winner_1_player_slug',\n",
      "       'doubles_winner_1_player_id', 'doubles_winner_2_name',\n",
      "       'doubles_winner_2_url', 'doubles_winner_2_player_slug',\n",
      "       'doubles_winner_2_player_id'],\n",
      "      dtype='object')\n"
     ]
    }
   ],
   "source": [
    "print(mergetest.columns)"
   ]
  },
  {
   "cell_type": "code",
   "execution_count": 110,
   "id": "969f7006",
   "metadata": {},
   "outputs": [],
   "source": [
    "# 1er nettoyage de mergetest\n",
    "col_to_drop = ['doubles_winner_1_url', 'doubles_winner_1_player_slug',\n",
    "       'doubles_winner_1_player_id', 'doubles_winner_2_name',\n",
    "       'doubles_winner_2_url', 'doubles_winner_2_player_slug',\n",
    "       'doubles_winner_2_player_id', 'tourney_order_x', 'tourney_slug_x', 'tourney_url_suffix_x', 'start_year',\n",
    "       'start_month', 'start_day', 'end_year', 'end_month',\n",
    "       'end_day', 'match_index', 'winner_player_id', 'winner_slug', 'loser_player_id',\n",
    "       'loser_slug', 'tourney_order_y', 'tourney_name_y', 'tourney_slug_y', 'year', 'tourney_month', 'tourney_day',\n",
    "       'tourney_singles_draw', 'tourney_doubles_draw', 'tourney_fin_commit_raw', 'tourney_url_suffix_y', 'singles_winner_url', 'singles_winner_player_slug',\n",
    "       'singles_winner_player_id']"
   ]
  },
  {
   "cell_type": "code",
   "execution_count": 109,
   "id": "03840211",
   "metadata": {},
   "outputs": [
    {
     "ename": "KeyError",
     "evalue": "\"['doubles_winner_1_url', 'doubles_winner_1_player_slug', 'doubles_winner_1_player_id', 'doubles_winner_2_name', 'doubles_winner_2_url', 'doubles_winner_2_player_slug', 'doubles_winner_2_player_id', 'tourney_order_x', 'tourney_slug_x', 'tourney_url_suffix_x', 'start_year', 'start_month', 'start_day', 'end_year', 'end_month', 'end_day', 'match_index', 'winner_player_id', 'winner_slug', 'loser_player_id', 'loser_slug', 'tourney_order_y', 'tourney_name_y', 'tourney_slug_y', 'year', 'tourney_month', 'tourney_day', 'tourney_singles_draw', 'tourney_doubles_draw', 'tourney_fin_commit_raw', 'tourney_url_suffix_y', 'singles_winner_url', 'singles_winner_player_slug', 'singles_winner_player_id'] not found in axis\"",
     "output_type": "error",
     "traceback": [
      "\u001b[1;31m---------------------------------------------------------------------------\u001b[0m",
      "\u001b[1;31mKeyError\u001b[0m                                  Traceback (most recent call last)",
      "\u001b[1;32mD:\\TEMP\\ipykernel_7044\\4238475882.py\u001b[0m in \u001b[0;36m<module>\u001b[1;34m\u001b[0m\n\u001b[1;32m----> 1\u001b[1;33m \u001b[0mmergetest\u001b[0m \u001b[1;33m=\u001b[0m \u001b[0mmergetest\u001b[0m\u001b[1;33m.\u001b[0m\u001b[0mdrop\u001b[0m\u001b[1;33m(\u001b[0m\u001b[0mcol_to_drop\u001b[0m\u001b[1;33m,\u001b[0m \u001b[0maxis\u001b[0m\u001b[1;33m=\u001b[0m\u001b[1;36m1\u001b[0m\u001b[1;33m)\u001b[0m\u001b[1;33m\u001b[0m\u001b[1;33m\u001b[0m\u001b[0m\n\u001b[0m",
      "\u001b[1;32m~\\anaconda3\\lib\\site-packages\\pandas\\util\\_decorators.py\u001b[0m in \u001b[0;36mwrapper\u001b[1;34m(*args, **kwargs)\u001b[0m\n\u001b[0;32m    309\u001b[0m                     \u001b[0mstacklevel\u001b[0m\u001b[1;33m=\u001b[0m\u001b[0mstacklevel\u001b[0m\u001b[1;33m,\u001b[0m\u001b[1;33m\u001b[0m\u001b[1;33m\u001b[0m\u001b[0m\n\u001b[0;32m    310\u001b[0m                 )\n\u001b[1;32m--> 311\u001b[1;33m             \u001b[1;32mreturn\u001b[0m \u001b[0mfunc\u001b[0m\u001b[1;33m(\u001b[0m\u001b[1;33m*\u001b[0m\u001b[0margs\u001b[0m\u001b[1;33m,\u001b[0m \u001b[1;33m**\u001b[0m\u001b[0mkwargs\u001b[0m\u001b[1;33m)\u001b[0m\u001b[1;33m\u001b[0m\u001b[1;33m\u001b[0m\u001b[0m\n\u001b[0m\u001b[0;32m    312\u001b[0m \u001b[1;33m\u001b[0m\u001b[0m\n\u001b[0;32m    313\u001b[0m         \u001b[1;32mreturn\u001b[0m \u001b[0mwrapper\u001b[0m\u001b[1;33m\u001b[0m\u001b[1;33m\u001b[0m\u001b[0m\n",
      "\u001b[1;32m~\\anaconda3\\lib\\site-packages\\pandas\\core\\frame.py\u001b[0m in \u001b[0;36mdrop\u001b[1;34m(self, labels, axis, index, columns, level, inplace, errors)\u001b[0m\n\u001b[0;32m   4955\u001b[0m                 \u001b[0mweight\u001b[0m  \u001b[1;36m1.0\u001b[0m     \u001b[1;36m0.8\u001b[0m\u001b[1;33m\u001b[0m\u001b[1;33m\u001b[0m\u001b[0m\n\u001b[0;32m   4956\u001b[0m         \"\"\"\n\u001b[1;32m-> 4957\u001b[1;33m         return super().drop(\n\u001b[0m\u001b[0;32m   4958\u001b[0m             \u001b[0mlabels\u001b[0m\u001b[1;33m=\u001b[0m\u001b[0mlabels\u001b[0m\u001b[1;33m,\u001b[0m\u001b[1;33m\u001b[0m\u001b[1;33m\u001b[0m\u001b[0m\n\u001b[0;32m   4959\u001b[0m             \u001b[0maxis\u001b[0m\u001b[1;33m=\u001b[0m\u001b[0maxis\u001b[0m\u001b[1;33m,\u001b[0m\u001b[1;33m\u001b[0m\u001b[1;33m\u001b[0m\u001b[0m\n",
      "\u001b[1;32m~\\anaconda3\\lib\\site-packages\\pandas\\core\\generic.py\u001b[0m in \u001b[0;36mdrop\u001b[1;34m(self, labels, axis, index, columns, level, inplace, errors)\u001b[0m\n\u001b[0;32m   4265\u001b[0m         \u001b[1;32mfor\u001b[0m \u001b[0maxis\u001b[0m\u001b[1;33m,\u001b[0m \u001b[0mlabels\u001b[0m \u001b[1;32min\u001b[0m \u001b[0maxes\u001b[0m\u001b[1;33m.\u001b[0m\u001b[0mitems\u001b[0m\u001b[1;33m(\u001b[0m\u001b[1;33m)\u001b[0m\u001b[1;33m:\u001b[0m\u001b[1;33m\u001b[0m\u001b[1;33m\u001b[0m\u001b[0m\n\u001b[0;32m   4266\u001b[0m             \u001b[1;32mif\u001b[0m \u001b[0mlabels\u001b[0m \u001b[1;32mis\u001b[0m \u001b[1;32mnot\u001b[0m \u001b[1;32mNone\u001b[0m\u001b[1;33m:\u001b[0m\u001b[1;33m\u001b[0m\u001b[1;33m\u001b[0m\u001b[0m\n\u001b[1;32m-> 4267\u001b[1;33m                 \u001b[0mobj\u001b[0m \u001b[1;33m=\u001b[0m \u001b[0mobj\u001b[0m\u001b[1;33m.\u001b[0m\u001b[0m_drop_axis\u001b[0m\u001b[1;33m(\u001b[0m\u001b[0mlabels\u001b[0m\u001b[1;33m,\u001b[0m \u001b[0maxis\u001b[0m\u001b[1;33m,\u001b[0m \u001b[0mlevel\u001b[0m\u001b[1;33m=\u001b[0m\u001b[0mlevel\u001b[0m\u001b[1;33m,\u001b[0m \u001b[0merrors\u001b[0m\u001b[1;33m=\u001b[0m\u001b[0merrors\u001b[0m\u001b[1;33m)\u001b[0m\u001b[1;33m\u001b[0m\u001b[1;33m\u001b[0m\u001b[0m\n\u001b[0m\u001b[0;32m   4268\u001b[0m \u001b[1;33m\u001b[0m\u001b[0m\n\u001b[0;32m   4269\u001b[0m         \u001b[1;32mif\u001b[0m \u001b[0minplace\u001b[0m\u001b[1;33m:\u001b[0m\u001b[1;33m\u001b[0m\u001b[1;33m\u001b[0m\u001b[0m\n",
      "\u001b[1;32m~\\anaconda3\\lib\\site-packages\\pandas\\core\\generic.py\u001b[0m in \u001b[0;36m_drop_axis\u001b[1;34m(self, labels, axis, level, errors, consolidate, only_slice)\u001b[0m\n\u001b[0;32m   4309\u001b[0m                 \u001b[0mnew_axis\u001b[0m \u001b[1;33m=\u001b[0m \u001b[0maxis\u001b[0m\u001b[1;33m.\u001b[0m\u001b[0mdrop\u001b[0m\u001b[1;33m(\u001b[0m\u001b[0mlabels\u001b[0m\u001b[1;33m,\u001b[0m \u001b[0mlevel\u001b[0m\u001b[1;33m=\u001b[0m\u001b[0mlevel\u001b[0m\u001b[1;33m,\u001b[0m \u001b[0merrors\u001b[0m\u001b[1;33m=\u001b[0m\u001b[0merrors\u001b[0m\u001b[1;33m)\u001b[0m\u001b[1;33m\u001b[0m\u001b[1;33m\u001b[0m\u001b[0m\n\u001b[0;32m   4310\u001b[0m             \u001b[1;32melse\u001b[0m\u001b[1;33m:\u001b[0m\u001b[1;33m\u001b[0m\u001b[1;33m\u001b[0m\u001b[0m\n\u001b[1;32m-> 4311\u001b[1;33m                 \u001b[0mnew_axis\u001b[0m \u001b[1;33m=\u001b[0m \u001b[0maxis\u001b[0m\u001b[1;33m.\u001b[0m\u001b[0mdrop\u001b[0m\u001b[1;33m(\u001b[0m\u001b[0mlabels\u001b[0m\u001b[1;33m,\u001b[0m \u001b[0merrors\u001b[0m\u001b[1;33m=\u001b[0m\u001b[0merrors\u001b[0m\u001b[1;33m)\u001b[0m\u001b[1;33m\u001b[0m\u001b[1;33m\u001b[0m\u001b[0m\n\u001b[0m\u001b[0;32m   4312\u001b[0m             \u001b[0mindexer\u001b[0m \u001b[1;33m=\u001b[0m \u001b[0maxis\u001b[0m\u001b[1;33m.\u001b[0m\u001b[0mget_indexer\u001b[0m\u001b[1;33m(\u001b[0m\u001b[0mnew_axis\u001b[0m\u001b[1;33m)\u001b[0m\u001b[1;33m\u001b[0m\u001b[1;33m\u001b[0m\u001b[0m\n\u001b[0;32m   4313\u001b[0m \u001b[1;33m\u001b[0m\u001b[0m\n",
      "\u001b[1;32m~\\anaconda3\\lib\\site-packages\\pandas\\core\\indexes\\base.py\u001b[0m in \u001b[0;36mdrop\u001b[1;34m(self, labels, errors)\u001b[0m\n\u001b[0;32m   6659\u001b[0m         \u001b[1;32mif\u001b[0m \u001b[0mmask\u001b[0m\u001b[1;33m.\u001b[0m\u001b[0many\u001b[0m\u001b[1;33m(\u001b[0m\u001b[1;33m)\u001b[0m\u001b[1;33m:\u001b[0m\u001b[1;33m\u001b[0m\u001b[1;33m\u001b[0m\u001b[0m\n\u001b[0;32m   6660\u001b[0m             \u001b[1;32mif\u001b[0m \u001b[0merrors\u001b[0m \u001b[1;33m!=\u001b[0m \u001b[1;34m\"ignore\"\u001b[0m\u001b[1;33m:\u001b[0m\u001b[1;33m\u001b[0m\u001b[1;33m\u001b[0m\u001b[0m\n\u001b[1;32m-> 6661\u001b[1;33m                 \u001b[1;32mraise\u001b[0m \u001b[0mKeyError\u001b[0m\u001b[1;33m(\u001b[0m\u001b[1;34mf\"{list(labels[mask])} not found in axis\"\u001b[0m\u001b[1;33m)\u001b[0m\u001b[1;33m\u001b[0m\u001b[1;33m\u001b[0m\u001b[0m\n\u001b[0m\u001b[0;32m   6662\u001b[0m             \u001b[0mindexer\u001b[0m \u001b[1;33m=\u001b[0m \u001b[0mindexer\u001b[0m\u001b[1;33m[\u001b[0m\u001b[1;33m~\u001b[0m\u001b[0mmask\u001b[0m\u001b[1;33m]\u001b[0m\u001b[1;33m\u001b[0m\u001b[1;33m\u001b[0m\u001b[0m\n\u001b[0;32m   6663\u001b[0m         \u001b[1;32mreturn\u001b[0m \u001b[0mself\u001b[0m\u001b[1;33m.\u001b[0m\u001b[0mdelete\u001b[0m\u001b[1;33m(\u001b[0m\u001b[0mindexer\u001b[0m\u001b[1;33m)\u001b[0m\u001b[1;33m\u001b[0m\u001b[1;33m\u001b[0m\u001b[0m\n",
      "\u001b[1;31mKeyError\u001b[0m: \"['doubles_winner_1_url', 'doubles_winner_1_player_slug', 'doubles_winner_1_player_id', 'doubles_winner_2_name', 'doubles_winner_2_url', 'doubles_winner_2_player_slug', 'doubles_winner_2_player_id', 'tourney_order_x', 'tourney_slug_x', 'tourney_url_suffix_x', 'start_year', 'start_month', 'start_day', 'end_year', 'end_month', 'end_day', 'match_index', 'winner_player_id', 'winner_slug', 'loser_player_id', 'loser_slug', 'tourney_order_y', 'tourney_name_y', 'tourney_slug_y', 'year', 'tourney_month', 'tourney_day', 'tourney_singles_draw', 'tourney_doubles_draw', 'tourney_fin_commit_raw', 'tourney_url_suffix_y', 'singles_winner_url', 'singles_winner_player_slug', 'singles_winner_player_id'] not found in axis\""
     ]
    }
   ],
   "source": [
    "mergetest = mergetest.drop(col_to_drop, axis=1)"
   ]
  },
  {
   "cell_type": "code",
   "execution_count": 82,
   "id": "d0a01dcc",
   "metadata": {},
   "outputs": [],
   "source": [
    "df = mergetest.groupby('winner_name').agg({'winner_player_id':'unique'})"
   ]
  },
  {
   "cell_type": "code",
   "execution_count": 89,
   "id": "85837d32",
   "metadata": {},
   "outputs": [
    {
     "data": {
      "text/plain": [
       "True"
      ]
     },
     "execution_count": 89,
     "metadata": {},
     "output_type": "execute_result"
    }
   ],
   "source": [
    "df.iloc[0].shape[0] == 1"
   ]
  },
  {
   "cell_type": "code",
   "execution_count": 95,
   "id": "9745d07e",
   "metadata": {},
   "outputs": [
    {
     "data": {
      "text/plain": [
       "1"
      ]
     },
     "execution_count": 95,
     "metadata": {},
     "output_type": "execute_result"
    }
   ],
   "source": [
    "len(df.iloc[0])"
   ]
  },
  {
   "cell_type": "code",
   "execution_count": 100,
   "id": "876f7d66",
   "metadata": {},
   "outputs": [
    {
     "data": {
      "text/plain": [
       "[v812]    2\n",
       "[v942]    2\n",
       "[c660]    1\n",
       "[k319]    1\n",
       "[sg78]    1\n",
       "         ..\n",
       "[a704]    1\n",
       "[z0a1]    1\n",
       "[l430]    1\n",
       "[g334]    1\n",
       "[p09o]    1\n",
       "Name: winner_player_id, Length: 1853, dtype: int64"
      ]
     },
     "execution_count": 100,
     "metadata": {},
     "output_type": "execute_result"
    }
   ],
   "source": [
    "df.winner_player_id.value_counts()"
   ]
  },
  {
   "cell_type": "code",
   "execution_count": 107,
   "id": "ff04c6ce",
   "metadata": {},
   "outputs": [
    {
     "name": "stdout",
     "output_type": "stream",
     "text": [
      "<class 'pandas.core.frame.DataFrame'>\n",
      "Int64Index: 86771 entries, 0 to 86770\n",
      "Data columns (total 32 columns):\n",
      " #   Column                  Non-Null Count  Dtype  \n",
      "---  ------                  --------------  -----  \n",
      " 0   tourney_year_id         86771 non-null  object \n",
      " 1   tourney_name_x          86771 non-null  object \n",
      " 2   start_date              86159 non-null  object \n",
      " 3   end_date                86159 non-null  object \n",
      " 4   currency_x              86159 non-null  object \n",
      " 5   prize_money             86159 non-null  float64\n",
      " 6   tourney_round_name      86771 non-null  object \n",
      " 7   round_order             86771 non-null  int64  \n",
      " 8   match_order             86771 non-null  int64  \n",
      " 9   winner_name             86771 non-null  object \n",
      " 10  loser_name              86771 non-null  object \n",
      " 11  winner_seed             51853 non-null  object \n",
      " 12  loser_seed              41225 non-null  object \n",
      " 13  match_score_tiebreaks   86771 non-null  object \n",
      " 14  winner_sets_won         86365 non-null  float64\n",
      " 15  loser_sets_won          86365 non-null  float64\n",
      " 16  winner_games_won        86365 non-null  float64\n",
      " 17  loser_games_won         86365 non-null  float64\n",
      " 18  winner_tiebreaks_won    86365 non-null  float64\n",
      " 19  loser_tiebreaks_won     86365 non-null  float64\n",
      " 20  match_id                86771 non-null  object \n",
      " 21  match_stats_url_suffix  83429 non-null  object \n",
      " 22  tourney_type            67959 non-null  object \n",
      " 23  tourney_id              86771 non-null  int64  \n",
      " 24  tourney_location        86606 non-null  object \n",
      " 25  tourney_date            86771 non-null  object \n",
      " 26  tourney_conditions      86771 non-null  object \n",
      " 27  tourney_surface         86771 non-null  object \n",
      " 28  currency_y              86387 non-null  object \n",
      " 29  tourney_fin_commit      86387 non-null  float64\n",
      " 30  singles_winner_name     86728 non-null  object \n",
      " 31  doubles_winner_1_name   86621 non-null  object \n",
      "dtypes: float64(8), int64(3), object(21)\n",
      "memory usage: 21.8+ MB\n"
     ]
    }
   ],
   "source": [
    "mergetest.info()"
   ]
  },
  {
   "cell_type": "code",
   "execution_count": 111,
   "id": "d2aa4c06",
   "metadata": {},
   "outputs": [
    {
     "name": "stdout",
     "output_type": "stream",
     "text": [
      "<class 'pandas.core.frame.DataFrame'>\n",
      "RangeIndex: 83429 entries, 0 to 83428\n",
      "Data columns (total 59 columns):\n",
      " #   Column                            Non-Null Count  Dtype  \n",
      "---  ------                            --------------  -----  \n",
      " 0   match_id                          83429 non-null  object \n",
      " 1   tourney_slug                      83429 non-null  object \n",
      " 2   match_stats_url_suffix            83429 non-null  object \n",
      " 3   match_time                        78064 non-null  object \n",
      " 4   match_duration                    78064 non-null  float64\n",
      " 5   winner_slug                       78064 non-null  object \n",
      " 6   winner_serve_rating               74785 non-null  float64\n",
      " 7   winner_aces                       74785 non-null  float64\n",
      " 8   winner_double_faults              74785 non-null  float64\n",
      " 9   winner_first_serves_in            74785 non-null  float64\n",
      " 10  winner_first_serves_total         74785 non-null  float64\n",
      " 11  winner_first_serve_points_won     74785 non-null  float64\n",
      " 12  winner_first_serve_points_total   74785 non-null  float64\n",
      " 13  winner_second_serve_points_won    74785 non-null  float64\n",
      " 14  winner_second_serve_points_total  74785 non-null  float64\n",
      " 15  winner_break_points_saved         74785 non-null  float64\n",
      " 16  winner_break_points_serve_total   74785 non-null  float64\n",
      " 17  winner_service_games_played       74785 non-null  float64\n",
      " 18  winner_return_rating              74785 non-null  float64\n",
      " 19  winner_first_serve_return_won     74785 non-null  float64\n",
      " 20  winner_first_serve_return_total   74785 non-null  float64\n",
      " 21  winner_second_serve_return_won    74785 non-null  float64\n",
      " 22  winner_second_serve_return_total  74785 non-null  float64\n",
      " 23  winner_break_points_converted     74785 non-null  float64\n",
      " 24  winner_break_points_return_total  74785 non-null  float64\n",
      " 25  winner_return_games_played        74785 non-null  float64\n",
      " 26  winner_service_points_won         74785 non-null  float64\n",
      " 27  winner_service_points_total       74785 non-null  float64\n",
      " 28  winner_return_points_won          74785 non-null  float64\n",
      " 29  winner_return_points_total        74785 non-null  float64\n",
      " 30  winner_total_points_won           74785 non-null  float64\n",
      " 31  winner_total_points_total         74785 non-null  float64\n",
      " 32  loser_slug                        78064 non-null  object \n",
      " 33  loser_serve_rating                74785 non-null  float64\n",
      " 34  loser_aces                        74785 non-null  float64\n",
      " 35  loser_double_faults               74785 non-null  float64\n",
      " 36  loser_first_serves_in             74785 non-null  float64\n",
      " 37  loser_first_serves_total          74785 non-null  float64\n",
      " 38  loser_first_serve_points_won      74785 non-null  float64\n",
      " 39  loser_first_serve_points_total    74785 non-null  float64\n",
      " 40  loser_second_serve_points_won     74785 non-null  float64\n",
      " 41  loser_second_serve_points_total   74785 non-null  float64\n",
      " 42  loser_break_points_saved          74785 non-null  float64\n",
      " 43  loser_break_points_serve_total    74785 non-null  float64\n",
      " 44  loser_service_games_played        74785 non-null  float64\n",
      " 45  loser_return_rating               74785 non-null  float64\n",
      " 46  loser_first_serve_return_won      74785 non-null  float64\n",
      " 47  loser_first_serve_return_total    74785 non-null  float64\n",
      " 48  loser_second_serve_return_won     74785 non-null  float64\n",
      " 49  loser_second_serve_return_total   74785 non-null  float64\n",
      " 50  loser_break_points_converted      74785 non-null  float64\n",
      " 51  loser_break_points_return_total   74785 non-null  float64\n",
      " 52  loser_return_games_played         74785 non-null  float64\n",
      " 53  loser_service_points_won          74785 non-null  float64\n",
      " 54  loser_service_points_total        74785 non-null  float64\n",
      " 55  loser_return_points_won           74785 non-null  float64\n",
      " 56  loser_return_points_total         74785 non-null  float64\n",
      " 57  loser_total_points_won            74785 non-null  float64\n",
      " 58  loser_total_points_total          74785 non-null  float64\n",
      "dtypes: float64(53), object(6)\n",
      "memory usage: 37.6+ MB\n"
     ]
    }
   ],
   "source": [
    "match_stats.info()"
   ]
  },
  {
   "cell_type": "code",
   "execution_count": 113,
   "id": "93f170d5",
   "metadata": {},
   "outputs": [],
   "source": [
    "match_stats = match_stats.dropna()"
   ]
  },
  {
   "cell_type": "code",
   "execution_count": 114,
   "id": "7aeebda4",
   "metadata": {},
   "outputs": [],
   "source": [
    "datasets_without_odds = match_stats.merge(mergetest, on='match_id', how='inner')"
   ]
  },
  {
   "cell_type": "code",
   "execution_count": 116,
   "id": "9698e284",
   "metadata": {},
   "outputs": [
    {
     "name": "stdout",
     "output_type": "stream",
     "text": [
      "<class 'pandas.core.frame.DataFrame'>\n",
      "Int64Index: 74757 entries, 0 to 74756\n",
      "Data columns (total 90 columns):\n",
      " #   Column                            Non-Null Count  Dtype  \n",
      "---  ------                            --------------  -----  \n",
      " 0   match_id                          74757 non-null  object \n",
      " 1   tourney_slug                      74757 non-null  object \n",
      " 2   match_stats_url_suffix_x          74757 non-null  object \n",
      " 3   match_time                        74757 non-null  object \n",
      " 4   match_duration                    74757 non-null  float64\n",
      " 5   winner_slug                       74757 non-null  object \n",
      " 6   winner_serve_rating               74757 non-null  float64\n",
      " 7   winner_aces                       74757 non-null  float64\n",
      " 8   winner_double_faults              74757 non-null  float64\n",
      " 9   winner_first_serves_in            74757 non-null  float64\n",
      " 10  winner_first_serves_total         74757 non-null  float64\n",
      " 11  winner_first_serve_points_won     74757 non-null  float64\n",
      " 12  winner_first_serve_points_total   74757 non-null  float64\n",
      " 13  winner_second_serve_points_won    74757 non-null  float64\n",
      " 14  winner_second_serve_points_total  74757 non-null  float64\n",
      " 15  winner_break_points_saved         74757 non-null  float64\n",
      " 16  winner_break_points_serve_total   74757 non-null  float64\n",
      " 17  winner_service_games_played       74757 non-null  float64\n",
      " 18  winner_return_rating              74757 non-null  float64\n",
      " 19  winner_first_serve_return_won     74757 non-null  float64\n",
      " 20  winner_first_serve_return_total   74757 non-null  float64\n",
      " 21  winner_second_serve_return_won    74757 non-null  float64\n",
      " 22  winner_second_serve_return_total  74757 non-null  float64\n",
      " 23  winner_break_points_converted     74757 non-null  float64\n",
      " 24  winner_break_points_return_total  74757 non-null  float64\n",
      " 25  winner_return_games_played        74757 non-null  float64\n",
      " 26  winner_service_points_won         74757 non-null  float64\n",
      " 27  winner_service_points_total       74757 non-null  float64\n",
      " 28  winner_return_points_won          74757 non-null  float64\n",
      " 29  winner_return_points_total        74757 non-null  float64\n",
      " 30  winner_total_points_won           74757 non-null  float64\n",
      " 31  winner_total_points_total         74757 non-null  float64\n",
      " 32  loser_slug                        74757 non-null  object \n",
      " 33  loser_serve_rating                74757 non-null  float64\n",
      " 34  loser_aces                        74757 non-null  float64\n",
      " 35  loser_double_faults               74757 non-null  float64\n",
      " 36  loser_first_serves_in             74757 non-null  float64\n",
      " 37  loser_first_serves_total          74757 non-null  float64\n",
      " 38  loser_first_serve_points_won      74757 non-null  float64\n",
      " 39  loser_first_serve_points_total    74757 non-null  float64\n",
      " 40  loser_second_serve_points_won     74757 non-null  float64\n",
      " 41  loser_second_serve_points_total   74757 non-null  float64\n",
      " 42  loser_break_points_saved          74757 non-null  float64\n",
      " 43  loser_break_points_serve_total    74757 non-null  float64\n",
      " 44  loser_service_games_played        74757 non-null  float64\n",
      " 45  loser_return_rating               74757 non-null  float64\n",
      " 46  loser_first_serve_return_won      74757 non-null  float64\n",
      " 47  loser_first_serve_return_total    74757 non-null  float64\n",
      " 48  loser_second_serve_return_won     74757 non-null  float64\n",
      " 49  loser_second_serve_return_total   74757 non-null  float64\n",
      " 50  loser_break_points_converted      74757 non-null  float64\n",
      " 51  loser_break_points_return_total   74757 non-null  float64\n",
      " 52  loser_return_games_played         74757 non-null  float64\n",
      " 53  loser_service_points_won          74757 non-null  float64\n",
      " 54  loser_service_points_total        74757 non-null  float64\n",
      " 55  loser_return_points_won           74757 non-null  float64\n",
      " 56  loser_return_points_total         74757 non-null  float64\n",
      " 57  loser_total_points_won            74757 non-null  float64\n",
      " 58  loser_total_points_total          74757 non-null  float64\n",
      " 59  tourney_year_id                   74757 non-null  object \n",
      " 60  tourney_name_x                    74757 non-null  object \n",
      " 61  start_date                        74148 non-null  object \n",
      " 62  end_date                          74148 non-null  object \n",
      " 63  currency_x                        74148 non-null  object \n",
      " 64  prize_money                       74148 non-null  float64\n",
      " 65  tourney_round_name                74757 non-null  object \n",
      " 66  round_order                       74757 non-null  int64  \n",
      " 67  match_order                       74757 non-null  int64  \n",
      " 68  winner_name                       74757 non-null  object \n",
      " 69  loser_name                        74757 non-null  object \n",
      " 70  winner_seed                       44638 non-null  object \n",
      " 71  loser_seed                        35275 non-null  object \n",
      " 72  match_score_tiebreaks             74757 non-null  object \n",
      " 73  winner_sets_won                   74756 non-null  float64\n",
      " 74  loser_sets_won                    74756 non-null  float64\n",
      " 75  winner_games_won                  74756 non-null  float64\n",
      " 76  loser_games_won                   74756 non-null  float64\n",
      " 77  winner_tiebreaks_won              74756 non-null  float64\n",
      " 78  loser_tiebreaks_won               74756 non-null  float64\n",
      " 79  match_stats_url_suffix_y          74757 non-null  object \n",
      " 80  tourney_type                      57231 non-null  object \n",
      " 81  tourney_id                        74757 non-null  int64  \n",
      " 82  tourney_location                  74676 non-null  object \n",
      " 83  tourney_date                      74757 non-null  object \n",
      " 84  tourney_conditions                74757 non-null  object \n",
      " 85  tourney_surface                   74757 non-null  object \n",
      " 86  currency_y                        74568 non-null  object \n",
      " 87  tourney_fin_commit                74568 non-null  float64\n",
      " 88  singles_winner_name               74757 non-null  object \n",
      " 89  doubles_winner_1_name             74708 non-null  object \n",
      "dtypes: float64(61), int64(3), object(26)\n",
      "memory usage: 51.9+ MB\n"
     ]
    }
   ],
   "source": [
    "datasets_without_odds.info()"
   ]
  },
  {
   "cell_type": "code",
   "execution_count": null,
   "id": "b89325fe",
   "metadata": {},
   "outputs": [],
   "source": []
  }
 ],
 "metadata": {
  "kernelspec": {
   "display_name": "Python 3 (ipykernel)",
   "language": "python",
   "name": "python3"
  },
  "language_info": {
   "codemirror_mode": {
    "name": "ipython",
    "version": 3
   },
   "file_extension": ".py",
   "mimetype": "text/x-python",
   "name": "python",
   "nbconvert_exporter": "python",
   "pygments_lexer": "ipython3",
   "version": "3.9.13"
  }
 },
 "nbformat": 4,
 "nbformat_minor": 5
}
