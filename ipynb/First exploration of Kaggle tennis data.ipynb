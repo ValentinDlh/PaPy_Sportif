{
 "cells": [
  {
   "cell_type": "code",
   "execution_count": 1,
   "id": "a58ca85b",
   "metadata": {},
   "outputs": [],
   "source": [
    "import pandas as pd\n",
    "import matplotlib.pyplot as plt\n",
    "%matplotlib inline\n",
    "import seaborn as sns\n",
    "sns.set_theme()"
   ]
  },
  {
   "cell_type": "code",
   "execution_count": 2,
   "id": "a7cfbf11",
   "metadata": {},
   "outputs": [],
   "source": [
    "df = pd.read_csv('tennis/atp_data.csv')"
   ]
  },
  {
   "cell_type": "code",
   "execution_count": 3,
   "id": "9b300996",
   "metadata": {},
   "outputs": [
    {
     "data": {
      "text/html": [
       "<div>\n",
       "<style scoped>\n",
       "    .dataframe tbody tr th:only-of-type {\n",
       "        vertical-align: middle;\n",
       "    }\n",
       "\n",
       "    .dataframe tbody tr th {\n",
       "        vertical-align: top;\n",
       "    }\n",
       "\n",
       "    .dataframe thead th {\n",
       "        text-align: right;\n",
       "    }\n",
       "</style>\n",
       "<table border=\"1\" class=\"dataframe\">\n",
       "  <thead>\n",
       "    <tr style=\"text-align: right;\">\n",
       "      <th></th>\n",
       "      <th>ATP</th>\n",
       "      <th>Location</th>\n",
       "      <th>Tournament</th>\n",
       "      <th>Date</th>\n",
       "      <th>Series</th>\n",
       "      <th>Court</th>\n",
       "      <th>Surface</th>\n",
       "      <th>Round</th>\n",
       "      <th>Best of</th>\n",
       "      <th>Winner</th>\n",
       "      <th>...</th>\n",
       "      <th>Wsets</th>\n",
       "      <th>Lsets</th>\n",
       "      <th>Comment</th>\n",
       "      <th>PSW</th>\n",
       "      <th>PSL</th>\n",
       "      <th>B365W</th>\n",
       "      <th>B365L</th>\n",
       "      <th>elo_winner</th>\n",
       "      <th>elo_loser</th>\n",
       "      <th>proba_elo</th>\n",
       "    </tr>\n",
       "  </thead>\n",
       "  <tbody>\n",
       "    <tr>\n",
       "      <th>0</th>\n",
       "      <td>1</td>\n",
       "      <td>Adelaide</td>\n",
       "      <td>Australian Hardcourt Championships</td>\n",
       "      <td>2000-01-03</td>\n",
       "      <td>International</td>\n",
       "      <td>Outdoor</td>\n",
       "      <td>Hard</td>\n",
       "      <td>1st Round</td>\n",
       "      <td>3</td>\n",
       "      <td>Dosedel S.</td>\n",
       "      <td>...</td>\n",
       "      <td>2.0</td>\n",
       "      <td>0.0</td>\n",
       "      <td>Completed</td>\n",
       "      <td>NaN</td>\n",
       "      <td>NaN</td>\n",
       "      <td>NaN</td>\n",
       "      <td>NaN</td>\n",
       "      <td>1500.0</td>\n",
       "      <td>1500.0</td>\n",
       "      <td>0.5</td>\n",
       "    </tr>\n",
       "    <tr>\n",
       "      <th>1</th>\n",
       "      <td>3</td>\n",
       "      <td>Doha</td>\n",
       "      <td>Qatar Open</td>\n",
       "      <td>2000-01-03</td>\n",
       "      <td>International</td>\n",
       "      <td>Outdoor</td>\n",
       "      <td>Hard</td>\n",
       "      <td>1st Round</td>\n",
       "      <td>3</td>\n",
       "      <td>Kiefer N.</td>\n",
       "      <td>...</td>\n",
       "      <td>2.0</td>\n",
       "      <td>0.0</td>\n",
       "      <td>Completed</td>\n",
       "      <td>NaN</td>\n",
       "      <td>NaN</td>\n",
       "      <td>NaN</td>\n",
       "      <td>NaN</td>\n",
       "      <td>1500.0</td>\n",
       "      <td>1500.0</td>\n",
       "      <td>0.5</td>\n",
       "    </tr>\n",
       "    <tr>\n",
       "      <th>2</th>\n",
       "      <td>3</td>\n",
       "      <td>Doha</td>\n",
       "      <td>Qatar Open</td>\n",
       "      <td>2000-01-03</td>\n",
       "      <td>International</td>\n",
       "      <td>Outdoor</td>\n",
       "      <td>Hard</td>\n",
       "      <td>1st Round</td>\n",
       "      <td>3</td>\n",
       "      <td>Gaudio G.</td>\n",
       "      <td>...</td>\n",
       "      <td>2.0</td>\n",
       "      <td>1.0</td>\n",
       "      <td>Completed</td>\n",
       "      <td>NaN</td>\n",
       "      <td>NaN</td>\n",
       "      <td>NaN</td>\n",
       "      <td>NaN</td>\n",
       "      <td>1500.0</td>\n",
       "      <td>1500.0</td>\n",
       "      <td>0.5</td>\n",
       "    </tr>\n",
       "    <tr>\n",
       "      <th>3</th>\n",
       "      <td>3</td>\n",
       "      <td>Doha</td>\n",
       "      <td>Qatar Open</td>\n",
       "      <td>2000-01-03</td>\n",
       "      <td>International</td>\n",
       "      <td>Outdoor</td>\n",
       "      <td>Hard</td>\n",
       "      <td>1st Round</td>\n",
       "      <td>3</td>\n",
       "      <td>El Aynaoui Y.</td>\n",
       "      <td>...</td>\n",
       "      <td>2.0</td>\n",
       "      <td>1.0</td>\n",
       "      <td>Completed</td>\n",
       "      <td>NaN</td>\n",
       "      <td>NaN</td>\n",
       "      <td>NaN</td>\n",
       "      <td>NaN</td>\n",
       "      <td>1500.0</td>\n",
       "      <td>1500.0</td>\n",
       "      <td>0.5</td>\n",
       "    </tr>\n",
       "    <tr>\n",
       "      <th>4</th>\n",
       "      <td>3</td>\n",
       "      <td>Doha</td>\n",
       "      <td>Qatar Open</td>\n",
       "      <td>2000-01-03</td>\n",
       "      <td>International</td>\n",
       "      <td>Outdoor</td>\n",
       "      <td>Hard</td>\n",
       "      <td>1st Round</td>\n",
       "      <td>3</td>\n",
       "      <td>Cherkasov A.</td>\n",
       "      <td>...</td>\n",
       "      <td>2.0</td>\n",
       "      <td>0.0</td>\n",
       "      <td>Completed</td>\n",
       "      <td>NaN</td>\n",
       "      <td>NaN</td>\n",
       "      <td>NaN</td>\n",
       "      <td>NaN</td>\n",
       "      <td>1500.0</td>\n",
       "      <td>1500.0</td>\n",
       "      <td>0.5</td>\n",
       "    </tr>\n",
       "  </tbody>\n",
       "</table>\n",
       "<p>5 rows × 23 columns</p>\n",
       "</div>"
      ],
      "text/plain": [
       "   ATP  Location                          Tournament        Date  \\\n",
       "0    1  Adelaide  Australian Hardcourt Championships  2000-01-03   \n",
       "1    3      Doha                          Qatar Open  2000-01-03   \n",
       "2    3      Doha                          Qatar Open  2000-01-03   \n",
       "3    3      Doha                          Qatar Open  2000-01-03   \n",
       "4    3      Doha                          Qatar Open  2000-01-03   \n",
       "\n",
       "          Series    Court Surface      Round  Best of         Winner  ...  \\\n",
       "0  International  Outdoor    Hard  1st Round        3     Dosedel S.  ...   \n",
       "1  International  Outdoor    Hard  1st Round        3      Kiefer N.  ...   \n",
       "2  International  Outdoor    Hard  1st Round        3      Gaudio G.  ...   \n",
       "3  International  Outdoor    Hard  1st Round        3  El Aynaoui Y.  ...   \n",
       "4  International  Outdoor    Hard  1st Round        3   Cherkasov A.  ...   \n",
       "\n",
       "  Wsets  Lsets    Comment  PSW  PSL B365W  B365L  elo_winner  elo_loser  \\\n",
       "0   2.0    0.0  Completed  NaN  NaN   NaN    NaN      1500.0     1500.0   \n",
       "1   2.0    0.0  Completed  NaN  NaN   NaN    NaN      1500.0     1500.0   \n",
       "2   2.0    1.0  Completed  NaN  NaN   NaN    NaN      1500.0     1500.0   \n",
       "3   2.0    1.0  Completed  NaN  NaN   NaN    NaN      1500.0     1500.0   \n",
       "4   2.0    0.0  Completed  NaN  NaN   NaN    NaN      1500.0     1500.0   \n",
       "\n",
       "   proba_elo  \n",
       "0        0.5  \n",
       "1        0.5  \n",
       "2        0.5  \n",
       "3        0.5  \n",
       "4        0.5  \n",
       "\n",
       "[5 rows x 23 columns]"
      ]
     },
     "execution_count": 3,
     "metadata": {},
     "output_type": "execute_result"
    }
   ],
   "source": [
    "df.head()"
   ]
  },
  {
   "cell_type": "code",
   "execution_count": 4,
   "id": "bde053fa",
   "metadata": {},
   "outputs": [
    {
     "name": "stdout",
     "output_type": "stream",
     "text": [
      "<class 'pandas.core.frame.DataFrame'>\n",
      "RangeIndex: 44708 entries, 0 to 44707\n",
      "Data columns (total 23 columns):\n",
      " #   Column      Non-Null Count  Dtype  \n",
      "---  ------      --------------  -----  \n",
      " 0   ATP         44708 non-null  int64  \n",
      " 1   Location    44708 non-null  object \n",
      " 2   Tournament  44708 non-null  object \n",
      " 3   Date        44708 non-null  object \n",
      " 4   Series      44708 non-null  object \n",
      " 5   Court       44708 non-null  object \n",
      " 6   Surface     44708 non-null  object \n",
      " 7   Round       44708 non-null  object \n",
      " 8   Best of     44708 non-null  int64  \n",
      " 9   Winner      44708 non-null  object \n",
      " 10  Loser       44708 non-null  object \n",
      " 11  WRank       44708 non-null  int64  \n",
      " 12  LRank       44708 non-null  int64  \n",
      " 13  Wsets       44521 non-null  float64\n",
      " 14  Lsets       44521 non-null  float64\n",
      " 15  Comment     44708 non-null  object \n",
      " 16  PSW         32743 non-null  float64\n",
      " 17  PSL         32743 non-null  float64\n",
      " 18  B365W       39037 non-null  float64\n",
      " 19  B365L       39057 non-null  float64\n",
      " 20  elo_winner  44708 non-null  float64\n",
      " 21  elo_loser   44708 non-null  float64\n",
      " 22  proba_elo   44708 non-null  float64\n",
      "dtypes: float64(9), int64(4), object(10)\n",
      "memory usage: 7.8+ MB\n",
      "None\n",
      "Taille du DataFrame (44708, 23)\n"
     ]
    }
   ],
   "source": [
    "# 1ères informations de notre jeu de données\n",
    "\n",
    "print(df.info())\n",
    "print(\"Taille du DataFrame\", df.shape)"
   ]
  },
  {
   "cell_type": "code",
   "execution_count": 5,
   "id": "b171d82d",
   "metadata": {},
   "outputs": [
    {
     "data": {
      "text/html": [
       "<div>\n",
       "<style scoped>\n",
       "    .dataframe tbody tr th:only-of-type {\n",
       "        vertical-align: middle;\n",
       "    }\n",
       "\n",
       "    .dataframe tbody tr th {\n",
       "        vertical-align: top;\n",
       "    }\n",
       "\n",
       "    .dataframe thead th {\n",
       "        text-align: right;\n",
       "    }\n",
       "</style>\n",
       "<table border=\"1\" class=\"dataframe\">\n",
       "  <thead>\n",
       "    <tr style=\"text-align: right;\">\n",
       "      <th></th>\n",
       "      <th>ATP</th>\n",
       "      <th>Best of</th>\n",
       "      <th>WRank</th>\n",
       "      <th>LRank</th>\n",
       "      <th>Wsets</th>\n",
       "      <th>Lsets</th>\n",
       "      <th>PSW</th>\n",
       "      <th>PSL</th>\n",
       "      <th>B365W</th>\n",
       "      <th>B365L</th>\n",
       "      <th>elo_winner</th>\n",
       "      <th>elo_loser</th>\n",
       "      <th>proba_elo</th>\n",
       "    </tr>\n",
       "  </thead>\n",
       "  <tbody>\n",
       "    <tr>\n",
       "      <th>count</th>\n",
       "      <td>44708.000000</td>\n",
       "      <td>44708.000000</td>\n",
       "      <td>44708.000000</td>\n",
       "      <td>44708.000000</td>\n",
       "      <td>44521.000000</td>\n",
       "      <td>44521.000000</td>\n",
       "      <td>32743.000000</td>\n",
       "      <td>32743.000000</td>\n",
       "      <td>39037.000000</td>\n",
       "      <td>39057.000000</td>\n",
       "      <td>44708.000000</td>\n",
       "      <td>44708.000000</td>\n",
       "      <td>44708.000000</td>\n",
       "    </tr>\n",
       "    <tr>\n",
       "      <th>mean</th>\n",
       "      <td>32.803659</td>\n",
       "      <td>3.372596</td>\n",
       "      <td>59.159681</td>\n",
       "      <td>93.674108</td>\n",
       "      <td>2.140630</td>\n",
       "      <td>0.406325</td>\n",
       "      <td>1.927563</td>\n",
       "      <td>4.240179</td>\n",
       "      <td>1.822246</td>\n",
       "      <td>3.551007</td>\n",
       "      <td>1684.023280</td>\n",
       "      <td>1608.755552</td>\n",
       "      <td>0.585594</td>\n",
       "    </tr>\n",
       "    <tr>\n",
       "      <th>std</th>\n",
       "      <td>18.170565</td>\n",
       "      <td>0.778702</td>\n",
       "      <td>74.881003</td>\n",
       "      <td>124.987643</td>\n",
       "      <td>0.462388</td>\n",
       "      <td>0.557349</td>\n",
       "      <td>1.359136</td>\n",
       "      <td>5.744329</td>\n",
       "      <td>1.107547</td>\n",
       "      <td>3.498689</td>\n",
       "      <td>179.246422</td>\n",
       "      <td>137.949299</td>\n",
       "      <td>0.198732</td>\n",
       "    </tr>\n",
       "    <tr>\n",
       "      <th>min</th>\n",
       "      <td>1.000000</td>\n",
       "      <td>3.000000</td>\n",
       "      <td>0.000000</td>\n",
       "      <td>0.000000</td>\n",
       "      <td>0.000000</td>\n",
       "      <td>0.000000</td>\n",
       "      <td>1.000000</td>\n",
       "      <td>1.010000</td>\n",
       "      <td>1.000000</td>\n",
       "      <td>1.002000</td>\n",
       "      <td>1318.945207</td>\n",
       "      <td>1327.551888</td>\n",
       "      <td>0.008899</td>\n",
       "    </tr>\n",
       "    <tr>\n",
       "      <th>25%</th>\n",
       "      <td>19.000000</td>\n",
       "      <td>3.000000</td>\n",
       "      <td>17.000000</td>\n",
       "      <td>35.000000</td>\n",
       "      <td>2.000000</td>\n",
       "      <td>0.000000</td>\n",
       "      <td>1.270000</td>\n",
       "      <td>1.794000</td>\n",
       "      <td>1.220000</td>\n",
       "      <td>1.720000</td>\n",
       "      <td>1548.476977</td>\n",
       "      <td>1501.546103</td>\n",
       "      <td>0.447921</td>\n",
       "    </tr>\n",
       "    <tr>\n",
       "      <th>50%</th>\n",
       "      <td>32.000000</td>\n",
       "      <td>3.000000</td>\n",
       "      <td>41.000000</td>\n",
       "      <td>65.000000</td>\n",
       "      <td>2.000000</td>\n",
       "      <td>0.000000</td>\n",
       "      <td>1.549000</td>\n",
       "      <td>2.660000</td>\n",
       "      <td>1.500000</td>\n",
       "      <td>2.500000</td>\n",
       "      <td>1652.866073</td>\n",
       "      <td>1580.743828</td>\n",
       "      <td>0.589218</td>\n",
       "    </tr>\n",
       "    <tr>\n",
       "      <th>75%</th>\n",
       "      <td>49.000000</td>\n",
       "      <td>3.000000</td>\n",
       "      <td>77.000000</td>\n",
       "      <td>105.000000</td>\n",
       "      <td>2.000000</td>\n",
       "      <td>1.000000</td>\n",
       "      <td>2.140000</td>\n",
       "      <td>4.270000</td>\n",
       "      <td>2.000000</td>\n",
       "      <td>4.000000</td>\n",
       "      <td>1780.755524</td>\n",
       "      <td>1684.607134</td>\n",
       "      <td>0.737288</td>\n",
       "    </tr>\n",
       "    <tr>\n",
       "      <th>max</th>\n",
       "      <td>69.000000</td>\n",
       "      <td>5.000000</td>\n",
       "      <td>2000.000000</td>\n",
       "      <td>2000.000000</td>\n",
       "      <td>3.000000</td>\n",
       "      <td>2.000000</td>\n",
       "      <td>46.000000</td>\n",
       "      <td>121.000000</td>\n",
       "      <td>29.000000</td>\n",
       "      <td>101.000000</td>\n",
       "      <td>2392.408923</td>\n",
       "      <td>2392.595567</td>\n",
       "      <td>0.995601</td>\n",
       "    </tr>\n",
       "  </tbody>\n",
       "</table>\n",
       "</div>"
      ],
      "text/plain": [
       "                ATP       Best of         WRank         LRank         Wsets  \\\n",
       "count  44708.000000  44708.000000  44708.000000  44708.000000  44521.000000   \n",
       "mean      32.803659      3.372596     59.159681     93.674108      2.140630   \n",
       "std       18.170565      0.778702     74.881003    124.987643      0.462388   \n",
       "min        1.000000      3.000000      0.000000      0.000000      0.000000   \n",
       "25%       19.000000      3.000000     17.000000     35.000000      2.000000   \n",
       "50%       32.000000      3.000000     41.000000     65.000000      2.000000   \n",
       "75%       49.000000      3.000000     77.000000    105.000000      2.000000   \n",
       "max       69.000000      5.000000   2000.000000   2000.000000      3.000000   \n",
       "\n",
       "              Lsets           PSW           PSL         B365W         B365L  \\\n",
       "count  44521.000000  32743.000000  32743.000000  39037.000000  39057.000000   \n",
       "mean       0.406325      1.927563      4.240179      1.822246      3.551007   \n",
       "std        0.557349      1.359136      5.744329      1.107547      3.498689   \n",
       "min        0.000000      1.000000      1.010000      1.000000      1.002000   \n",
       "25%        0.000000      1.270000      1.794000      1.220000      1.720000   \n",
       "50%        0.000000      1.549000      2.660000      1.500000      2.500000   \n",
       "75%        1.000000      2.140000      4.270000      2.000000      4.000000   \n",
       "max        2.000000     46.000000    121.000000     29.000000    101.000000   \n",
       "\n",
       "         elo_winner     elo_loser     proba_elo  \n",
       "count  44708.000000  44708.000000  44708.000000  \n",
       "mean    1684.023280   1608.755552      0.585594  \n",
       "std      179.246422    137.949299      0.198732  \n",
       "min     1318.945207   1327.551888      0.008899  \n",
       "25%     1548.476977   1501.546103      0.447921  \n",
       "50%     1652.866073   1580.743828      0.589218  \n",
       "75%     1780.755524   1684.607134      0.737288  \n",
       "max     2392.408923   2392.595567      0.995601  "
      ]
     },
     "execution_count": 5,
     "metadata": {},
     "output_type": "execute_result"
    }
   ],
   "source": [
    "# statistiques sur les variables quantitatives\n",
    "df.describe(exclude=['O'])"
   ]
  },
  {
   "cell_type": "code",
   "execution_count": 6,
   "id": "50436db3",
   "metadata": {},
   "outputs": [
    {
     "data": {
      "text/html": [
       "<div>\n",
       "<style scoped>\n",
       "    .dataframe tbody tr th:only-of-type {\n",
       "        vertical-align: middle;\n",
       "    }\n",
       "\n",
       "    .dataframe tbody tr th {\n",
       "        vertical-align: top;\n",
       "    }\n",
       "\n",
       "    .dataframe thead th {\n",
       "        text-align: right;\n",
       "    }\n",
       "</style>\n",
       "<table border=\"1\" class=\"dataframe\">\n",
       "  <thead>\n",
       "    <tr style=\"text-align: right;\">\n",
       "      <th></th>\n",
       "      <th>Location</th>\n",
       "      <th>Tournament</th>\n",
       "      <th>Date</th>\n",
       "      <th>Series</th>\n",
       "      <th>Court</th>\n",
       "      <th>Surface</th>\n",
       "      <th>Round</th>\n",
       "      <th>Winner</th>\n",
       "      <th>Loser</th>\n",
       "      <th>Comment</th>\n",
       "    </tr>\n",
       "  </thead>\n",
       "  <tbody>\n",
       "    <tr>\n",
       "      <th>count</th>\n",
       "      <td>44708</td>\n",
       "      <td>44708</td>\n",
       "      <td>44708</td>\n",
       "      <td>44708</td>\n",
       "      <td>44708</td>\n",
       "      <td>44708</td>\n",
       "      <td>44708</td>\n",
       "      <td>44708</td>\n",
       "      <td>44708</td>\n",
       "      <td>44708</td>\n",
       "    </tr>\n",
       "    <tr>\n",
       "      <th>unique</th>\n",
       "      <td>115</td>\n",
       "      <td>207</td>\n",
       "      <td>4104</td>\n",
       "      <td>8</td>\n",
       "      <td>2</td>\n",
       "      <td>4</td>\n",
       "      <td>8</td>\n",
       "      <td>899</td>\n",
       "      <td>1400</td>\n",
       "      <td>4</td>\n",
       "    </tr>\n",
       "    <tr>\n",
       "      <th>top</th>\n",
       "      <td>Paris</td>\n",
       "      <td>Australian Open</td>\n",
       "      <td>2000-01-17</td>\n",
       "      <td>International</td>\n",
       "      <td>Outdoor</td>\n",
       "      <td>Hard</td>\n",
       "      <td>1st Round</td>\n",
       "      <td>Federer R.</td>\n",
       "      <td>Lopez F.</td>\n",
       "      <td>Completed</td>\n",
       "    </tr>\n",
       "    <tr>\n",
       "      <th>freq</th>\n",
       "      <td>2784</td>\n",
       "      <td>2159</td>\n",
       "      <td>127</td>\n",
       "      <td>10792</td>\n",
       "      <td>36532</td>\n",
       "      <td>23799</td>\n",
       "      <td>20728</td>\n",
       "      <td>970</td>\n",
       "      <td>369</td>\n",
       "      <td>43015</td>\n",
       "    </tr>\n",
       "  </tbody>\n",
       "</table>\n",
       "</div>"
      ],
      "text/plain": [
       "       Location       Tournament        Date         Series    Court Surface  \\\n",
       "count     44708            44708       44708          44708    44708   44708   \n",
       "unique      115              207        4104              8        2       4   \n",
       "top       Paris  Australian Open  2000-01-17  International  Outdoor    Hard   \n",
       "freq       2784             2159         127          10792    36532   23799   \n",
       "\n",
       "            Round      Winner     Loser    Comment  \n",
       "count       44708       44708     44708      44708  \n",
       "unique          8         899      1400          4  \n",
       "top     1st Round  Federer R.  Lopez F.  Completed  \n",
       "freq        20728         970       369      43015  "
      ]
     },
     "execution_count": 6,
     "metadata": {},
     "output_type": "execute_result"
    }
   ],
   "source": [
    "# statistiques sur les variables qualitatives\n",
    "df.describe(include=['O'])"
   ]
  },
  {
   "cell_type": "code",
   "execution_count": 7,
   "id": "ce13785b",
   "metadata": {},
   "outputs": [
    {
     "data": {
      "text/plain": [
       "6     0.048291\n",
       "20    0.032567\n",
       "19    0.031851\n",
       "31    0.029972\n",
       "51    0.029614\n",
       "36    0.028272\n",
       "33    0.022188\n",
       "49    0.021383\n",
       "50    0.019952\n",
       "37    0.019683\n",
       "29    0.019504\n",
       "23    0.019504\n",
       "24    0.019146\n",
       "32    0.017804\n",
       "52    0.017447\n",
       "48    0.017268\n",
       "47    0.016820\n",
       "30    0.015836\n",
       "28    0.015747\n",
       "39    0.015120\n",
       "Name: ATP, dtype: float64"
      ]
     },
     "metadata": {},
     "output_type": "display_data"
    },
    {
     "data": {
      "text/plain": [
       "array([ 1,  3,  2,  5,  4,  6,  9,  8,  7, 11, 10, 13, 12, 16, 15, 14, 18,\n",
       "       17, 19, 20, 22, 23, 21, 24, 25, 28, 27, 26, 29, 30, 31, 32, 34, 33,\n",
       "       36, 35, 37, 39, 40, 38, 42, 43, 41, 46, 45, 44, 47, 48, 50, 49, 51,\n",
       "       52, 54, 53, 55, 56, 58, 57, 60, 59, 62, 61, 63, 65, 64, 66, 68, 67,\n",
       "       69], dtype=int64)"
      ]
     },
     "metadata": {},
     "output_type": "display_data"
    },
    {
     "name": "stdout",
     "output_type": "stream",
     "text": [
      "69\n",
      "0\n"
     ]
    }
   ],
   "source": [
    "# Analyse variable ATP\n",
    "display(df['ATP'].value_counts(normalize=True)[:20])\n",
    "ATP_unique = df['ATP'].unique()\n",
    "display(ATP_unique)\n",
    "print(len(ATP_unique))\n",
    "print(df['ATP'].isna().sum())\n"
   ]
  },
  {
   "cell_type": "code",
   "execution_count": 8,
   "id": "d9a8df4c",
   "metadata": {
    "scrolled": true
   },
   "outputs": [
    {
     "data": {
      "text/html": [
       "<div>\n",
       "<style scoped>\n",
       "    .dataframe tbody tr th:only-of-type {\n",
       "        vertical-align: middle;\n",
       "    }\n",
       "\n",
       "    .dataframe tbody tr th {\n",
       "        vertical-align: top;\n",
       "    }\n",
       "\n",
       "    .dataframe thead th {\n",
       "        text-align: right;\n",
       "    }\n",
       "</style>\n",
       "<table border=\"1\" class=\"dataframe\">\n",
       "  <thead>\n",
       "    <tr style=\"text-align: right;\">\n",
       "      <th></th>\n",
       "      <th>ATP</th>\n",
       "      <th>Best of</th>\n",
       "      <th>WRank</th>\n",
       "      <th>LRank</th>\n",
       "      <th>Wsets</th>\n",
       "      <th>Lsets</th>\n",
       "      <th>PSW</th>\n",
       "      <th>PSL</th>\n",
       "      <th>B365W</th>\n",
       "      <th>B365L</th>\n",
       "      <th>elo_winner</th>\n",
       "      <th>elo_loser</th>\n",
       "      <th>proba_elo</th>\n",
       "    </tr>\n",
       "  </thead>\n",
       "  <tbody>\n",
       "    <tr>\n",
       "      <th>ATP</th>\n",
       "      <td>1.000000</td>\n",
       "      <td>-0.046387</td>\n",
       "      <td>-0.008965</td>\n",
       "      <td>-0.016897</td>\n",
       "      <td>-0.043327</td>\n",
       "      <td>-0.001104</td>\n",
       "      <td>0.010970</td>\n",
       "      <td>-0.019625</td>\n",
       "      <td>0.012286</td>\n",
       "      <td>-0.029850</td>\n",
       "      <td>0.047014</td>\n",
       "      <td>0.074960</td>\n",
       "      <td>-0.008273</td>\n",
       "    </tr>\n",
       "    <tr>\n",
       "      <th>Best of</th>\n",
       "      <td>-0.046387</td>\n",
       "      <td>1.000000</td>\n",
       "      <td>-0.066836</td>\n",
       "      <td>-0.020708</td>\n",
       "      <td>0.818574</td>\n",
       "      <td>0.231996</td>\n",
       "      <td>-0.028799</td>\n",
       "      <td>0.213841</td>\n",
       "      <td>-0.033153</td>\n",
       "      <td>0.220608</td>\n",
       "      <td>0.118747</td>\n",
       "      <td>0.003619</td>\n",
       "      <td>0.105426</td>\n",
       "    </tr>\n",
       "    <tr>\n",
       "      <th>WRank</th>\n",
       "      <td>-0.008965</td>\n",
       "      <td>-0.066836</td>\n",
       "      <td>1.000000</td>\n",
       "      <td>0.109713</td>\n",
       "      <td>-0.070822</td>\n",
       "      <td>0.039472</td>\n",
       "      <td>0.279636</td>\n",
       "      <td>-0.226377</td>\n",
       "      <td>0.307362</td>\n",
       "      <td>-0.266269</td>\n",
       "      <td>-0.498217</td>\n",
       "      <td>-0.170002</td>\n",
       "      <td>-0.379164</td>\n",
       "    </tr>\n",
       "    <tr>\n",
       "      <th>LRank</th>\n",
       "      <td>-0.016897</td>\n",
       "      <td>-0.020708</td>\n",
       "      <td>0.109713</td>\n",
       "      <td>1.000000</td>\n",
       "      <td>-0.003649</td>\n",
       "      <td>-0.053960</td>\n",
       "      <td>-0.190789</td>\n",
       "      <td>0.150884</td>\n",
       "      <td>-0.208825</td>\n",
       "      <td>0.185399</td>\n",
       "      <td>-0.156366</td>\n",
       "      <td>-0.388834</td>\n",
       "      <td>0.157354</td>\n",
       "    </tr>\n",
       "    <tr>\n",
       "      <th>Wsets</th>\n",
       "      <td>-0.043327</td>\n",
       "      <td>0.818574</td>\n",
       "      <td>-0.070822</td>\n",
       "      <td>-0.003649</td>\n",
       "      <td>1.000000</td>\n",
       "      <td>0.225547</td>\n",
       "      <td>-0.056107</td>\n",
       "      <td>0.194150</td>\n",
       "      <td>-0.059774</td>\n",
       "      <td>0.203297</td>\n",
       "      <td>0.119892</td>\n",
       "      <td>-0.012988</td>\n",
       "      <td>0.123047</td>\n",
       "    </tr>\n",
       "    <tr>\n",
       "      <th>Lsets</th>\n",
       "      <td>-0.001104</td>\n",
       "      <td>0.231996</td>\n",
       "      <td>0.039472</td>\n",
       "      <td>-0.053960</td>\n",
       "      <td>0.225547</td>\n",
       "      <td>1.000000</td>\n",
       "      <td>0.113068</td>\n",
       "      <td>-0.107632</td>\n",
       "      <td>0.120241</td>\n",
       "      <td>-0.118149</td>\n",
       "      <td>-0.065344</td>\n",
       "      <td>0.066541</td>\n",
       "      <td>-0.113640</td>\n",
       "    </tr>\n",
       "    <tr>\n",
       "      <th>PSW</th>\n",
       "      <td>0.010970</td>\n",
       "      <td>-0.028799</td>\n",
       "      <td>0.279636</td>\n",
       "      <td>-0.190789</td>\n",
       "      <td>-0.056107</td>\n",
       "      <td>0.113068</td>\n",
       "      <td>1.000000</td>\n",
       "      <td>-0.273308</td>\n",
       "      <td>0.975043</td>\n",
       "      <td>-0.333448</td>\n",
       "      <td>-0.309118</td>\n",
       "      <td>0.397112</td>\n",
       "      <td>-0.612286</td>\n",
       "    </tr>\n",
       "    <tr>\n",
       "      <th>PSL</th>\n",
       "      <td>-0.019625</td>\n",
       "      <td>0.213841</td>\n",
       "      <td>-0.226377</td>\n",
       "      <td>0.150884</td>\n",
       "      <td>0.194150</td>\n",
       "      <td>-0.107632</td>\n",
       "      <td>-0.273308</td>\n",
       "      <td>1.000000</td>\n",
       "      <td>-0.297240</td>\n",
       "      <td>0.893226</td>\n",
       "      <td>0.504034</td>\n",
       "      <td>-0.158542</td>\n",
       "      <td>0.507427</td>\n",
       "    </tr>\n",
       "    <tr>\n",
       "      <th>B365W</th>\n",
       "      <td>0.012286</td>\n",
       "      <td>-0.033153</td>\n",
       "      <td>0.307362</td>\n",
       "      <td>-0.208825</td>\n",
       "      <td>-0.059774</td>\n",
       "      <td>0.120241</td>\n",
       "      <td>0.975043</td>\n",
       "      <td>-0.297240</td>\n",
       "      <td>1.000000</td>\n",
       "      <td>-0.371729</td>\n",
       "      <td>-0.335506</td>\n",
       "      <td>0.418323</td>\n",
       "      <td>-0.663752</td>\n",
       "    </tr>\n",
       "    <tr>\n",
       "      <th>B365L</th>\n",
       "      <td>-0.029850</td>\n",
       "      <td>0.220608</td>\n",
       "      <td>-0.266269</td>\n",
       "      <td>0.185399</td>\n",
       "      <td>0.203297</td>\n",
       "      <td>-0.118149</td>\n",
       "      <td>-0.333448</td>\n",
       "      <td>0.893226</td>\n",
       "      <td>-0.371729</td>\n",
       "      <td>1.000000</td>\n",
       "      <td>0.563668</td>\n",
       "      <td>-0.175170</td>\n",
       "      <td>0.595157</td>\n",
       "    </tr>\n",
       "    <tr>\n",
       "      <th>elo_winner</th>\n",
       "      <td>0.047014</td>\n",
       "      <td>0.118747</td>\n",
       "      <td>-0.498217</td>\n",
       "      <td>-0.156366</td>\n",
       "      <td>0.119892</td>\n",
       "      <td>-0.065344</td>\n",
       "      <td>-0.309118</td>\n",
       "      <td>0.504034</td>\n",
       "      <td>-0.335506</td>\n",
       "      <td>0.563668</td>\n",
       "      <td>1.000000</td>\n",
       "      <td>0.394716</td>\n",
       "      <td>0.662299</td>\n",
       "    </tr>\n",
       "    <tr>\n",
       "      <th>elo_loser</th>\n",
       "      <td>0.074960</td>\n",
       "      <td>0.003619</td>\n",
       "      <td>-0.170002</td>\n",
       "      <td>-0.388834</td>\n",
       "      <td>-0.012988</td>\n",
       "      <td>0.066541</td>\n",
       "      <td>0.397112</td>\n",
       "      <td>-0.158542</td>\n",
       "      <td>0.418323</td>\n",
       "      <td>-0.175170</td>\n",
       "      <td>0.394716</td>\n",
       "      <td>1.000000</td>\n",
       "      <td>-0.401453</td>\n",
       "    </tr>\n",
       "    <tr>\n",
       "      <th>proba_elo</th>\n",
       "      <td>-0.008273</td>\n",
       "      <td>0.105426</td>\n",
       "      <td>-0.379164</td>\n",
       "      <td>0.157354</td>\n",
       "      <td>0.123047</td>\n",
       "      <td>-0.113640</td>\n",
       "      <td>-0.612286</td>\n",
       "      <td>0.507427</td>\n",
       "      <td>-0.663752</td>\n",
       "      <td>0.595157</td>\n",
       "      <td>0.662299</td>\n",
       "      <td>-0.401453</td>\n",
       "      <td>1.000000</td>\n",
       "    </tr>\n",
       "  </tbody>\n",
       "</table>\n",
       "</div>"
      ],
      "text/plain": [
       "                 ATP   Best of     WRank     LRank     Wsets     Lsets  \\\n",
       "ATP         1.000000 -0.046387 -0.008965 -0.016897 -0.043327 -0.001104   \n",
       "Best of    -0.046387  1.000000 -0.066836 -0.020708  0.818574  0.231996   \n",
       "WRank      -0.008965 -0.066836  1.000000  0.109713 -0.070822  0.039472   \n",
       "LRank      -0.016897 -0.020708  0.109713  1.000000 -0.003649 -0.053960   \n",
       "Wsets      -0.043327  0.818574 -0.070822 -0.003649  1.000000  0.225547   \n",
       "Lsets      -0.001104  0.231996  0.039472 -0.053960  0.225547  1.000000   \n",
       "PSW         0.010970 -0.028799  0.279636 -0.190789 -0.056107  0.113068   \n",
       "PSL        -0.019625  0.213841 -0.226377  0.150884  0.194150 -0.107632   \n",
       "B365W       0.012286 -0.033153  0.307362 -0.208825 -0.059774  0.120241   \n",
       "B365L      -0.029850  0.220608 -0.266269  0.185399  0.203297 -0.118149   \n",
       "elo_winner  0.047014  0.118747 -0.498217 -0.156366  0.119892 -0.065344   \n",
       "elo_loser   0.074960  0.003619 -0.170002 -0.388834 -0.012988  0.066541   \n",
       "proba_elo  -0.008273  0.105426 -0.379164  0.157354  0.123047 -0.113640   \n",
       "\n",
       "                 PSW       PSL     B365W     B365L  elo_winner  elo_loser  \\\n",
       "ATP         0.010970 -0.019625  0.012286 -0.029850    0.047014   0.074960   \n",
       "Best of    -0.028799  0.213841 -0.033153  0.220608    0.118747   0.003619   \n",
       "WRank       0.279636 -0.226377  0.307362 -0.266269   -0.498217  -0.170002   \n",
       "LRank      -0.190789  0.150884 -0.208825  0.185399   -0.156366  -0.388834   \n",
       "Wsets      -0.056107  0.194150 -0.059774  0.203297    0.119892  -0.012988   \n",
       "Lsets       0.113068 -0.107632  0.120241 -0.118149   -0.065344   0.066541   \n",
       "PSW         1.000000 -0.273308  0.975043 -0.333448   -0.309118   0.397112   \n",
       "PSL        -0.273308  1.000000 -0.297240  0.893226    0.504034  -0.158542   \n",
       "B365W       0.975043 -0.297240  1.000000 -0.371729   -0.335506   0.418323   \n",
       "B365L      -0.333448  0.893226 -0.371729  1.000000    0.563668  -0.175170   \n",
       "elo_winner -0.309118  0.504034 -0.335506  0.563668    1.000000   0.394716   \n",
       "elo_loser   0.397112 -0.158542  0.418323 -0.175170    0.394716   1.000000   \n",
       "proba_elo  -0.612286  0.507427 -0.663752  0.595157    0.662299  -0.401453   \n",
       "\n",
       "            proba_elo  \n",
       "ATP         -0.008273  \n",
       "Best of      0.105426  \n",
       "WRank       -0.379164  \n",
       "LRank        0.157354  \n",
       "Wsets        0.123047  \n",
       "Lsets       -0.113640  \n",
       "PSW         -0.612286  \n",
       "PSL          0.507427  \n",
       "B365W       -0.663752  \n",
       "B365L        0.595157  \n",
       "elo_winner   0.662299  \n",
       "elo_loser   -0.401453  \n",
       "proba_elo    1.000000  "
      ]
     },
     "execution_count": 8,
     "metadata": {},
     "output_type": "execute_result"
    }
   ],
   "source": [
    "df.corr()"
   ]
  },
  {
   "cell_type": "code",
   "execution_count": 9,
   "id": "612fb0be",
   "metadata": {},
   "outputs": [
    {
     "data": {
      "text/plain": [
       "Paris         0.062271\n",
       "London        0.048828\n",
       "Melbourne     0.048291\n",
       "New York      0.046054\n",
       "Miami         0.033998\n",
       "                ...   \n",
       "Dusseldorf    0.000604\n",
       "Budapest      0.000604\n",
       "Antalya       0.000604\n",
       "Pune          0.000604\n",
       "Lisbon        0.000336\n",
       "Name: Location, Length: 115, dtype: float64"
      ]
     },
     "metadata": {},
     "output_type": "display_data"
    },
    {
     "data": {
      "text/plain": [
       "array(['Adelaide', 'Doha', 'Chennai', 'Sydney', 'Auckland', 'Melbourne',\n",
       "       'San Jose', 'Marseille', 'Dubai', 'Rotterdam', 'Memphis',\n",
       "       'Mexico City', 'London', 'Santiago', 'Delray Beach', 'Copenhagen',\n",
       "       'Scottsdale', 'Bogota', 'Indian Wells', 'Miami', 'Casablanca',\n",
       "       'Estoril', 'Atlanta', 'Monte Carlo', 'Barcelona', 'Orlando',\n",
       "       'Munich', 'Mallorca', 'Rome', 'Hamburg', 'St. Polten', 'Paris',\n",
       "       'Queens Club', 'Halle', \"'s-Hertogenbosch\", 'Nottingham', 'Gstaad',\n",
       "       'Newport', 'Bastad', 'Stuttgart', 'Umag', 'Amsterdam',\n",
       "       'San Marino', 'Los Angeles', 'Kitzbuhel', 'Toronto', 'Cincinnati',\n",
       "       'Washington', 'Indianapolis', 'Long Island', 'New York',\n",
       "       'Tashkent', 'Bucharest', 'Palermo', 'Hong Kong', 'Vienna', 'Tokyo',\n",
       "       'Toulouse', 'Shanghai', 'Moscow', 'Basel', 'St. Petersburg',\n",
       "       'Lyon', 'Stockholm', 'Brighton', 'Lisbon', 'Milan', 'Vina del Mar',\n",
       "       'Buenos Aires', 'Acapulco', 'Houston', 'Amersfoort', 'Sopot',\n",
       "       'Salvador', 'Madrid', 'Dubai ', 'Estoril ', 'Valencia', 'Montreal',\n",
       "       'Costa Do Sauipe', 'Bangkok', 'Metz', 'Vienna ', 'Beijing',\n",
       "       'New Haven', 'Ho Chi Min City', 'Zagreb', 'Las Vegas',\n",
       "       'Portschach', 'Mumbai', 'Warsaw', 'Brisbane', 'Johannesburg ',\n",
       "       'Belgrade', 'Eastbourne', 'Kuala Lumpur', 'Nice', 'Montpellier',\n",
       "       'Winston-Salem', 'Sao Paulo', 'Oeiras', 'Dusseldorf', 'Quito',\n",
       "       'Rio de Janeiro', 'Istanbul', 'Geneva', 'Shenzhen ', 'Sofia',\n",
       "       'Marrakech', 'Los Cabos', 'Chengdu', 'Antwerp', 'Budapest',\n",
       "       'Antalya', 'Pune'], dtype=object)"
      ]
     },
     "metadata": {},
     "output_type": "display_data"
    },
    {
     "name": "stdout",
     "output_type": "stream",
     "text": [
      "115\n",
      "0\n"
     ]
    }
   ],
   "source": [
    "# Analyse variable lOCATION\n",
    "display(df['Location'].value_counts(normalize=True))\n",
    "location_unique = df['Location'].unique()\n",
    "display(location_unique)\n",
    "print(len(location_unique))\n",
    "print(df['Location'].isna().sum())\n"
   ]
  },
  {
   "cell_type": "code",
   "execution_count": 10,
   "id": "ecb148e3",
   "metadata": {},
   "outputs": [
    {
     "data": {
      "text/plain": [
       "Australian Open           0.048291\n",
       "US Open                   0.045450\n",
       "French Open               0.045450\n",
       "Wimbledon                 0.045450\n",
       "Sony Ericsson Open        0.021249\n",
       "                            ...   \n",
       "LA Tennis Open            0.000604\n",
       "Gazprom Hungarian Open    0.000604\n",
       "Power Horse Cup           0.000604\n",
       "Portugal Open             0.000604\n",
       "New York Open             0.000604\n",
       "Name: Tournament, Length: 207, dtype: float64"
      ]
     },
     "metadata": {},
     "output_type": "display_data"
    },
    {
     "data": {
      "text/plain": [
       "array(['Australian Hardcourt Championships', 'Qatar Open',\n",
       "       'Gold Flake Open', 'Sydney International', 'Heineken Open',\n",
       "       'Australian Open', 'Sybase Open', 'Marseille Open', 'Dubai Open',\n",
       "       'ABN AMRO World Tennis Tournament', 'Kroger St. Jude',\n",
       "       'Mexican Open', 'AXA Cup', 'Chevrolet Cup',\n",
       "       'Citrix Tennis Championships', 'Copenhagen Open',\n",
       "       'Franklin Templeton Tennis Classic', 'Colombia Open',\n",
       "       'Indian Wells TMS', 'Ericsson Open', 'Grand Prix Hassan II',\n",
       "       'Estoril Open', 'Galleryfurniture.com Tennis Challenge',\n",
       "       'Monte Carlo Masters', 'Open Seat Godo',\n",
       "       'U.S. Clay Court Championships', 'BMW Open', 'Mallorca Open',\n",
       "       'Rome TMS', 'Hamburg TMS', 'Internationaler Raiffeisen Grand Prix',\n",
       "       'French Open', 'Stella Artois', 'Gerry Weber Open',\n",
       "       'Heineken Trophy', 'Nottingham Open', 'Wimbledon', 'Gstaad Open',\n",
       "       'Hall of Fame Championships', 'Swedish Open', 'Mercedes Cup',\n",
       "       'Croatia Open', 'Dutch Open', \"Tennis Int'l of San Marino\",\n",
       "       'Mercedes-Benz Cup', 'Generali Open', 'Toronto TMS',\n",
       "       'Cincinnati TMS', 'Legg Mason Classic', 'RCA Championships',\n",
       "       'The Hamlet Cup', 'US Open', \"President's Cup\", 'Open Romania',\n",
       "       'Campionati Internazionali Di Sicilia', 'Salem Open',\n",
       "       'CA Tennis Trophy', 'Japan Open', 'adidas Open',\n",
       "       'Heineken Open Shanghai', 'Kremlin Cup', 'Swiss Indoors',\n",
       "       'Stuttgart TMS', 'St. Petersburg Open', 'Grand Prix de Lyon',\n",
       "       'BNP Paribas', 'Stockholm Open', 'Samsung Open', 'Masters Cup',\n",
       "       'TATA Open', 'AAPT Championships', 'adidas International',\n",
       "       'Milan Indoors', 'Bellsouth Open', 'Copa AT&T',\n",
       "       'Dubai Championships', 'Abierto Mexicano', 'Pacific Life Open',\n",
       "       'NASDAQ-100 Open', \"U.S. Men's Clay Court Championships\",\n",
       "       'Queens Club', 'Ordina Open', 'Energis Open', 'Idea Prokom Open',\n",
       "       'TD Waterhouse Cup', 'Brasil Open', 'Madrid Masters',\n",
       "       'Qatar Exxon Mobil Open', 'Breil ATP', 'Open 13', 'Siebel Open',\n",
       "       'International Championships', 'CAM Open Comunidad Valenciana',\n",
       "       'Telecom Italia Masters Roma', 'Allianz Suisse Open',\n",
       "       'Priority Telecom Dutch Open', 'Montreal TMS',\n",
       "       'Western & Southern Financial Group Masters', 'Thailand Open',\n",
       "       'Open de Moselle', 'Indesit ATP Milano Indoor ',\n",
       "       'ATP Buenos Aires 2004', 'China Open',\n",
       "       'Next Generation Hardcourts', 'Medibank International',\n",
       "       'Internazionali di Lombardia', 'SAP Open', 'ATP Buenos Aires 2005',\n",
       "       'Regions Morgan Keegan Championships', 'Channel Open',\n",
       "       \"Dubai Duty Free Men's Open\", 'Open de Tenis Comunidad Valenciana',\n",
       "       'Rogers Cup', 'Pilot Pen Tennis', 'Vietnam Open',\n",
       "       'BA-CA Tennis Trophy', 'Davidoff Swiss Indoors', 'Chennai Open',\n",
       "       'Next Generation Adelaide International', 'Movistar Open',\n",
       "       'PBZ Zagreb Indoors', 'Copa Telmex', 'Dubai Tennis Championships',\n",
       "       \"Campionati Internazional d'Italia\",\n",
       "       'Hypo Group Tennis International', 'Red Letter Days Open',\n",
       "       'Synsam Swedish Open', 'Countrywide Classic', 'Rogers Masters',\n",
       "       'Kingfisher Airlines Tennis Open', 'Sony Ericsson Open',\n",
       "       \"Internazionali BNL d'Italia\", 'The Nottingham Open',\n",
       "       'Catella Swedish Open', 'Austrian Open',\n",
       "       'Indianapolis Tennis Championships',\n",
       "       'AIG Japan Open Tennis Championships',\n",
       "       'Open Sabadell Atlántico 2008', 'Orange Prokom Open',\n",
       "       'Slazenger Open', 'Studena Croatia Open', 'Brisbane International',\n",
       "       'SA Tennis Open', 'BNP Paribas Open', 'Open Banco Sabadell',\n",
       "       'Serbia Open', 'Mutua Madrileña Madrid Open',\n",
       "       'AEGON Championships', 'AEGON International',\n",
       "       'International German Open', 'LA Tennis Open',\n",
       "       'Proton Malaysian Open', 'Rakuten Japan Open Tennis Championships',\n",
       "       'Shanghai Masters', 'Valencia Open 500', 'BNP Paribas Masters',\n",
       "       'Open de Nice Côte d’Azur', 'Unicef Open', 'SkiStar Swedish Open',\n",
       "       'German Open Tennis Championships', 'Atlanta Tennis Championships',\n",
       "       'Farmers Classic', 'Open Sud de France', 'Copa Claro',\n",
       "       'Bet-At-Home Cup', 'Winston-Salem Open at Wake Forest University',\n",
       "       'Malaysian Open', 'Erste Bank Open', 'Apia International',\n",
       "       'VTR Open', 'BRD Nastase Tiriac Trophy', 'Mutua Madrid Open',\n",
       "       'ATP Vegeta Croatia Open', 'Crédit Agricole Suisse Open Gstaad',\n",
       "       'BB&T Atlanta Open', 'Citi Open',\n",
       "       'U.S. National Indoor Tennis Championships', 'Portugal Open',\n",
       "       'Power Horse Cup', 'Topshelf Open', 'Claro Open Colombia',\n",
       "       'Ecuador Open', 'Memphis Open', 'Rio Open', 'Delray Beach Open',\n",
       "       'Argentina Open', 'Istanbul Open', 'Millenium Estoril Open',\n",
       "       'Geneva Open', 'AEGON Open', 'Konzum Croatia Open',\n",
       "       'Suisse Open Gstaad', 'bet-at-home Open', 'Shenzhen Open',\n",
       "       'ASB Classic', 'Garanti Koza Sofia Open',\n",
       "       'German Tennis Championships', 'Abierto Mexicano Mifel',\n",
       "       'Chengdu Open', 'European Open', 'Gazprom Hungarian Open',\n",
       "       'Open Banco Sabadell ', 'Lyon Open', 'Ricoh Open', 'Antalya Open',\n",
       "       'Tata Open', 'New York Open'], dtype=object)"
      ]
     },
     "metadata": {},
     "output_type": "display_data"
    },
    {
     "name": "stdout",
     "output_type": "stream",
     "text": [
      "207\n",
      "0\n"
     ]
    }
   ],
   "source": [
    "# Analyse variable Tournament\n",
    "display(df['Tournament'].value_counts(normalize=True))\n",
    "tournament_unique = df['Tournament'].unique()\n",
    "display(tournament_unique)\n",
    "print(len(tournament_unique))\n",
    "print(df['Tournament'].isna().sum())"
   ]
  },
  {
   "cell_type": "code",
   "execution_count": 11,
   "id": "70dcf933",
   "metadata": {},
   "outputs": [
    {
     "data": {
      "text/plain": [
       "2000-01-17    0.002841\n",
       "2000-06-26    0.002841\n",
       "2000-08-28    0.002841\n",
       "2002-06-24    0.002841\n",
       "2002-05-27    0.002841\n",
       "                ...   \n",
       "2015-09-11    0.000022\n",
       "2015-09-12    0.000022\n",
       "2015-09-13    0.000022\n",
       "2011-04-03    0.000022\n",
       "2013-11-11    0.000022\n",
       "Name: Date, Length: 4104, dtype: float64"
      ]
     },
     "metadata": {},
     "output_type": "display_data"
    },
    {
     "data": {
      "text/plain": [
       "array(['2000-01-03', '2000-01-10', '2000-01-17', ..., '2018-03-02',\n",
       "       '2018-03-03', '2018-03-04'], dtype=object)"
      ]
     },
     "metadata": {},
     "output_type": "display_data"
    },
    {
     "name": "stdout",
     "output_type": "stream",
     "text": [
      "4104\n",
      "0\n"
     ]
    }
   ],
   "source": [
    "# Analyse variable Date\n",
    "display(df['Date'].value_counts(normalize=True))\n",
    "date_unique = df['Date'].unique()\n",
    "display(date_unique)\n",
    "print(len(date_unique))\n",
    "print(df['Date'].isna().sum())"
   ]
  },
  {
   "cell_type": "code",
   "execution_count": 12,
   "id": "3e97d411",
   "metadata": {},
   "outputs": [],
   "source": [
    "date = pd.to_datetime(df['Date'])"
   ]
  },
  {
   "cell_type": "code",
   "execution_count": 13,
   "id": "faca6cf6",
   "metadata": {},
   "outputs": [
    {
     "name": "stderr",
     "output_type": "stream",
     "text": [
      "D:\\TEMP\\ipykernel_13876\\489397822.py:1: FutureWarning: Treating datetime data as categorical rather than numeric in `.describe` is deprecated and will be removed in a future version of pandas. Specify `datetime_is_numeric=True` to silence this warning and adopt the future behavior now.\n",
      "  date.describe()\n"
     ]
    },
    {
     "data": {
      "text/plain": [
       "count                   44708\n",
       "unique                   4104\n",
       "top       2000-01-17 00:00:00\n",
       "freq                      127\n",
       "first     2000-01-03 00:00:00\n",
       "last      2018-03-04 00:00:00\n",
       "Name: Date, dtype: object"
      ]
     },
     "execution_count": 13,
     "metadata": {},
     "output_type": "execute_result"
    }
   ],
   "source": [
    "date.describe()"
   ]
  },
  {
   "cell_type": "code",
   "execution_count": 14,
   "id": "077a5035",
   "metadata": {},
   "outputs": [
    {
     "data": {
      "text/plain": [
       "<seaborn.axisgrid.FacetGrid at 0x21882690a00>"
      ]
     },
     "execution_count": 14,
     "metadata": {},
     "output_type": "execute_result"
    },
    {
     "data": {
      "image/png": "[encoded data removed]",
      "text/plain": [
       "<Figure size 500x500 with 1 Axes>"
      ]
     },
     "metadata": {},
     "output_type": "display_data"
    }
   ],
   "source": [
    "sns.displot(date, kind='kde')"
   ]
  },
  {
   "cell_type": "code",
   "execution_count": 15,
   "id": "6b2a0c45",
   "metadata": {},
   "outputs": [
    {
     "data": {
      "text/plain": [
       "2000    2963\n",
       "2001      93\n",
       "2002    2806\n",
       "2003    2816\n",
       "2004    2877\n",
       "2005    2910\n",
       "2006    2908\n",
       "2007    2824\n",
       "2008    2689\n",
       "2009    2731\n",
       "2010    2679\n",
       "2011    2675\n",
       "2012    2683\n",
       "2013    2555\n",
       "2015    2630\n",
       "2016    2626\n",
       "2017    2635\n",
       "2018     608\n",
       "Name: Date, dtype: int64"
      ]
     },
     "execution_count": 15,
     "metadata": {},
     "output_type": "execute_result"
    }
   ],
   "source": [
    "date.dt.year.value_counts().sort_index()"
   ]
  },
  {
   "cell_type": "code",
   "execution_count": 16,
   "id": "6c3eac4e",
   "metadata": {},
   "outputs": [
    {
     "data": {
      "text/plain": [
       "International         0.241389\n",
       "ATP250                0.213608\n",
       "Grand Slam            0.184643\n",
       "Masters               0.103248\n",
       "Masters 1000          0.101279\n",
       "ATP500                0.076787\n",
       "International Gold    0.073678\n",
       "Masters Cup           0.005368\n",
       "Name: Series, dtype: float64"
      ]
     },
     "metadata": {},
     "output_type": "display_data"
    },
    {
     "data": {
      "text/plain": [
       "array(['International', 'Grand Slam', 'International Gold', 'Masters',\n",
       "       'Masters Cup', 'ATP250', 'ATP500', 'Masters 1000'], dtype=object)"
      ]
     },
     "metadata": {},
     "output_type": "display_data"
    },
    {
     "name": "stdout",
     "output_type": "stream",
     "text": [
      "8\n",
      "0\n"
     ]
    }
   ],
   "source": [
    "# Analyse variable Series\n",
    "display(df['Series'].value_counts(normalize=True))\n",
    "series_unique = df['Series'].unique()\n",
    "display(series_unique)\n",
    "print(len(series_unique))\n",
    "print(df['Series'].isna().sum())"
   ]
  },
  {
   "cell_type": "code",
   "execution_count": 17,
   "id": "6cc25423",
   "metadata": {},
   "outputs": [
    {
     "data": {
      "text/plain": [
       "Outdoor    0.817124\n",
       "Indoor     0.182876\n",
       "Name: Court, dtype: float64"
      ]
     },
     "metadata": {},
     "output_type": "display_data"
    },
    {
     "data": {
      "text/plain": [
       "array(['Outdoor', 'Indoor'], dtype=object)"
      ]
     },
     "metadata": {},
     "output_type": "display_data"
    },
    {
     "name": "stdout",
     "output_type": "stream",
     "text": [
      "2\n",
      "0\n"
     ]
    }
   ],
   "source": [
    "# Analyse variable Court\n",
    "display(df['Court'].value_counts(normalize=True))\n",
    "court_unique = df['Court'].unique()\n",
    "display(court_unique)\n",
    "print(len(court_unique))\n",
    "print(df['Court'].isna().sum())"
   ]
  },
  {
   "cell_type": "code",
   "execution_count": 18,
   "id": "aa6d06db",
   "metadata": {},
   "outputs": [
    {
     "data": {
      "text/plain": [
       "Hard      0.532321\n",
       "Clay      0.323656\n",
       "Grass     0.109958\n",
       "Carpet    0.034065\n",
       "Name: Surface, dtype: float64"
      ]
     },
     "metadata": {},
     "output_type": "display_data"
    },
    {
     "data": {
      "text/plain": [
       "array(['Hard', 'Clay', 'Grass', 'Carpet'], dtype=object)"
      ]
     },
     "metadata": {},
     "output_type": "display_data"
    },
    {
     "name": "stdout",
     "output_type": "stream",
     "text": [
      "4\n",
      "0\n"
     ]
    }
   ],
   "source": [
    "# Analyse variable Surface\n",
    "display(df['Surface'].value_counts(normalize=True))\n",
    "surface_unique = df['Surface'].unique()\n",
    "display(surface_unique)\n",
    "print(len(surface_unique))\n",
    "print(df['Surface'].isna().sum())"
   ]
  },
  {
   "cell_type": "code",
   "execution_count": 19,
   "id": "d3580428",
   "metadata": {},
   "outputs": [
    {
     "data": {
      "text/plain": [
       "1st Round        0.463631\n",
       "2nd Round        0.275566\n",
       "Quarterfinals    0.094838\n",
       "3rd Round        0.069965\n",
       "Semifinals       0.048135\n",
       "The Final        0.024067\n",
       "4th Round        0.016820\n",
       "Round Robin      0.006979\n",
       "Name: Round, dtype: float64"
      ]
     },
     "metadata": {},
     "output_type": "display_data"
    },
    {
     "data": {
      "text/plain": [
       "array(['1st Round', 'Semifinals', 'Quarterfinals', '2nd Round',\n",
       "       'The Final', '3rd Round', '4th Round', 'Round Robin'], dtype=object)"
      ]
     },
     "metadata": {},
     "output_type": "display_data"
    },
    {
     "name": "stdout",
     "output_type": "stream",
     "text": [
      "8\n",
      "0\n"
     ]
    }
   ],
   "source": [
    "# Analyse variable Round\n",
    "display(df['Round'].value_counts(normalize=True))\n",
    "round_unique = df['Round'].unique()\n",
    "display(round_unique)\n",
    "print(len(round_unique))\n",
    "print(df['Round'].isna().sum())"
   ]
  },
  {
   "cell_type": "code",
   "execution_count": 20,
   "id": "5d771cb0",
   "metadata": {},
   "outputs": [
    {
     "data": {
      "text/plain": [
       "3    0.813702\n",
       "5    0.186298\n",
       "Name: Best of, dtype: float64"
      ]
     },
     "metadata": {},
     "output_type": "display_data"
    },
    {
     "data": {
      "text/plain": [
       "array([3, 5], dtype=int64)"
      ]
     },
     "metadata": {},
     "output_type": "display_data"
    },
    {
     "name": "stdout",
     "output_type": "stream",
     "text": [
      "2\n",
      "0\n"
     ]
    }
   ],
   "source": [
    "# Analyse variable Best of\n",
    "display(df['Best of'].value_counts(normalize=True))\n",
    "bestof_unique = df['Best of'].unique()\n",
    "display(bestof_unique)\n",
    "print(len(bestof_unique))\n",
    "print(df['Best of'].isna().sum())"
   ]
  },
  {
   "cell_type": "code",
   "execution_count": 21,
   "id": "564e5c26",
   "metadata": {},
   "outputs": [
    {
     "data": {
      "text/plain": [
       "Federer R.        0.021696\n",
       "Nadal R.          0.017961\n",
       "Djokovic N.       0.015366\n",
       "Ferrer D.         0.014136\n",
       "Murray A.         0.012526\n",
       "                    ...   \n",
       "Cruciat A.        0.000022\n",
       "De Heart R.       0.000022\n",
       "Jun W.S.          0.000022\n",
       "Qureshi A.U.H.    0.000022\n",
       "Clezar G.         0.000022\n",
       "Name: Winner, Length: 899, dtype: float64"
      ]
     },
     "metadata": {},
     "output_type": "display_data"
    },
    {
     "data": {
      "text/plain": [
       "array(['Dosedel S.', 'Kiefer N.', 'Gaudio G.', 'El Aynaoui Y.',\n",
       "       'Cherkasov A.', 'Caratti C.', 'Berasategui A.', 'Bastl G.',\n",
       "       'Hantschk M.', 'Golmard J.', 'Pioline C.', 'Damm M.',\n",
       "       'Sanguinetti D.', 'Manta L.', 'Ketola T.', 'Marin J.A.',\n",
       "       'Mirnyi M.', 'Santoro F.', 'Schalken S.', 'Schuettler R.',\n",
       "       'Tillstrom M.', 'Delgado J.', 'van Lottum J.', 'Vacek D.',\n",
       "       'Squillari F.', 'Vanek J.', 'Hewitt L.', 'Henman T.',\n",
       "       'Grosjean S.', 'Escude N.', 'Enqvist T.', 'Vinck C.',\n",
       "       'Stoltenberg J.', 'Sekulov J.', 'Petrovic D.', 'Martin A.',\n",
       "       'Norman M.', 'Lisnard J.', 'Vinciguerra A.', 'Gambill J.M.',\n",
       "       'Fromberg R.', 'Federer R.', 'Tabara M.', 'Stanoytchev O.',\n",
       "       'Jonsson F.', 'Paes L.', 'Behrend T.', 'Agenor R.', 'Martin T.',\n",
       "       'Ljubicic I.', 'Lapentti N.', 'Kucera K.', 'Koubek S.',\n",
       "       'Hrbaty D.', 'Corretja A.', 'Clement A.', 'Ilie A.', 'Voinea A.',\n",
       "       'Clavet F.', 'Arazi H.', 'Chang M.', 'Ferrero J.C.',\n",
       "       'Gustafsson M.', 'Haas T.', 'Johansson T.', 'Novak J.',\n",
       "       'Rosset M.', 'Balcells J.', 'Sell M.', 'Rochus C.', 'Sampras P.',\n",
       "       'Vicente F.', 'Kafelnikov Y.', 'Philippoussis M.', 'Ferreira W.',\n",
       "       'Black W.', 'Bjorkman J.', 'Woodruff C.', 'Zabaleta M.',\n",
       "       'Alami K.', 'Agassi A.', 'Ivanisevic G.', 'Hill M.', 'Krajicek R.',\n",
       "       'Dupuis A.', 'Kroslak J.', 'Llodra M.', 'Woodforde M.',\n",
       "       'Woodbridge T.', 'Ullyett K.', 'Tieleman L.', 'Stafford G.',\n",
       "       'Srichaphan P.', 'Sluiter R.', 'Pozzi G.', 'Pretzsch A.',\n",
       "       'Portas A.', 'Goldstein P.', 'Gimelstob J.', 'Courier J.',\n",
       "       'Guardiola T.', 'Larsson M.', 'Liukko V.', 'Mamiit C.',\n",
       "       'Malisse X.', 'Zib T.', 'Sargsian S.', 'Gumy H.', 'Costa A.',\n",
       "       'Pavel A.', 'Mantilla F.', 'Blanco G.', 'Siemerink J.', 'Roux L.',\n",
       "       'Diaz J.', 'Dewulf F.', 'Black B.', 'Sa A.', 'Rusedski G.',\n",
       "       'Wessels P.', 'Salzenstein J.', 'Reneberg R.', 'Massu N.',\n",
       "       'MacPhie B.', 'Levy H.', 'Rodriguez M.', 'Popp A.', 'Puerta M.',\n",
       "       'Meligeni F.', 'Kuerten G.', 'Chela J.I.', 'Hernandez A.',\n",
       "       'Canas G.', 'Saulnier C.', 'Tarango J.', 'Garcia A.', 'Calleri A.',\n",
       "       'Alvarez E.', 'Calatrava A.', 'Rafter P.', 'Hood M.',\n",
       "       'Ulihrach B.', 'Safin M.', 'Heuberger I.', 'Hipfl M.', 'Bryan M.',\n",
       "       'Rios M.', 'Moya C.', 'di Pasquale A.', 'Etlis G.', 'Prieto S.',\n",
       "       'Kratochvil M.', 'Fish M.', 'Medvedev A.', 'Arthurs W.',\n",
       "       'Roddick A.', 'Bruguera S.', 'Willems R.', 'Huet S.', 'Alonso J.',\n",
       "       'Wiltschnig H.', 'Lopez-Moron A.', 'Coutelot N.', 'Ruud C.',\n",
       "       'Boutter J.', 'Navarro S.', 'Gonzalez F.', 'Delgado R.',\n",
       "       'Russell M.', 'Browne F.', 'Sabau R.', 'Coria G.', 'Kohlmann M.',\n",
       "       'Gaudenzi A.', 'Savolt A.', 'Eschauer W.', 'Charpentier M.',\n",
       "       'Bryan B.', 'Wheaton D.', 'Parmar A.', 'Nestor D.', 'Prinosil D.',\n",
       "       'Burrieza O.', 'Knippschild J.', 'Youzhny M.', 'Braasch K.',\n",
       "       'Cowan B.', 'Rochus O.', 'Godwin N.', 'Voltchkov V.', 'Bower J.',\n",
       "       'Lareau S.', 'Spadea V.', 'Lee M.', \"O'Brien A.\", 'Draper S.',\n",
       "       'Martelli M.', 'Carretero R.', 'Elsner D.', 'Puentes G.',\n",
       "       'Sanchez D.', 'Schranz W.', 'Davydenko N.', 'van Scheppingen D.',\n",
       "       'Kempes E.', 'Roitman S.', 'Goellner M.K.', 'Nargiso D.',\n",
       "       'Stoliarov A.', 'Furlan R.', 'Motomura G.', 'Luzzi F.',\n",
       "       'Mathieu P.H.', 'Larose S.', 'Dent T.', 'Kim K.', 'Capalik K.',\n",
       "       'Taino E.', 'Lee H.T.', 'Kralert P.', 'Erlich J.', 'Pescariu D.',\n",
       "       'Tarallo S.', 'Friedl L.', 'Flygt K.', 'Suzuki T.', 'Yoon Y.',\n",
       "       'Viloca J.A.', 'Burgsmuller L.', 'Thomann N.', 'Palmer J.',\n",
       "       'Bachelot J.F', 'Ortegren J.', 'Froberg J.', 'Childs L.',\n",
       "       'Knowle J.', 'Montanes A.', 'Ogorodov O.', 'Stepanek R.',\n",
       "       'Carlsen K.', 'Labadze I.', 'Karlovic I.', 'Okun N.', 'Galvani S.',\n",
       "       'Elseneer G.', 'Nalbandian D.', 'Nielsen M.', 'Pless K.', 'Kim A.',\n",
       "       'Blake J.', 'Acasuso J.', 'Simoni A.', 'Robredo T.', 'Saretta F.',\n",
       "       'Silva J.', 'Gicquel M.', 'Carraz G.', 'Lopez F.', 'Morrison J.',\n",
       "       'Nieminen J.', 'Horna L.', 'Vacek J.', 'El Aarej M.', 'Gasquet R.',\n",
       "       'Lopez M.', 'Krajan Z.', 'Perez D.', 'Gross O.', 'Nadal-Parera R.',\n",
       "       'Galimberti G.', 'Phau B.', 'Melzer J.', 'Hadad A.',\n",
       "       'de Chaunac S.', 'Brasington J.', 'Ginepri R.', 'Allegro Y.',\n",
       "       'Waske A.', 'Beck K.', 'Ancic M.', 'Fukarek O.', 'Blake T.',\n",
       "       'Vahaly B.', 'Fraile G.', 'Hanescu V.', 'Ferrer D.', 'Radic M.',\n",
       "       'Settergren J.', 'Verkerk M.', 'Verdasco F.', 'Schiessling T.',\n",
       "       'Bogomolov Jr.A.', 'Dancevic F.', 'Soderling R.', 'Norman D.',\n",
       "       'Kutsenko V.', 'Washington M.', 'Giner J.', 'Johansson J.',\n",
       "       'Lisnard J.R.', 'Hantschek M.', 'Vliegen K.', 'Van Lottum J.',\n",
       "       'Luczak P.', 'Sirianni J.', 'Larkham T.', 'Crabb J.', 'Varlet J.',\n",
       "       'Daniel M.', 'Gamonal H.', 'Cadart R.', 'Gambill J. M.',\n",
       "       'Mutis O.', 'Fleishman Z.', 'Massa E.', 'Abel M.', 'Melo D.',\n",
       "       'Marin J.A', 'Miranda I.', 'Lapentti G.', 'Di Pasquale A.',\n",
       "       'Kendrick R.', 'Prodon E.', 'Mota B.', 'Volandri F.', 'Nadal R.',\n",
       "       'Benneteau J.', 'Mello R.', 'Srichaphan N.', 'Cermak F.',\n",
       "       'Schuettler P.', 'Kohlschreiber P.', 'de Voest R.', 'Reid T.',\n",
       "       'Bogdanovic A.', 'Zimonjic N.', 'Baccanello P.', 'Niemeyer F.',\n",
       "       'Moodie W.', 'Rehnquist B.', 'Vemic D.', 'Guccione C.',\n",
       "       'Hernandez O.', 'Wawrinka S.', 'Ramirez Hidalgo R.', 'Mergea F.',\n",
       "       'Ram R.', 'Delic A.', 'Bogomolov Jr. A.', 'Amritraj P.',\n",
       "       'Tipsarevic J.', 'Peya A.', 'Tuksar S.', 'Joyce M.', 'Youzhny A.',\n",
       "       'Berdych T.', 'Tursunov D.', 'Andreev I.', 'Moldovan I.',\n",
       "       'Ascione T.', 'Veronelli D.', 'Tenconi T.', 'Almagro N.',\n",
       "       'Bogomolov A.', 'Iwabuchi S.', 'Iwami T.', 'Mahut N.',\n",
       "       'Ascione A.', 'Petzschner P.', 'Ferrero J.', 'Kucera V.',\n",
       "       'Hemmes F.', 'Muller G.', 'Patience O.', 'Weiner G.', 'Mayer F.',\n",
       "       'Ramirez-Hidalgo R.', 'Hippensteel K.', 'Monaco J.', 'Cakl T.',\n",
       "       'Baker B.', 'Hernych J.', 'Robert S.', 'Rocha D.', 'Devilder N.',\n",
       "       'Chela J.', 'Pashanski B.', 'Armando H.', 'Koellerer D.',\n",
       "       'Ventura S.', 'Vagnozzi S.', 'Guzman J.P.', 'Garcia-Lopez G.',\n",
       "       'Haehnel J.', 'Jeanpierre J.', 'Falla A.', 'Starace P.', 'Lu Y.H.',\n",
       "       'Whitehouse W.', 'Marray J.', 'Chiudinelli M.', 'Flanagan I.',\n",
       "       'Ancic I.', 'Seppi A.', 'Bracciali D.', 'Hilton M.',\n",
       "       'Pescosolido S.', 'Verdasco M.', 'Vassallo-Arguello M.', 'Beck A.',\n",
       "       'Andersen J.F.', 'Schukin Y.', 'Minar I.', 'Serra F.', 'Kubot L.',\n",
       "       'Baghdatis M.', 'Djokovic N.', 'Boeker M.', 'Tsonga J.W.', 'Lu H.',\n",
       "       'van Gemerden M.', 'Zhu B.Q.', 'Roger-Vasselin E.', 'Wassen R.',\n",
       "       'Wang Y.T.', 'Terachi T.', 'Kunitsyn I.', 'Monfils G.',\n",
       "       'Ryderstedt M.', 'Vico U.', 'Healey N.', 'Reynolds B.', 'Widom T.',\n",
       "       'Stakhovsky S.', 'Sun P.', 'Gabashvili T.', 'Simon G.',\n",
       "       'Navarro-Pastor I.', 'Fogues F.', 'Mertinak M.', 'Vik R.',\n",
       "       'Dlouhy L.', 'Murray A.', 'Rettenmaier T.', 'di Mauro A.',\n",
       "       'Sherwood D.', 'Udomchoke D.', 'Bozoljac I.', 'Marach O.',\n",
       "       'Chadaj A.', 'Jenkins S.', 'Ram A.', 'Capdeville P.', 'Lammer M.',\n",
       "       'Wang Y. Jr', 'Matsui T.', 'Gremelmayr D.', 'Aldi F.',\n",
       "       'Karanusic R.', 'Eitzinger R.', 'Berrer M.', 'Bopanna R.',\n",
       "       'Faurel J.C.', 'Del Potro J.M.', 'Marcaccio G.', 'Cuadrado C.',\n",
       "       'Gimeno-Traver D.', 'Cilic M.', 'Aguilar J.', 'Greul S.',\n",
       "       'Wilson B.', 'Korolev E.', 'Warburg S.', 'Meffert D.', 'Ghem A.',\n",
       "       'Klec I.', 'Al Ghareeb M.', 'Querry S.', 'Berlocq C.',\n",
       "       'Balleret B.', 'Saoudi S.', 'Tahiri M.', 'Gil F.', 'Chardy J.',\n",
       "       'Montcourt M.', 'Kindlmann D.', 'Zverev M.', 'Bloomfield R.',\n",
       "       'Becker B.', 'Alves T.', 'Querrey S.', 'Junqueira D.',\n",
       "       'Hartfield D.', 'Fognini F.', 'De Bakker T.', 'Haider-Mauer A.',\n",
       "       'Ianni S.', 'Oudsema S.', 'Przysiezny M.', 'Sweeting R.',\n",
       "       'King P.', 'Stoppini A.', 'Hajek J.', 'Crivoi V.', 'Gregorc L.',\n",
       "       'Auckland J.', 'Ledovskikh M.', ' Hajek J.', 'Naso G.',\n",
       "       'Troicki V.', 'Clemens T.', 'Kravchuk K.', 'Gulbis E.',\n",
       "       'Robredo R.', 'Jones A.', 'Rastogi K.', 'Sela D.', 'Kuznetsov A.',\n",
       "       'Smeets R.', 'Levine J.', 'Haase R.', 'Bolelli S.', 'Gensse A.',\n",
       "       'Andujar P.', 'Granollers M.', 'Stepanek M.', 'Lorenzi P.',\n",
       "       'Brands D.', 'Summerer T.', 'Bachinger M.', 'Brzezicki J.P.',\n",
       "       'Recouderc L.', 'Economidis K.', 'Cipolla F.', 'Baker J.',\n",
       "       'Qureshi A.', 'Stadler S.', 'Guccione A.', 'Darcis S.', 'Riba P.',\n",
       "       'Nishikori K.', 'Klizan M.', 'Odesnik W.', 'Isner J.', 'Young D.',\n",
       "       'Lindahl N.', 'Prpic F.', 'Matsukevitch D.', 'Golubev A.',\n",
       "       'Zovko L.', 'Kudryavtsev A.', 'Istomin D.', 'Cuevas P.',\n",
       "       'Marrero D.', 'Decoud S.', 'Schwank E.', 'Bellucci T.',\n",
       "       'Anderson K.', 'Giraldo S.', 'Harrison R.', 'Machado R.',\n",
       "       'Sousa J.', 'Del Potro J.', 'Trujillo G.', 'Kukushkin M.',\n",
       "       'Ouahab L.', 'Kavcic B.', 'Lopez-Jaen M.A.', 'Gonzalez M.',\n",
       "       \"Dell'Acqua M.\", 'Groth S.', 'Eaton C.', 'Evans B.', 'Rosol L.',\n",
       "       'Qureshi A.U.H.', 'Bohli S.', 'Eleskovic E.', 'Dabul B.',\n",
       "       'Mayer L.', 'Huta Galung J.', 'Jun W.S.', 'Devvarman S.',\n",
       "       'De Heart R.', 'Cruciat A.', 'Scherrer J.C.', 'Soeda G.',\n",
       "       'Slanar M.', 'Jouan R.', 'De Voest R.', 'Mannarino A.',\n",
       "       'Ouanna J.', 'Elgin M.', 'Lejnieks K.', 'Tomic B.', 'Klein B.',\n",
       "       'De Chaunac S.', 'Veic A.', 'Klaasen R.', 'Dodig I.',\n",
       "       'Van der Merwe I.', 'Dimitrov G.', 'Ferreiro F.', 'Rufin G.',\n",
       "       'Lacko L.', 'Goodall J.', 'Ward J.', 'Sidorenko A.', 'Ball C.',\n",
       "       'Polansky P.', 'Ilhan M.', 'Witten J.', 'Zeballos H.', 'Copil M.',\n",
       "       'Zeng S.X.', 'Marchenko I.', 'Dolgopolov O.', 'Guez D.',\n",
       "       'Garcia-Lopez G. ', 'Davydenko N. ', 'Stepanek R. ',\n",
       "       'Montanes A. ', 'Serra F. ', 'Federer R. ', 'Seppi A. ',\n",
       "       'Berdych T. ', 'Mayer L. ', 'Cuevas P. ', 'Murray A. ',\n",
       "       'Robredo T. ', 'Monfils G. ', 'Simon G. ', 'Hernych J. ',\n",
       "       'Lammer M. ', 'Nieminen J. ', 'Djokovic N. ', 'Troicki V. ',\n",
       "       'Korolev E. ', 'Chiudinelli M. ', 'Ferrer D. ', 'Monaco J. ',\n",
       "       'Youzhny M. ', 'Lopez F. ', 'Verdasco F. ', 'Tipsarevic J. ',\n",
       "       'Wawrinka S. ', 'Cilic M. ', 'Gasquet R. ', 'Chardy J. ',\n",
       "       'Isner J. ', 'Ebden M.', 'Statham J.', 'Sorensen L.',\n",
       "       'Sergeyev I.', 'Souza J.', 'Jelenic P.', 'Van Der Merwe I.',\n",
       "       'Brown D.', 'Sijsling I.', 'Berankis R.', 'Mertens Y.',\n",
       "       'Matosevic M.', 'El Amrani R.', 'Ramos-Vinolas A.', 'Tavares L.',\n",
       "       'Krajinovic F.', 'Di Mauro A.', 'Munoz-De La Nava D.', 'Kamke T.',\n",
       "       'Reister J.', 'Zemlja G.', 'Kontinen H.', 'Fischer M.', 'Bubka S.',\n",
       "       'Kudla D.', 'Skugor F.', 'Sadecky A.', 'Haider-Maurer A.',\n",
       "       'Smyczek T.', 'Paire B.', 'Ungur A.', 'Bhambri Y.', 'Raonic M.',\n",
       "       'Bemelmans R.', 'Bai Y.', 'Donskoy E.', 'Goffin D.', 'Sugita Y.',\n",
       "       'Zampieri C.', 'Wolmarans F.', 'Gonzalez S.', 'Ramos A.',\n",
       "       'Kuznetsov An.', 'Teixeira M.', 'Schoorel T.', 'Marti J.',\n",
       "       'Wang J.', 'Yani M.', 'Del Bonis F.', 'Cervenak P.', 'Stebe C.M.',\n",
       "       'Dasnieres de Veigy J.', 'Olaso G.', 'Knittel B.', 'Ito T.',\n",
       "       'Kosakowski D.', 'Pospisil V.', 'Duclos P.L.', 'Jaziri M.',\n",
       "       'Sock J.', 'Dutra Da Silva R.', 'Rodrigues M.', 'Renavand N.',\n",
       "       'Giannessi A.', 'Zhang Z.', 'Rieschick S.', 'Lajovic D.',\n",
       "       'Bedene A.', 'Thiem D.', 'Duckworth J.', 'Dutra Silva R.',\n",
       "       'Kutrovsky D.', 'Bagnis F.', 'Olivetti A.', 'Bautista R.',\n",
       "       'Gutierrez-Ferrol S.', 'Delbonis F.', 'Zopp J.', 'Balazs A.',\n",
       "       'Farah R.', 'Cervantes I.', 'Pavic M.', 'Janowicz J.',\n",
       "       'De Schepper K.', 'Trungelliti M.', 'Johnson S.', 'Oswald P.',\n",
       "       'Mcclune M.', 'Novikov D.', 'Klahn B.', 'Millot V.', 'Reix C.',\n",
       "       'Moriya H.', 'Rosenholm P.', 'Millman J.', 'Safwat M.',\n",
       "       'Stebe C-M.', 'Jones G.', 'Weintraub A.', 'Garin C.',\n",
       "       'Brugues-Davi A.', 'Alund M.', 'Viola M.', 'Pella G.',\n",
       "       'Williams R.', 'Schwartzman D.', 'Carreno-Busta P.',\n",
       "       'Laaksonen H.', 'Elias G.', 'Kyrgios N.', 'Pouille L.', 'Evans D.',\n",
       "       'Basic M.', 'Edmund K.', 'Struff J.L.', 'Langer N.',\n",
       "       'Kuznetsov Al.', 'Estrella Burgos V.', 'Gomez E.', 'Harrison C.',\n",
       "       'Peliwo F.', 'Gojowczyk P.', 'Khachanov K.', 'Fucsovics M.',\n",
       "       'Mecir M.', 'Pospisil J.', 'Herbert P.H.', 'Kokkinakis T.',\n",
       "       'Coric B.', 'Vesely J.', 'Basilashvili N.', 'Ymer E.', 'Venus M.',\n",
       "       'Gonzalez A.', 'Melzer G.', 'Olivo R.', 'Jarry N.', 'Dzumhur D.',\n",
       "       'Donaldson J.', 'Krajicek A.', 'Vanni L.', 'Rola B.', 'Rublev A.',\n",
       "       'Nishioka Y.', 'Arguello F.', 'Andreozzi G.', 'Chung H.',\n",
       "       'Zverev A.', 'De Greef A.', 'Carballes Baena R.', 'Mektic N.',\n",
       "       'Donati M.', 'Mina G.', 'Arnaboldi A.', 'Fritz T.', 'Broady L.',\n",
       "       'Smith J.P.', 'Lindell C.', 'Sarkissian A.', 'Demoliner M.',\n",
       "       'Trinker B.', 'Menendez-Maceiras A.', 'Galan D.E.', 'Gomez A.',\n",
       "       'Munar J.', 'Novak D.', 'Tiafoe F.', 'Herbert P.H', 'Zhang Zh.',\n",
       "       'Albot R.', 'Zhang Ze', 'Karatsev A.', 'Daniel T.', 'Pavic A.',\n",
       "       'Ramanathan R.', 'Fabbiano T.', 'Thompson J.', 'Barton M.',\n",
       "       'Rubin N.', 'Halys Q.', 'Jasika O.', 'Monteiro T.',\n",
       "       'Fratangelo B.', 'Kovalik J.', 'Paul T.', 'Carreno Busta P.',\n",
       "       'Bautista Agut R.', 'Cecchinato M.', 'Bourgue M.', 'Pavlasek A.',\n",
       "       'Kozlov S.', 'Medvedev D.', 'Escobedo E.', 'Willis M.',\n",
       "       'Kicker N.', 'Wessels L.', 'Hemery C.', 'Soderlund C.', 'Cacic N.',\n",
       "       'Mertl J.', 'Munoz De La Nava D.', 'Lamasine T.', 'Diez S.',\n",
       "       'Shapovalov D.', 'Opelka R.', 'Satral J.', 'Whittington A.',\n",
       "       'Wu D.', 'Ymer M.', 'Bublik A.', 'De Minaur A.', 'Gaio F.',\n",
       "       'King D.', 'Gombos N.', 'Djere L.', 'Ahouda A.', 'Quinzi G.',\n",
       "       'Silva F.F.', 'Hanfmann Y.', 'Sousa P.', 'Domingues J.',\n",
       "       'Bonzi B.', 'Napolitano S.', 'Del Potro J. M.', 'Norrie C.',\n",
       "       'Altmaier D.', 'Ofner S.', 'Santillan A.', 'Sakharov G.',\n",
       "       'Eubanks C.', 'Zekic M.', 'King E.', 'Sandgren T.', 'Krueger M.',\n",
       "       'Travaglia S.', 'Maden Y.', 'Uchiyama Y.', 'Tsitsipas S.',\n",
       "       'Ojeda Lara R.', 'Ivashka I.', 'Berrettini M.', 'Mmoh M.',\n",
       "       'Mcdonald M.', 'Sonego L.', 'Marterer M.', 'Moutet C.',\n",
       "       'Taberner C.', 'Quiroz R.', 'Griekspoor T.', 'Clezar G.'],\n",
       "      dtype=object)"
      ]
     },
     "metadata": {},
     "output_type": "display_data"
    },
    {
     "name": "stdout",
     "output_type": "stream",
     "text": [
      "899\n",
      "0\n"
     ]
    }
   ],
   "source": [
    "# Analyse variable Winner\n",
    "display(df['Winner'].value_counts(normalize=True))\n",
    "winner_unique = df['Winner'].unique()\n",
    "display(winner_unique)\n",
    "print(len(winner_unique))\n",
    "print(df['Winner'].isna().sum())"
   ]
  },
  {
   "cell_type": "code",
   "execution_count": 22,
   "id": "84d89c4c",
   "metadata": {},
   "outputs": [
    {
     "data": {
      "text/plain": [
       "Lopez F.           0.008254\n",
       "Youzhny M.         0.007717\n",
       "Verdasco F.        0.007583\n",
       "Ferrer D.          0.007269\n",
       "Nieminen J.        0.006889\n",
       "                     ...   \n",
       "Lejnieks K.        0.000022\n",
       "Ebelthite C.       0.000022\n",
       "Anderson A.        0.000022\n",
       "Hutchins R.        0.000022\n",
       "Seyboth Wild T.    0.000022\n",
       "Name: Loser, Length: 1400, dtype: float64"
      ]
     },
     "metadata": {},
     "output_type": "display_data"
    },
    {
     "data": {
      "text/plain": [
       "array(['Ljubicic I.', 'Tarango J.', 'Luxa P.', ..., 'Auger-Aliassime F.',\n",
       "       'Gaston H.', 'Seyboth Wild T.'], dtype=object)"
      ]
     },
     "metadata": {},
     "output_type": "display_data"
    },
    {
     "name": "stdout",
     "output_type": "stream",
     "text": [
      "1400\n",
      "0\n"
     ]
    }
   ],
   "source": [
    "# Analyse variable Loser\n",
    "display(df['Loser'].value_counts(normalize=True))\n",
    "loser_unique = df['Loser'].unique()\n",
    "display(loser_unique)\n",
    "print(len(loser_unique))\n",
    "print(df['Loser'].isna().sum())"
   ]
  },
  {
   "cell_type": "code",
   "execution_count": 23,
   "id": "d2dbe5e9",
   "metadata": {},
   "outputs": [
    {
     "data": {
      "text/plain": [
       "1       0.022524\n",
       "2       0.020667\n",
       "3       0.018654\n",
       "5       0.017872\n",
       "4       0.017536\n",
       "          ...   \n",
       "503     0.000022\n",
       "428     0.000022\n",
       "481     0.000022\n",
       "1554    0.000022\n",
       "1821    0.000022\n",
       "Name: WRank, Length: 587, dtype: float64"
      ]
     },
     "metadata": {},
     "output_type": "display_data"
    },
    {
     "data": {
      "text/plain": [
       "array([  63,    6,   73,   33,  206,  211,   60,   85,  128,   38,   14,\n",
       "        104,  121,  117,  163,   71,   74,   32,   44,   47,   83,  162,\n",
       "         69,   39,   49,  160,   24,   11,   26,   40,    5,  227,   84,\n",
       "        142,  208,   55,   15,  134,   99,   58,   81,   65,  125,  111,\n",
       "        127,  145,  116,   94,    8,   79,    7,   17,   23,   21,   28,\n",
       "         41,  102,   42,   66,  115,   50,   45,   57,   72,   43,   48,\n",
       "         46,   37,  167,   67,    4,   95,  120,    3,    2,   19,   62,\n",
       "         13,   80,   53,   34,   29,   64,   54,  151,   76,   56,   35,\n",
       "          1,   30,  123,   70,  238,   12,   10,   98,  106,  263,  126,\n",
       "        204,  153,  182,   89,  472,  166,  133,    9,  137,   82,   91,\n",
       "         77,   20,  147,  188,   97,  143,   18,   61,   52,   25,   27,\n",
       "         78,  203,  114,   87,   51,  280,  118,  110,  112,  105,   96,\n",
       "        113,  596,  131,  135,  419,  175,  109,   16,  103,  129,  243,\n",
       "        107,  422,  138,   88,  178,  100,  220,  101,  197,  226,  140,\n",
       "        429,   68,  184,   22,  108,   31,   86,  136, 2000,  124,  152,\n",
       "        989,   90,  326,  224,  168,   92,  196,   36,   75,  119,  256,\n",
       "         93,   59,  249,  288,  148,  352,  216,  165,  205,  315,  179,\n",
       "        213,  149,  209,  295,  230,  122,  195,  169,  202,  436,  157,\n",
       "        130,  174,  158,  426,  180,  237,  171,  509,  259,  192,  154,\n",
       "        380,  556,  150,  144,  181,  276,  318,  308,  164,  294,  212,\n",
       "        254,  330,  340,  155,  459,  176,  265,  368,  156,  448,  271,\n",
       "        207,  375,  191,  194,  172,  357,  307,  159,  591,  223,  590,\n",
       "        408,  417,  304,  185,  761,  264,  395,  621,  424,  300,  210,\n",
       "        542,  221,  193,  458,  234,  141,  215,  255,  146,  286,  312,\n",
       "        369,  190,  139,  274,  222,  494,  589,  198,  762,  170,  283,\n",
       "        277,  233,  173,  199,  177,  463,  362, 1093,  251,  132,  599,\n",
       "        381,  231,  389,  937,  161,  278,  201,  587,  331,  232,  456,\n",
       "        321,  258,  475,  214,  316,  252,  235,  253,  275,  217,  186,\n",
       "        335,  311,  229,  245,  354,  279,  361,  350,  610,  489,  303,\n",
       "        299,  319,  655,  348,  615,  528,  485,  582,  396,    0,  302,\n",
       "        334,  183,  351,  453,  885,  538,  314,  189,  200,  393,  291,\n",
       "        260,  557,  225,  333,  247,  329,  246,  447,  310,  248,  219,\n",
       "        377,  466,  753,  366,  882,  228,  592,  999,  349,  242,  574,\n",
       "        339,  407,  239,  866,  392,  250,  359,  415,  218,  479,  236,\n",
       "        356,  473,  285,  327,  272,  240,  353,  244, 1095,  646,  269,\n",
       "        187,  480,  284,  343,  365,  386,  262,  287,  710,  405,  261,\n",
       "        917,  413,  388,  414,  345,  423,  372,  454,  282,  401,  443,\n",
       "        344,  431,  267,  266,  486,  585,  397,  437,  539,  297,  394,\n",
       "        313,  488,  322,  347,  566,  289,  406,  522,  455,  438,  450,\n",
       "        341,  425,  545,  512, 1055,  374,  603,  559,  373,  403,  390,\n",
       "        364,  663,  387,  503,  306,  495,  428,  481,  398, 1554, 1078,\n",
       "        367,  690,  622,  292,  360,  363,  508, 1076,  661,  433, 1008,\n",
       "        524,  370, 1065,  467,  409,  257,  416,  290,  536,  667,  543,\n",
       "        385,  759, 1277,  371,  744,  305,  733,  342,  293,  434, 1121,\n",
       "        593,  420,  440,  771,  664,  865,  768,  505,  490,  662,  270,\n",
       "        533,  241,  966,  460,  487,  546, 1147,  446,  511,  332,  675,\n",
       "        544,  507,  694,  639,  572,  336,  552,  793,  483,  273,  514,\n",
       "        532,  432,  465,  484,  298,  516,  478,  491,  728,  482,  576,\n",
       "        323,  555, 1890,  752,  789,  640,  547,  435,  402,  346, 1098,\n",
       "        502,  549,  551,  920,  309,  324,  442,  510,  268,  355,  457,\n",
       "        808,  824,  635,  653,  861, 1184,  607,  698,  683,  581,  583,\n",
       "        449,  328, 1042,  338, 1045,  337,  553,  772,  378,  421,  837,\n",
       "        474,  301,  439,  641,  564,  550,  946,  826,  470,  993,  412,\n",
       "        461,  820,  399, 1821], dtype=int64)"
      ]
     },
     "metadata": {},
     "output_type": "display_data"
    },
    {
     "name": "stdout",
     "output_type": "stream",
     "text": [
      "587\n",
      "0\n"
     ]
    }
   ],
   "source": [
    "# Analyse variable WRank\n",
    "display(df['WRank'].value_counts(normalize=True))\n",
    "wrank_unique = df['WRank'].unique()\n",
    "display(wrank_unique)\n",
    "print(len(wrank_unique))\n",
    "print(df['WRank'].isna().sum())"
   ]
  },
  {
   "cell_type": "code",
   "execution_count": 24,
   "id": "4dd3ecdf",
   "metadata": {},
   "outputs": [
    {
     "data": {
      "text/plain": [
       "46     0.008790\n",
       "35     0.008634\n",
       "50     0.008567\n",
       "45     0.008522\n",
       "44     0.008500\n",
       "         ...   \n",
       "735    0.000022\n",
       "638    0.000022\n",
       "948    0.000022\n",
       "827    0.000022\n",
       "828    0.000022\n",
       "Name: LRank, Length: 920, dtype: float64"
      ]
     },
     "metadata": {},
     "output_type": "display_data"
    },
    {
     "data": {
      "text/plain": [
       "array([  77,   59,  174,   78,   35,  219, 2000,   36,   14,  104,  121,\n",
       "        163,  162,  117,   99,  145,  125,  160,  116,  127,   25,  101,\n",
       "        138,   86,   47,   33,    6,   74,   85,   44,   83,  206,   39,\n",
       "        111,   49,   71,  211,   73,   60,   76,   50,   62,   93,  285,\n",
       "         69,   94,  128,  238,  208,  134,   58,   63,   65,   88,   20,\n",
       "         79,  122,  142,  155,  351,  113,  218,   51,  105,  198,   87,\n",
       "        655,   56,   21,   81,  129,   26,  227,    2,  342,  100,  414,\n",
       "        115,  135,  103,   89,  200,  137,  120,  124, 1198,    5,   40,\n",
       "         15,   55,   84,   67,   11,   24,   31,   29,  193,   27,   32,\n",
       "         18,   17,    8,   23,   41,  102,    7,   28,   42,   72,   95,\n",
       "         70,   61,   80,   52,  246,  334,  149,   53,   68,   45,  167,\n",
       "         48,   38,   43,   57,   66,   34,   37,   46,   98,  123,  106,\n",
       "        472,   82,   91,  182,  126,    9,  166,   10,   12,  153,  133,\n",
       "         30,  204,  151,  263,    3,    4,   13,   64,   54,   19,   92,\n",
       "        217,  139,  171,  148,  257,  119,   22,  107,  112,  114,  109,\n",
       "        356,   75,  201,  189,   97,  118,  143,  241,  698,  397,   96,\n",
       "        587,  147,  203,  188,  584,  179,  110,  140,  141,  108,  173,\n",
       "        186,   90,  280,  176,  131,   16,  419,  596,  175,  377,  158,\n",
       "        243,  420,  178,  360,  220,  429,  146,  422,  136,  226,  130,\n",
       "        168,  234,  464,  197,  352,  236,    1,  349,  157,  184,  144,\n",
       "        228,  229,  152,  473,  989,  396,  432,  326,  196,  256,  224,\n",
       "        281,  421,  170, 1312,  374,  212,  707,  448,  132,  288,  249,\n",
       "        214,  239,  216,  205,  165,  315,  230,  437,  185,  482,  407,\n",
       "        213,  381,  720,  399,  295,  195,  209,  644,  283,  487,  436,\n",
       "        289,  400,  202,  169,  385,  498,  376,  154,  426,  264,  611,\n",
       "        519,  180,  192,  509,  259,  237, 1049,  297,  172,  183,  191,\n",
       "        353,  387,  159,  164,  150,  380,  556, 1014,  566,  430,  296,\n",
       "        348,  330,  318,  181,  276,  156,  294,  254,  411,  260,  442,\n",
       "        308,  275,  656,  340,  339,  324,  161,  459,  368,  331,  291,\n",
       "        194,  700,  470,  265,  210, 1164,  357,  277,  271,  643, 1311,\n",
       "       1028,  292,  375,  207,  346,  273,  320,  343,  615,  307,  338,\n",
       "        311,  312,  341,  591,  223,  590,  258,  300, 1245,  418,  417,\n",
       "        322,  199, 1351,  692,  304,  408,  446,  433, 1001,  222,  215,\n",
       "        693,  761,  221,  896,  409,  395,  621,  319,  244,  620,  544,\n",
       "        424,  393,  542,  250,  309,  775,  299,  274,  362,  458,  255,\n",
       "        844,  272,  248,  369,  190,  286,  416,  305,  636,  235, 1018,\n",
       "        279,  451,  494,  589,  298,  261,  439,  762,  948,  233,  463,\n",
       "        177,  603,  514,  378,  410,  402,  372,  608,  251, 1093,  268,\n",
       "        491,  355,  827,  677,  599,  642,  231,  332,  287,  240,  247,\n",
       "        278,  389, 1109,  500,  937,  284,  328,  560,  625,  651,  882,\n",
       "        358,  816,  496,  232,  456,  321, 1024,  475,  316,  562,  301,\n",
       "        253,  325,  452, 1071,  545,  361,  367,  266, 1084,  405,  714,\n",
       "        998,  479,  306,  983,  763,  302,  578,  525,  252,  540,  445,\n",
       "        225, 1129,  680,  313,  290,  337,  335,  708,  684, 1217,  561,\n",
       "        932,  748,  245,  658,  495,  354,  725,  681,  856, 1355,  187,\n",
       "        557,  303,  632,  344,  610,  350,  382,  327,  413,  489,  363,\n",
       "        388,  310,  317,  403,  886, 1358,  854,  588,  602, 1223,  528,\n",
       "        485,  582, 1089, 1288,  478,  511,  431,  394,  726,  623, 1360,\n",
       "        453,    0,  314,  885,  538,  802,  522,  558,  919,  366,  333,\n",
       "        682,  729,  401,  329,  549,  359, 1032,  440, 1061,  963,  447,\n",
       "       1154, 1011,  753,  466, 1086,  242,  997,  964,  391,  592,  441,\n",
       "        617,  673,  505,  999,  454,  663,  574,  270,  846,  492,  415,\n",
       "        866,  262,  392,  488,  529,  634,  364,  534,  370, 1445, 1249,\n",
       "        652,  269,  480, 1441,  641,  365, 1416,  493, 1095,  507,  772,\n",
       "        646,  336,  521,  633,  484,  383,  807, 1005, 1349,  532,  943,\n",
       "        531,  715,  386, 1275,  744,  868,  427, 1015,  785,  565,  928,\n",
       "        820,  404,  713,  554,  740,  512,  563,  691,  406,  553,  871,\n",
       "        710,  379,  839,  787,  917, 1473,  864,  345,  671, 1281, 1469,\n",
       "        978,  583,  423,  600,  282,  921,  836,  443,  667, 1422,  901,\n",
       "        390, 1511,  843,  694,  618,  526, 1497,  267,  293,  585,  486,\n",
       "       1291,  612,  539,  995,  572,  552, 1255,  347,  483,  438,  455,\n",
       "        450,  541,  398,  579,  638,  735,  425,  503, 1055,  570, 1543,\n",
       "        559,  373, 1380,  911,  996,  705,  577,  323,  481,  428,  711,\n",
       "       1554, 1078,  465,  622,  690,  371,  674, 1116,  730,  759, 1082,\n",
       "        508, 1076, 1533,  808,  804,  670, 1517, 1039,  851,  661, 1044,\n",
       "        460, 1008,  524,  970,  895,  520,  892,  779,  717, 1494,  793,\n",
       "       1065,  755,  925,  467,  435,  838,  660,  614,  515,  535,  794,\n",
       "        817, 1035,  907,  536,  543,  678,  547,  506,  944, 1214,  734,\n",
       "       1401,  739,  635,  613, 1277, 1145,  811,  412,  733, 1141,  604,\n",
       "        988,  586, 1004,  555,  474,  800,  471,  766,  564,  384,  434,\n",
       "        594, 1734, 1121,  593,  686,  771,  664,  764,  607,  865,  904,\n",
       "        728,  768, 1564,  769,  662,  490, 1094,  469,  533, 1147,  747,\n",
       "        966, 1421, 1120,  950, 1381, 1171,  679, 1370,  920, 1088,  546,\n",
       "       1156, 1216,  675,  517, 1461,  898,  639,  908, 1057,  530,  951,\n",
       "        461,  653,  994,  855,  706,  457,  676, 1333, 1267,  830,  974,\n",
       "        626, 1285,  719,  792, 1112,  629,  595,  516,  982, 1143,  727,\n",
       "       1050,  918,  576,  523, 1848, 1890, 1502,  869,  502, 1064,  752,\n",
       "        789,  878,  630,  809,  640,  930,  462,  510, 1098,  934, 1557,\n",
       "       1194, 1066, 1855,  551,  899,  476,  757,  923,  444, 1472,  798,\n",
       "        813,  790,  605, 1149,  941,  949,  616,  718, 1067,  738,  829,\n",
       "        824,  567,  527,  849,  861,  926, 1184,  683,  497, 1410,  581,\n",
       "       1512,  449,  696, 1042, 1045,  834, 1751,  669,  548,  874,  569,\n",
       "       1809,  837,  550, 1022,  946,  826,  993, 1062, 1085,  624,  645,\n",
       "       1690, 1753, 1529,  873, 1341, 1821,  828], dtype=int64)"
      ]
     },
     "metadata": {},
     "output_type": "display_data"
    },
    {
     "name": "stdout",
     "output_type": "stream",
     "text": [
      "920\n",
      "0\n"
     ]
    }
   ],
   "source": [
    "# Analyse variable LRank\n",
    "display(df['LRank'].value_counts(normalize=True))\n",
    "lrank_unique = df['LRank'].unique()\n",
    "display(lrank_unique)\n",
    "print(len(lrank_unique))\n",
    "print(df['LRank'].isna().sum())"
   ]
  },
  {
   "cell_type": "code",
   "execution_count": 25,
   "id": "877bc99b",
   "metadata": {},
   "outputs": [
    {
     "data": {
      "text/plain": [
       "2.0    0.791424\n",
       "3.0    0.178770\n",
       "1.0    0.021473\n",
       "0.0    0.008333\n",
       "Name: Wsets, dtype: float64"
      ]
     },
     "metadata": {},
     "output_type": "display_data"
    },
    {
     "data": {
      "text/plain": [
       "array([ 2.,  1.,  3.,  0., nan])"
      ]
     },
     "metadata": {},
     "output_type": "display_data"
    },
    {
     "name": "stdout",
     "output_type": "stream",
     "text": [
      "5\n",
      "187\n",
      "0.004182696609107989\n"
     ]
    }
   ],
   "source": [
    "# Analyse variable Wsets\n",
    "display(df['Wsets'].value_counts(normalize=True))\n",
    "wsets_unique = df['Wsets'].unique()\n",
    "display(wsets_unique)\n",
    "print(len(wsets_unique))\n",
    "print(df['Wsets'].isna().sum())\n",
    "\n",
    "# taux de nan\n",
    "print(df['Wsets'].isna().sum()/len(df['Wsets']))"
   ]
  },
  {
   "cell_type": "code",
   "execution_count": 26,
   "id": "9839c494",
   "metadata": {},
   "outputs": [
    {
     "data": {
      "text/html": [
       "<div>\n",
       "<style scoped>\n",
       "    .dataframe tbody tr th:only-of-type {\n",
       "        vertical-align: middle;\n",
       "    }\n",
       "\n",
       "    .dataframe tbody tr th {\n",
       "        vertical-align: top;\n",
       "    }\n",
       "\n",
       "    .dataframe thead th {\n",
       "        text-align: right;\n",
       "    }\n",
       "</style>\n",
       "<table border=\"1\" class=\"dataframe\">\n",
       "  <thead>\n",
       "    <tr style=\"text-align: right;\">\n",
       "      <th></th>\n",
       "      <th>ATP</th>\n",
       "      <th>Location</th>\n",
       "      <th>Tournament</th>\n",
       "      <th>Date</th>\n",
       "      <th>Series</th>\n",
       "      <th>Court</th>\n",
       "      <th>Surface</th>\n",
       "      <th>Round</th>\n",
       "      <th>Best of</th>\n",
       "      <th>Winner</th>\n",
       "      <th>...</th>\n",
       "      <th>Wsets</th>\n",
       "      <th>Lsets</th>\n",
       "      <th>Comment</th>\n",
       "      <th>PSW</th>\n",
       "      <th>PSL</th>\n",
       "      <th>B365W</th>\n",
       "      <th>B365L</th>\n",
       "      <th>elo_winner</th>\n",
       "      <th>elo_loser</th>\n",
       "      <th>proba_elo</th>\n",
       "    </tr>\n",
       "  </thead>\n",
       "  <tbody>\n",
       "    <tr>\n",
       "      <th>6520</th>\n",
       "      <td>19</td>\n",
       "      <td>Indian Wells</td>\n",
       "      <td>Pacific Life Open</td>\n",
       "      <td>2003-03-13</td>\n",
       "      <td>Masters</td>\n",
       "      <td>Outdoor</td>\n",
       "      <td>Hard</td>\n",
       "      <td>2nd Round</td>\n",
       "      <td>3</td>\n",
       "      <td>Ginepri R.</td>\n",
       "      <td>...</td>\n",
       "      <td>NaN</td>\n",
       "      <td>NaN</td>\n",
       "      <td>Walkover</td>\n",
       "      <td>NaN</td>\n",
       "      <td>NaN</td>\n",
       "      <td>3.500</td>\n",
       "      <td>1.286</td>\n",
       "      <td>1559.874972</td>\n",
       "      <td>1711.173780</td>\n",
       "      <td>0.295058</td>\n",
       "    </tr>\n",
       "    <tr>\n",
       "      <th>6621</th>\n",
       "      <td>20</td>\n",
       "      <td>Miami</td>\n",
       "      <td>NASDAQ-100 Open</td>\n",
       "      <td>2003-03-26</td>\n",
       "      <td>Masters</td>\n",
       "      <td>Outdoor</td>\n",
       "      <td>Hard</td>\n",
       "      <td>4th Round</td>\n",
       "      <td>3</td>\n",
       "      <td>Srichaphan P.</td>\n",
       "      <td>...</td>\n",
       "      <td>NaN</td>\n",
       "      <td>NaN</td>\n",
       "      <td>Walkover</td>\n",
       "      <td>NaN</td>\n",
       "      <td>NaN</td>\n",
       "      <td>2.000</td>\n",
       "      <td>1.727</td>\n",
       "      <td>1722.446418</td>\n",
       "      <td>1732.162945</td>\n",
       "      <td>0.486020</td>\n",
       "    </tr>\n",
       "    <tr>\n",
       "      <th>7719</th>\n",
       "      <td>43</td>\n",
       "      <td>Kitzbuhel</td>\n",
       "      <td>Generali Open</td>\n",
       "      <td>2003-07-24</td>\n",
       "      <td>International Gold</td>\n",
       "      <td>Outdoor</td>\n",
       "      <td>Clay</td>\n",
       "      <td>3rd Round</td>\n",
       "      <td>3</td>\n",
       "      <td>Zabaleta M.</td>\n",
       "      <td>...</td>\n",
       "      <td>NaN</td>\n",
       "      <td>NaN</td>\n",
       "      <td>Walkover</td>\n",
       "      <td>NaN</td>\n",
       "      <td>NaN</td>\n",
       "      <td>1.667</td>\n",
       "      <td>2.100</td>\n",
       "      <td>1689.874748</td>\n",
       "      <td>1620.239101</td>\n",
       "      <td>0.598893</td>\n",
       "    </tr>\n",
       "    <tr>\n",
       "      <th>8281</th>\n",
       "      <td>55</td>\n",
       "      <td>Palermo</td>\n",
       "      <td>Campionati Internazionali Di Sicilia</td>\n",
       "      <td>2003-09-25</td>\n",
       "      <td>International</td>\n",
       "      <td>Outdoor</td>\n",
       "      <td>Clay</td>\n",
       "      <td>2nd Round</td>\n",
       "      <td>3</td>\n",
       "      <td>Squillari F.</td>\n",
       "      <td>...</td>\n",
       "      <td>NaN</td>\n",
       "      <td>NaN</td>\n",
       "      <td>Walkover</td>\n",
       "      <td>NaN</td>\n",
       "      <td>NaN</td>\n",
       "      <td>2.750</td>\n",
       "      <td>1.400</td>\n",
       "      <td>1518.527470</td>\n",
       "      <td>1626.123106</td>\n",
       "      <td>0.349925</td>\n",
       "    </tr>\n",
       "    <tr>\n",
       "      <th>8451</th>\n",
       "      <td>61</td>\n",
       "      <td>Vienna</td>\n",
       "      <td>CA Tennis Trophy</td>\n",
       "      <td>2003-10-09</td>\n",
       "      <td>International Gold</td>\n",
       "      <td>Indoor</td>\n",
       "      <td>Hard</td>\n",
       "      <td>2nd Round</td>\n",
       "      <td>3</td>\n",
       "      <td>Mirnyi M.</td>\n",
       "      <td>...</td>\n",
       "      <td>NaN</td>\n",
       "      <td>NaN</td>\n",
       "      <td>Walkover</td>\n",
       "      <td>NaN</td>\n",
       "      <td>NaN</td>\n",
       "      <td>1.500</td>\n",
       "      <td>2.500</td>\n",
       "      <td>1678.882633</td>\n",
       "      <td>1666.054955</td>\n",
       "      <td>0.518452</td>\n",
       "    </tr>\n",
       "    <tr>\n",
       "      <th>...</th>\n",
       "      <td>...</td>\n",
       "      <td>...</td>\n",
       "      <td>...</td>\n",
       "      <td>...</td>\n",
       "      <td>...</td>\n",
       "      <td>...</td>\n",
       "      <td>...</td>\n",
       "      <td>...</td>\n",
       "      <td>...</td>\n",
       "      <td>...</td>\n",
       "      <td>...</td>\n",
       "      <td>...</td>\n",
       "      <td>...</td>\n",
       "      <td>...</td>\n",
       "      <td>...</td>\n",
       "      <td>...</td>\n",
       "      <td>...</td>\n",
       "      <td>...</td>\n",
       "      <td>...</td>\n",
       "      <td>...</td>\n",
       "      <td>...</td>\n",
       "    </tr>\n",
       "    <tr>\n",
       "      <th>42579</th>\n",
       "      <td>29</td>\n",
       "      <td>Madrid</td>\n",
       "      <td>Mutua Madrid Open</td>\n",
       "      <td>2017-05-12</td>\n",
       "      <td>Masters 1000</td>\n",
       "      <td>Outdoor</td>\n",
       "      <td>Clay</td>\n",
       "      <td>Quarterfinals</td>\n",
       "      <td>3</td>\n",
       "      <td>Djokovic N.</td>\n",
       "      <td>...</td>\n",
       "      <td>NaN</td>\n",
       "      <td>NaN</td>\n",
       "      <td>Walkover</td>\n",
       "      <td>1.47</td>\n",
       "      <td>2.94</td>\n",
       "      <td>1.440</td>\n",
       "      <td>2.750</td>\n",
       "      <td>2195.073671</td>\n",
       "      <td>1943.626000</td>\n",
       "      <td>0.809606</td>\n",
       "    </tr>\n",
       "    <tr>\n",
       "      <th>43707</th>\n",
       "      <td>55</td>\n",
       "      <td>St. Petersburg</td>\n",
       "      <td>St. Petersburg Open</td>\n",
       "      <td>2017-09-21</td>\n",
       "      <td>ATP250</td>\n",
       "      <td>Indoor</td>\n",
       "      <td>Hard</td>\n",
       "      <td>2nd Round</td>\n",
       "      <td>3</td>\n",
       "      <td>Berankis R.</td>\n",
       "      <td>...</td>\n",
       "      <td>NaN</td>\n",
       "      <td>NaN</td>\n",
       "      <td>Walkover</td>\n",
       "      <td>4.37</td>\n",
       "      <td>1.26</td>\n",
       "      <td>4.330</td>\n",
       "      <td>1.200</td>\n",
       "      <td>1503.240372</td>\n",
       "      <td>1813.309261</td>\n",
       "      <td>0.143699</td>\n",
       "    </tr>\n",
       "    <tr>\n",
       "      <th>44079</th>\n",
       "      <td>66</td>\n",
       "      <td>Paris</td>\n",
       "      <td>BNP Paribas Masters</td>\n",
       "      <td>2017-11-03</td>\n",
       "      <td>Masters 1000</td>\n",
       "      <td>Indoor</td>\n",
       "      <td>Hard</td>\n",
       "      <td>Quarterfinals</td>\n",
       "      <td>3</td>\n",
       "      <td>Krajinovic F.</td>\n",
       "      <td>...</td>\n",
       "      <td>NaN</td>\n",
       "      <td>NaN</td>\n",
       "      <td>Walkover</td>\n",
       "      <td>8.91</td>\n",
       "      <td>1.10</td>\n",
       "      <td>9.000</td>\n",
       "      <td>1.070</td>\n",
       "      <td>1520.886720</td>\n",
       "      <td>2146.616534</td>\n",
       "      <td>0.026546</td>\n",
       "    </tr>\n",
       "    <tr>\n",
       "      <th>44170</th>\n",
       "      <td>2</td>\n",
       "      <td>Doha</td>\n",
       "      <td>Qatar Exxon Mobil Open</td>\n",
       "      <td>2018-01-05</td>\n",
       "      <td>ATP250</td>\n",
       "      <td>Outdoor</td>\n",
       "      <td>Hard</td>\n",
       "      <td>Semifinals</td>\n",
       "      <td>3</td>\n",
       "      <td>Monfils G.</td>\n",
       "      <td>...</td>\n",
       "      <td>NaN</td>\n",
       "      <td>NaN</td>\n",
       "      <td>Walkover</td>\n",
       "      <td>2.60</td>\n",
       "      <td>1.57</td>\n",
       "      <td>2.620</td>\n",
       "      <td>1.500</td>\n",
       "      <td>1818.811423</td>\n",
       "      <td>1804.480779</td>\n",
       "      <td>0.520612</td>\n",
       "    </tr>\n",
       "    <tr>\n",
       "      <th>44516</th>\n",
       "      <td>12</td>\n",
       "      <td>Rotterdam</td>\n",
       "      <td>ABN AMRO World Tennis Tournament</td>\n",
       "      <td>2018-02-16</td>\n",
       "      <td>ATP500</td>\n",
       "      <td>Indoor</td>\n",
       "      <td>Hard</td>\n",
       "      <td>Quarterfinals</td>\n",
       "      <td>3</td>\n",
       "      <td>Goffin D.</td>\n",
       "      <td>...</td>\n",
       "      <td>NaN</td>\n",
       "      <td>NaN</td>\n",
       "      <td>Walkover</td>\n",
       "      <td>1.72</td>\n",
       "      <td>2.27</td>\n",
       "      <td>1.660</td>\n",
       "      <td>2.200</td>\n",
       "      <td>1881.645630</td>\n",
       "      <td>1879.867242</td>\n",
       "      <td>0.502559</td>\n",
       "    </tr>\n",
       "  </tbody>\n",
       "</table>\n",
       "<p>187 rows × 23 columns</p>\n",
       "</div>"
      ],
      "text/plain": [
       "       ATP        Location                            Tournament        Date  \\\n",
       "6520    19    Indian Wells                     Pacific Life Open  2003-03-13   \n",
       "6621    20           Miami                       NASDAQ-100 Open  2003-03-26   \n",
       "7719    43       Kitzbuhel                         Generali Open  2003-07-24   \n",
       "8281    55         Palermo  Campionati Internazionali Di Sicilia  2003-09-25   \n",
       "8451    61         Vienna                       CA Tennis Trophy  2003-10-09   \n",
       "...    ...             ...                                   ...         ...   \n",
       "42579   29          Madrid                     Mutua Madrid Open  2017-05-12   \n",
       "43707   55  St. Petersburg                   St. Petersburg Open  2017-09-21   \n",
       "44079   66           Paris                   BNP Paribas Masters  2017-11-03   \n",
       "44170    2            Doha                Qatar Exxon Mobil Open  2018-01-05   \n",
       "44516   12       Rotterdam      ABN AMRO World Tennis Tournament  2018-02-16   \n",
       "\n",
       "                   Series    Court Surface          Round  Best of  \\\n",
       "6520              Masters  Outdoor    Hard      2nd Round        3   \n",
       "6621              Masters  Outdoor    Hard      4th Round        3   \n",
       "7719   International Gold  Outdoor    Clay      3rd Round        3   \n",
       "8281        International  Outdoor    Clay      2nd Round        3   \n",
       "8451   International Gold   Indoor    Hard      2nd Round        3   \n",
       "...                   ...      ...     ...            ...      ...   \n",
       "42579        Masters 1000  Outdoor    Clay  Quarterfinals        3   \n",
       "43707              ATP250   Indoor    Hard      2nd Round        3   \n",
       "44079        Masters 1000   Indoor    Hard  Quarterfinals        3   \n",
       "44170              ATP250  Outdoor    Hard     Semifinals        3   \n",
       "44516              ATP500   Indoor    Hard  Quarterfinals        3   \n",
       "\n",
       "              Winner  ... Wsets  Lsets   Comment   PSW   PSL  B365W  B365L  \\\n",
       "6520      Ginepri R.  ...   NaN    NaN  Walkover   NaN   NaN  3.500  1.286   \n",
       "6621   Srichaphan P.  ...   NaN    NaN  Walkover   NaN   NaN  2.000  1.727   \n",
       "7719     Zabaleta M.  ...   NaN    NaN  Walkover   NaN   NaN  1.667  2.100   \n",
       "8281    Squillari F.  ...   NaN    NaN  Walkover   NaN   NaN  2.750  1.400   \n",
       "8451       Mirnyi M.  ...   NaN    NaN  Walkover   NaN   NaN  1.500  2.500   \n",
       "...              ...  ...   ...    ...       ...   ...   ...    ...    ...   \n",
       "42579    Djokovic N.  ...   NaN    NaN  Walkover  1.47  2.94  1.440  2.750   \n",
       "43707    Berankis R.  ...   NaN    NaN  Walkover  4.37  1.26  4.330  1.200   \n",
       "44079  Krajinovic F.  ...   NaN    NaN  Walkover  8.91  1.10  9.000  1.070   \n",
       "44170     Monfils G.  ...   NaN    NaN  Walkover  2.60  1.57  2.620  1.500   \n",
       "44516      Goffin D.  ...   NaN    NaN  Walkover  1.72  2.27  1.660  2.200   \n",
       "\n",
       "        elo_winner    elo_loser  proba_elo  \n",
       "6520   1559.874972  1711.173780   0.295058  \n",
       "6621   1722.446418  1732.162945   0.486020  \n",
       "7719   1689.874748  1620.239101   0.598893  \n",
       "8281   1518.527470  1626.123106   0.349925  \n",
       "8451   1678.882633  1666.054955   0.518452  \n",
       "...            ...          ...        ...  \n",
       "42579  2195.073671  1943.626000   0.809606  \n",
       "43707  1503.240372  1813.309261   0.143699  \n",
       "44079  1520.886720  2146.616534   0.026546  \n",
       "44170  1818.811423  1804.480779   0.520612  \n",
       "44516  1881.645630  1879.867242   0.502559  \n",
       "\n",
       "[187 rows x 23 columns]"
      ]
     },
     "execution_count": 26,
     "metadata": {},
     "output_type": "execute_result"
    }
   ],
   "source": [
    "df[df['Wsets'].isna()]"
   ]
  },
  {
   "cell_type": "code",
   "execution_count": 27,
   "id": "d3778ab0",
   "metadata": {},
   "outputs": [
    {
     "data": {
      "text/plain": [
       "216"
      ]
     },
     "execution_count": 27,
     "metadata": {},
     "output_type": "execute_result"
    }
   ],
   "source": [
    "len(df[df['Comment'] == 'Walkover'])"
   ]
  },
  {
   "cell_type": "code",
   "execution_count": 28,
   "id": "08ed20ea",
   "metadata": {},
   "outputs": [
    {
     "data": {
      "text/plain": [
       "0.0    37\n",
       "Name: Wsets, dtype: int64"
      ]
     },
     "execution_count": 28,
     "metadata": {},
     "output_type": "execute_result"
    }
   ],
   "source": [
    "df[df['Comment'] == 'Walkover']['Wsets'].value_counts()"
   ]
  },
  {
   "cell_type": "code",
   "execution_count": 29,
   "id": "1a82ca74",
   "metadata": {},
   "outputs": [
    {
     "data": {
      "text/plain": [
       "0.0    0.628378\n",
       "1.0    0.336920\n",
       "2.0    0.034703\n",
       "Name: Lsets, dtype: float64"
      ]
     },
     "metadata": {},
     "output_type": "display_data"
    },
    {
     "data": {
      "text/plain": [
       "array([ 0.,  1.,  2., nan])"
      ]
     },
     "metadata": {},
     "output_type": "display_data"
    },
    {
     "name": "stdout",
     "output_type": "stream",
     "text": [
      "4\n",
      "187\n",
      "0.004182696609107989\n"
     ]
    }
   ],
   "source": [
    "# Analyse variable Lsets\n",
    "display(df['Lsets'].value_counts(normalize=True))\n",
    "lsets_unique = df['Lsets'].unique()\n",
    "display(lsets_unique)\n",
    "print(len(lsets_unique))\n",
    "print(df['Lsets'].isna().sum())\n",
    "\n",
    "# taux de nan\n",
    "print(df['Lsets'].isna().sum()/len(df['Lsets']))"
   ]
  },
  {
   "cell_type": "code",
   "execution_count": 30,
   "id": "5e16ca07",
   "metadata": {},
   "outputs": [
    {
     "data": {
      "text/plain": [
       "Completed       0.962132\n",
       "Retired         0.033014\n",
       "Walkover        0.004831\n",
       "Disqualified    0.000022\n",
       "Name: Comment, dtype: float64"
      ]
     },
     "metadata": {},
     "output_type": "display_data"
    },
    {
     "data": {
      "text/plain": [
       "array(['Completed', 'Retired', 'Walkover', 'Disqualified'], dtype=object)"
      ]
     },
     "metadata": {},
     "output_type": "display_data"
    },
    {
     "name": "stdout",
     "output_type": "stream",
     "text": [
      "4\n",
      "0\n",
      "0.0\n"
     ]
    }
   ],
   "source": [
    "# Analyse variable Comment\n",
    "display(df['Comment'].value_counts(normalize=True))\n",
    "comment_unique = df['Comment'].unique()\n",
    "display(comment_unique)\n",
    "print(len(comment_unique))\n",
    "print(df['Comment'].isna().sum())\n",
    "\n",
    "# taux de nan\n",
    "print(df['Comment'].isna().sum()/len(df['Comment']))"
   ]
  },
  {
   "cell_type": "code",
   "execution_count": 31,
   "id": "020615e7",
   "metadata": {},
   "outputs": [
    {
     "data": {
      "text/plain": [
       "1.380    0.008613\n",
       "1.130    0.007788\n",
       "1.170    0.007544\n",
       "1.220    0.007513\n",
       "1.400    0.007299\n",
       "           ...   \n",
       "8.530    0.000031\n",
       "6.460    0.000031\n",
       "5.020    0.000031\n",
       "1.207    0.000031\n",
       "9.690    0.000031\n",
       "Name: PSW, Length: 1177, dtype: float64"
      ]
     },
     "metadata": {},
     "output_type": "display_data"
    },
    {
     "data": {
      "text/plain": [
       "array([ nan, 2.21, 3.25, ..., 6.47, 8.91, 9.69])"
      ]
     },
     "metadata": {},
     "output_type": "display_data"
    },
    {
     "name": "stdout",
     "output_type": "stream",
     "text": [
      "1178\n",
      "11965\n",
      "0.26762548089827326\n"
     ]
    }
   ],
   "source": [
    "# Analyse variable PSW\n",
    "display(df['PSW'].value_counts(normalize=True))\n",
    "psw_unique = df['PSW'].unique()\n",
    "display(psw_unique)\n",
    "print(len(psw_unique))\n",
    "print(df['PSW'].isna().sum())\n",
    "\n",
    "# taux de nan\n",
    "print(df['PSW'].isna().sum()/len(df['PSW']))"
   ]
  },
  {
   "cell_type": "code",
   "execution_count": 32,
   "id": "83e85c45",
   "metadata": {},
   "outputs": [
    {
     "data": {
      "text/html": [
       "<div>\n",
       "<style scoped>\n",
       "    .dataframe tbody tr th:only-of-type {\n",
       "        vertical-align: middle;\n",
       "    }\n",
       "\n",
       "    .dataframe tbody tr th {\n",
       "        vertical-align: top;\n",
       "    }\n",
       "\n",
       "    .dataframe thead th {\n",
       "        text-align: right;\n",
       "    }\n",
       "</style>\n",
       "<table border=\"1\" class=\"dataframe\">\n",
       "  <thead>\n",
       "    <tr style=\"text-align: right;\">\n",
       "      <th></th>\n",
       "      <th>ATP</th>\n",
       "      <th>Location</th>\n",
       "      <th>Tournament</th>\n",
       "      <th>Date</th>\n",
       "      <th>Series</th>\n",
       "      <th>Court</th>\n",
       "      <th>Surface</th>\n",
       "      <th>Round</th>\n",
       "      <th>Best of</th>\n",
       "      <th>Winner</th>\n",
       "      <th>...</th>\n",
       "      <th>Wsets</th>\n",
       "      <th>Lsets</th>\n",
       "      <th>Comment</th>\n",
       "      <th>PSW</th>\n",
       "      <th>PSL</th>\n",
       "      <th>B365W</th>\n",
       "      <th>B365L</th>\n",
       "      <th>elo_winner</th>\n",
       "      <th>elo_loser</th>\n",
       "      <th>proba_elo</th>\n",
       "    </tr>\n",
       "  </thead>\n",
       "  <tbody>\n",
       "    <tr>\n",
       "      <th>0</th>\n",
       "      <td>1</td>\n",
       "      <td>Adelaide</td>\n",
       "      <td>Australian Hardcourt Championships</td>\n",
       "      <td>2000-01-03</td>\n",
       "      <td>International</td>\n",
       "      <td>Outdoor</td>\n",
       "      <td>Hard</td>\n",
       "      <td>1st Round</td>\n",
       "      <td>3</td>\n",
       "      <td>Dosedel S.</td>\n",
       "      <td>...</td>\n",
       "      <td>2.0</td>\n",
       "      <td>0.0</td>\n",
       "      <td>Completed</td>\n",
       "      <td>NaN</td>\n",
       "      <td>NaN</td>\n",
       "      <td>NaN</td>\n",
       "      <td>NaN</td>\n",
       "      <td>1500.000000</td>\n",
       "      <td>1500.000000</td>\n",
       "      <td>0.500000</td>\n",
       "    </tr>\n",
       "    <tr>\n",
       "      <th>1</th>\n",
       "      <td>3</td>\n",
       "      <td>Doha</td>\n",
       "      <td>Qatar Open</td>\n",
       "      <td>2000-01-03</td>\n",
       "      <td>International</td>\n",
       "      <td>Outdoor</td>\n",
       "      <td>Hard</td>\n",
       "      <td>1st Round</td>\n",
       "      <td>3</td>\n",
       "      <td>Kiefer N.</td>\n",
       "      <td>...</td>\n",
       "      <td>2.0</td>\n",
       "      <td>0.0</td>\n",
       "      <td>Completed</td>\n",
       "      <td>NaN</td>\n",
       "      <td>NaN</td>\n",
       "      <td>NaN</td>\n",
       "      <td>NaN</td>\n",
       "      <td>1500.000000</td>\n",
       "      <td>1500.000000</td>\n",
       "      <td>0.500000</td>\n",
       "    </tr>\n",
       "    <tr>\n",
       "      <th>2</th>\n",
       "      <td>3</td>\n",
       "      <td>Doha</td>\n",
       "      <td>Qatar Open</td>\n",
       "      <td>2000-01-03</td>\n",
       "      <td>International</td>\n",
       "      <td>Outdoor</td>\n",
       "      <td>Hard</td>\n",
       "      <td>1st Round</td>\n",
       "      <td>3</td>\n",
       "      <td>Gaudio G.</td>\n",
       "      <td>...</td>\n",
       "      <td>2.0</td>\n",
       "      <td>1.0</td>\n",
       "      <td>Completed</td>\n",
       "      <td>NaN</td>\n",
       "      <td>NaN</td>\n",
       "      <td>NaN</td>\n",
       "      <td>NaN</td>\n",
       "      <td>1500.000000</td>\n",
       "      <td>1500.000000</td>\n",
       "      <td>0.500000</td>\n",
       "    </tr>\n",
       "    <tr>\n",
       "      <th>3</th>\n",
       "      <td>3</td>\n",
       "      <td>Doha</td>\n",
       "      <td>Qatar Open</td>\n",
       "      <td>2000-01-03</td>\n",
       "      <td>International</td>\n",
       "      <td>Outdoor</td>\n",
       "      <td>Hard</td>\n",
       "      <td>1st Round</td>\n",
       "      <td>3</td>\n",
       "      <td>El Aynaoui Y.</td>\n",
       "      <td>...</td>\n",
       "      <td>2.0</td>\n",
       "      <td>1.0</td>\n",
       "      <td>Completed</td>\n",
       "      <td>NaN</td>\n",
       "      <td>NaN</td>\n",
       "      <td>NaN</td>\n",
       "      <td>NaN</td>\n",
       "      <td>1500.000000</td>\n",
       "      <td>1500.000000</td>\n",
       "      <td>0.500000</td>\n",
       "    </tr>\n",
       "    <tr>\n",
       "      <th>4</th>\n",
       "      <td>3</td>\n",
       "      <td>Doha</td>\n",
       "      <td>Qatar Open</td>\n",
       "      <td>2000-01-03</td>\n",
       "      <td>International</td>\n",
       "      <td>Outdoor</td>\n",
       "      <td>Hard</td>\n",
       "      <td>1st Round</td>\n",
       "      <td>3</td>\n",
       "      <td>Cherkasov A.</td>\n",
       "      <td>...</td>\n",
       "      <td>2.0</td>\n",
       "      <td>0.0</td>\n",
       "      <td>Completed</td>\n",
       "      <td>NaN</td>\n",
       "      <td>NaN</td>\n",
       "      <td>NaN</td>\n",
       "      <td>NaN</td>\n",
       "      <td>1500.000000</td>\n",
       "      <td>1500.000000</td>\n",
       "      <td>0.500000</td>\n",
       "    </tr>\n",
       "    <tr>\n",
       "      <th>...</th>\n",
       "      <td>...</td>\n",
       "      <td>...</td>\n",
       "      <td>...</td>\n",
       "      <td>...</td>\n",
       "      <td>...</td>\n",
       "      <td>...</td>\n",
       "      <td>...</td>\n",
       "      <td>...</td>\n",
       "      <td>...</td>\n",
       "      <td>...</td>\n",
       "      <td>...</td>\n",
       "      <td>...</td>\n",
       "      <td>...</td>\n",
       "      <td>...</td>\n",
       "      <td>...</td>\n",
       "      <td>...</td>\n",
       "      <td>...</td>\n",
       "      <td>...</td>\n",
       "      <td>...</td>\n",
       "      <td>...</td>\n",
       "      <td>...</td>\n",
       "    </tr>\n",
       "    <tr>\n",
       "      <th>44203</th>\n",
       "      <td>4</td>\n",
       "      <td>Auckland</td>\n",
       "      <td>ASB Classic</td>\n",
       "      <td>2018-01-09</td>\n",
       "      <td>ATP250</td>\n",
       "      <td>Outdoor</td>\n",
       "      <td>Hard</td>\n",
       "      <td>1st Round</td>\n",
       "      <td>3</td>\n",
       "      <td>Johnson S.</td>\n",
       "      <td>...</td>\n",
       "      <td>2.0</td>\n",
       "      <td>0.0</td>\n",
       "      <td>Completed</td>\n",
       "      <td>NaN</td>\n",
       "      <td>NaN</td>\n",
       "      <td>NaN</td>\n",
       "      <td>NaN</td>\n",
       "      <td>1672.947362</td>\n",
       "      <td>1500.000000</td>\n",
       "      <td>0.730186</td>\n",
       "    </tr>\n",
       "    <tr>\n",
       "      <th>44375</th>\n",
       "      <td>9</td>\n",
       "      <td>Sofia</td>\n",
       "      <td>Garanti Koza Sofia Open</td>\n",
       "      <td>2018-02-06</td>\n",
       "      <td>ATP250</td>\n",
       "      <td>Indoor</td>\n",
       "      <td>Hard</td>\n",
       "      <td>1st Round</td>\n",
       "      <td>3</td>\n",
       "      <td>Basic M.</td>\n",
       "      <td>...</td>\n",
       "      <td>2.0</td>\n",
       "      <td>0.0</td>\n",
       "      <td>Completed</td>\n",
       "      <td>NaN</td>\n",
       "      <td>NaN</td>\n",
       "      <td>NaN</td>\n",
       "      <td>NaN</td>\n",
       "      <td>1598.706875</td>\n",
       "      <td>1595.484285</td>\n",
       "      <td>0.504638</td>\n",
       "    </tr>\n",
       "    <tr>\n",
       "      <th>44391</th>\n",
       "      <td>9</td>\n",
       "      <td>Sofia</td>\n",
       "      <td>Garanti Koza Sofia Open</td>\n",
       "      <td>2018-02-07</td>\n",
       "      <td>ATP250</td>\n",
       "      <td>Indoor</td>\n",
       "      <td>Hard</td>\n",
       "      <td>1st Round</td>\n",
       "      <td>3</td>\n",
       "      <td>Baghdatis M.</td>\n",
       "      <td>...</td>\n",
       "      <td>2.0</td>\n",
       "      <td>0.0</td>\n",
       "      <td>Completed</td>\n",
       "      <td>NaN</td>\n",
       "      <td>NaN</td>\n",
       "      <td>1.28</td>\n",
       "      <td>3.5</td>\n",
       "      <td>1683.325148</td>\n",
       "      <td>1474.625171</td>\n",
       "      <td>0.768769</td>\n",
       "    </tr>\n",
       "    <tr>\n",
       "      <th>44591</th>\n",
       "      <td>14</td>\n",
       "      <td>Marseille</td>\n",
       "      <td>Open 13</td>\n",
       "      <td>2018-02-22</td>\n",
       "      <td>ATP250</td>\n",
       "      <td>Indoor</td>\n",
       "      <td>Hard</td>\n",
       "      <td>2nd Round</td>\n",
       "      <td>3</td>\n",
       "      <td>Khachanov K.</td>\n",
       "      <td>...</td>\n",
       "      <td>2.0</td>\n",
       "      <td>0.0</td>\n",
       "      <td>Completed</td>\n",
       "      <td>NaN</td>\n",
       "      <td>NaN</td>\n",
       "      <td>NaN</td>\n",
       "      <td>NaN</td>\n",
       "      <td>1691.174763</td>\n",
       "      <td>1608.510142</td>\n",
       "      <td>0.616769</td>\n",
       "    </tr>\n",
       "    <tr>\n",
       "      <th>44667</th>\n",
       "      <td>16</td>\n",
       "      <td>Acapulco</td>\n",
       "      <td>Abierto Mexicano</td>\n",
       "      <td>2018-02-28</td>\n",
       "      <td>ATP500</td>\n",
       "      <td>Outdoor</td>\n",
       "      <td>Hard</td>\n",
       "      <td>1st Round</td>\n",
       "      <td>3</td>\n",
       "      <td>Zverev A.</td>\n",
       "      <td>...</td>\n",
       "      <td>2.0</td>\n",
       "      <td>0.0</td>\n",
       "      <td>Completed</td>\n",
       "      <td>NaN</td>\n",
       "      <td>NaN</td>\n",
       "      <td>NaN</td>\n",
       "      <td>NaN</td>\n",
       "      <td>1870.106912</td>\n",
       "      <td>1438.807840</td>\n",
       "      <td>0.922924</td>\n",
       "    </tr>\n",
       "  </tbody>\n",
       "</table>\n",
       "<p>11965 rows × 23 columns</p>\n",
       "</div>"
      ],
      "text/plain": [
       "       ATP   Location                          Tournament        Date  \\\n",
       "0        1   Adelaide  Australian Hardcourt Championships  2000-01-03   \n",
       "1        3       Doha                          Qatar Open  2000-01-03   \n",
       "2        3       Doha                          Qatar Open  2000-01-03   \n",
       "3        3       Doha                          Qatar Open  2000-01-03   \n",
       "4        3       Doha                          Qatar Open  2000-01-03   \n",
       "...    ...        ...                                 ...         ...   \n",
       "44203    4   Auckland                         ASB Classic  2018-01-09   \n",
       "44375    9      Sofia             Garanti Koza Sofia Open  2018-02-06   \n",
       "44391    9      Sofia             Garanti Koza Sofia Open  2018-02-07   \n",
       "44591   14  Marseille                             Open 13  2018-02-22   \n",
       "44667   16   Acapulco                    Abierto Mexicano  2018-02-28   \n",
       "\n",
       "              Series    Court Surface      Round  Best of         Winner  ...  \\\n",
       "0      International  Outdoor    Hard  1st Round        3     Dosedel S.  ...   \n",
       "1      International  Outdoor    Hard  1st Round        3      Kiefer N.  ...   \n",
       "2      International  Outdoor    Hard  1st Round        3      Gaudio G.  ...   \n",
       "3      International  Outdoor    Hard  1st Round        3  El Aynaoui Y.  ...   \n",
       "4      International  Outdoor    Hard  1st Round        3   Cherkasov A.  ...   \n",
       "...              ...      ...     ...        ...      ...            ...  ...   \n",
       "44203         ATP250  Outdoor    Hard  1st Round        3     Johnson S.  ...   \n",
       "44375         ATP250   Indoor    Hard  1st Round        3       Basic M.  ...   \n",
       "44391         ATP250   Indoor    Hard  1st Round        3   Baghdatis M.  ...   \n",
       "44591         ATP250   Indoor    Hard  2nd Round        3   Khachanov K.  ...   \n",
       "44667         ATP500  Outdoor    Hard  1st Round        3      Zverev A.  ...   \n",
       "\n",
       "      Wsets  Lsets    Comment  PSW  PSL B365W  B365L   elo_winner  \\\n",
       "0       2.0    0.0  Completed  NaN  NaN   NaN    NaN  1500.000000   \n",
       "1       2.0    0.0  Completed  NaN  NaN   NaN    NaN  1500.000000   \n",
       "2       2.0    1.0  Completed  NaN  NaN   NaN    NaN  1500.000000   \n",
       "3       2.0    1.0  Completed  NaN  NaN   NaN    NaN  1500.000000   \n",
       "4       2.0    0.0  Completed  NaN  NaN   NaN    NaN  1500.000000   \n",
       "...     ...    ...        ...  ...  ...   ...    ...          ...   \n",
       "44203   2.0    0.0  Completed  NaN  NaN   NaN    NaN  1672.947362   \n",
       "44375   2.0    0.0  Completed  NaN  NaN   NaN    NaN  1598.706875   \n",
       "44391   2.0    0.0  Completed  NaN  NaN  1.28    3.5  1683.325148   \n",
       "44591   2.0    0.0  Completed  NaN  NaN   NaN    NaN  1691.174763   \n",
       "44667   2.0    0.0  Completed  NaN  NaN   NaN    NaN  1870.106912   \n",
       "\n",
       "         elo_loser  proba_elo  \n",
       "0      1500.000000   0.500000  \n",
       "1      1500.000000   0.500000  \n",
       "2      1500.000000   0.500000  \n",
       "3      1500.000000   0.500000  \n",
       "4      1500.000000   0.500000  \n",
       "...            ...        ...  \n",
       "44203  1500.000000   0.730186  \n",
       "44375  1595.484285   0.504638  \n",
       "44391  1474.625171   0.768769  \n",
       "44591  1608.510142   0.616769  \n",
       "44667  1438.807840   0.922924  \n",
       "\n",
       "[11965 rows x 23 columns]"
      ]
     },
     "execution_count": 32,
     "metadata": {},
     "output_type": "execute_result"
    }
   ],
   "source": [
    "df[df['PSW'].isna()]"
   ]
  },
  {
   "cell_type": "code",
   "execution_count": 33,
   "id": "e940131e",
   "metadata": {},
   "outputs": [
    {
     "data": {
      "text/plain": [
       "count    32743.000000\n",
       "mean         1.927563\n",
       "std          1.359136\n",
       "min          1.000000\n",
       "25%          1.270000\n",
       "50%          1.549000\n",
       "75%          2.140000\n",
       "max         46.000000\n",
       "Name: PSW, dtype: float64"
      ]
     },
     "execution_count": 33,
     "metadata": {},
     "output_type": "execute_result"
    }
   ],
   "source": [
    "df['PSW'].describe()"
   ]
  },
  {
   "cell_type": "code",
   "execution_count": 34,
   "id": "a6bfae60",
   "metadata": {},
   "outputs": [
    {
     "data": {
      "text/plain": [
       "(1.0, 10.0)"
      ]
     },
     "execution_count": 34,
     "metadata": {},
     "output_type": "execute_result"
    },
    {
     "data": {
      "image/png": "[encoded data removed]",
      "text/plain": [
       "<Figure size 640x480 with 1 Axes>"
      ]
     },
     "metadata": {},
     "output_type": "display_data"
    }
   ],
   "source": [
    "fig, ax = plt.subplots()\n",
    "sns.histplot(df['PSW'], ax=ax, stat='density', bins=46)\n",
    "ax.set_xlim(1, 10)"
   ]
  },
  {
   "cell_type": "code",
   "execution_count": 35,
   "id": "8862ded6",
   "metadata": {},
   "outputs": [
    {
     "data": {
      "text/plain": [
       "2.200     0.005558\n",
       "3.050     0.005070\n",
       "2.500     0.004245\n",
       "1.690     0.004245\n",
       "2.800     0.004123\n",
       "            ...   \n",
       "22.810    0.000031\n",
       "10.880    0.000031\n",
       "1.102     0.000031\n",
       "1.199     0.000031\n",
       "11.540    0.000031\n",
       "Name: PSL, Length: 1580, dtype: float64"
      ]
     },
     "metadata": {},
     "output_type": "display_data"
    },
    {
     "data": {
      "text/plain": [
       "array([   nan,  1.719,  1.385, ..., 13.82 , 12.24 , 11.54 ])"
      ]
     },
     "metadata": {},
     "output_type": "display_data"
    },
    {
     "name": "stdout",
     "output_type": "stream",
     "text": [
      "1581\n",
      "11965\n",
      "0.26762548089827326\n"
     ]
    }
   ],
   "source": [
    "# Analyse variable PSL\n",
    "display(df['PSL'].value_counts(normalize=True))\n",
    "psl_unique = df['PSL'].unique()\n",
    "display(psl_unique)\n",
    "print(len(psl_unique))\n",
    "print(df['PSL'].isna().sum())\n",
    "\n",
    "# taux de nan\n",
    "print(df['PSL'].isna().sum()/len(df['PSL']))"
   ]
  },
  {
   "cell_type": "code",
   "execution_count": 36,
   "id": "07364646",
   "metadata": {},
   "outputs": [
    {
     "data": {
      "text/plain": [
       "count    32743.000000\n",
       "mean         4.240179\n",
       "std          5.744329\n",
       "min          1.010000\n",
       "25%          1.794000\n",
       "50%          2.660000\n",
       "75%          4.270000\n",
       "max        121.000000\n",
       "Name: PSL, dtype: float64"
      ]
     },
     "execution_count": 36,
     "metadata": {},
     "output_type": "execute_result"
    }
   ],
   "source": [
    "df['PSL'].describe()"
   ]
  },
  {
   "cell_type": "code",
   "execution_count": 37,
   "id": "2f8b2041",
   "metadata": {},
   "outputs": [
    {
     "data": {
      "text/plain": [
       "(1.0, 15.0)"
      ]
     },
     "execution_count": 37,
     "metadata": {},
     "output_type": "execute_result"
    },
    {
     "data": {
      "image/png": "[encoded data removed]",
      "text/plain": [
       "<Figure size 640x480 with 1 Axes>"
      ]
     },
     "metadata": {},
     "output_type": "display_data"
    }
   ],
   "source": [
    "fig, ax = plt.subplots()\n",
    "sns.histplot(df['PSL'], ax=ax, stat='density', bins=121)\n",
    "ax.set_xlim(1, 15)"
   ]
  },
  {
   "cell_type": "code",
   "execution_count": 38,
   "id": "a49f7091",
   "metadata": {},
   "outputs": [
    {
     "data": {
      "text/plain": [
       "1.400    0.035146\n",
       "1.360    0.034224\n",
       "1.440    0.031457\n",
       "1.250    0.030561\n",
       "1.500    0.029895\n",
       "           ...   \n",
       "1.090    0.000026\n",
       "1.770    0.000026\n",
       "1.003    0.000026\n",
       "2.050    0.000026\n",
       "1.740    0.000026\n",
       "Name: B365W, Length: 133, dtype: float64"
      ]
     },
     "metadata": {},
     "output_type": "display_data"
    },
    {
     "data": {
      "text/plain": [
       "array([   nan,  2.   ,  1.571,  1.8  ,  2.2  ,  1.143,  2.625,  1.444,\n",
       "        1.1  ,  1.533,  1.167,  7.   ,  1.04 ,  1.5  ,  9.   ,  2.75 ,\n",
       "        2.25 ,  1.727,  3.   ,  1.364,  7.5  ,  1.333,  1.667,  2.5  ,\n",
       "        1.4  ,  1.05 ,  8.   ,  1.909,  2.1  ,  1.125,  1.111,  1.222,\n",
       "        3.5  ,  2.375,  1.25 ,  3.75 ,  1.615,  1.03 ,  1.286,  1.071,\n",
       "        4.333,  4.   ,  1.833,  1.2  ,  3.25 ,  4.5  ,  1.083,  6.5  ,\n",
       "        1.063,  5.   ,  1.3  ,  5.5  ,  2.875,  6.   ,  1.02 ,  1.118,\n",
       "        1.36 ,  1.44 ,  1.28 ,  2.62 ,  1.61 ,  1.22 ,  1.72 ,  1.57 ,\n",
       "        1.07 ,  2.37 ,  1.33 ,  1.08 ,  1.66 ,  1.83 ,  1.06 ,  1.53 ,\n",
       "        4.33 ,  1.14 ,  1.16 ,  1.12 ,  2.87 ,  1.182,  3.4  ,  1.056,\n",
       "        1.9  ,  1.11 ,  2.63 ,  1.73 ,  1.91 ,  1.67 ,  1.62 ,  2.38 ,\n",
       "        1.29 ,  1.015,  1.01 ,  1.55 ,  1.19 ,  3.2  ,  3.39 ,  1.39 ,\n",
       "        1.   ,  8.5  ,  1.38 ,  1.68 ,  2.79 ,  1.18 , 15.   , 12.   ,\n",
       "       10.   ,  1.7  ,  2.4  , 13.   , 11.   ,  1.005,  2.15 ,  1.77 ,\n",
       "        1.002,  1.001,  1.062,  2.05 ,  1.003,  3.6  ,  2.3  ,  1.09 ,\n",
       "       17.   ,  1.45 ,  1.75 , 19.   ,  1.41 ,  1.85 , 29.   ,  1.13 ,\n",
       "        1.15 ,  2.74 , 23.   ,  4.55 , 26.   ,  1.74 ])"
      ]
     },
     "metadata": {},
     "output_type": "display_data"
    },
    {
     "name": "stdout",
     "output_type": "stream",
     "text": [
      "134\n",
      "5671\n",
      "0.12684530732754765\n"
     ]
    }
   ],
   "source": [
    "# Analyse variable B365W\n",
    "display(df['B365W'].value_counts(normalize=True))\n",
    "b365w_unique = df['B365W'].unique()\n",
    "display(b365w_unique)\n",
    "print(len(b365w_unique))\n",
    "print(df['B365W'].isna().sum())\n",
    "\n",
    "# taux de nan\n",
    "print(df['B365W'].isna().sum()/len(df['B365W']))"
   ]
  },
  {
   "cell_type": "code",
   "execution_count": 39,
   "id": "f24fc6b0",
   "metadata": {},
   "outputs": [
    {
     "data": {
      "text/plain": [
       "count    39037.000000\n",
       "mean         1.822246\n",
       "std          1.107547\n",
       "min          1.000000\n",
       "25%          1.220000\n",
       "50%          1.500000\n",
       "75%          2.000000\n",
       "max         29.000000\n",
       "Name: B365W, dtype: float64"
      ]
     },
     "execution_count": 39,
     "metadata": {},
     "output_type": "execute_result"
    }
   ],
   "source": [
    "df['B365W'].describe()"
   ]
  },
  {
   "cell_type": "code",
   "execution_count": 40,
   "id": "09d9ba11",
   "metadata": {},
   "outputs": [
    {
     "data": {
      "text/plain": [
       "(1.0, 6.0)"
      ]
     },
     "execution_count": 40,
     "metadata": {},
     "output_type": "execute_result"
    },
    {
     "data": {
      "image/png": "[encoded data removed]",
      "text/plain": [
       "<Figure size 640x480 with 1 Axes>"
      ]
     },
     "metadata": {},
     "output_type": "display_data"
    }
   ],
   "source": [
    "fig, ax = plt.subplots()\n",
    "sns.histplot(df['B365W'], ax=ax, stat='density', bins=29)\n",
    "ax.set_xlim(1, 6)"
   ]
  },
  {
   "cell_type": "code",
   "execution_count": 41,
   "id": "aed8870a",
   "metadata": {},
   "outputs": [
    {
     "data": {
      "text/plain": [
       "2.75     0.042809\n",
       "3.00     0.039353\n",
       "4.50     0.033131\n",
       "2.25     0.032337\n",
       "3.50     0.031928\n",
       "           ...   \n",
       "3.95     0.000026\n",
       "2.88     0.000026\n",
       "1.41     0.000026\n",
       "1.62     0.000026\n",
       "10.50    0.000026\n",
       "Name: B365L, Length: 137, dtype: float64"
      ]
     },
     "metadata": {},
     "output_type": "display_data"
    },
    {
     "data": {
      "text/plain": [
       "array([    nan,   1.727,   2.25 ,   1.909,   1.615,   5.   ,   1.444,\n",
       "         2.625,   6.5  ,   2.375,   4.5  ,   1.083,   9.   ,   2.5  ,\n",
       "         1.04 ,   1.4  ,   1.571,   2.   ,   1.364,   3.   ,   1.071,\n",
       "         3.25 ,   2.1  ,   1.5  ,   2.75 ,   8.5  ,   1.063,   1.8  ,\n",
       "         1.667,   5.5  ,   6.   ,   4.   ,   1.286,   1.533,   3.75 ,\n",
       "         1.25 ,   2.2  ,  10.   ,   2.875,   3.5  ,   7.5  ,   1.2  ,\n",
       "         1.833,   1.222,   1.333,   4.333,   1.167,   7.   ,   1.1  ,\n",
       "         8.   ,   1.143,   3.4  ,   3.6  ,   1.125,   1.111,  11.   ,\n",
       "         6.25 ,   1.33 ,   1.72 ,   2.62 ,   1.44 ,   1.16 ,   1.53 ,\n",
       "         1.83 ,   1.36 ,   1.61 ,   1.28 ,   1.57 ,   2.37 ,   1.73 ,\n",
       "         4.33 ,   2.87 ,   1.14 ,   1.66 ,   1.3  ,   1.9  ,   1.22 ,\n",
       "         3.2  ,   3.8  ,   2.63 ,   2.38 ,   1.67 ,   2.88 ,   1.62 ,\n",
       "        12.   ,  13.   ,   2.3  ,   1.05 ,  15.   ,   1.08 ,   3.39 ,\n",
       "         1.39 ,   1.12 ,  21.   ,   1.19 ,   1.06 ,   1.07 ,   1.11 ,\n",
       "        17.   ,   1.38 ,   2.02 ,  34.   ,   3.35 ,  26.   ,   1.41 ,\n",
       "         1.01 ,   1.02 ,   3.95 ,   2.05 ,   4.2  ,   1.52 ,   3.1  ,\n",
       "         1.03 ,   2.04 ,   1.7  ,  29.   ,   1.6  ,   2.15 ,  51.   ,\n",
       "         1.75 ,   2.4  ,   1.18 ,  23.   ,  19.   ,   2.55 ,  67.   ,\n",
       "         4.6  ,   3.9  ,   3.3  ,   2.9  ,  41.   ,   1.95 ,   1.002,\n",
       "         1.13 , 101.   ,   2.07 ,   2.21 ,  10.5  ])"
      ]
     },
     "metadata": {},
     "output_type": "display_data"
    },
    {
     "name": "stdout",
     "output_type": "stream",
     "text": [
      "138\n",
      "5651\n",
      "0.12639796009662702\n"
     ]
    }
   ],
   "source": [
    "# Analyse variable B365L\n",
    "display(df['B365L'].value_counts(normalize=True))\n",
    "b365l_unique = df['B365L'].unique()\n",
    "display(b365l_unique)\n",
    "print(len(b365l_unique))\n",
    "print(df['B365L'].isna().sum())\n",
    "\n",
    "# taux de nan\n",
    "print(df['B365L'].isna().sum()/len(df['B365L']))"
   ]
  },
  {
   "cell_type": "code",
   "execution_count": 42,
   "id": "35afb814",
   "metadata": {},
   "outputs": [
    {
     "data": {
      "text/plain": [
       "count    39057.000000\n",
       "mean         3.551007\n",
       "std          3.498689\n",
       "min          1.002000\n",
       "25%          1.720000\n",
       "50%          2.500000\n",
       "75%          4.000000\n",
       "max        101.000000\n",
       "Name: B365L, dtype: float64"
      ]
     },
     "execution_count": 42,
     "metadata": {},
     "output_type": "execute_result"
    }
   ],
   "source": [
    "df['B365L'].describe()"
   ]
  },
  {
   "cell_type": "code",
   "execution_count": 43,
   "id": "6d0d2524",
   "metadata": {},
   "outputs": [
    {
     "data": {
      "text/plain": [
       "(1.0, 10.0)"
      ]
     },
     "execution_count": 43,
     "metadata": {},
     "output_type": "execute_result"
    },
    {
     "data": {
      "image/png": "[encoded data removed]",
      "text/plain": [
       "<Figure size 640x480 with 1 Axes>"
      ]
     },
     "metadata": {},
     "output_type": "display_data"
    }
   ],
   "source": [
    "fig, ax = plt.subplots()\n",
    "sns.histplot(df['B365L'], ax=ax, stat='density', bins=101)\n",
    "ax.set_xlim(1, 10)"
   ]
  },
  {
   "cell_type": "code",
   "execution_count": 44,
   "id": "0622a394",
   "metadata": {},
   "outputs": [
    {
     "data": {
      "text/plain": [
       "1500.000000    0.007381\n",
       "1516.000000    0.000671\n",
       "1484.000000    0.000403\n",
       "1532.000000    0.000179\n",
       "1484.736307    0.000134\n",
       "                 ...   \n",
       "1455.042716    0.000022\n",
       "1467.581468    0.000022\n",
       "1896.627907    0.000022\n",
       "1599.880487    0.000022\n",
       "1814.065865    0.000022\n",
       "Name: elo_winner, Length: 44297, dtype: float64"
      ]
     },
     "metadata": {},
     "output_type": "display_data"
    },
    {
     "data": {
      "text/plain": [
       "array([1500.        , 1484.        , 1516.        , ..., 1588.29306911,\n",
       "       1966.53284874, 1814.06586518])"
      ]
     },
     "metadata": {},
     "output_type": "display_data"
    },
    {
     "name": "stdout",
     "output_type": "stream",
     "text": [
      "44297\n",
      "0\n",
      "0.0\n"
     ]
    }
   ],
   "source": [
    "# Analyse variable elo_winner\n",
    "display(df['elo_winner'].value_counts(normalize=True))\n",
    "elow_unique = df['elo_winner'].unique()\n",
    "display(elow_unique)\n",
    "print(len(elow_unique))\n",
    "print(df['elo_winner'].isna().sum())\n",
    "\n",
    "# taux de nan\n",
    "print(df['elo_winner'].isna().sum()/len(df['elo_winner']))"
   ]
  },
  {
   "cell_type": "code",
   "execution_count": 45,
   "id": "579a8763",
   "metadata": {},
   "outputs": [
    {
     "data": {
      "text/plain": [
       "count    44708.000000\n",
       "mean      1684.023280\n",
       "std        179.246422\n",
       "min       1318.945207\n",
       "25%       1548.476977\n",
       "50%       1652.866073\n",
       "75%       1780.755524\n",
       "max       2392.408923\n",
       "Name: elo_winner, dtype: float64"
      ]
     },
     "execution_count": 45,
     "metadata": {},
     "output_type": "execute_result"
    }
   ],
   "source": [
    "df['elo_winner'].describe()"
   ]
  },
  {
   "cell_type": "code",
   "execution_count": 46,
   "id": "ddd2fd64",
   "metadata": {},
   "outputs": [
    {
     "data": {
      "text/plain": [
       "<AxesSubplot:xlabel='elo_winner', ylabel='Density'>"
      ]
     },
     "execution_count": 46,
     "metadata": {},
     "output_type": "execute_result"
    },
    {
     "data": {
      "image/png": "[encoded data removed]",
      "text/plain": [
       "<Figure size 640x480 with 1 Axes>"
      ]
     },
     "metadata": {},
     "output_type": "display_data"
    }
   ],
   "source": [
    "fig, ax = plt.subplots()\n",
    "sns.histplot(df['elo_winner'], ax=ax, stat='density')\n"
   ]
  },
  {
   "cell_type": "code",
   "execution_count": 47,
   "id": "143f220d",
   "metadata": {},
   "outputs": [
    {
     "data": {
      "text/plain": [
       "1500.000000    0.024045\n",
       "1516.000000    0.001118\n",
       "1484.000000    0.000514\n",
       "1532.000000    0.000246\n",
       "1500.736307    0.000179\n",
       "                 ...   \n",
       "1395.036876    0.000022\n",
       "1607.887448    0.000022\n",
       "1599.078663    0.000022\n",
       "1526.847084    0.000022\n",
       "1605.738153    0.000022\n",
       "Name: elo_loser, Length: 43522, dtype: float64"
      ]
     },
     "metadata": {},
     "output_type": "display_data"
    },
    {
     "data": {
      "text/plain": [
       "array([1500.        , 1516.        , 1545.82782033, ..., 1619.75842139,\n",
       "       1851.41360946, 1605.73815346])"
      ]
     },
     "metadata": {},
     "output_type": "display_data"
    },
    {
     "name": "stdout",
     "output_type": "stream",
     "text": [
      "43522\n",
      "0\n",
      "0.0\n"
     ]
    }
   ],
   "source": [
    "# Analyse variable elo_loser\n",
    "display(df['elo_loser'].value_counts(normalize=True))\n",
    "elol_unique = df['elo_loser'].unique()\n",
    "display(elol_unique)\n",
    "print(len(elol_unique))\n",
    "print(df['elo_loser'].isna().sum())\n",
    "\n",
    "# taux de nan\n",
    "print(df['elo_loser'].isna().sum()/len(df['elo_loser']))"
   ]
  },
  {
   "cell_type": "code",
   "execution_count": 48,
   "id": "512ceb7b",
   "metadata": {},
   "outputs": [
    {
     "data": {
      "text/plain": [
       "count    44708.000000\n",
       "mean      1608.755552\n",
       "std        137.949299\n",
       "min       1327.551888\n",
       "25%       1501.546103\n",
       "50%       1580.743828\n",
       "75%       1684.607134\n",
       "max       2392.595567\n",
       "Name: elo_loser, dtype: float64"
      ]
     },
     "execution_count": 48,
     "metadata": {},
     "output_type": "execute_result"
    }
   ],
   "source": [
    "df['elo_loser'].describe()"
   ]
  },
  {
   "cell_type": "code",
   "execution_count": 49,
   "id": "8a1eea80",
   "metadata": {},
   "outputs": [
    {
     "data": {
      "text/plain": [
       "<AxesSubplot:xlabel='elo_loser', ylabel='Density'>"
      ]
     },
     "execution_count": 49,
     "metadata": {},
     "output_type": "execute_result"
    },
    {
     "data": {
      "image/png": "[encoded data removed]",
      "text/plain": [
       "<Figure size 640x480 with 1 Axes>"
      ]
     },
     "metadata": {},
     "output_type": "display_data"
    }
   ],
   "source": [
    "fig, ax = plt.subplots()\n",
    "sns.histplot(df['elo_loser'], ax=ax, stat='density')"
   ]
  },
  {
   "cell_type": "code",
   "execution_count": 50,
   "id": "c9a35714",
   "metadata": {},
   "outputs": [
    {
     "data": {
      "text/plain": [
       "0.500000    0.002572\n",
       "0.476990    0.000336\n",
       "0.523010    0.000201\n",
       "0.478048    0.000089\n",
       "0.501060    0.000067\n",
       "              ...   \n",
       "0.194301    0.000022\n",
       "0.507561    0.000022\n",
       "0.447806    0.000022\n",
       "0.221023    0.000022\n",
       "0.768388    0.000022\n",
       "Name: proba_elo, Length: 44555, dtype: float64"
      ]
     },
     "metadata": {},
     "output_type": "display_data"
    },
    {
     "data": {
      "text/plain": [
       "array([0.5       , 0.47699041, 0.52300959, ..., 0.45484111, 0.65986207,\n",
       "       0.7683879 ])"
      ]
     },
     "metadata": {},
     "output_type": "display_data"
    },
    {
     "name": "stdout",
     "output_type": "stream",
     "text": [
      "44555\n",
      "0\n",
      "0.0\n"
     ]
    }
   ],
   "source": [
    "# Analyse variable proba_elo\n",
    "display(df['proba_elo'].value_counts(normalize=True))\n",
    "proba_elo_unique = df['proba_elo'].unique()\n",
    "display(proba_elo_unique)\n",
    "print(len(proba_elo_unique))\n",
    "print(df['proba_elo'].isna().sum())\n",
    "\n",
    "# taux de nan\n",
    "print(df['proba_elo'].isna().sum()/len(df['proba_elo']))"
   ]
  },
  {
   "cell_type": "code",
   "execution_count": 51,
   "id": "6eb68d68",
   "metadata": {},
   "outputs": [
    {
     "data": {
      "text/plain": [
       "count    44708.000000\n",
       "mean         0.585594\n",
       "std          0.198732\n",
       "min          0.008899\n",
       "25%          0.447921\n",
       "50%          0.589218\n",
       "75%          0.737288\n",
       "max          0.995601\n",
       "Name: proba_elo, dtype: float64"
      ]
     },
     "execution_count": 51,
     "metadata": {},
     "output_type": "execute_result"
    }
   ],
   "source": [
    "df['proba_elo'].describe()"
   ]
  },
  {
   "cell_type": "code",
   "execution_count": 52,
   "id": "b8d899da",
   "metadata": {},
   "outputs": [
    {
     "data": {
      "text/plain": [
       "<AxesSubplot:xlabel='proba_elo', ylabel='Density'>"
      ]
     },
     "execution_count": 52,
     "metadata": {},
     "output_type": "execute_result"
    },
    {
     "data": {
      "image/png": "[encoded data removed]",
      "text/plain": [
       "<Figure size 640x480 with 1 Axes>"
      ]
     },
     "metadata": {},
     "output_type": "display_data"
    }
   ],
   "source": [
    "fig, ax = plt.subplots()\n",
    "sns.histplot(df['proba_elo'], ax=ax, stat='density')"
   ]
  },
  {
   "cell_type": "code",
   "execution_count": 53,
   "id": "ebcd7ac1",
   "metadata": {},
   "outputs": [],
   "source": [
    "winners_losers = pd.concat([df['Winner'], df['Loser']], axis=0)"
   ]
  },
  {
   "cell_type": "code",
   "execution_count": 54,
   "id": "2ad5f64d",
   "metadata": {},
   "outputs": [
    {
     "data": {
      "text/plain": [
       "0           Dosedel S.\n",
       "1            Kiefer N.\n",
       "2            Gaudio G.\n",
       "3        El Aynaoui Y.\n",
       "4         Cherkasov A.\n",
       "             ...      \n",
       "44703       Pouille L.\n",
       "44704     Donaldson J.\n",
       "44705      Zeballos H.\n",
       "44706      Anderson K.\n",
       "44707         Jarry N.\n",
       "Length: 89416, dtype: object"
      ]
     },
     "execution_count": 54,
     "metadata": {},
     "output_type": "execute_result"
    }
   ],
   "source": [
    "winners_losers"
   ]
  },
  {
   "cell_type": "code",
   "execution_count": 55,
   "id": "2b3beec0",
   "metadata": {},
   "outputs": [],
   "source": [
    "players = winners_losers.unique()"
   ]
  },
  {
   "cell_type": "code",
   "execution_count": 56,
   "id": "613c7b12",
   "metadata": {},
   "outputs": [
    {
     "data": {
      "text/plain": [
       "1402"
      ]
     },
     "execution_count": 56,
     "metadata": {},
     "output_type": "execute_result"
    }
   ],
   "source": [
    "len(players) # nb joueurs uniques du dataset"
   ]
  },
  {
   "cell_type": "code",
   "execution_count": 57,
   "id": "e0eefa31",
   "metadata": {},
   "outputs": [],
   "source": [
    "match_per_player = winners_losers.value_counts()"
   ]
  },
  {
   "cell_type": "code",
   "execution_count": 58,
   "id": "e5d3c671",
   "metadata": {},
   "outputs": [
    {
     "data": {
      "text/plain": [
       "Federer R.      1160\n",
       "Nadal R.         978\n",
       "Ferrer D.        957\n",
       "Djokovic N.      833\n",
       "Berdych T.       805\n",
       "Verdasco F.      793\n",
       "Lopez F.         774\n",
       "Youzhny M.       773\n",
       "Davydenko N.     752\n",
       "Robredo T.       734\n",
       "dtype: int64"
      ]
     },
     "execution_count": 58,
     "metadata": {},
     "output_type": "execute_result"
    }
   ],
   "source": [
    "match_per_player[:10]"
   ]
  },
  {
   "cell_type": "code",
   "execution_count": 59,
   "id": "55f8889c",
   "metadata": {},
   "outputs": [],
   "source": [
    "winners = df['Winner']"
   ]
  },
  {
   "cell_type": "code",
   "execution_count": 60,
   "id": "b1025af2",
   "metadata": {},
   "outputs": [],
   "source": [
    "losers = df['Loser']"
   ]
  },
  {
   "cell_type": "code",
   "execution_count": 61,
   "id": "e519588e",
   "metadata": {},
   "outputs": [
    {
     "data": {
      "text/plain": [
       "Federer R.        970\n",
       "Nadal R.          803\n",
       "Djokovic N.       687\n",
       "Ferrer D.         632\n",
       "Murray A.         560\n",
       "                 ... \n",
       "Cruciat A.          1\n",
       "De Heart R.         1\n",
       "Jun W.S.            1\n",
       "Qureshi A.U.H.      1\n",
       "Clezar G.           1\n",
       "Name: Winner, Length: 899, dtype: int64"
      ]
     },
     "execution_count": 61,
     "metadata": {},
     "output_type": "execute_result"
    }
   ],
   "source": [
    "winners.value_counts()"
   ]
  },
  {
   "cell_type": "code",
   "execution_count": 62,
   "id": "0115c737",
   "metadata": {},
   "outputs": [
    {
     "data": {
      "text/plain": [
       "Lopez F.            369\n",
       "Youzhny M.          345\n",
       "Verdasco F.         339\n",
       "Ferrer D.           325\n",
       "Nieminen J.         308\n",
       "Seppi A.            302\n",
       "Davydenko N.        299\n",
       "Garcia-Lopez G.     299\n",
       "Robredo T.          296\n",
       "Kohlschreiber P.    291\n",
       "Name: Loser, dtype: int64"
      ]
     },
     "execution_count": 62,
     "metadata": {},
     "output_type": "execute_result"
    }
   ],
   "source": [
    "losers.value_counts()[:10]"
   ]
  },
  {
   "cell_type": "code",
   "execution_count": 63,
   "id": "ea390d45",
   "metadata": {},
   "outputs": [],
   "source": [
    "players = pd.DataFrame(players)"
   ]
  },
  {
   "cell_type": "code",
   "execution_count": 64,
   "id": "db957b72",
   "metadata": {},
   "outputs": [
    {
     "data": {
      "text/html": [
       "<div>\n",
       "<style scoped>\n",
       "    .dataframe tbody tr th:only-of-type {\n",
       "        vertical-align: middle;\n",
       "    }\n",
       "\n",
       "    .dataframe tbody tr th {\n",
       "        vertical-align: top;\n",
       "    }\n",
       "\n",
       "    .dataframe thead th {\n",
       "        text-align: right;\n",
       "    }\n",
       "</style>\n",
       "<table border=\"1\" class=\"dataframe\">\n",
       "  <thead>\n",
       "    <tr style=\"text-align: right;\">\n",
       "      <th></th>\n",
       "      <th>Name</th>\n",
       "    </tr>\n",
       "  </thead>\n",
       "  <tbody>\n",
       "    <tr>\n",
       "      <th>0</th>\n",
       "      <td>Dosedel S.</td>\n",
       "    </tr>\n",
       "    <tr>\n",
       "      <th>1</th>\n",
       "      <td>Kiefer N.</td>\n",
       "    </tr>\n",
       "    <tr>\n",
       "      <th>2</th>\n",
       "      <td>Gaudio G.</td>\n",
       "    </tr>\n",
       "    <tr>\n",
       "      <th>3</th>\n",
       "      <td>El Aynaoui Y.</td>\n",
       "    </tr>\n",
       "    <tr>\n",
       "      <th>4</th>\n",
       "      <td>Cherkasov A.</td>\n",
       "    </tr>\n",
       "    <tr>\n",
       "      <th>...</th>\n",
       "      <td>...</td>\n",
       "    </tr>\n",
       "    <tr>\n",
       "      <th>1397</th>\n",
       "      <td>Andreev A.</td>\n",
       "    </tr>\n",
       "    <tr>\n",
       "      <th>1398</th>\n",
       "      <td>Korda S.</td>\n",
       "    </tr>\n",
       "    <tr>\n",
       "      <th>1399</th>\n",
       "      <td>Auger-Aliassime F.</td>\n",
       "    </tr>\n",
       "    <tr>\n",
       "      <th>1400</th>\n",
       "      <td>Gaston H.</td>\n",
       "    </tr>\n",
       "    <tr>\n",
       "      <th>1401</th>\n",
       "      <td>Seyboth Wild T.</td>\n",
       "    </tr>\n",
       "  </tbody>\n",
       "</table>\n",
       "<p>1402 rows × 1 columns</p>\n",
       "</div>"
      ],
      "text/plain": [
       "                    Name\n",
       "0             Dosedel S.\n",
       "1              Kiefer N.\n",
       "2              Gaudio G.\n",
       "3          El Aynaoui Y.\n",
       "4           Cherkasov A.\n",
       "...                  ...\n",
       "1397          Andreev A.\n",
       "1398            Korda S.\n",
       "1399  Auger-Aliassime F.\n",
       "1400           Gaston H.\n",
       "1401     Seyboth Wild T.\n",
       "\n",
       "[1402 rows x 1 columns]"
      ]
     },
     "execution_count": 64,
     "metadata": {},
     "output_type": "execute_result"
    }
   ],
   "source": [
    "players.rename({0:'Name'}, axis=1)"
   ]
  },
  {
   "cell_type": "code",
   "execution_count": 65,
   "id": "f284853d",
   "metadata": {},
   "outputs": [],
   "source": [
    "nbgames_player = pd.DataFrame(match_per_player, index=match_per_player.index)"
   ]
  },
  {
   "cell_type": "code",
   "execution_count": 66,
   "id": "d7289782",
   "metadata": {},
   "outputs": [],
   "source": [
    "nbgames_player.rename({0:'Nb_games'}, axis=1, inplace=True)"
   ]
  },
  {
   "cell_type": "code",
   "execution_count": 67,
   "id": "4ea61ff6",
   "metadata": {},
   "outputs": [],
   "source": [
    "nbgames_player['Name'] = nbgames_player.index"
   ]
  },
  {
   "cell_type": "code",
   "execution_count": 68,
   "id": "38e78e2d",
   "metadata": {},
   "outputs": [],
   "source": [
    "nbgames_player.reset_index(inplace=True)"
   ]
  },
  {
   "cell_type": "code",
   "execution_count": 69,
   "id": "2a639eef",
   "metadata": {},
   "outputs": [],
   "source": [
    "nbgames_player.drop('index', axis=1, inplace=True)"
   ]
  },
  {
   "cell_type": "code",
   "execution_count": 70,
   "id": "ee6eba72",
   "metadata": {},
   "outputs": [],
   "source": [
    "nbgames_player = pd.DataFrame(nbgames_player, columns=['Name', 'Nb_games'])"
   ]
  },
  {
   "cell_type": "code",
   "execution_count": 71,
   "id": "6aa1dade",
   "metadata": {},
   "outputs": [
    {
     "data": {
      "text/html": [
       "<div>\n",
       "<style scoped>\n",
       "    .dataframe tbody tr th:only-of-type {\n",
       "        vertical-align: middle;\n",
       "    }\n",
       "\n",
       "    .dataframe tbody tr th {\n",
       "        vertical-align: top;\n",
       "    }\n",
       "\n",
       "    .dataframe thead th {\n",
       "        text-align: right;\n",
       "    }\n",
       "</style>\n",
       "<table border=\"1\" class=\"dataframe\">\n",
       "  <thead>\n",
       "    <tr style=\"text-align: right;\">\n",
       "      <th></th>\n",
       "      <th>Name</th>\n",
       "      <th>Nb_games</th>\n",
       "    </tr>\n",
       "  </thead>\n",
       "  <tbody>\n",
       "    <tr>\n",
       "      <th>0</th>\n",
       "      <td>Federer R.</td>\n",
       "      <td>1160</td>\n",
       "    </tr>\n",
       "    <tr>\n",
       "      <th>1</th>\n",
       "      <td>Nadal R.</td>\n",
       "      <td>978</td>\n",
       "    </tr>\n",
       "    <tr>\n",
       "      <th>2</th>\n",
       "      <td>Ferrer D.</td>\n",
       "      <td>957</td>\n",
       "    </tr>\n",
       "    <tr>\n",
       "      <th>3</th>\n",
       "      <td>Djokovic N.</td>\n",
       "      <td>833</td>\n",
       "    </tr>\n",
       "    <tr>\n",
       "      <th>4</th>\n",
       "      <td>Berdych T.</td>\n",
       "      <td>805</td>\n",
       "    </tr>\n",
       "    <tr>\n",
       "      <th>...</th>\n",
       "      <td>...</td>\n",
       "      <td>...</td>\n",
       "    </tr>\n",
       "    <tr>\n",
       "      <th>1397</th>\n",
       "      <td>Brizzi A.</td>\n",
       "      <td>1</td>\n",
       "    </tr>\n",
       "    <tr>\n",
       "      <th>1398</th>\n",
       "      <td>O'Neal J.</td>\n",
       "      <td>1</td>\n",
       "    </tr>\n",
       "    <tr>\n",
       "      <th>1399</th>\n",
       "      <td>Piccari F.</td>\n",
       "      <td>1</td>\n",
       "    </tr>\n",
       "    <tr>\n",
       "      <th>1400</th>\n",
       "      <td>Kim K</td>\n",
       "      <td>1</td>\n",
       "    </tr>\n",
       "    <tr>\n",
       "      <th>1401</th>\n",
       "      <td>Seyboth Wild T.</td>\n",
       "      <td>1</td>\n",
       "    </tr>\n",
       "  </tbody>\n",
       "</table>\n",
       "<p>1402 rows × 2 columns</p>\n",
       "</div>"
      ],
      "text/plain": [
       "                 Name  Nb_games\n",
       "0          Federer R.      1160\n",
       "1            Nadal R.       978\n",
       "2           Ferrer D.       957\n",
       "3         Djokovic N.       833\n",
       "4          Berdych T.       805\n",
       "...               ...       ...\n",
       "1397        Brizzi A.         1\n",
       "1398        O'Neal J.         1\n",
       "1399       Piccari F.         1\n",
       "1400            Kim K         1\n",
       "1401  Seyboth Wild T.         1\n",
       "\n",
       "[1402 rows x 2 columns]"
      ]
     },
     "execution_count": 71,
     "metadata": {},
     "output_type": "execute_result"
    }
   ],
   "source": [
    "nbgames_player"
   ]
  },
  {
   "cell_type": "code",
   "execution_count": 72,
   "id": "f69b7a8e",
   "metadata": {},
   "outputs": [],
   "source": [
    "Nb_wins = winners.value_counts()"
   ]
  },
  {
   "cell_type": "code",
   "execution_count": 73,
   "id": "d1b77931",
   "metadata": {},
   "outputs": [
    {
     "data": {
      "text/plain": [
       "Federer R.        970\n",
       "Nadal R.          803\n",
       "Djokovic N.       687\n",
       "Ferrer D.         632\n",
       "Murray A.         560\n",
       "                 ... \n",
       "Cruciat A.          1\n",
       "De Heart R.         1\n",
       "Jun W.S.            1\n",
       "Qureshi A.U.H.      1\n",
       "Clezar G.           1\n",
       "Name: Winner, Length: 899, dtype: int64"
      ]
     },
     "execution_count": 73,
     "metadata": {},
     "output_type": "execute_result"
    }
   ],
   "source": [
    "Nb_wins"
   ]
  },
  {
   "cell_type": "code",
   "execution_count": 74,
   "id": "a1b910c1",
   "metadata": {},
   "outputs": [],
   "source": [
    "Nb_wins = pd.DataFrame(Nb_wins).rename({'Winner':'Nb_wins'}, axis=1)"
   ]
  },
  {
   "cell_type": "code",
   "execution_count": 75,
   "id": "b9f53187",
   "metadata": {},
   "outputs": [
    {
     "data": {
      "text/html": [
       "<div>\n",
       "<style scoped>\n",
       "    .dataframe tbody tr th:only-of-type {\n",
       "        vertical-align: middle;\n",
       "    }\n",
       "\n",
       "    .dataframe tbody tr th {\n",
       "        vertical-align: top;\n",
       "    }\n",
       "\n",
       "    .dataframe thead th {\n",
       "        text-align: right;\n",
       "    }\n",
       "</style>\n",
       "<table border=\"1\" class=\"dataframe\">\n",
       "  <thead>\n",
       "    <tr style=\"text-align: right;\">\n",
       "      <th></th>\n",
       "      <th>Nb_wins</th>\n",
       "    </tr>\n",
       "  </thead>\n",
       "  <tbody>\n",
       "    <tr>\n",
       "      <th>Federer R.</th>\n",
       "      <td>970</td>\n",
       "    </tr>\n",
       "    <tr>\n",
       "      <th>Nadal R.</th>\n",
       "      <td>803</td>\n",
       "    </tr>\n",
       "    <tr>\n",
       "      <th>Djokovic N.</th>\n",
       "      <td>687</td>\n",
       "    </tr>\n",
       "    <tr>\n",
       "      <th>Ferrer D.</th>\n",
       "      <td>632</td>\n",
       "    </tr>\n",
       "    <tr>\n",
       "      <th>Murray A.</th>\n",
       "      <td>560</td>\n",
       "    </tr>\n",
       "    <tr>\n",
       "      <th>...</th>\n",
       "      <td>...</td>\n",
       "    </tr>\n",
       "    <tr>\n",
       "      <th>Cruciat A.</th>\n",
       "      <td>1</td>\n",
       "    </tr>\n",
       "    <tr>\n",
       "      <th>De Heart R.</th>\n",
       "      <td>1</td>\n",
       "    </tr>\n",
       "    <tr>\n",
       "      <th>Jun W.S.</th>\n",
       "      <td>1</td>\n",
       "    </tr>\n",
       "    <tr>\n",
       "      <th>Qureshi A.U.H.</th>\n",
       "      <td>1</td>\n",
       "    </tr>\n",
       "    <tr>\n",
       "      <th>Clezar G.</th>\n",
       "      <td>1</td>\n",
       "    </tr>\n",
       "  </tbody>\n",
       "</table>\n",
       "<p>899 rows × 1 columns</p>\n",
       "</div>"
      ],
      "text/plain": [
       "                Nb_wins\n",
       "Federer R.          970\n",
       "Nadal R.            803\n",
       "Djokovic N.         687\n",
       "Ferrer D.           632\n",
       "Murray A.           560\n",
       "...                 ...\n",
       "Cruciat A.            1\n",
       "De Heart R.           1\n",
       "Jun W.S.              1\n",
       "Qureshi A.U.H.        1\n",
       "Clezar G.             1\n",
       "\n",
       "[899 rows x 1 columns]"
      ]
     },
     "execution_count": 75,
     "metadata": {},
     "output_type": "execute_result"
    }
   ],
   "source": [
    "Nb_wins"
   ]
  },
  {
   "cell_type": "code",
   "execution_count": 76,
   "id": "7b72047d",
   "metadata": {},
   "outputs": [],
   "source": [
    "Nb_defeats = losers.value_counts()"
   ]
  },
  {
   "cell_type": "code",
   "execution_count": 77,
   "id": "33f16352",
   "metadata": {},
   "outputs": [],
   "source": [
    "Nb_defeats = pd.DataFrame(Nb_defeats)"
   ]
  },
  {
   "cell_type": "code",
   "execution_count": 78,
   "id": "8d508e41",
   "metadata": {},
   "outputs": [],
   "source": [
    "Nb_defeats.rename({'Loser':'Nb_defeats'}, axis=1, inplace=True)"
   ]
  },
  {
   "cell_type": "code",
   "execution_count": 79,
   "id": "6adc82fd",
   "metadata": {},
   "outputs": [
    {
     "data": {
      "text/html": [
       "<div>\n",
       "<style scoped>\n",
       "    .dataframe tbody tr th:only-of-type {\n",
       "        vertical-align: middle;\n",
       "    }\n",
       "\n",
       "    .dataframe tbody tr th {\n",
       "        vertical-align: top;\n",
       "    }\n",
       "\n",
       "    .dataframe thead th {\n",
       "        text-align: right;\n",
       "    }\n",
       "</style>\n",
       "<table border=\"1\" class=\"dataframe\">\n",
       "  <thead>\n",
       "    <tr style=\"text-align: right;\">\n",
       "      <th></th>\n",
       "      <th>Nb_defeats</th>\n",
       "    </tr>\n",
       "  </thead>\n",
       "  <tbody>\n",
       "    <tr>\n",
       "      <th>Lopez F.</th>\n",
       "      <td>369</td>\n",
       "    </tr>\n",
       "    <tr>\n",
       "      <th>Youzhny M.</th>\n",
       "      <td>345</td>\n",
       "    </tr>\n",
       "    <tr>\n",
       "      <th>Verdasco F.</th>\n",
       "      <td>339</td>\n",
       "    </tr>\n",
       "    <tr>\n",
       "      <th>Ferrer D.</th>\n",
       "      <td>325</td>\n",
       "    </tr>\n",
       "    <tr>\n",
       "      <th>Nieminen J.</th>\n",
       "      <td>308</td>\n",
       "    </tr>\n",
       "    <tr>\n",
       "      <th>...</th>\n",
       "      <td>...</td>\n",
       "    </tr>\n",
       "    <tr>\n",
       "      <th>Lejnieks K.</th>\n",
       "      <td>1</td>\n",
       "    </tr>\n",
       "    <tr>\n",
       "      <th>Ebelthite C.</th>\n",
       "      <td>1</td>\n",
       "    </tr>\n",
       "    <tr>\n",
       "      <th>Anderson A.</th>\n",
       "      <td>1</td>\n",
       "    </tr>\n",
       "    <tr>\n",
       "      <th>Hutchins R.</th>\n",
       "      <td>1</td>\n",
       "    </tr>\n",
       "    <tr>\n",
       "      <th>Seyboth Wild T.</th>\n",
       "      <td>1</td>\n",
       "    </tr>\n",
       "  </tbody>\n",
       "</table>\n",
       "<p>1400 rows × 1 columns</p>\n",
       "</div>"
      ],
      "text/plain": [
       "                 Nb_defeats\n",
       "Lopez F.                369\n",
       "Youzhny M.              345\n",
       "Verdasco F.             339\n",
       "Ferrer D.               325\n",
       "Nieminen J.             308\n",
       "...                     ...\n",
       "Lejnieks K.               1\n",
       "Ebelthite C.              1\n",
       "Anderson A.               1\n",
       "Hutchins R.               1\n",
       "Seyboth Wild T.           1\n",
       "\n",
       "[1400 rows x 1 columns]"
      ]
     },
     "execution_count": 79,
     "metadata": {},
     "output_type": "execute_result"
    }
   ],
   "source": [
    "Nb_defeats"
   ]
  },
  {
   "cell_type": "code",
   "execution_count": 80,
   "id": "bd4a2786",
   "metadata": {},
   "outputs": [],
   "source": [
    "nbgames_player.set_index('Name', inplace=True)"
   ]
  },
  {
   "cell_type": "code",
   "execution_count": 81,
   "id": "1e6c6850",
   "metadata": {},
   "outputs": [
    {
     "data": {
      "text/html": [
       "<div>\n",
       "<style scoped>\n",
       "    .dataframe tbody tr th:only-of-type {\n",
       "        vertical-align: middle;\n",
       "    }\n",
       "\n",
       "    .dataframe tbody tr th {\n",
       "        vertical-align: top;\n",
       "    }\n",
       "\n",
       "    .dataframe thead th {\n",
       "        text-align: right;\n",
       "    }\n",
       "</style>\n",
       "<table border=\"1\" class=\"dataframe\">\n",
       "  <thead>\n",
       "    <tr style=\"text-align: right;\">\n",
       "      <th></th>\n",
       "      <th>Nb_games</th>\n",
       "    </tr>\n",
       "    <tr>\n",
       "      <th>Name</th>\n",
       "      <th></th>\n",
       "    </tr>\n",
       "  </thead>\n",
       "  <tbody>\n",
       "    <tr>\n",
       "      <th>Federer R.</th>\n",
       "      <td>1160</td>\n",
       "    </tr>\n",
       "    <tr>\n",
       "      <th>Nadal R.</th>\n",
       "      <td>978</td>\n",
       "    </tr>\n",
       "    <tr>\n",
       "      <th>Ferrer D.</th>\n",
       "      <td>957</td>\n",
       "    </tr>\n",
       "    <tr>\n",
       "      <th>Djokovic N.</th>\n",
       "      <td>833</td>\n",
       "    </tr>\n",
       "    <tr>\n",
       "      <th>Berdych T.</th>\n",
       "      <td>805</td>\n",
       "    </tr>\n",
       "    <tr>\n",
       "      <th>...</th>\n",
       "      <td>...</td>\n",
       "    </tr>\n",
       "    <tr>\n",
       "      <th>Brizzi A.</th>\n",
       "      <td>1</td>\n",
       "    </tr>\n",
       "    <tr>\n",
       "      <th>O'Neal J.</th>\n",
       "      <td>1</td>\n",
       "    </tr>\n",
       "    <tr>\n",
       "      <th>Piccari F.</th>\n",
       "      <td>1</td>\n",
       "    </tr>\n",
       "    <tr>\n",
       "      <th>Kim K</th>\n",
       "      <td>1</td>\n",
       "    </tr>\n",
       "    <tr>\n",
       "      <th>Seyboth Wild T.</th>\n",
       "      <td>1</td>\n",
       "    </tr>\n",
       "  </tbody>\n",
       "</table>\n",
       "<p>1402 rows × 1 columns</p>\n",
       "</div>"
      ],
      "text/plain": [
       "                 Nb_games\n",
       "Name                     \n",
       "Federer R.           1160\n",
       "Nadal R.              978\n",
       "Ferrer D.             957\n",
       "Djokovic N.           833\n",
       "Berdych T.            805\n",
       "...                   ...\n",
       "Brizzi A.               1\n",
       "O'Neal J.               1\n",
       "Piccari F.              1\n",
       "Kim K                   1\n",
       "Seyboth Wild T.         1\n",
       "\n",
       "[1402 rows x 1 columns]"
      ]
     },
     "execution_count": 81,
     "metadata": {},
     "output_type": "execute_result"
    }
   ],
   "source": [
    "nbgames_player"
   ]
  },
  {
   "cell_type": "code",
   "execution_count": 82,
   "id": "79af1168",
   "metadata": {},
   "outputs": [],
   "source": [
    "players_stat = nbgames_player.join(Nb_wins).join(Nb_defeats)"
   ]
  },
  {
   "cell_type": "code",
   "execution_count": 83,
   "id": "51ac6ae5",
   "metadata": {},
   "outputs": [
    {
     "name": "stdout",
     "output_type": "stream",
     "text": [
      "<class 'pandas.core.frame.DataFrame'>\n",
      "Index: 1402 entries, Federer R. to Seyboth Wild T.\n",
      "Data columns (total 3 columns):\n",
      " #   Column      Non-Null Count  Dtype  \n",
      "---  ------      --------------  -----  \n",
      " 0   Nb_games    1402 non-null   int64  \n",
      " 1   Nb_wins     899 non-null    float64\n",
      " 2   Nb_defeats  1400 non-null   float64\n",
      "dtypes: float64(2), int64(1)\n",
      "memory usage: 76.1+ KB\n"
     ]
    }
   ],
   "source": [
    "players_stat.info()"
   ]
  },
  {
   "cell_type": "code",
   "execution_count": 84,
   "id": "ff960f4c",
   "metadata": {},
   "outputs": [],
   "source": [
    "players_stat.fillna(0, inplace=True)"
   ]
  },
  {
   "cell_type": "code",
   "execution_count": 85,
   "id": "bbed3ea5",
   "metadata": {},
   "outputs": [
    {
     "data": {
      "text/html": [
       "<div>\n",
       "<style scoped>\n",
       "    .dataframe tbody tr th:only-of-type {\n",
       "        vertical-align: middle;\n",
       "    }\n",
       "\n",
       "    .dataframe tbody tr th {\n",
       "        vertical-align: top;\n",
       "    }\n",
       "\n",
       "    .dataframe thead th {\n",
       "        text-align: right;\n",
       "    }\n",
       "</style>\n",
       "<table border=\"1\" class=\"dataframe\">\n",
       "  <thead>\n",
       "    <tr style=\"text-align: right;\">\n",
       "      <th></th>\n",
       "      <th>Nb_games</th>\n",
       "      <th>Nb_wins</th>\n",
       "      <th>Nb_defeats</th>\n",
       "    </tr>\n",
       "    <tr>\n",
       "      <th>Name</th>\n",
       "      <th></th>\n",
       "      <th></th>\n",
       "      <th></th>\n",
       "    </tr>\n",
       "  </thead>\n",
       "  <tbody>\n",
       "    <tr>\n",
       "      <th>Federer R.</th>\n",
       "      <td>1160</td>\n",
       "      <td>970.0</td>\n",
       "      <td>190.0</td>\n",
       "    </tr>\n",
       "    <tr>\n",
       "      <th>Nadal R.</th>\n",
       "      <td>978</td>\n",
       "      <td>803.0</td>\n",
       "      <td>175.0</td>\n",
       "    </tr>\n",
       "    <tr>\n",
       "      <th>Ferrer D.</th>\n",
       "      <td>957</td>\n",
       "      <td>632.0</td>\n",
       "      <td>325.0</td>\n",
       "    </tr>\n",
       "    <tr>\n",
       "      <th>Djokovic N.</th>\n",
       "      <td>833</td>\n",
       "      <td>687.0</td>\n",
       "      <td>146.0</td>\n",
       "    </tr>\n",
       "    <tr>\n",
       "      <th>Berdych T.</th>\n",
       "      <td>805</td>\n",
       "      <td>524.0</td>\n",
       "      <td>281.0</td>\n",
       "    </tr>\n",
       "    <tr>\n",
       "      <th>...</th>\n",
       "      <td>...</td>\n",
       "      <td>...</td>\n",
       "      <td>...</td>\n",
       "    </tr>\n",
       "    <tr>\n",
       "      <th>Brizzi A.</th>\n",
       "      <td>1</td>\n",
       "      <td>0.0</td>\n",
       "      <td>1.0</td>\n",
       "    </tr>\n",
       "    <tr>\n",
       "      <th>O'Neal J.</th>\n",
       "      <td>1</td>\n",
       "      <td>0.0</td>\n",
       "      <td>1.0</td>\n",
       "    </tr>\n",
       "    <tr>\n",
       "      <th>Piccari F.</th>\n",
       "      <td>1</td>\n",
       "      <td>0.0</td>\n",
       "      <td>1.0</td>\n",
       "    </tr>\n",
       "    <tr>\n",
       "      <th>Kim K</th>\n",
       "      <td>1</td>\n",
       "      <td>0.0</td>\n",
       "      <td>1.0</td>\n",
       "    </tr>\n",
       "    <tr>\n",
       "      <th>Seyboth Wild T.</th>\n",
       "      <td>1</td>\n",
       "      <td>0.0</td>\n",
       "      <td>1.0</td>\n",
       "    </tr>\n",
       "  </tbody>\n",
       "</table>\n",
       "<p>1402 rows × 3 columns</p>\n",
       "</div>"
      ],
      "text/plain": [
       "                 Nb_games  Nb_wins  Nb_defeats\n",
       "Name                                          \n",
       "Federer R.           1160    970.0       190.0\n",
       "Nadal R.              978    803.0       175.0\n",
       "Ferrer D.             957    632.0       325.0\n",
       "Djokovic N.           833    687.0       146.0\n",
       "Berdych T.            805    524.0       281.0\n",
       "...                   ...      ...         ...\n",
       "Brizzi A.               1      0.0         1.0\n",
       "O'Neal J.               1      0.0         1.0\n",
       "Piccari F.              1      0.0         1.0\n",
       "Kim K                   1      0.0         1.0\n",
       "Seyboth Wild T.         1      0.0         1.0\n",
       "\n",
       "[1402 rows x 3 columns]"
      ]
     },
     "execution_count": 85,
     "metadata": {},
     "output_type": "execute_result"
    }
   ],
   "source": [
    "players_stat"
   ]
  },
  {
   "cell_type": "code",
   "execution_count": 86,
   "id": "3c5a5484",
   "metadata": {},
   "outputs": [],
   "source": [
    "players_stat['Wrate'] = players_stat['Nb_wins']/players_stat['Nb_games']"
   ]
  },
  {
   "cell_type": "code",
   "execution_count": 87,
   "id": "8c24e772",
   "metadata": {},
   "outputs": [],
   "source": [
    "players_stat['Lrate'] = players_stat['Nb_defeats']/players_stat['Nb_games']"
   ]
  },
  {
   "cell_type": "code",
   "execution_count": 88,
   "id": "9a13b812",
   "metadata": {},
   "outputs": [
    {
     "data": {
      "text/html": [
       "<div>\n",
       "<style scoped>\n",
       "    .dataframe tbody tr th:only-of-type {\n",
       "        vertical-align: middle;\n",
       "    }\n",
       "\n",
       "    .dataframe tbody tr th {\n",
       "        vertical-align: top;\n",
       "    }\n",
       "\n",
       "    .dataframe thead th {\n",
       "        text-align: right;\n",
       "    }\n",
       "</style>\n",
       "<table border=\"1\" class=\"dataframe\">\n",
       "  <thead>\n",
       "    <tr style=\"text-align: right;\">\n",
       "      <th></th>\n",
       "      <th>Nb_games</th>\n",
       "      <th>Nb_wins</th>\n",
       "      <th>Nb_defeats</th>\n",
       "      <th>Wrate</th>\n",
       "      <th>Lrate</th>\n",
       "    </tr>\n",
       "  </thead>\n",
       "  <tbody>\n",
       "    <tr>\n",
       "      <th>count</th>\n",
       "      <td>1402.000000</td>\n",
       "      <td>1402.000000</td>\n",
       "      <td>1402.000000</td>\n",
       "      <td>1402.000000</td>\n",
       "      <td>1402.000000</td>\n",
       "    </tr>\n",
       "    <tr>\n",
       "      <th>mean</th>\n",
       "      <td>63.777461</td>\n",
       "      <td>31.888730</td>\n",
       "      <td>31.888730</td>\n",
       "      <td>0.251183</td>\n",
       "      <td>0.748817</td>\n",
       "    </tr>\n",
       "    <tr>\n",
       "      <th>std</th>\n",
       "      <td>137.678599</td>\n",
       "      <td>83.387252</td>\n",
       "      <td>58.996756</td>\n",
       "      <td>0.221288</td>\n",
       "      <td>0.221288</td>\n",
       "    </tr>\n",
       "    <tr>\n",
       "      <th>min</th>\n",
       "      <td>1.000000</td>\n",
       "      <td>0.000000</td>\n",
       "      <td>0.000000</td>\n",
       "      <td>0.000000</td>\n",
       "      <td>0.000000</td>\n",
       "    </tr>\n",
       "    <tr>\n",
       "      <th>25%</th>\n",
       "      <td>2.000000</td>\n",
       "      <td>0.000000</td>\n",
       "      <td>1.000000</td>\n",
       "      <td>0.000000</td>\n",
       "      <td>0.572841</td>\n",
       "    </tr>\n",
       "    <tr>\n",
       "      <th>50%</th>\n",
       "      <td>5.000000</td>\n",
       "      <td>1.000000</td>\n",
       "      <td>4.000000</td>\n",
       "      <td>0.272727</td>\n",
       "      <td>0.727273</td>\n",
       "    </tr>\n",
       "    <tr>\n",
       "      <th>75%</th>\n",
       "      <td>47.000000</td>\n",
       "      <td>18.000000</td>\n",
       "      <td>30.750000</td>\n",
       "      <td>0.427159</td>\n",
       "      <td>1.000000</td>\n",
       "    </tr>\n",
       "    <tr>\n",
       "      <th>max</th>\n",
       "      <td>1160.000000</td>\n",
       "      <td>970.000000</td>\n",
       "      <td>369.000000</td>\n",
       "      <td>1.000000</td>\n",
       "      <td>1.000000</td>\n",
       "    </tr>\n",
       "  </tbody>\n",
       "</table>\n",
       "</div>"
      ],
      "text/plain": [
       "          Nb_games      Nb_wins   Nb_defeats        Wrate        Lrate\n",
       "count  1402.000000  1402.000000  1402.000000  1402.000000  1402.000000\n",
       "mean     63.777461    31.888730    31.888730     0.251183     0.748817\n",
       "std     137.678599    83.387252    58.996756     0.221288     0.221288\n",
       "min       1.000000     0.000000     0.000000     0.000000     0.000000\n",
       "25%       2.000000     0.000000     1.000000     0.000000     0.572841\n",
       "50%       5.000000     1.000000     4.000000     0.272727     0.727273\n",
       "75%      47.000000    18.000000    30.750000     0.427159     1.000000\n",
       "max    1160.000000   970.000000   369.000000     1.000000     1.000000"
      ]
     },
     "execution_count": 88,
     "metadata": {},
     "output_type": "execute_result"
    }
   ],
   "source": [
    "players_stat.describe()"
   ]
  },
  {
   "cell_type": "code",
   "execution_count": 89,
   "id": "2b76846d",
   "metadata": {},
   "outputs": [],
   "source": [
    "top_players = players_stat[players_stat['Nb_games'] > 500].sort_values('Wrate', ascending=False).head(10)"
   ]
  },
  {
   "cell_type": "code",
   "execution_count": 90,
   "id": "d4da56e5",
   "metadata": {},
   "outputs": [
    {
     "data": {
      "text/plain": [
       "Index(['Tsonga J.W.', 'Tsonga J.W. '], dtype='object', name='Name')"
      ]
     },
     "execution_count": 90,
     "metadata": {},
     "output_type": "execute_result"
    }
   ],
   "source": [
    "players_stat[players_stat.index.str.contains('Tsonga')].index"
   ]
  },
  {
   "cell_type": "code",
   "execution_count": null,
   "id": "098da23f",
   "metadata": {},
   "outputs": [],
   "source": []
  },
  {
   "cell_type": "code",
   "execution_count": 91,
   "id": "b56549c5",
   "metadata": {},
   "outputs": [
    {
     "data": {
      "text/html": [
       "<div>\n",
       "<style scoped>\n",
       "    .dataframe tbody tr th:only-of-type {\n",
       "        vertical-align: middle;\n",
       "    }\n",
       "\n",
       "    .dataframe tbody tr th {\n",
       "        vertical-align: top;\n",
       "    }\n",
       "\n",
       "    .dataframe thead th {\n",
       "        text-align: right;\n",
       "    }\n",
       "</style>\n",
       "<table border=\"1\" class=\"dataframe\">\n",
       "  <thead>\n",
       "    <tr style=\"text-align: right;\">\n",
       "      <th></th>\n",
       "      <th>Nb_games</th>\n",
       "      <th>Nb_wins</th>\n",
       "      <th>Nb_defeats</th>\n",
       "      <th>Wrate</th>\n",
       "      <th>Lrate</th>\n",
       "    </tr>\n",
       "    <tr>\n",
       "      <th>Name</th>\n",
       "      <th></th>\n",
       "      <th></th>\n",
       "      <th></th>\n",
       "      <th></th>\n",
       "      <th></th>\n",
       "    </tr>\n",
       "  </thead>\n",
       "  <tbody>\n",
       "    <tr>\n",
       "      <th>Federer R.</th>\n",
       "      <td>1160</td>\n",
       "      <td>970.0</td>\n",
       "      <td>190.0</td>\n",
       "      <td>0.836207</td>\n",
       "      <td>0.163793</td>\n",
       "    </tr>\n",
       "    <tr>\n",
       "      <th>Djokovic N.</th>\n",
       "      <td>833</td>\n",
       "      <td>687.0</td>\n",
       "      <td>146.0</td>\n",
       "      <td>0.824730</td>\n",
       "      <td>0.175270</td>\n",
       "    </tr>\n",
       "    <tr>\n",
       "      <th>Nadal R.</th>\n",
       "      <td>978</td>\n",
       "      <td>803.0</td>\n",
       "      <td>175.0</td>\n",
       "      <td>0.821063</td>\n",
       "      <td>0.178937</td>\n",
       "    </tr>\n",
       "    <tr>\n",
       "      <th>Murray A.</th>\n",
       "      <td>725</td>\n",
       "      <td>560.0</td>\n",
       "      <td>165.0</td>\n",
       "      <td>0.772414</td>\n",
       "      <td>0.227586</td>\n",
       "    </tr>\n",
       "    <tr>\n",
       "      <th>Roddick A.</th>\n",
       "      <td>718</td>\n",
       "      <td>538.0</td>\n",
       "      <td>180.0</td>\n",
       "      <td>0.749304</td>\n",
       "      <td>0.250696</td>\n",
       "    </tr>\n",
       "    <tr>\n",
       "      <th>Del Potro J.M.</th>\n",
       "      <td>510</td>\n",
       "      <td>359.0</td>\n",
       "      <td>151.0</td>\n",
       "      <td>0.703922</td>\n",
       "      <td>0.296078</td>\n",
       "    </tr>\n",
       "    <tr>\n",
       "      <th>Hewitt L.</th>\n",
       "      <td>607</td>\n",
       "      <td>424.0</td>\n",
       "      <td>183.0</td>\n",
       "      <td>0.698517</td>\n",
       "      <td>0.301483</td>\n",
       "    </tr>\n",
       "    <tr>\n",
       "      <th>Tsonga J.W.</th>\n",
       "      <td>546</td>\n",
       "      <td>374.0</td>\n",
       "      <td>172.0</td>\n",
       "      <td>0.684982</td>\n",
       "      <td>0.315018</td>\n",
       "    </tr>\n",
       "    <tr>\n",
       "      <th>Ferrer D.</th>\n",
       "      <td>957</td>\n",
       "      <td>632.0</td>\n",
       "      <td>325.0</td>\n",
       "      <td>0.660397</td>\n",
       "      <td>0.339603</td>\n",
       "    </tr>\n",
       "    <tr>\n",
       "      <th>Nalbandian D.</th>\n",
       "      <td>515</td>\n",
       "      <td>340.0</td>\n",
       "      <td>175.0</td>\n",
       "      <td>0.660194</td>\n",
       "      <td>0.339806</td>\n",
       "    </tr>\n",
       "  </tbody>\n",
       "</table>\n",
       "</div>"
      ],
      "text/plain": [
       "                Nb_games  Nb_wins  Nb_defeats     Wrate     Lrate\n",
       "Name                                                             \n",
       "Federer R.          1160    970.0       190.0  0.836207  0.163793\n",
       "Djokovic N.          833    687.0       146.0  0.824730  0.175270\n",
       "Nadal R.             978    803.0       175.0  0.821063  0.178937\n",
       "Murray A.            725    560.0       165.0  0.772414  0.227586\n",
       "Roddick A.           718    538.0       180.0  0.749304  0.250696\n",
       "Del Potro J.M.       510    359.0       151.0  0.703922  0.296078\n",
       "Hewitt L.            607    424.0       183.0  0.698517  0.301483\n",
       "Tsonga J.W.          546    374.0       172.0  0.684982  0.315018\n",
       "Ferrer D.            957    632.0       325.0  0.660397  0.339603\n",
       "Nalbandian D.        515    340.0       175.0  0.660194  0.339806"
      ]
     },
     "execution_count": 91,
     "metadata": {},
     "output_type": "execute_result"
    }
   ],
   "source": [
    "top_players"
   ]
  },
  {
   "cell_type": "code",
   "execution_count": 92,
   "id": "1b9dfb81",
   "metadata": {},
   "outputs": [
    {
     "data": {
      "text/plain": [
       "<BarContainer object of 10 artists>"
      ]
     },
     "execution_count": 92,
     "metadata": {},
     "output_type": "execute_result"
    },
    {
     "data": {
      "image/png": "[encoded data removed]",
      "text/plain": [
       "<Figure size 640x480 with 1 Axes>"
      ]
     },
     "metadata": {},
     "output_type": "display_data"
    }
   ],
   "source": [
    "plt.barh(top_players.index, top_players['Wrate'])"
   ]
  },
  {
   "cell_type": "code",
   "execution_count": 93,
   "id": "a86be223",
   "metadata": {},
   "outputs": [
    {
     "data": {
      "text/plain": [
       "0    Federer R.\n",
       "Name: Winner, dtype: object"
      ]
     },
     "execution_count": 93,
     "metadata": {},
     "output_type": "execute_result"
    }
   ],
   "source": [
    "df.Winner.mode()"
   ]
  },
  {
   "cell_type": "code",
   "execution_count": 94,
   "id": "83998c12",
   "metadata": {},
   "outputs": [
    {
     "data": {
      "text/plain": [
       "<AxesSubplot:>"
      ]
     },
     "execution_count": 94,
     "metadata": {},
     "output_type": "execute_result"
    },
    {
     "data": {
      "image/png": "[encoded data removed]",
      "text/plain": [
       "<Figure size 1000x1000 with 2 Axes>"
      ]
     },
     "metadata": {},
     "output_type": "display_data"
    }
   ],
   "source": [
    "plt.figure(figsize = [10, 10])\n",
    "sns.heatmap(df.select_dtypes(include='number').corr(), annot=True, center = 0, cmap = 'RdBu_r')"
   ]
  },
  {
   "cell_type": "code",
   "execution_count": 95,
   "id": "c990ada4",
   "metadata": {},
   "outputs": [],
   "source": [
    "df_cotes = df.dropna()"
   ]
  },
  {
   "cell_type": "code",
   "execution_count": 96,
   "id": "ee1c58d5",
   "metadata": {},
   "outputs": [
    {
     "name": "stdout",
     "output_type": "stream",
     "text": [
      "<class 'pandas.core.frame.DataFrame'>\n",
      "Int64Index: 32191 entries, 8678 to 44707\n",
      "Data columns (total 23 columns):\n",
      " #   Column      Non-Null Count  Dtype  \n",
      "---  ------      --------------  -----  \n",
      " 0   ATP         32191 non-null  int64  \n",
      " 1   Location    32191 non-null  object \n",
      " 2   Tournament  32191 non-null  object \n",
      " 3   Date        32191 non-null  object \n",
      " 4   Series      32191 non-null  object \n",
      " 5   Court       32191 non-null  object \n",
      " 6   Surface     32191 non-null  object \n",
      " 7   Round       32191 non-null  object \n",
      " 8   Best of     32191 non-null  int64  \n",
      " 9   Winner      32191 non-null  object \n",
      " 10  Loser       32191 non-null  object \n",
      " 11  WRank       32191 non-null  int64  \n",
      " 12  LRank       32191 non-null  int64  \n",
      " 13  Wsets       32191 non-null  float64\n",
      " 14  Lsets       32191 non-null  float64\n",
      " 15  Comment     32191 non-null  object \n",
      " 16  PSW         32191 non-null  float64\n",
      " 17  PSL         32191 non-null  float64\n",
      " 18  B365W       32191 non-null  float64\n",
      " 19  B365L       32191 non-null  float64\n",
      " 20  elo_winner  32191 non-null  float64\n",
      " 21  elo_loser   32191 non-null  float64\n",
      " 22  proba_elo   32191 non-null  float64\n",
      "dtypes: float64(9), int64(4), object(10)\n",
      "memory usage: 5.9+ MB\n"
     ]
    }
   ],
   "source": [
    "df_cotes.info()"
   ]
  },
  {
   "cell_type": "code",
   "execution_count": 97,
   "id": "b6ec564b",
   "metadata": {},
   "outputs": [
    {
     "data": {
      "text/plain": [
       "{'whiskers': [<matplotlib.lines.Line2D at 0x21887a52610>,\n",
       "  <matplotlib.lines.Line2D at 0x21887a52790>,\n",
       "  <matplotlib.lines.Line2D at 0x218878d1910>,\n",
       "  <matplotlib.lines.Line2D at 0x218878d1be0>],\n",
       " 'caps': [<matplotlib.lines.Line2D at 0x21887a52a90>,\n",
       "  <matplotlib.lines.Line2D at 0x21887a52d60>,\n",
       "  <matplotlib.lines.Line2D at 0x218878d1eb0>,\n",
       "  <matplotlib.lines.Line2D at 0x218878dd1c0>],\n",
       " 'boxes': [<matplotlib.lines.Line2D at 0x21887a52310>,\n",
       "  <matplotlib.lines.Line2D at 0x218878d1640>],\n",
       " 'medians': [<matplotlib.lines.Line2D at 0x218878d1070>,\n",
       "  <matplotlib.lines.Line2D at 0x218878dd490>],\n",
       " 'fliers': [<matplotlib.lines.Line2D at 0x218878d1340>,\n",
       "  <matplotlib.lines.Line2D at 0x218878dd760>],\n",
       " 'means': []}"
      ]
     },
     "execution_count": 97,
     "metadata": {},
     "output_type": "execute_result"
    },
    {
     "data": {
      "image/png": "[encoded data removed]",
      "text/plain": [
       "<Figure size 640x480 with 1 Axes>"
      ]
     },
     "metadata": {},
     "output_type": "display_data"
    }
   ],
   "source": [
    "plt.boxplot([df_cotes['PSW'], df_cotes['B365W']])"
   ]
  },
  {
   "cell_type": "code",
   "execution_count": 98,
   "id": "99e57548",
   "metadata": {},
   "outputs": [
    {
     "data": {
      "text/plain": [
       "<matplotlib.collections.PathCollection at 0x21887931730>"
      ]
     },
     "execution_count": 98,
     "metadata": {},
     "output_type": "execute_result"
    },
    {
     "data": {
      "image/png": "[encoded data removed]",
      "text/plain": [
       "<Figure size 640x480 with 1 Axes>"
      ]
     },
     "metadata": {},
     "output_type": "display_data"
    }
   ],
   "source": [
    "plt.scatter(df_cotes['PSW'], df_cotes['B365W'])"
   ]
  },
  {
   "cell_type": "code",
   "execution_count": 99,
   "id": "59c25a6c",
   "metadata": {},
   "outputs": [
    {
     "data": {
      "text/plain": [
       "(0.0, 10.0)"
      ]
     },
     "execution_count": 99,
     "metadata": {},
     "output_type": "execute_result"
    },
    {
     "data": {
      "image/png": "[encoded data removed]",
      "text/plain": [
       "<Figure size 640x480 with 1 Axes>"
      ]
     },
     "metadata": {},
     "output_type": "display_data"
    }
   ],
   "source": [
    "plt.boxplot([df_cotes['PSL'], df_cotes['B365L']])\n",
    "plt.ylim([0,10])"
   ]
  },
  {
   "cell_type": "code",
   "execution_count": 100,
   "id": "f0823e19",
   "metadata": {},
   "outputs": [
    {
     "data": {
      "text/plain": [
       "<matplotlib.collections.PathCollection at 0x21887949a30>"
      ]
     },
     "execution_count": 100,
     "metadata": {},
     "output_type": "execute_result"
    },
    {
     "data": {
      "image/png": "[encoded data removed]",
      "text/plain": [
       "<Figure size 640x480 with 1 Axes>"
      ]
     },
     "metadata": {},
     "output_type": "display_data"
    }
   ],
   "source": [
    "plt.scatter(df_cotes['PSL'], df_cotes['B365L'])"
   ]
  },
  {
   "cell_type": "code",
   "execution_count": 101,
   "id": "cba90d10",
   "metadata": {},
   "outputs": [
    {
     "name": "stderr",
     "output_type": "stream",
     "text": [
      "D:\\TEMP\\ipykernel_13876\\825251265.py:1: SettingWithCopyWarning: \n",
      "A value is trying to be set on a copy of a slice from a DataFrame.\n",
      "Try using .loc[row_indexer,col_indexer] = value instead\n",
      "\n",
      "See the caveats in the documentation: https://pandas.pydata.org/pandas-docs/stable/user_guide/indexing.html#returning-a-view-versus-a-copy\n",
      "  df_cotes['prob_PSW'] = 1/df_cotes['PSW']\n"
     ]
    }
   ],
   "source": [
    "df_cotes['prob_PSW'] = 1/df_cotes['PSW']"
   ]
  },
  {
   "cell_type": "code",
   "execution_count": 102,
   "id": "9e227feb",
   "metadata": {},
   "outputs": [
    {
     "name": "stderr",
     "output_type": "stream",
     "text": [
      "D:\\TEMP\\ipykernel_13876\\3872986669.py:1: SettingWithCopyWarning: \n",
      "A value is trying to be set on a copy of a slice from a DataFrame.\n",
      "Try using .loc[row_indexer,col_indexer] = value instead\n",
      "\n",
      "See the caveats in the documentation: https://pandas.pydata.org/pandas-docs/stable/user_guide/indexing.html#returning-a-view-versus-a-copy\n",
      "  df_cotes['prob_PSL'] = 1/df_cotes['PSL']\n"
     ]
    }
   ],
   "source": [
    "df_cotes['prob_PSL'] = 1/df_cotes['PSL']"
   ]
  },
  {
   "cell_type": "code",
   "execution_count": 103,
   "id": "f3503d35",
   "metadata": {},
   "outputs": [
    {
     "name": "stderr",
     "output_type": "stream",
     "text": [
      "D:\\TEMP\\ipykernel_13876\\3076493028.py:1: SettingWithCopyWarning: \n",
      "A value is trying to be set on a copy of a slice from a DataFrame.\n",
      "Try using .loc[row_indexer,col_indexer] = value instead\n",
      "\n",
      "See the caveats in the documentation: https://pandas.pydata.org/pandas-docs/stable/user_guide/indexing.html#returning-a-view-versus-a-copy\n",
      "  df_cotes['PSMargin'] = df_cotes['prob_PSW'] + df_cotes['prob_PSL'] - 1\n"
     ]
    }
   ],
   "source": [
    "df_cotes['PSMargin'] = df_cotes['prob_PSW'] + df_cotes['prob_PSL'] - 1"
   ]
  },
  {
   "cell_type": "code",
   "execution_count": 104,
   "id": "2ba590a6",
   "metadata": {},
   "outputs": [
    {
     "name": "stderr",
     "output_type": "stream",
     "text": [
      "D:\\TEMP\\ipykernel_13876\\1720860401.py:1: SettingWithCopyWarning: \n",
      "A value is trying to be set on a copy of a slice from a DataFrame.\n",
      "Try using .loc[row_indexer,col_indexer] = value instead\n",
      "\n",
      "See the caveats in the documentation: https://pandas.pydata.org/pandas-docs/stable/user_guide/indexing.html#returning-a-view-versus-a-copy\n",
      "  df_cotes.loc[:,'prob_B365W'] = 1/df_cotes['B365W']\n",
      "D:\\TEMP\\ipykernel_13876\\1720860401.py:2: SettingWithCopyWarning: \n",
      "A value is trying to be set on a copy of a slice from a DataFrame.\n",
      "Try using .loc[row_indexer,col_indexer] = value instead\n",
      "\n",
      "See the caveats in the documentation: https://pandas.pydata.org/pandas-docs/stable/user_guide/indexing.html#returning-a-view-versus-a-copy\n",
      "  df_cotes.loc[:,'prob_B365L'] = 1/df_cotes['B365L']\n",
      "D:\\TEMP\\ipykernel_13876\\1720860401.py:3: SettingWithCopyWarning: \n",
      "A value is trying to be set on a copy of a slice from a DataFrame.\n",
      "Try using .loc[row_indexer,col_indexer] = value instead\n",
      "\n",
      "See the caveats in the documentation: https://pandas.pydata.org/pandas-docs/stable/user_guide/indexing.html#returning-a-view-versus-a-copy\n",
      "  df_cotes.loc[:,'B365Margin'] = df_cotes['prob_B365W'] + df_cotes['prob_B365L'] - 1\n"
     ]
    }
   ],
   "source": [
    "df_cotes.loc[:,'prob_B365W'] = 1/df_cotes['B365W']\n",
    "df_cotes.loc[:,'prob_B365L'] = 1/df_cotes['B365L']\n",
    "df_cotes.loc[:,'B365Margin'] = df_cotes['prob_B365W'] + df_cotes['prob_B365L'] - 1"
   ]
  },
  {
   "cell_type": "code",
   "execution_count": 105,
   "id": "2564ee29",
   "metadata": {},
   "outputs": [
    {
     "data": {
      "text/html": [
       "<div>\n",
       "<style scoped>\n",
       "    .dataframe tbody tr th:only-of-type {\n",
       "        vertical-align: middle;\n",
       "    }\n",
       "\n",
       "    .dataframe tbody tr th {\n",
       "        vertical-align: top;\n",
       "    }\n",
       "\n",
       "    .dataframe thead th {\n",
       "        text-align: right;\n",
       "    }\n",
       "</style>\n",
       "<table border=\"1\" class=\"dataframe\">\n",
       "  <thead>\n",
       "    <tr style=\"text-align: right;\">\n",
       "      <th></th>\n",
       "      <th>ATP</th>\n",
       "      <th>Location</th>\n",
       "      <th>Tournament</th>\n",
       "      <th>Date</th>\n",
       "      <th>Series</th>\n",
       "      <th>Court</th>\n",
       "      <th>Surface</th>\n",
       "      <th>Round</th>\n",
       "      <th>Best of</th>\n",
       "      <th>Winner</th>\n",
       "      <th>...</th>\n",
       "      <th>B365L</th>\n",
       "      <th>elo_winner</th>\n",
       "      <th>elo_loser</th>\n",
       "      <th>proba_elo</th>\n",
       "      <th>prob_PSW</th>\n",
       "      <th>prob_PSL</th>\n",
       "      <th>PSMargin</th>\n",
       "      <th>prob_B365W</th>\n",
       "      <th>prob_B365L</th>\n",
       "      <th>B365Margin</th>\n",
       "    </tr>\n",
       "  </thead>\n",
       "  <tbody>\n",
       "    <tr>\n",
       "      <th>8678</th>\n",
       "      <td>3</td>\n",
       "      <td>Doha</td>\n",
       "      <td>Qatar Exxon Mobil Open</td>\n",
       "      <td>2004-01-05</td>\n",
       "      <td>International</td>\n",
       "      <td>Outdoor</td>\n",
       "      <td>Hard</td>\n",
       "      <td>1st Round</td>\n",
       "      <td>3</td>\n",
       "      <td>Ulihrach B.</td>\n",
       "      <td>...</td>\n",
       "      <td>1.615</td>\n",
       "      <td>1486.195239</td>\n",
       "      <td>1618.182210</td>\n",
       "      <td>0.318694</td>\n",
       "      <td>0.452489</td>\n",
       "      <td>0.581734</td>\n",
       "      <td>0.034222</td>\n",
       "      <td>0.454545</td>\n",
       "      <td>0.619195</td>\n",
       "      <td>0.073741</td>\n",
       "    </tr>\n",
       "    <tr>\n",
       "      <th>8679</th>\n",
       "      <td>3</td>\n",
       "      <td>Doha</td>\n",
       "      <td>Qatar Exxon Mobil Open</td>\n",
       "      <td>2004-01-05</td>\n",
       "      <td>International</td>\n",
       "      <td>Outdoor</td>\n",
       "      <td>Hard</td>\n",
       "      <td>1st Round</td>\n",
       "      <td>3</td>\n",
       "      <td>Youzhny M.</td>\n",
       "      <td>...</td>\n",
       "      <td>1.364</td>\n",
       "      <td>1615.057648</td>\n",
       "      <td>1820.759485</td>\n",
       "      <td>0.234313</td>\n",
       "      <td>0.307692</td>\n",
       "      <td>0.722022</td>\n",
       "      <td>0.029714</td>\n",
       "      <td>0.347826</td>\n",
       "      <td>0.733138</td>\n",
       "      <td>0.080964</td>\n",
       "    </tr>\n",
       "    <tr>\n",
       "      <th>8680</th>\n",
       "      <td>3</td>\n",
       "      <td>Doha</td>\n",
       "      <td>Qatar Exxon Mobil Open</td>\n",
       "      <td>2004-01-05</td>\n",
       "      <td>International</td>\n",
       "      <td>Outdoor</td>\n",
       "      <td>Hard</td>\n",
       "      <td>1st Round</td>\n",
       "      <td>3</td>\n",
       "      <td>Sargsian S.</td>\n",
       "      <td>...</td>\n",
       "      <td>2.250</td>\n",
       "      <td>1654.468551</td>\n",
       "      <td>1588.330984</td>\n",
       "      <td>0.594046</td>\n",
       "      <td>0.572738</td>\n",
       "      <td>0.458716</td>\n",
       "      <td>0.031453</td>\n",
       "      <td>0.636537</td>\n",
       "      <td>0.444444</td>\n",
       "      <td>0.080982</td>\n",
       "    </tr>\n",
       "    <tr>\n",
       "      <th>8682</th>\n",
       "      <td>2</td>\n",
       "      <td>Chennai</td>\n",
       "      <td>TATA Open</td>\n",
       "      <td>2004-01-05</td>\n",
       "      <td>International</td>\n",
       "      <td>Outdoor</td>\n",
       "      <td>Hard</td>\n",
       "      <td>1st Round</td>\n",
       "      <td>3</td>\n",
       "      <td>Lisnard J.R.</td>\n",
       "      <td>...</td>\n",
       "      <td>2.250</td>\n",
       "      <td>1533.308961</td>\n",
       "      <td>1473.299803</td>\n",
       "      <td>0.585511</td>\n",
       "      <td>0.640205</td>\n",
       "      <td>0.387597</td>\n",
       "      <td>0.027802</td>\n",
       "      <td>0.636537</td>\n",
       "      <td>0.444444</td>\n",
       "      <td>0.080982</td>\n",
       "    </tr>\n",
       "    <tr>\n",
       "      <th>8683</th>\n",
       "      <td>2</td>\n",
       "      <td>Chennai</td>\n",
       "      <td>TATA Open</td>\n",
       "      <td>2004-01-05</td>\n",
       "      <td>International</td>\n",
       "      <td>Outdoor</td>\n",
       "      <td>Hard</td>\n",
       "      <td>1st Round</td>\n",
       "      <td>3</td>\n",
       "      <td>Levy H.</td>\n",
       "      <td>...</td>\n",
       "      <td>2.250</td>\n",
       "      <td>1401.283125</td>\n",
       "      <td>1418.621881</td>\n",
       "      <td>0.475068</td>\n",
       "      <td>0.609385</td>\n",
       "      <td>0.423729</td>\n",
       "      <td>0.033113</td>\n",
       "      <td>0.636943</td>\n",
       "      <td>0.444444</td>\n",
       "      <td>0.081387</td>\n",
       "    </tr>\n",
       "    <tr>\n",
       "      <th>...</th>\n",
       "      <td>...</td>\n",
       "      <td>...</td>\n",
       "      <td>...</td>\n",
       "      <td>...</td>\n",
       "      <td>...</td>\n",
       "      <td>...</td>\n",
       "      <td>...</td>\n",
       "      <td>...</td>\n",
       "      <td>...</td>\n",
       "      <td>...</td>\n",
       "      <td>...</td>\n",
       "      <td>...</td>\n",
       "      <td>...</td>\n",
       "      <td>...</td>\n",
       "      <td>...</td>\n",
       "      <td>...</td>\n",
       "      <td>...</td>\n",
       "      <td>...</td>\n",
       "      <td>...</td>\n",
       "      <td>...</td>\n",
       "      <td>...</td>\n",
       "    </tr>\n",
       "    <tr>\n",
       "      <th>44703</th>\n",
       "      <td>17</td>\n",
       "      <td>Dubai</td>\n",
       "      <td>Dubai Tennis Championships</td>\n",
       "      <td>2018-03-03</td>\n",
       "      <td>ATP500</td>\n",
       "      <td>Outdoor</td>\n",
       "      <td>Hard</td>\n",
       "      <td>The Final</td>\n",
       "      <td>3</td>\n",
       "      <td>Bautista Agut R.</td>\n",
       "      <td>...</td>\n",
       "      <td>2.200</td>\n",
       "      <td>1835.901543</td>\n",
       "      <td>1842.459807</td>\n",
       "      <td>0.490563</td>\n",
       "      <td>0.606061</td>\n",
       "      <td>0.411523</td>\n",
       "      <td>0.017583</td>\n",
       "      <td>0.602410</td>\n",
       "      <td>0.454545</td>\n",
       "      <td>0.056955</td>\n",
       "    </tr>\n",
       "    <tr>\n",
       "      <th>44704</th>\n",
       "      <td>16</td>\n",
       "      <td>Acapulco</td>\n",
       "      <td>Abierto Mexicano</td>\n",
       "      <td>2018-03-03</td>\n",
       "      <td>ATP500</td>\n",
       "      <td>Outdoor</td>\n",
       "      <td>Hard</td>\n",
       "      <td>Semifinals</td>\n",
       "      <td>3</td>\n",
       "      <td>Anderson K.</td>\n",
       "      <td>...</td>\n",
       "      <td>3.500</td>\n",
       "      <td>1843.576914</td>\n",
       "      <td>1647.967561</td>\n",
       "      <td>0.755103</td>\n",
       "      <td>0.746269</td>\n",
       "      <td>0.275482</td>\n",
       "      <td>0.021751</td>\n",
       "      <td>0.769231</td>\n",
       "      <td>0.285714</td>\n",
       "      <td>0.054945</td>\n",
       "    </tr>\n",
       "    <tr>\n",
       "      <th>44705</th>\n",
       "      <td>18</td>\n",
       "      <td>Sao Paulo</td>\n",
       "      <td>Brasil Open</td>\n",
       "      <td>2018-03-03</td>\n",
       "      <td>ATP250</td>\n",
       "      <td>Indoor</td>\n",
       "      <td>Clay</td>\n",
       "      <td>Semifinals</td>\n",
       "      <td>3</td>\n",
       "      <td>Jarry N.</td>\n",
       "      <td>...</td>\n",
       "      <td>1.900</td>\n",
       "      <td>1588.293069</td>\n",
       "      <td>1619.758421</td>\n",
       "      <td>0.454841</td>\n",
       "      <td>0.540541</td>\n",
       "      <td>0.478469</td>\n",
       "      <td>0.019009</td>\n",
       "      <td>0.526316</td>\n",
       "      <td>0.526316</td>\n",
       "      <td>0.052632</td>\n",
       "    </tr>\n",
       "    <tr>\n",
       "      <th>44706</th>\n",
       "      <td>16</td>\n",
       "      <td>Acapulco</td>\n",
       "      <td>Abierto Mexicano</td>\n",
       "      <td>2018-03-04</td>\n",
       "      <td>ATP500</td>\n",
       "      <td>Outdoor</td>\n",
       "      <td>Hard</td>\n",
       "      <td>The Final</td>\n",
       "      <td>3</td>\n",
       "      <td>Del Potro J.M.</td>\n",
       "      <td>...</td>\n",
       "      <td>2.620</td>\n",
       "      <td>1966.532849</td>\n",
       "      <td>1851.413609</td>\n",
       "      <td>0.659862</td>\n",
       "      <td>0.657895</td>\n",
       "      <td>0.363636</td>\n",
       "      <td>0.021531</td>\n",
       "      <td>0.666667</td>\n",
       "      <td>0.381679</td>\n",
       "      <td>0.048346</td>\n",
       "    </tr>\n",
       "    <tr>\n",
       "      <th>44707</th>\n",
       "      <td>18</td>\n",
       "      <td>Sao Paulo</td>\n",
       "      <td>Brasil Open</td>\n",
       "      <td>2018-03-04</td>\n",
       "      <td>ATP250</td>\n",
       "      <td>Indoor</td>\n",
       "      <td>Clay</td>\n",
       "      <td>The Final</td>\n",
       "      <td>3</td>\n",
       "      <td>Fognini F.</td>\n",
       "      <td>...</td>\n",
       "      <td>3.250</td>\n",
       "      <td>1814.065865</td>\n",
       "      <td>1605.738153</td>\n",
       "      <td>0.768388</td>\n",
       "      <td>0.724638</td>\n",
       "      <td>0.295858</td>\n",
       "      <td>0.020496</td>\n",
       "      <td>0.735294</td>\n",
       "      <td>0.307692</td>\n",
       "      <td>0.042986</td>\n",
       "    </tr>\n",
       "  </tbody>\n",
       "</table>\n",
       "<p>32191 rows × 29 columns</p>\n",
       "</div>"
      ],
      "text/plain": [
       "       ATP   Location                  Tournament        Date         Series  \\\n",
       "8678     3       Doha      Qatar Exxon Mobil Open  2004-01-05  International   \n",
       "8679     3       Doha      Qatar Exxon Mobil Open  2004-01-05  International   \n",
       "8680     3       Doha      Qatar Exxon Mobil Open  2004-01-05  International   \n",
       "8682     2    Chennai                   TATA Open  2004-01-05  International   \n",
       "8683     2    Chennai                   TATA Open  2004-01-05  International   \n",
       "...    ...        ...                         ...         ...            ...   \n",
       "44703   17     Dubai   Dubai Tennis Championships  2018-03-03         ATP500   \n",
       "44704   16   Acapulco            Abierto Mexicano  2018-03-03         ATP500   \n",
       "44705   18  Sao Paulo                 Brasil Open  2018-03-03         ATP250   \n",
       "44706   16   Acapulco            Abierto Mexicano  2018-03-04         ATP500   \n",
       "44707   18  Sao Paulo                 Brasil Open  2018-03-04         ATP250   \n",
       "\n",
       "         Court Surface       Round  Best of            Winner  ...  B365L  \\\n",
       "8678   Outdoor    Hard   1st Round        3       Ulihrach B.  ...  1.615   \n",
       "8679   Outdoor    Hard   1st Round        3        Youzhny M.  ...  1.364   \n",
       "8680   Outdoor    Hard   1st Round        3       Sargsian S.  ...  2.250   \n",
       "8682   Outdoor    Hard   1st Round        3      Lisnard J.R.  ...  2.250   \n",
       "8683   Outdoor    Hard   1st Round        3           Levy H.  ...  2.250   \n",
       "...        ...     ...         ...      ...               ...  ...    ...   \n",
       "44703  Outdoor    Hard   The Final        3  Bautista Agut R.  ...  2.200   \n",
       "44704  Outdoor    Hard  Semifinals        3       Anderson K.  ...  3.500   \n",
       "44705   Indoor    Clay  Semifinals        3          Jarry N.  ...  1.900   \n",
       "44706  Outdoor    Hard   The Final        3    Del Potro J.M.  ...  2.620   \n",
       "44707   Indoor    Clay   The Final        3        Fognini F.  ...  3.250   \n",
       "\n",
       "        elo_winner    elo_loser  proba_elo  prob_PSW  prob_PSL  PSMargin  \\\n",
       "8678   1486.195239  1618.182210   0.318694  0.452489  0.581734  0.034222   \n",
       "8679   1615.057648  1820.759485   0.234313  0.307692  0.722022  0.029714   \n",
       "8680   1654.468551  1588.330984   0.594046  0.572738  0.458716  0.031453   \n",
       "8682   1533.308961  1473.299803   0.585511  0.640205  0.387597  0.027802   \n",
       "8683   1401.283125  1418.621881   0.475068  0.609385  0.423729  0.033113   \n",
       "...            ...          ...        ...       ...       ...       ...   \n",
       "44703  1835.901543  1842.459807   0.490563  0.606061  0.411523  0.017583   \n",
       "44704  1843.576914  1647.967561   0.755103  0.746269  0.275482  0.021751   \n",
       "44705  1588.293069  1619.758421   0.454841  0.540541  0.478469  0.019009   \n",
       "44706  1966.532849  1851.413609   0.659862  0.657895  0.363636  0.021531   \n",
       "44707  1814.065865  1605.738153   0.768388  0.724638  0.295858  0.020496   \n",
       "\n",
       "       prob_B365W  prob_B365L  B365Margin  \n",
       "8678     0.454545    0.619195    0.073741  \n",
       "8679     0.347826    0.733138    0.080964  \n",
       "8680     0.636537    0.444444    0.080982  \n",
       "8682     0.636537    0.444444    0.080982  \n",
       "8683     0.636943    0.444444    0.081387  \n",
       "...           ...         ...         ...  \n",
       "44703    0.602410    0.454545    0.056955  \n",
       "44704    0.769231    0.285714    0.054945  \n",
       "44705    0.526316    0.526316    0.052632  \n",
       "44706    0.666667    0.381679    0.048346  \n",
       "44707    0.735294    0.307692    0.042986  \n",
       "\n",
       "[32191 rows x 29 columns]"
      ]
     },
     "execution_count": 105,
     "metadata": {},
     "output_type": "execute_result"
    }
   ],
   "source": [
    "df_cotes"
   ]
  },
  {
   "cell_type": "code",
   "execution_count": 106,
   "id": "1ec307fc",
   "metadata": {},
   "outputs": [
    {
     "data": {
      "text/plain": [
       "(0.0, 0.1)"
      ]
     },
     "execution_count": 106,
     "metadata": {},
     "output_type": "execute_result"
    },
    {
     "data": {
      "image/png": "[encoded data removed]",
      "text/plain": [
       "<Figure size 640x480 with 1 Axes>"
      ]
     },
     "metadata": {},
     "output_type": "display_data"
    }
   ],
   "source": [
    "plt.boxplot([df_cotes['PSMargin'], df_cotes['B365Margin']])\n",
    "plt.ylim([0,0.1])"
   ]
  },
  {
   "cell_type": "code",
   "execution_count": 107,
   "id": "73fd5400",
   "metadata": {},
   "outputs": [
    {
     "data": {
      "text/plain": [
       "(0.0, 0.1)"
      ]
     },
     "execution_count": 107,
     "metadata": {},
     "output_type": "execute_result"
    },
    {
     "data": {
      "image/png": "[encoded data removed]",
      "text/plain": [
       "<Figure size 640x480 with 1 Axes>"
      ]
     },
     "metadata": {},
     "output_type": "display_data"
    }
   ],
   "source": [
    "sns.violinplot(df_cotes[['PSMargin', 'B365Margin']])\n",
    "plt.ylim([0,0.1])"
   ]
  },
  {
   "cell_type": "code",
   "execution_count": 108,
   "id": "abf95e1b",
   "metadata": {},
   "outputs": [
    {
     "data": {
      "text/plain": [
       "<AxesSubplot:ylabel='count'>"
      ]
     },
     "execution_count": 108,
     "metadata": {},
     "output_type": "execute_result"
    },
    {
     "data": {
      "image/png": "[encoded data removed]",
      "text/plain": [
       "<Figure size 640x480 with 1 Axes>"
      ]
     },
     "metadata": {},
     "output_type": "display_data"
    }
   ],
   "source": [
    "sns.countplot([df_cotes['PSMargin'].value_counts(),df_cotes['B365Margin'].value_counts()])"
   ]
  },
  {
   "cell_type": "code",
   "execution_count": 109,
   "id": "b01df4dc",
   "metadata": {},
   "outputs": [
    {
     "data": {
      "text/plain": [
       "([<matplotlib.axis.XTick at 0x2188844c4c0>,\n",
       "  <matplotlib.axis.XTick at 0x2188844c490>],\n",
       " [Text(0, 0, 'PS'), Text(1, 0, 'B365')])"
      ]
     },
     "execution_count": 109,
     "metadata": {},
     "output_type": "execute_result"
    },
    {
     "data": {
      "image/png": "[encoded data removed]",
      "text/plain": [
       "<Figure size 640x480 with 1 Axes>"
      ]
     },
     "metadata": {},
     "output_type": "display_data"
    }
   ],
   "source": [
    "sns.countplot([(df_cotes['PSW'].astype('str') + df_cotes['PSL'].astype('str')).value_counts(),(df_cotes['B365W'].astype('str') + df_cotes['B365L'].astype('str')).value_counts()], label=['PS', 'B365'])\n",
    "plt.xticks([0,1], ['PS', 'B365'])"
   ]
  },
  {
   "cell_type": "code",
   "execution_count": 110,
   "id": "9668ecf5",
   "metadata": {},
   "outputs": [
    {
     "data": {
      "text/plain": [
       "{'whiskers': [<matplotlib.lines.Line2D at 0x21888159340>,\n",
       "  <matplotlib.lines.Line2D at 0x21888159610>,\n",
       "  <matplotlib.lines.Line2D at 0x21888149730>,\n",
       "  <matplotlib.lines.Line2D at 0x21888149a00>],\n",
       " 'caps': [<matplotlib.lines.Line2D at 0x218881598e0>,\n",
       "  <matplotlib.lines.Line2D at 0x21888159bb0>,\n",
       "  <matplotlib.lines.Line2D at 0x21888149cd0>,\n",
       "  <matplotlib.lines.Line2D at 0x21888149fa0>],\n",
       " 'boxes': [<matplotlib.lines.Line2D at 0x21888159070>,\n",
       "  <matplotlib.lines.Line2D at 0x21888149460>],\n",
       " 'medians': [<matplotlib.lines.Line2D at 0x21888159e80>,\n",
       "  <matplotlib.lines.Line2D at 0x218883a52b0>],\n",
       " 'fliers': [<matplotlib.lines.Line2D at 0x21888149190>,\n",
       "  <matplotlib.lines.Line2D at 0x218883a5580>],\n",
       " 'means': []}"
      ]
     },
     "execution_count": 110,
     "metadata": {},
     "output_type": "execute_result"
    },
    {
     "data": {
      "image/png": "[encoded data removed]",
      "text/plain": [
       "<Figure size 640x480 with 1 Axes>"
      ]
     },
     "metadata": {},
     "output_type": "display_data"
    }
   ],
   "source": [
    "plt.boxplot([df['WRank'], df['LRank']])\n"
   ]
  },
  {
   "cell_type": "code",
   "execution_count": 111,
   "id": "b275f97e",
   "metadata": {},
   "outputs": [
    {
     "data": {
      "text/plain": [
       "(0.0, 250.0)"
      ]
     },
     "execution_count": 111,
     "metadata": {},
     "output_type": "execute_result"
    },
    {
     "data": {
      "image/png": "[encoded data removed]",
      "text/plain": [
       "<Figure size 640x480 with 1 Axes>"
      ]
     },
     "metadata": {},
     "output_type": "display_data"
    }
   ],
   "source": [
    "plt.boxplot([df['WRank'], df['LRank']])\n",
    "plt.ylim([0,250])"
   ]
  },
  {
   "cell_type": "code",
   "execution_count": 112,
   "id": "14cfa109",
   "metadata": {},
   "outputs": [
    {
     "data": {
      "text/plain": [
       "{'whiskers': [<matplotlib.lines.Line2D at 0x21888304a60>,\n",
       "  <matplotlib.lines.Line2D at 0x21888304d30>,\n",
       "  <matplotlib.lines.Line2D at 0x21888584e50>,\n",
       "  <matplotlib.lines.Line2D at 0x2188859a160>],\n",
       " 'caps': [<matplotlib.lines.Line2D at 0x21888584040>,\n",
       "  <matplotlib.lines.Line2D at 0x21888584310>,\n",
       "  <matplotlib.lines.Line2D at 0x2188859a430>,\n",
       "  <matplotlib.lines.Line2D at 0x2188859a700>],\n",
       " 'boxes': [<matplotlib.lines.Line2D at 0x21888304790>,\n",
       "  <matplotlib.lines.Line2D at 0x21888584b80>],\n",
       " 'medians': [<matplotlib.lines.Line2D at 0x218885845e0>,\n",
       "  <matplotlib.lines.Line2D at 0x2188859a9d0>],\n",
       " 'fliers': [<matplotlib.lines.Line2D at 0x218885848b0>,\n",
       "  <matplotlib.lines.Line2D at 0x2188859aca0>],\n",
       " 'means': []}"
      ]
     },
     "execution_count": 112,
     "metadata": {},
     "output_type": "execute_result"
    },
    {
     "data": {
      "image/png": "[encoded data removed]",
      "text/plain": [
       "<Figure size 640x480 with 1 Axes>"
      ]
     },
     "metadata": {},
     "output_type": "display_data"
    }
   ],
   "source": [
    "plt.boxplot([df['elo_winner'], df['elo_loser']])\n"
   ]
  },
  {
   "cell_type": "code",
   "execution_count": 113,
   "id": "62978539",
   "metadata": {},
   "outputs": [
    {
     "data": {
      "text/plain": [
       "Djokovic N.Nadal R.         24\n",
       "Nadal R.Ferrer D.           23\n",
       "Nadal R.Federer R.          22\n",
       "Djokovic N.Berdych T.       21\n",
       "Djokovic N.Murray A.        21\n",
       "Nadal R.Djokovic N.         21\n",
       "Djokovic N.Federer R.       20\n",
       "Federer R.Roddick A.        20\n",
       "Federer R.Davydenko N.      18\n",
       "Federer R.Youzhny M.        18\n",
       "Federer R.Wawrinka S.       18\n",
       "Federer R.Djokovic N.       18\n",
       "Nadal R.Berdych T.          17\n",
       "Federer R.Hewitt L.         17\n",
       "Federer R.Del Potro J.M.    17\n",
       "Federer R.Berdych T.        17\n",
       "Nadal R.Verdasco F.         16\n",
       "Nadal R.Wawrinka S.         16\n",
       "Federer R.Soderling R.      16\n",
       "Djokovic N.Wawrinka S.      16\n",
       "dtype: int64"
      ]
     },
     "execution_count": 113,
     "metadata": {},
     "output_type": "execute_result"
    }
   ],
   "source": [
    "(df['Winner'] + df['Loser']).value_counts()[:20]"
   ]
  },
  {
   "cell_type": "code",
   "execution_count": 115,
   "id": "576d91b8",
   "metadata": {},
   "outputs": [
    {
     "data": {
      "text/plain": [
       "PearsonRResult(statistic=0.8925115117225058, pvalue=0.0)"
      ]
     },
     "execution_count": 115,
     "metadata": {},
     "output_type": "execute_result"
    }
   ],
   "source": [
    "from scipy.stats import pearsonr\n",
    "\n",
    "pearsonr(df_cotes['PSL'], df_cotes['B365L'])"
   ]
  },
  {
   "cell_type": "code",
   "execution_count": 117,
   "id": "f5821d35",
   "metadata": {},
   "outputs": [],
   "source": [
    "table = pd.crosstab(df['ATP'], df['Location'])"
   ]
  },
  {
   "cell_type": "code",
   "execution_count": 120,
   "id": "72bbe1af",
   "metadata": {},
   "outputs": [
    {
     "name": "stdout",
     "output_type": "stream",
     "text": [
      "0.6422850646361539\n"
     ]
    }
   ],
   "source": [
    "from scipy.stats import chi2_contingency\n",
    "import numpy as np\n",
    "def V_Cramer(tab, n):\n",
    "    stat_chi2 = chi2_contingency(tab)[0]\n",
    "    k = tab.shape[0]\n",
    "    r = tab.shape[1]\n",
    "    k_tild = k - (k - 1)**2/(n - 1)\n",
    "    r_tild = r - (r - 1)**2/(n - 1)\n",
    "    phi2 = max(0, stat_chi2/n - (k - 1)*(r - 1)/(n - 1))\n",
    "    return np.sqrt(phi2/min(k_tild - 1, r_tild - 1))\n",
    "\n",
    "print(V_Cramer(table, df.shape[0]))"
   ]
  },
  {
   "cell_type": "code",
   "execution_count": 121,
   "id": "ae75a470",
   "metadata": {},
   "outputs": [],
   "source": [
    "# Detection de la cote du gagnant > à la cote du perdant"
   ]
  },
  {
   "cell_type": "code",
   "execution_count": 128,
   "id": "2b8dfd90",
   "metadata": {},
   "outputs": [
    {
     "name": "stdout",
     "output_type": "stream",
     "text": [
      "0.2939952160541766\n"
     ]
    }
   ],
   "source": [
    "# PS\n",
    "PSW_greater = df_cotes[df_cotes['PSW'] > df_cotes['PSL']]\n",
    "PSW_greater_rate = len(PSW_greater)/len(df_cotes)\n",
    "print(PSW_greater_rate)"
   ]
  },
  {
   "cell_type": "code",
   "execution_count": 129,
   "id": "4b44f812",
   "metadata": {},
   "outputs": [
    {
     "name": "stdout",
     "output_type": "stream",
     "text": [
      "0.2861669410704855\n"
     ]
    }
   ],
   "source": [
    "# B365\n",
    "B365W_greater = df_cotes[df_cotes['B365W'] > df_cotes['B365L']]\n",
    "B365W_greater_rate = len(B365W_greater)/len(df_cotes)\n",
    "print(B365W_greater_rate)"
   ]
  },
  {
   "cell_type": "code",
   "execution_count": 130,
   "id": "b0ecc326",
   "metadata": {},
   "outputs": [
    {
     "name": "stdout",
     "output_type": "stream",
     "text": [
      "0.14609621139249387\n"
     ]
    }
   ],
   "source": [
    "#test de corrélation ATP-Winner\n",
    "table_ATPW = pd.crosstab(df['ATP'], df['Winner'])\n",
    "print(V_Cramer(table_ATPW, df.shape[0]))"
   ]
  },
  {
   "cell_type": "code",
   "execution_count": 131,
   "id": "5fe0e5d9",
   "metadata": {},
   "outputs": [
    {
     "name": "stdout",
     "output_type": "stream",
     "text": [
      "0.19766789972060442\n"
     ]
    }
   ],
   "source": [
    "#test de corrélation Location-Winner\n",
    "table_LocationW = pd.crosstab(df['Location'], df['Winner'])\n",
    "print(V_Cramer(table_LocationW, df.shape[0]))"
   ]
  },
  {
   "cell_type": "code",
   "execution_count": 132,
   "id": "4928677a",
   "metadata": {},
   "outputs": [
    {
     "name": "stdout",
     "output_type": "stream",
     "text": [
      "0.18028007375260174\n"
     ]
    }
   ],
   "source": [
    "#test de corrélation Tournament-Winner\n",
    "table_TournamentW = pd.crosstab(df['Tournament'], df['Winner'])\n",
    "print(V_Cramer(table_TournamentW, df.shape[0]))"
   ]
  },
  {
   "cell_type": "code",
   "execution_count": 133,
   "id": "87d51ae9",
   "metadata": {},
   "outputs": [
    {
     "name": "stdout",
     "output_type": "stream",
     "text": [
      "0.2938900787307353\n"
     ]
    }
   ],
   "source": [
    "#test de corrélation Series-Winner\n",
    "table_SeriesW = pd.crosstab(df['Series'], df['Winner'])\n",
    "print(V_Cramer(table_SeriesW, df.shape[0]))"
   ]
  },
  {
   "cell_type": "code",
   "execution_count": 134,
   "id": "35c0dcb2",
   "metadata": {},
   "outputs": [
    {
     "name": "stdout",
     "output_type": "stream",
     "text": [
      "0.23031124449119728\n"
     ]
    }
   ],
   "source": [
    "#test de corrélation Court-Winner\n",
    "table_CourtW = pd.crosstab(df['Court'], df['Winner'])\n",
    "print(V_Cramer(table_CourtW, df.shape[0]))"
   ]
  },
  {
   "cell_type": "code",
   "execution_count": 135,
   "id": "3246b17b",
   "metadata": {},
   "outputs": [
    {
     "name": "stdout",
     "output_type": "stream",
     "text": [
      "0.2971240345984986\n"
     ]
    }
   ],
   "source": [
    "#test de corrélation Surface-Winner\n",
    "table_SurfaceW = pd.crosstab(df['Surface'], df['Winner'])\n",
    "print(V_Cramer(table_SurfaceW, df.shape[0]))"
   ]
  },
  {
   "cell_type": "code",
   "execution_count": 136,
   "id": "d8822158",
   "metadata": {},
   "outputs": [
    {
     "name": "stdout",
     "output_type": "stream",
     "text": [
      "0.10478810534524718\n"
     ]
    }
   ],
   "source": [
    "#test de corrélation Round-Winner\n",
    "table_RoundW = pd.crosstab(df['Round'], df['Winner'])\n",
    "print(V_Cramer(table_RoundW, df.shape[0]))"
   ]
  },
  {
   "cell_type": "code",
   "execution_count": 137,
   "id": "03ffb575",
   "metadata": {},
   "outputs": [
    {
     "name": "stdout",
     "output_type": "stream",
     "text": [
      "0.2502603492342508\n"
     ]
    }
   ],
   "source": [
    "#test de corrélation Loser-Winner\n",
    "table_LoserW = pd.crosstab(df['Loser'], df['Winner'])\n",
    "print(V_Cramer(table_LoserW, df.shape[0]))"
   ]
  },
  {
   "cell_type": "code",
   "execution_count": 138,
   "id": "cc4c5765",
   "metadata": {},
   "outputs": [
    {
     "ename": "ModuleNotFoundError",
     "evalue": "No module named 'datapackage'",
     "output_type": "error",
     "traceback": [
      "\u001b[1;31m---------------------------------------------------------------------------\u001b[0m",
      "\u001b[1;31mModuleNotFoundError\u001b[0m                       Traceback (most recent call last)",
      "\u001b[1;32mD:\\TEMP\\ipykernel_13876\\1482835933.py\u001b[0m in \u001b[0;36m<module>\u001b[1;34m\u001b[0m\n\u001b[1;32m----> 1\u001b[1;33m \u001b[1;32mfrom\u001b[0m \u001b[0mdatapackage\u001b[0m \u001b[1;32mimport\u001b[0m \u001b[0mPackage\u001b[0m\u001b[1;33m\u001b[0m\u001b[1;33m\u001b[0m\u001b[0m\n\u001b[0m\u001b[0;32m      2\u001b[0m \u001b[1;33m\u001b[0m\u001b[0m\n\u001b[0;32m      3\u001b[0m \u001b[0mpackage\u001b[0m \u001b[1;33m=\u001b[0m \u001b[0mPackage\u001b[0m\u001b[1;33m(\u001b[0m\u001b[1;34m'https://datahub.io/sports-data/atp-world-tour-tennis-data/datapackage.json'\u001b[0m\u001b[1;33m)\u001b[0m\u001b[1;33m\u001b[0m\u001b[1;33m\u001b[0m\u001b[0m\n\u001b[0;32m      4\u001b[0m \u001b[1;33m\u001b[0m\u001b[0m\n\u001b[0;32m      5\u001b[0m \u001b[1;31m# print list of all resources:\u001b[0m\u001b[1;33m\u001b[0m\u001b[1;33m\u001b[0m\u001b[0m\n",
      "\u001b[1;31mModuleNotFoundError\u001b[0m: No module named 'datapackage'"
     ]
    }
   ],
   "source": [
    "from datapackage import Package\n",
    "\n",
    "package = Package('https://datahub.io/sports-data/atp-world-tour-tennis-data/datapackage.json')\n",
    "\n",
    "# print list of all resources:\n",
    "print(package.resource_names)\n",
    "\n",
    "# print processed tabular data (if exists any)\n",
    "for resource in package.resources:\n",
    "    if resource.descriptor['datahub']['type'] == 'derived/csv':\n",
    "        print(resource.read())"
   ]
  },
  {
   "cell_type": "code",
   "execution_count": null,
   "id": "1bf34513",
   "metadata": {},
   "outputs": [],
   "source": []
  }
 ],
 "metadata": {
  "kernelspec": {
   "display_name": "Python 3 (ipykernel)",
   "language": "python",
   "name": "python3"
  },
  "language_info": {
   "codemirror_mode": {
    "name": "ipython",
    "version": 3
   },
   "file_extension": ".py",
   "mimetype": "text/x-python",
   "name": "python",
   "nbconvert_exporter": "python",
   "pygments_lexer": "ipython3",
   "version": "3.9.13"
  }
 },
 "nbformat": 4,
 "nbformat_minor": 5
}
