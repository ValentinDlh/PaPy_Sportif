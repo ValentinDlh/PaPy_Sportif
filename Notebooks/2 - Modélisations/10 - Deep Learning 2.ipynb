{
 "cells": [
  {
   "cell_type": "code",
   "execution_count": 20,
   "id": "8408b773",
   "metadata": {},
   "outputs": [],
   "source": [
    "import numpy as np # Pour la manipulation de tableaux\n",
    "import tensorflow as tf\n",
    "import pandas as pd # Pour manipuler des DataFrames pandas\n",
    "\n",
    "import matplotlib.pyplot as plt # Pour l'affichage d'images\n",
    "from matplotlib import cm # Pour importer de nouvelles cartes de couleur\n",
    "%matplotlib inline\n",
    "\n",
    "\n",
    "from tensorflow.keras.layers import Input, Dense #Pour instancier une couche Dense et une d'Input\n",
    "from tensorflow.keras import Sequential\n",
    "from tensorflow.keras.models import Model\n",
    "from sklearn.preprocessing import LabelEncoder\n",
    "from sklearn.preprocessing import StandardScaler\n",
    "from tensorflow.keras.callbacks import EarlyStopping, ReduceLROnPlateau"
   ]
  },
  {
   "cell_type": "code",
   "execution_count": 92,
   "id": "e99934f4",
   "metadata": {},
   "outputs": [],
   "source": [
    "df = pd.read_csv('Sources/df_final_rolling_ready_50_with_bookodds.csv')"
   ]
  },
  {
   "cell_type": "code",
   "execution_count": 93,
   "id": "45453284",
   "metadata": {},
   "outputs": [],
   "source": [
    "# Encodage\n",
    "le = LabelEncoder()\n",
    "le.fit(pd.concat([df['player_1_name'], df['player_2_name']], axis=0))\n",
    "df['player_1_name_encoded'] = le.transform(df['player_1_name'])\n",
    "df['player_2_name_encoded'] = le.transform(df['player_2_name'])\n",
    "# Suppression player_1_name & player_2\n",
    "df.drop(['player_1_name', 'player_2_name'], axis=1, inplace=True)\n",
    "# Dichotomisation\n",
    "df = pd.get_dummies(df)\n",
    "# Split\n",
    "nb_rows_train = int(round(len(df)*0.7,0))\n",
    "X_train = df.drop('player_1_win', axis=1)[:nb_rows_train]\n",
    "y_train = df['player_1_win'][:nb_rows_train]\n",
    "X_test = df.drop('player_1_win', axis=1)[nb_rows_train:]\n",
    "y_test = df['player_1_win'][nb_rows_train:]\n",
    "# Standardisation\n",
    "scaler = StandardScaler().fit(X_train)\n",
    "X_train_scaled = scaler.transform(X_train)\n",
    "X_test_scaled = scaler.transform(X_test)"
   ]
  },
  {
   "cell_type": "code",
   "execution_count": 94,
   "id": "5ba1f734",
   "metadata": {},
   "outputs": [],
   "source": [
    "model = Sequential()\n",
    "model.add(Input(shape = (123)))\n",
    "model.add(Dense(units=64, activation='relu'))\n",
    "model.add(Dense(units=16, activation='relu'))\n",
    "model.add(Dense(units=1, activation='sigmoid'))"
   ]
  },
  {
   "cell_type": "code",
   "execution_count": 95,
   "id": "0f267870",
   "metadata": {},
   "outputs": [],
   "source": [
    "#lr_plateau = ReduceLROnPlateau(monitor='val_loss',\n",
    "#                                        patience=2,\n",
    "#                                         verbose=2,\n",
    "#                                         mode='min')\n",
    "es = EarlyStopping(monitor='val_accuracy',\n",
    "                                         patience=3,\n",
    "                                         mode='max',\n",
    "                                         restore_best_weights=True)"
   ]
  },
  {
   "cell_type": "code",
   "execution_count": 96,
   "id": "0fb458d2",
   "metadata": {},
   "outputs": [],
   "source": [
    "model.compile(loss = tf.keras.losses.BinaryCrossentropy(from_logits=True),\n",
    "              optimizer = \"adam\",\n",
    "              metrics = [\"accuracy\"])"
   ]
  },
  {
   "cell_type": "code",
   "execution_count": 97,
   "id": "1ac3cf52",
   "metadata": {},
   "outputs": [
    {
     "name": "stdout",
     "output_type": "stream",
     "text": [
      "Epoch 1/100\n"
     ]
    },
    {
     "name": "stderr",
     "output_type": "stream",
     "text": [
      "C:\\Users\\enovap\\anaconda3\\lib\\site-packages\\tensorflow\\python\\util\\dispatch.py:1082: UserWarning: \"`binary_crossentropy` received `from_logits=True`, but the `output` argument was produced by a sigmoid or softmax activation and thus does not represent logits. Was this intended?\"\n",
      "  return dispatch_target(*args, **kwargs)\n"
     ]
    },
    {
     "name": "stdout",
     "output_type": "stream",
     "text": [
      "628/628 [==============================] - 1s 2ms/step - loss: 0.6086 - accuracy: 0.6634 - val_loss: 0.6050 - val_accuracy: 0.6629\n",
      "Epoch 2/100\n",
      "628/628 [==============================] - 1s 1ms/step - loss: 0.5750 - accuracy: 0.6929 - val_loss: 0.6047 - val_accuracy: 0.6658\n",
      "Epoch 3/100\n",
      "628/628 [==============================] - 1s 1ms/step - loss: 0.5653 - accuracy: 0.7028 - val_loss: 0.6075 - val_accuracy: 0.6663\n",
      "Epoch 4/100\n",
      "628/628 [==============================] - 1s 2ms/step - loss: 0.5606 - accuracy: 0.7040 - val_loss: 0.6055 - val_accuracy: 0.6716\n",
      "Epoch 5/100\n",
      "628/628 [==============================] - 1s 2ms/step - loss: 0.5544 - accuracy: 0.7103 - val_loss: 0.6081 - val_accuracy: 0.6638\n",
      "Epoch 6/100\n",
      "628/628 [==============================] - 1s 1ms/step - loss: 0.5490 - accuracy: 0.7121 - val_loss: 0.6189 - val_accuracy: 0.6665\n",
      "Epoch 7/100\n",
      "628/628 [==============================] - 1s 1ms/step - loss: 0.5438 - accuracy: 0.7167 - val_loss: 0.6181 - val_accuracy: 0.6521\n"
     ]
    },
    {
     "data": {
      "text/plain": [
       "<keras.callbacks.History at 0x236b224ffa0>"
      ]
     },
     "execution_count": 97,
     "metadata": {},
     "output_type": "execute_result"
    }
   ],
   "source": [
    "model.fit(X_train_scaled, y_train, epochs=100, validation_data=(X_test_scaled, y_test), callbacks=[es])"
   ]
  },
  {
   "cell_type": "code",
   "execution_count": 98,
   "id": "cd5da8a0",
   "metadata": {},
   "outputs": [
    {
     "name": "stdout",
     "output_type": "stream",
     "text": [
      "269/269 [==============================] - 0s 845us/step - loss: 0.6055 - accuracy: 0.6716\n",
      "Accuracy 0.6716278791427612\n"
     ]
    }
   ],
   "source": [
    "loss, accuracy = model.evaluate(X_test_scaled, y_test)\n",
    "print(\"Accuracy\", accuracy)"
   ]
  },
  {
   "cell_type": "code",
   "execution_count": 99,
   "id": "e714a5d3",
   "metadata": {},
   "outputs": [
    {
     "name": "stdout",
     "output_type": "stream",
     "text": [
      "269/269 [==============================] - 0s 707us/step\n"
     ]
    }
   ],
   "source": [
    "y_pred = model.predict(X_test_scaled)"
   ]
  },
  {
   "cell_type": "code",
   "execution_count": 100,
   "id": "60a93029",
   "metadata": {},
   "outputs": [],
   "source": [
    "y_pred = np.where(y_pred>0.5,1,0)"
   ]
  },
  {
   "cell_type": "code",
   "execution_count": 101,
   "id": "ffd4522a",
   "metadata": {},
   "outputs": [
    {
     "name": "stdout",
     "output_type": "stream",
     "text": [
      "              precision    recall  f1-score   support\n",
      "\n",
      "           0       0.67      0.68      0.68      4351\n",
      "           1       0.67      0.66      0.66      4249\n",
      "\n",
      "    accuracy                           0.67      8600\n",
      "   macro avg       0.67      0.67      0.67      8600\n",
      "weighted avg       0.67      0.67      0.67      8600\n",
      "\n",
      "[[2977 1374]\n",
      " [1450 2799]]\n"
     ]
    }
   ],
   "source": [
    "from sklearn.metrics import classification_report,confusion_matrix\n",
    "print(classification_report(y_test,y_pred))\n",
    "print(confusion_matrix(y_test,y_pred))"
   ]
  },
  {
   "cell_type": "code",
   "execution_count": null,
   "id": "f6e51367",
   "metadata": {},
   "outputs": [],
   "source": []
  }
 ],
 "metadata": {
  "kernelspec": {
   "display_name": "Python 3 (ipykernel)",
   "language": "python",
   "name": "python3"
  },
  "language_info": {
   "codemirror_mode": {
    "name": "ipython",
    "version": 3
   },
   "file_extension": ".py",
   "mimetype": "text/x-python",
   "name": "python",
   "nbconvert_exporter": "python",
   "pygments_lexer": "ipython3",
   "version": "3.9.13"
  }
 },
 "nbformat": 4,
 "nbformat_minor": 5
}
