{
 "cells": [
  {
   "cell_type": "code",
   "execution_count": 1,
   "id": "6f5556b1",
   "metadata": {
    "id": "6f5556b1"
   },
   "outputs": [],
   "source": [
    "import pandas as pd\n",
    "import numpy as np\n",
    "import matplotlib.pyplot as plt\n",
    "import seaborn as sns\n",
    "%matplotlib inline"
   ]
  },
  {
   "cell_type": "code",
   "execution_count": 2,
   "id": "82b856c8",
   "metadata": {
    "id": "82b856c8"
   },
   "outputs": [],
   "source": [
    "from sklearn.preprocessing import StandardScaler\n",
    "from sklearn.linear_model import LogisticRegression\n",
    "from sklearn.metrics import classification_report\n",
    "from sklearn.preprocessing import LabelEncoder\n",
    "from sklearn.model_selection import TimeSeriesSplit, GridSearchCV, cross_val_score"
   ]
  },
  {
   "cell_type": "code",
   "execution_count": 3,
   "id": "NRgeOWyixrtf",
   "metadata": {
    "id": "NRgeOWyixrtf"
   },
   "outputs": [],
   "source": [
    "df = pd.read_csv('Sources/df_final_rolling_ready_50_with_bookodds.csv')"
   ]
  },
  {
   "cell_type": "markdown",
   "id": "50838a1b",
   "metadata": {
    "id": "50838a1b"
   },
   "source": [
    "# Encodage, Dichotomisation..."
   ]
  },
  {
   "cell_type": "code",
   "execution_count": 4,
   "id": "16a73348",
   "metadata": {
    "id": "16a73348"
   },
   "outputs": [],
   "source": [
    "# Encodage de player_1_name et player_2_name\n",
    "le = LabelEncoder()\n",
    "le.fit(pd.concat([df['player_1_name'], df['player_2_name']], axis=0))\n",
    "df['player_1_name_encoded'] = le.transform(df['player_1_name'])\n",
    "df['player_2_name_encoded'] = le.transform(df['player_2_name'])"
   ]
  },
  {
   "cell_type": "code",
   "execution_count": 5,
   "id": "3a3dca58",
   "metadata": {
    "id": "3a3dca58"
   },
   "outputs": [],
   "source": [
    "# Suppression de player_1_name et player_2_name\n",
    "df.drop(['player_1_name', 'player_2_name'], axis=1, inplace=True)"
   ]
  },
  {
   "cell_type": "code",
   "execution_count": 6,
   "id": "401dc998",
   "metadata": {
    "id": "401dc998"
   },
   "outputs": [],
   "source": [
    "# dichotomisation\n",
    "df = pd.get_dummies(df)"
   ]
  },
  {
   "cell_type": "markdown",
   "id": "bcfa734f",
   "metadata": {
    "id": "bcfa734f"
   },
   "source": [
    "# Split & Standardisation"
   ]
  },
  {
   "cell_type": "code",
   "execution_count": 7,
   "id": "b6145024",
   "metadata": {
    "id": "b6145024"
   },
   "outputs": [],
   "source": [
    "# séparation en train et test selon le temps\n",
    "nb_rows_train = int(round(len(df)*0.7,0))\n",
    "X_train = df.drop('player_1_win', axis=1)[:nb_rows_train]\n",
    "y_train = df['player_1_win'][:nb_rows_train]\n",
    "X_test = df.drop('player_1_win', axis=1)[nb_rows_train:]\n",
    "y_test = df['player_1_win'][nb_rows_train:]"
   ]
  },
  {
   "cell_type": "code",
   "execution_count": 8,
   "id": "f2736285",
   "metadata": {
    "id": "f2736285"
   },
   "outputs": [],
   "source": [
    "# Normalisation et Standardisation des features\n",
    "from sklearn.preprocessing import StandardScaler\n",
    "\n",
    "scaler = StandardScaler().fit(X_train)\n",
    "X_train_scaled = scaler.transform(X_train)\n",
    "X_test_scaled = scaler.transform(X_test)"
   ]
  },
  {
   "cell_type": "markdown",
   "id": "a914cf45",
   "metadata": {
    "id": "a914cf45"
   },
   "source": [
    "# Logistic Regression simple"
   ]
  },
  {
   "cell_type": "code",
   "execution_count": 9,
   "id": "55ad5d96",
   "metadata": {
    "colab": {
     "base_uri": "https://localhost:8080/"
    },
    "executionInfo": {
     "elapsed": 1044,
     "status": "ok",
     "timestamp": 1670422267567,
     "user": {
      "displayName": "Valentin Delahaye",
      "userId": "15784172524603192961"
     },
     "user_tz": -60
    },
    "id": "55ad5d96",
    "outputId": "3ec10438-9ec1-4101-be33-025028ef58ae"
   },
   "outputs": [
    {
     "name": "stderr",
     "output_type": "stream",
     "text": [
      "C:\\Users\\enovap\\anaconda3\\lib\\site-packages\\sklearn\\linear_model\\_logistic.py:814: ConvergenceWarning: lbfgs failed to converge (status=1):\n",
      "STOP: TOTAL NO. of ITERATIONS REACHED LIMIT.\n",
      "\n",
      "Increase the number of iterations (max_iter) or scale the data as shown in:\n",
      "    https://scikit-learn.org/stable/modules/preprocessing.html\n",
      "Please also refer to the documentation for alternative solver options:\n",
      "    https://scikit-learn.org/stable/modules/linear_model.html#logistic-regression\n",
      "  n_iter_i = _check_optimize_result(\n"
     ]
    },
    {
     "data": {
      "text/plain": [
       "LogisticRegression(random_state=0)"
      ]
     },
     "execution_count": 9,
     "metadata": {},
     "output_type": "execute_result"
    }
   ],
   "source": [
    "# entrainement d'une LogisticRegression\n",
    "from sklearn.linear_model import LogisticRegression\n",
    "clf1 = LogisticRegression(random_state=0)\n",
    "\n",
    "clf1.fit(X_train_scaled, y_train)"
   ]
  },
  {
   "cell_type": "code",
   "execution_count": 10,
   "id": "9ecc698f",
   "metadata": {
    "colab": {
     "base_uri": "https://localhost:8080/"
    },
    "executionInfo": {
     "elapsed": 208,
     "status": "ok",
     "timestamp": 1670422281431,
     "user": {
      "displayName": "Valentin Delahaye",
      "userId": "15784172524603192961"
     },
     "user_tz": -60
    },
    "id": "9ecc698f",
    "outputId": "88aafd75-56cb-457c-b198-235712fa16d4"
   },
   "outputs": [
    {
     "name": "stdout",
     "output_type": "stream",
     "text": [
      "0.7008372371175122\n",
      "0.6680232558139535\n"
     ]
    }
   ],
   "source": [
    "print(clf1.score(X_train_scaled, y_train))\n",
    "print(clf1.score(X_test_scaled, y_test))"
   ]
  },
  {
   "cell_type": "code",
   "execution_count": 11,
   "id": "b1c23157",
   "metadata": {
    "colab": {
     "base_uri": "https://localhost:8080/"
    },
    "executionInfo": {
     "elapsed": 601,
     "status": "ok",
     "timestamp": 1670422347221,
     "user": {
      "displayName": "Valentin Delahaye",
      "userId": "15784172524603192961"
     },
     "user_tz": -60
    },
    "id": "b1c23157",
    "outputId": "ac8a6171-392c-4b46-81dc-8289b318db96"
   },
   "outputs": [
    {
     "name": "stdout",
     "output_type": "stream",
     "text": [
      "Classe prédite     0     1\n",
      "Classe réelle             \n",
      "0               2997  1354\n",
      "1               1501  2748\n",
      "              precision    recall  f1-score   support\n",
      "\n",
      "           0       0.67      0.69      0.68      4351\n",
      "           1       0.67      0.65      0.66      4249\n",
      "\n",
      "    accuracy                           0.67      8600\n",
      "   macro avg       0.67      0.67      0.67      8600\n",
      "weighted avg       0.67      0.67      0.67      8600\n",
      "\n"
     ]
    }
   ],
   "source": [
    "from sklearn.metrics import classification_report\n",
    "y_pred_1 = clf1.predict(X_test_scaled)\n",
    "print(pd.crosstab(y_test, y_pred_1, rownames=['Classe réelle'], colnames=['Classe prédite']))\n",
    "print(classification_report(y_test, y_pred_1))"
   ]
  },
  {
   "cell_type": "markdown",
   "id": "b8841c55",
   "metadata": {
    "id": "b8841c55"
   },
   "source": [
    "# Logistic Regression (changement des paramètres manuellement)"
   ]
  },
  {
   "cell_type": "code",
   "execution_count": 12,
   "id": "5a5af4f1",
   "metadata": {
    "colab": {
     "base_uri": "https://localhost:8080/"
    },
    "executionInfo": {
     "elapsed": 23361,
     "status": "ok",
     "timestamp": 1670422378816,
     "user": {
      "displayName": "Valentin Delahaye",
      "userId": "15784172524603192961"
     },
     "user_tz": -60
    },
    "id": "5a5af4f1",
    "outputId": "5cde398a-368f-4bfd-bd58-49028b2b1ddd"
   },
   "outputs": [
    {
     "data": {
      "text/plain": [
       "LogisticRegression(C=0.1, l1_ratio=0.5, max_iter=2000, penalty='elasticnet',\n",
       "                   random_state=1, solver='saga')"
      ]
     },
     "execution_count": 12,
     "metadata": {},
     "output_type": "execute_result"
    }
   ],
   "source": [
    "clf2 = LogisticRegression(random_state=1, penalty='elasticnet', C=0.1, max_iter=2000, solver='saga', l1_ratio=0.5)\n",
    "clf2.fit(X_train_scaled, y_train)"
   ]
  },
  {
   "cell_type": "code",
   "execution_count": 13,
   "id": "20f974cf",
   "metadata": {
    "colab": {
     "base_uri": "https://localhost:8080/"
    },
    "executionInfo": {
     "elapsed": 217,
     "status": "ok",
     "timestamp": 1670422382291,
     "user": {
      "displayName": "Valentin Delahaye",
      "userId": "15784172524603192961"
     },
     "user_tz": -60
    },
    "id": "20f974cf",
    "outputId": "f85a8c6d-28b9-4bb2-d9a4-899629ede3e4"
   },
   "outputs": [
    {
     "name": "stdout",
     "output_type": "stream",
     "text": [
      "0.7019336190571115\n",
      "0.6691860465116279\n"
     ]
    }
   ],
   "source": [
    "print(clf2.score(X_train_scaled, y_train))\n",
    "print(clf2.score(X_test_scaled, y_test))"
   ]
  },
  {
   "cell_type": "code",
   "execution_count": 14,
   "id": "a8c68d16",
   "metadata": {
    "colab": {
     "base_uri": "https://localhost:8080/"
    },
    "executionInfo": {
     "elapsed": 310,
     "status": "ok",
     "timestamp": 1670422384981,
     "user": {
      "displayName": "Valentin Delahaye",
      "userId": "15784172524603192961"
     },
     "user_tz": -60
    },
    "id": "a8c68d16",
    "outputId": "f5872ef6-ca66-4cd4-a867-3a2597edc662"
   },
   "outputs": [
    {
     "name": "stdout",
     "output_type": "stream",
     "text": [
      "Classe prédite     0     1\n",
      "Classe réelle             \n",
      "0               2969  1382\n",
      "1               1463  2786\n",
      "              precision    recall  f1-score   support\n",
      "\n",
      "           0       0.67      0.68      0.68      4351\n",
      "           1       0.67      0.66      0.66      4249\n",
      "\n",
      "    accuracy                           0.67      8600\n",
      "   macro avg       0.67      0.67      0.67      8600\n",
      "weighted avg       0.67      0.67      0.67      8600\n",
      "\n"
     ]
    }
   ],
   "source": [
    "y_pred_2 = clf2.predict(X_test_scaled)\n",
    "print(pd.crosstab(y_test, y_pred_2, rownames=['Classe réelle'], colnames=['Classe prédite']))\n",
    "print(classification_report(y_test, y_pred_2))"
   ]
  },
  {
   "cell_type": "markdown",
   "id": "10a6dc3d",
   "metadata": {
    "id": "10a6dc3d"
   },
   "source": [
    "# Logistic Regression (recherche des meilleurs hyperparamètres)\n",
    "## Time Series Split Cross-Validation"
   ]
  },
  {
   "cell_type": "code",
   "execution_count": 15,
   "id": "b7466e56",
   "metadata": {
    "colab": {
     "base_uri": "https://localhost:8080/"
    },
    "executionInfo": {
     "elapsed": 6198565,
     "status": "ok",
     "timestamp": 1670433541283,
     "user": {
      "displayName": "Valentin Delahaye",
      "userId": "15784172524603192961"
     },
     "user_tz": -60
    },
    "id": "b7466e56",
    "outputId": "83a99b4e-fbd6-48b6-b2bb-c4680e3ccd1e"
   },
   "outputs": [
    {
     "name": "stdout",
     "output_type": "stream",
     "text": [
      "LogisticRegression(C=0.005, max_iter=2000, penalty='l1', random_state=42,\n",
      "                   solver='liblinear')\n",
      "0.7006578947368421\n",
      "0.6754651162790698\n"
     ]
    }
   ],
   "source": [
    "df = pd.read_csv('Sources/df_final_rolling_ready_50_with_bookodds.csv')\n",
    "\n",
    "# Encodage\n",
    "le = LabelEncoder()\n",
    "le.fit(pd.concat([df['player_1_name'], df['player_2_name']], axis=0))\n",
    "df['player_1_name_encoded'] = le.transform(df['player_1_name'])\n",
    "df['player_2_name_encoded'] = le.transform(df['player_2_name'])\n",
    "\n",
    "# Suppression player_1_name & player_2\n",
    "df.drop(['player_1_name', 'player_2_name'], axis=1, inplace=True)\n",
    "\n",
    "# Dichotomisation\n",
    "df = pd.get_dummies(df)\n",
    "\n",
    "# Split\n",
    "nb_rows_train = int(round(len(df)*0.7,0))\n",
    "X_train = df.drop('player_1_win', axis=1)[:nb_rows_train]\n",
    "y_train = df['player_1_win'][:nb_rows_train]\n",
    "X_test = df.drop('player_1_win', axis=1)[nb_rows_train:]\n",
    "y_test = df['player_1_win'][nb_rows_train:]\n",
    "\n",
    "# Standardisation\n",
    "scaler = StandardScaler().fit(X_train)\n",
    "X_train_scaled = scaler.transform(X_train)\n",
    "X_test_scaled = scaler.transform(X_test)\n",
    "\n",
    "# Paramétrisation LogReg & GridSearch\n",
    "clf_lr = LogisticRegression(max_iter=2000, random_state=42)\n",
    "tscv = TimeSeriesSplit(n_splits=5)\n",
    "param_grid = [{'solver': ['lbfgs'], 'C': [0.001, 0.005, 0.01, 0.05, 0.1, 0.5], 'penalty':['l2']},\n",
    "                  {'solver': ['liblinear'], 'C': [0.001, 0.005, 0.01, 0.05, 0.1, 0.5], 'penalty':['l1', 'l2']}]\n",
    "gridcv = GridSearchCV(clf_lr, param_grid=param_grid, cv = tscv, scoring='accuracy')\n",
    "\n",
    "# Entrainement du modèle\n",
    "gridcv.fit(X_train_scaled, y_train)\n",
    "\n",
    "print(gridcv.best_estimator_)\n",
    "print(gridcv.best_score_)\n",
    "\n",
    "# Prédiction du modèle\n",
    "print(gridcv.score(X_test_scaled, y_test))"
   ]
  },
  {
   "cell_type": "code",
   "execution_count": 17,
   "id": "743e2618",
   "metadata": {},
   "outputs": [
    {
     "name": "stdout",
     "output_type": "stream",
     "text": [
      "0.6754651162790698\n"
     ]
    }
   ],
   "source": [
    "df = pd.read_csv('Sources/df_final_rolling_ready_50_with_bookodds.csv')\n",
    "\n",
    "# Encodage\n",
    "le = LabelEncoder()\n",
    "le.fit(pd.concat([df['player_1_name'], df['player_2_name']], axis=0))\n",
    "df['player_1_name_encoded'] = le.transform(df['player_1_name'])\n",
    "df['player_2_name_encoded'] = le.transform(df['player_2_name'])\n",
    "\n",
    "# Suppression player_1_name & player_2\n",
    "df.drop(['player_1_name', 'player_2_name'], axis=1, inplace=True)\n",
    "\n",
    "# Dichotomisation\n",
    "df = pd.get_dummies(df)\n",
    "\n",
    "# Split\n",
    "nb_rows_train = int(round(len(df)*0.7,0))\n",
    "X_train = df.drop('player_1_win', axis=1)[:nb_rows_train]\n",
    "y_train = df['player_1_win'][:nb_rows_train]\n",
    "X_test = df.drop('player_1_win', axis=1)[nb_rows_train:]\n",
    "y_test = df['player_1_win'][nb_rows_train:]\n",
    "\n",
    "# Standardisation\n",
    "scaler = StandardScaler().fit(X_train)\n",
    "X_train_scaled = scaler.transform(X_train)\n",
    "X_test_scaled = scaler.transform(X_test)\n",
    "\n",
    "# Paramétrisation LogReg & GridSearch\n",
    "clf_lr = LogisticRegression(C=0.005, max_iter=2000, penalty='l1', random_state=42, solver='liblinear')\n",
    "\n",
    "# Entrainement du modèle\n",
    "clf_lr.fit(X_train_scaled, y_train)\n",
    "\n",
    "# Prédiction du modèle\n",
    "print(clf_lr.score(X_test_scaled, y_test))"
   ]
  },
  {
   "cell_type": "code",
   "execution_count": 18,
   "id": "d2d2e872",
   "metadata": {},
   "outputs": [
    {
     "data": {
      "text/plain": [
       "['Best_LR.joblib']"
      ]
     },
     "execution_count": 18,
     "metadata": {},
     "output_type": "execute_result"
    }
   ],
   "source": [
    "from joblib import dump, load\n",
    "\n",
    "dump(clf_lr, 'Best_LR.joblib')"
   ]
  },
  {
   "cell_type": "code",
   "execution_count": 20,
   "id": "a8be9e5c",
   "metadata": {},
   "outputs": [
    {
     "data": {
      "text/plain": [
       "0.6754651162790698"
      ]
     },
     "execution_count": 20,
     "metadata": {},
     "output_type": "execute_result"
    }
   ],
   "source": [
    "loaded_model = load('Best_LR.joblib')\n",
    "\n",
    "loaded_model.predict(X_test_scaled)\n",
    "\n",
    "loaded_model.score(X_test_scaled, y_test)"
   ]
  },
  {
   "cell_type": "code",
   "execution_count": null,
   "id": "b07bd8ad",
   "metadata": {},
   "outputs": [],
   "source": []
  }
 ],
 "metadata": {
  "colab": {
   "provenance": []
  },
  "kernelspec": {
   "display_name": "Python 3 (ipykernel)",
   "language": "python",
   "name": "python3"
  },
  "language_info": {
   "codemirror_mode": {
    "name": "ipython",
    "version": 3
   },
   "file_extension": ".py",
   "mimetype": "text/x-python",
   "name": "python",
   "nbconvert_exporter": "python",
   "pygments_lexer": "ipython3",
   "version": "3.9.13"
  }
 },
 "nbformat": 4,
 "nbformat_minor": 5
}
