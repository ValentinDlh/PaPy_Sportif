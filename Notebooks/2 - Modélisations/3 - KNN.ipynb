{
 "cells": [
  {
   "cell_type": "code",
   "execution_count": 1,
   "metadata": {
    "executionInfo": {
     "elapsed": 2765,
     "status": "ok",
     "timestamp": 1670579457686,
     "user": {
      "displayName": "Valentin Delahaye",
      "userId": "15784172524603192961"
     },
     "user_tz": -60
    },
    "id": "bEo0NOggSzNj"
   },
   "outputs": [],
   "source": [
    "import pandas as pd\n",
    "import numpy as np\n",
    "import matplotlib.pyplot as plt\n",
    "import seaborn as sns"
   ]
  },
  {
   "cell_type": "code",
   "execution_count": 2,
   "metadata": {
    "executionInfo": {
     "elapsed": 355,
     "status": "ok",
     "timestamp": 1670579519830,
     "user": {
      "displayName": "Valentin Delahaye",
      "userId": "15784172524603192961"
     },
     "user_tz": -60
    },
    "id": "HTZu47n5S2Rj"
   },
   "outputs": [],
   "source": [
    "from sklearn.preprocessing import StandardScaler\n",
    "from sklearn.neighbors import KNeighborsClassifier\n",
    "from sklearn.metrics import classification_report\n",
    "from sklearn.preprocessing import LabelEncoder\n",
    "from sklearn.model_selection import TimeSeriesSplit, GridSearchCV"
   ]
  },
  {
   "cell_type": "code",
   "execution_count": 3,
   "metadata": {},
   "outputs": [
    {
     "name": "stdout",
     "output_type": "stream",
     "text": [
      "KNeighborsClassifier(metric='manhattan', n_neighbors=600)\n",
      "0.6742224880382774\n",
      "0.6577906976744186\n"
     ]
    }
   ],
   "source": [
    "df = pd.read_csv('Sources/df_final_rolling_ready_50_with_bookodds.csv')\n",
    "\n",
    "# Encodage\n",
    "le = LabelEncoder()\n",
    "le.fit(pd.concat([df['player_1_name'], df['player_2_name']], axis=0))\n",
    "df['player_1_name_encoded'] = le.transform(df['player_1_name'])\n",
    "df['player_2_name_encoded'] = le.transform(df['player_2_name'])\n",
    "\n",
    "# Suppression player_1_name & player_2\n",
    "df.drop(['player_1_name', 'player_2_name'], axis=1, inplace=True)\n",
    "\n",
    "# Dichotomisation\n",
    "df = pd.get_dummies(df)\n",
    "\n",
    "# Split\n",
    "nb_rows_train = int(round(len(df)*0.7,0))\n",
    "X_train = df.drop('player_1_win', axis=1)[:nb_rows_train]\n",
    "y_train = df['player_1_win'][:nb_rows_train]\n",
    "X_test = df.drop('player_1_win', axis=1)[nb_rows_train:]\n",
    "y_test = df['player_1_win'][nb_rows_train:]\n",
    "\n",
    "# Standardisation\n",
    "scaler = StandardScaler().fit(X_train)\n",
    "X_train_scaled = scaler.transform(X_train)\n",
    "X_test_scaled = scaler.transform(X_test)\n",
    "\n",
    "# Paramétrisation LogReg & GridSearch\n",
    "clf = KNeighborsClassifier()\n",
    "tscv = TimeSeriesSplit(n_splits=5)\n",
    "param_grid = {'n_neighbors': list(range(200, 1801, 200)), 'metric':['manhattan']}\n",
    "gridcv = GridSearchCV(clf, param_grid=param_grid, cv = tscv, scoring='accuracy')\n",
    "\n",
    "# Entrainement du modèle\n",
    "gridcv.fit(X_train_scaled, y_train)\n",
    "\n",
    "print(gridcv.best_estimator_)\n",
    "print(gridcv.best_score_)\n",
    "\n",
    "# Prédiction du modèle\n",
    "print(gridcv.score(X_test_scaled, y_test))"
   ]
  },
  {
   "cell_type": "code",
   "execution_count": 5,
   "metadata": {},
   "outputs": [
    {
     "name": "stdout",
     "output_type": "stream",
     "text": [
      "0.6577906976744186\n"
     ]
    }
   ],
   "source": [
    "print(gridcv.score(X_test_scaled, y_test))"
   ]
  },
  {
   "cell_type": "code",
   "execution_count": 7,
   "metadata": {},
   "outputs": [
    {
     "data": {
      "text/plain": [
       "['Best_KNN.joblib']"
      ]
     },
     "execution_count": 7,
     "metadata": {},
     "output_type": "execute_result"
    }
   ],
   "source": [
    "from joblib import dump, load\n",
    "\n",
    "dump(gridcv, 'Best_KNN.joblib')"
   ]
  },
  {
   "cell_type": "code",
   "execution_count": 8,
   "metadata": {},
   "outputs": [
    {
     "data": {
      "text/plain": [
       "0.6577906976744186"
      ]
     },
     "execution_count": 8,
     "metadata": {},
     "output_type": "execute_result"
    }
   ],
   "source": [
    "loaded_model = load('Best_KNN.joblib')\n",
    "\n",
    "loaded_model.predict(X_test_scaled)\n",
    "\n",
    "loaded_model.score(X_test_scaled, y_test)"
   ]
  },
  {
   "cell_type": "code",
   "execution_count": null,
   "metadata": {},
   "outputs": [],
   "source": []
  }
 ],
 "metadata": {
  "colab": {
   "authorship_tag": "ABX9TyP9Wq/DG3W4gvyfi+/+rblW",
   "provenance": []
  },
  "kernelspec": {
   "display_name": "Python 3 (ipykernel)",
   "language": "python",
   "name": "python3"
  },
  "language_info": {
   "codemirror_mode": {
    "name": "ipython",
    "version": 3
   },
   "file_extension": ".py",
   "mimetype": "text/x-python",
   "name": "python",
   "nbconvert_exporter": "python",
   "pygments_lexer": "ipython3",
   "version": "3.9.13"
  }
 },
 "nbformat": 4,
 "nbformat_minor": 1
}
