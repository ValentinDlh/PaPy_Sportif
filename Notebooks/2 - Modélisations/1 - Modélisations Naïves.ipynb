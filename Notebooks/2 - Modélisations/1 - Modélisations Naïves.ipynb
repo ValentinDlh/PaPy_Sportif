{
 "cells": [
  {
   "cell_type": "code",
   "execution_count": 74,
   "id": "d0a58b5a",
   "metadata": {},
   "outputs": [],
   "source": [
    "import pandas as pd\n",
    "import numpy as np\n",
    "import matplotlib.pyplot as plt\n",
    "import seaborn as sns"
   ]
  },
  {
   "cell_type": "code",
   "execution_count": 75,
   "id": "c9f5bc97",
   "metadata": {},
   "outputs": [],
   "source": [
    "from sklearn.preprocessing import StandardScaler\n",
    "from sklearn.neighbors import KNeighborsClassifier\n",
    "from sklearn.metrics import classification_report\n",
    "from sklearn.preprocessing import LabelEncoder\n",
    "from sklearn.model_selection import TimeSeriesSplit, GridSearchCV\n",
    "from sklearn.linear_model import LogisticRegression\n",
    "from sklearn.ensemble import RandomForestClassifier\n",
    "from sklearn.svm import SVC"
   ]
  },
  {
   "cell_type": "markdown",
   "id": "3552685f",
   "metadata": {},
   "source": [
    "# Modélisation Naïve 1"
   ]
  },
  {
   "cell_type": "code",
   "execution_count": 76,
   "id": "f89d6c03",
   "metadata": {},
   "outputs": [],
   "source": [
    "df = pd.read_csv('Sources/df_final_rolling_ready_50_with_bookodds.csv')"
   ]
  },
  {
   "cell_type": "code",
   "execution_count": 77,
   "id": "65744762",
   "metadata": {},
   "outputs": [],
   "source": [
    "# suppression des colonnes pour modélisations naïves 1 sur dataset avant enrichissement\n",
    "col_to_drop = ['player_1_height_cm',\n",
    "               'player_1_weight_kg',\n",
    "               'player_1_handedness',\n",
    "               'player_1_backhand',\n",
    "               'player_1_at_home',\n",
    "               'player_1_age',\n",
    "               'player_1_nb_year_xp',\n",
    "               'player_1_match_duration',\n",
    "               'player_1_nb_sets',\n",
    "               'player_1_nb_games',\n",
    "               'player_1_nb_tiebreaks',\n",
    "               'player_1_nb_points',\n",
    "               'player_1_sets_won',\n",
    "               'player_1_games_won',\n",
    "               'player_1_tiebreaks_won',\n",
    "               'player_1_points_won',\n",
    "               'player_1_serve_rating',\n",
    "               'player_1_aces',\n",
    "               'player_1_double_faults',\n",
    "               'player_1_first_serves_in',\n",
    "               'player_1_first_serves_total',\n",
    "               'player_1_first_serve_points_won',\n",
    "               'player_1_first_serve_points_total',\n",
    "               'player_1_second_serve_points_won',\n",
    "               'player_1_second_serve_points_total',\n",
    "               'player_1_break_points_saved',\n",
    "               'player_1_break_points_serve_total',\n",
    "               'player_1_service_games_played',\n",
    "               'player_1_return_rating',\n",
    "               'player_1_first_serve_return_won',\n",
    "               'player_1_first_serve_return_total',\n",
    "               'player_1_second_serve_return_won',\n",
    "               'player_1_second_serve_return_total',\n",
    "               'player_1_break_points_converted',\n",
    "               'player_1_break_points_return_total',\n",
    "               'player_1_return_games_played',\n",
    "               'player_1_service_points_won',\n",
    "               'player_1_service_points_total',\n",
    "               'player_1_return_points_won',\n",
    "               'player_1_return_points_total',\n",
    "               'player_1_under_pressure_rating',\n",
    "               'player_1_win_rate',\n",
    "               'player_1_B365',\n",
    "               'player_1_PS',\n",
    "               'player_2_height_cm',\n",
    "               'player_2_weight_kg',\n",
    "               'player_2_handedness',\n",
    "               'player_2_backhand',\n",
    "               'player_2_at_home',\n",
    "               'player_2_age',\n",
    "               'player_2_nb_year_xp',\n",
    "               'player_2_match_duration',\n",
    "               'player_2_nb_sets',\n",
    "               'player_2_nb_games',\n",
    "               'player_2_nb_tiebreaks',\n",
    "               'player_2_nb_points',\n",
    "               'player_2_sets_won',\n",
    "               'player_2_games_won',\n",
    "               'player_2_tiebreaks_won',\n",
    "               'player_2_points_won',\n",
    "               'player_2_serve_rating',\n",
    "               'player_2_aces',\n",
    "               'player_2_double_faults',\n",
    "               'player_2_first_serves_in',\n",
    "               'player_2_first_serves_total',\n",
    "               'player_2_first_serve_points_won',\n",
    "               'player_2_first_serve_points_total',\n",
    "               'player_2_second_serve_points_won',\n",
    "               'player_2_second_serve_points_total',\n",
    "               'player_2_break_points_saved',\n",
    "               'player_2_break_points_serve_total',\n",
    "               'player_2_service_games_played',\n",
    "               'player_2_return_rating',\n",
    "               'player_2_first_serve_return_won',\n",
    "               'player_2_first_serve_return_total',\n",
    "               'player_2_second_serve_return_won',\n",
    "               'player_2_second_serve_return_total',\n",
    "               'player_2_break_points_converted',\n",
    "               'player_2_break_points_return_total',\n",
    "               'player_2_return_games_played',\n",
    "               'player_2_service_points_won',\n",
    "               'player_2_service_points_total',\n",
    "               'player_2_return_points_won',\n",
    "               'player_2_return_points_total',\n",
    "               'player_2_under_pressure_rating',\n",
    "               'player_2_win_rate', \n",
    "               'player_2_B365', \n",
    "               'player_2_PS', \n",
    "               'prize_money_euro']\n",
    "\n",
    "df_naif_1 = df.drop(col_to_drop, axis=1)"
   ]
  },
  {
   "cell_type": "code",
   "execution_count": 78,
   "id": "b5e3e365",
   "metadata": {},
   "outputs": [],
   "source": [
    "# Encodage de player_1_name et player_2_name\n",
    "from sklearn.preprocessing import LabelEncoder\n",
    "le = LabelEncoder()\n",
    "le.fit(pd.concat([df_naif_1['player_1_name'], df_naif_1['player_2_name']], axis=0))\n",
    "df_naif_1['player_1_name_encoded'] = le.transform(df_naif_1['player_1_name'])\n",
    "df_naif_1['player_2_name_encoded'] = le.transform(df_naif_1['player_2_name'])"
   ]
  },
  {
   "cell_type": "code",
   "execution_count": 79,
   "id": "db16de53",
   "metadata": {},
   "outputs": [],
   "source": [
    "# Suppression de player_1_name et player_2_name\n",
    "df_naif_1.drop(['player_1_name', 'player_2_name'], axis=1, inplace=True)"
   ]
  },
  {
   "cell_type": "code",
   "execution_count": 80,
   "id": "42d8b098",
   "metadata": {},
   "outputs": [],
   "source": [
    "# dichotomisation\n",
    "df_naif_1 = pd.get_dummies(df_naif_1)"
   ]
  },
  {
   "cell_type": "code",
   "execution_count": 81,
   "id": "60b573e5",
   "metadata": {},
   "outputs": [],
   "source": [
    "# séparation en train et test selon le temps\n",
    "nb_rows_train = int(round(len(df_naif_1)*0.7,0))\n",
    "X_train = df_naif_1.drop('player_1_win', axis=1)[:nb_rows_train]\n",
    "y_train = df_naif_1['player_1_win'][:nb_rows_train]\n",
    "X_test = df_naif_1.drop('player_1_win', axis=1)[nb_rows_train:]\n",
    "y_test = df_naif_1['player_1_win'][nb_rows_train:]"
   ]
  },
  {
   "cell_type": "code",
   "execution_count": 82,
   "id": "69e7ef50",
   "metadata": {},
   "outputs": [],
   "source": [
    "# Normalisation et Standardisation des features\n",
    "from sklearn.preprocessing import StandardScaler\n",
    "\n",
    "scaler = StandardScaler().fit(X_train)\n",
    "X_train_scaled = scaler.transform(X_train)\n",
    "X_test_scaled = scaler.transform(X_test)"
   ]
  },
  {
   "cell_type": "code",
   "execution_count": 83,
   "id": "e4559ff1",
   "metadata": {},
   "outputs": [
    {
     "name": "stdout",
     "output_type": "stream",
     "text": [
      "LR: 62.49\n",
      "RF: 62.76\n",
      "KNN: 55.71\n",
      "SVC: 61.58\n"
     ]
    }
   ],
   "source": [
    "# Modélisations naïves 1\n",
    "clf_lr = LogisticRegression(random_state=0)\n",
    "clf_rf = RandomForestClassifier(random_state=0)\n",
    "clf_knn = KNeighborsClassifier()\n",
    "clf_svc = SVC(random_state=0)\n",
    "clf_lr.fit(X_train_scaled, y_train)\n",
    "clf_rf.fit(X_train_scaled, y_train)\n",
    "clf_knn.fit(X_train_scaled, y_train)\n",
    "clf_svc.fit(X_train_scaled, y_train)\n",
    "print(f'LR: {clf_lr.score(X_test_scaled, y_test)*100:.2f}')\n",
    "print(f'RF: {clf_rf.score(X_test_scaled, y_test)*100:.2f}')\n",
    "print(f'KNN: {clf_knn.score(X_test_scaled, y_test)*100:.2f}')\n",
    "print(f'SVC: {clf_svc.score(X_test_scaled, y_test)*100:.2f}')"
   ]
  },
  {
   "cell_type": "markdown",
   "id": "74dcd5f2",
   "metadata": {},
   "source": [
    "# Modélisation Naïve 2"
   ]
  },
  {
   "cell_type": "code",
   "execution_count": 84,
   "id": "ee832e01",
   "metadata": {},
   "outputs": [
    {
     "name": "stderr",
     "output_type": "stream",
     "text": [
      "C:\\Users\\enovap\\anaconda3\\lib\\site-packages\\sklearn\\linear_model\\_logistic.py:814: ConvergenceWarning: lbfgs failed to converge (status=1):\n",
      "STOP: TOTAL NO. of ITERATIONS REACHED LIMIT.\n",
      "\n",
      "Increase the number of iterations (max_iter) or scale the data as shown in:\n",
      "    https://scikit-learn.org/stable/modules/preprocessing.html\n",
      "Please also refer to the documentation for alternative solver options:\n",
      "    https://scikit-learn.org/stable/modules/linear_model.html#logistic-regression\n",
      "  n_iter_i = _check_optimize_result(\n",
      "C:\\Users\\enovap\\anaconda3\\lib\\site-packages\\sklearn\\linear_model\\_logistic.py:814: ConvergenceWarning: lbfgs failed to converge (status=1):\n",
      "STOP: TOTAL NO. of ITERATIONS REACHED LIMIT.\n",
      "\n",
      "Increase the number of iterations (max_iter) or scale the data as shown in:\n",
      "    https://scikit-learn.org/stable/modules/preprocessing.html\n",
      "Please also refer to the documentation for alternative solver options:\n",
      "    https://scikit-learn.org/stable/modules/linear_model.html#logistic-regression\n",
      "  n_iter_i = _check_optimize_result(\n",
      "C:\\Users\\enovap\\anaconda3\\lib\\site-packages\\sklearn\\linear_model\\_logistic.py:814: ConvergenceWarning: lbfgs failed to converge (status=1):\n",
      "STOP: TOTAL NO. of ITERATIONS REACHED LIMIT.\n",
      "\n",
      "Increase the number of iterations (max_iter) or scale the data as shown in:\n",
      "    https://scikit-learn.org/stable/modules/preprocessing.html\n",
      "Please also refer to the documentation for alternative solver options:\n",
      "    https://scikit-learn.org/stable/modules/linear_model.html#logistic-regression\n",
      "  n_iter_i = _check_optimize_result(\n",
      "C:\\Users\\enovap\\anaconda3\\lib\\site-packages\\sklearn\\linear_model\\_logistic.py:814: ConvergenceWarning: lbfgs failed to converge (status=1):\n",
      "STOP: TOTAL NO. of ITERATIONS REACHED LIMIT.\n",
      "\n",
      "Increase the number of iterations (max_iter) or scale the data as shown in:\n",
      "    https://scikit-learn.org/stable/modules/preprocessing.html\n",
      "Please also refer to the documentation for alternative solver options:\n",
      "    https://scikit-learn.org/stable/modules/linear_model.html#logistic-regression\n",
      "  n_iter_i = _check_optimize_result(\n",
      "C:\\Users\\enovap\\anaconda3\\lib\\site-packages\\sklearn\\linear_model\\_logistic.py:814: ConvergenceWarning: lbfgs failed to converge (status=1):\n",
      "STOP: TOTAL NO. of ITERATIONS REACHED LIMIT.\n",
      "\n",
      "Increase the number of iterations (max_iter) or scale the data as shown in:\n",
      "    https://scikit-learn.org/stable/modules/preprocessing.html\n",
      "Please also refer to the documentation for alternative solver options:\n",
      "    https://scikit-learn.org/stable/modules/linear_model.html#logistic-regression\n",
      "  n_iter_i = _check_optimize_result(\n",
      "C:\\Users\\enovap\\anaconda3\\lib\\site-packages\\sklearn\\linear_model\\_logistic.py:814: ConvergenceWarning: lbfgs failed to converge (status=1):\n",
      "STOP: TOTAL NO. of ITERATIONS REACHED LIMIT.\n",
      "\n",
      "Increase the number of iterations (max_iter) or scale the data as shown in:\n",
      "    https://scikit-learn.org/stable/modules/preprocessing.html\n",
      "Please also refer to the documentation for alternative solver options:\n",
      "    https://scikit-learn.org/stable/modules/linear_model.html#logistic-regression\n",
      "  n_iter_i = _check_optimize_result(\n"
     ]
    }
   ],
   "source": [
    "# Modélisation Naïves 2 après enrichissement du dataset (sans les bookmakers)\n",
    "rollings=['10', '30', '50', '100', '150', '200']\n",
    "lr_test_acc_1=[]\n",
    "rf_test_acc_1=[]\n",
    "knn_test_acc_1=[]\n",
    "svc_test_acc_1=[]\n",
    "\n",
    "for rolling in rollings:\n",
    "    df = pd.read_csv('Sources/df_final_rolling_ready_'+rolling+'_with_bookodds.csv')\n",
    "    df.drop(['player_1_B365', 'player_2_B365', 'player_1_PS', 'player_2_PS'], axis=1, inplace=True)\n",
    "    \n",
    "    # Encodage\n",
    "    le = LabelEncoder()\n",
    "    le.fit(pd.concat([df['player_1_name'], df['player_2_name']], axis=0))\n",
    "    df['player_1_name_encoded'] = le.transform(df['player_1_name'])\n",
    "    df['player_2_name_encoded'] = le.transform(df['player_2_name'])\n",
    "    \n",
    "    # Suppression player_1_name & player_2\n",
    "    df.drop(['player_1_name', 'player_2_name'], axis=1, inplace=True)\n",
    "    \n",
    "    # Dichotomisation\n",
    "    df = pd.get_dummies(df)\n",
    "    \n",
    "    # Split\n",
    "    nb_rows_train = int(round(len(df)*0.7,0))\n",
    "    X_train = df.drop('player_1_win', axis=1)[:nb_rows_train]\n",
    "    y_train = df['player_1_win'][:nb_rows_train]\n",
    "    X_test = df.drop('player_1_win', axis=1)[nb_rows_train:]\n",
    "    y_test = df['player_1_win'][nb_rows_train:]\n",
    "    \n",
    "    # Standardisation\n",
    "    scaler = StandardScaler().fit(X_train)\n",
    "    X_train_scaled = scaler.transform(X_train)\n",
    "    X_test_scaled = scaler.transform(X_test)\n",
    "    \n",
    "    # Modélisations naïves 2\n",
    "    clf_lr = LogisticRegression(random_state=0)\n",
    "    clf_rf = RandomForestClassifier(random_state=0)\n",
    "    clf_knn = KNeighborsClassifier()\n",
    "    clf_svc = SVC(random_state=0)\n",
    "    \n",
    "    clf_lr.fit(X_train_scaled, y_train)\n",
    "    clf_rf.fit(X_train_scaled, y_train)\n",
    "    clf_knn.fit(X_train_scaled, y_train)\n",
    "    clf_svc.fit(X_train_scaled, y_train)\n",
    "    \n",
    "    lr_test_acc_1.append(clf_lr.score(X_test_scaled, y_test))\n",
    "    rf_test_acc_1.append(clf_rf.score(X_test_scaled, y_test))\n",
    "    knn_test_acc_1.append(clf_knn.score(X_test_scaled, y_test))\n",
    "    svc_test_acc_1.append(clf_svc.score(X_test_scaled, y_test))"
   ]
  },
  {
   "cell_type": "code",
   "execution_count": 85,
   "id": "cefff401",
   "metadata": {},
   "outputs": [
    {
     "name": "stdout",
     "output_type": "stream",
     "text": [
      "Meilleurs accuracy:\n",
      "LR: 63.95 % pour une moyenne mobile sur 100 matchs\n",
      "RF: 64.57 % pour une moyenne mobile sur 50 matchs\n",
      "KNN: 58.72 % pour une moyenne mobile sur 50 matchs\n",
      "SVC: 64.62 % pour une moyenne mobile sur 200 matchs\n"
     ]
    }
   ],
   "source": [
    "print('Meilleurs accuracy:')\n",
    "print('LR:', str(round(np.max(lr_test_acc_1)*100,2)), '% pour une moyenne mobile sur', rollings[round(np.argmax(lr_test_acc_1),0)],'matchs')\n",
    "print('RF:', str(round(np.max(rf_test_acc_1)*100,2)), '% pour une moyenne mobile sur', rollings[round(np.argmax(rf_test_acc_1),0)],'matchs')\n",
    "print('KNN:', str(round(np.max(knn_test_acc_1)*100,2)), '% pour une moyenne mobile sur', rollings[round(np.argmax(knn_test_acc_1),0)],'matchs')\n",
    "print('SVC:', str(round(np.max(svc_test_acc_1)*100,2)), '% pour une moyenne mobile sur', rollings[round(np.argmax(svc_test_acc_1),0)],'matchs')"
   ]
  },
  {
   "cell_type": "code",
   "execution_count": 87,
   "id": "93dcff8a",
   "metadata": {},
   "outputs": [
    {
     "data": {
      "image/png": "[encoded data removed]",
      "text/plain": [
       "<Figure size 700x500 with 1 Axes>"
      ]
     },
     "metadata": {},
     "output_type": "display_data"
    }
   ],
   "source": [
    "plt.figure(figsize=[7, 5])\n",
    "plt.plot(rollings, lr_test_acc_1, 'b--', label='LogisticRegression')\n",
    "plt.plot(rollings, rf_test_acc_1, 'g--', label='RandomForest')\n",
    "plt.plot(rollings, knn_test_acc_1, 'y--', label='KNN')\n",
    "plt.plot(rollings, svc_test_acc_1, 'r--', label='SVC')\n",
    "plt.legend()\n",
    "plt.title('Accuracy des modèles naïfs en fonction de la moyenne mobile')\n",
    "plt.xlabel('rolling')\n",
    "plt.ylabel('accuracy')\n",
    "plt.show()"
   ]
  },
  {
   "cell_type": "markdown",
   "id": "a95b799d",
   "metadata": {},
   "source": [
    "# Modélisation Naïve 3"
   ]
  },
  {
   "cell_type": "code",
   "execution_count": 88,
   "id": "bc753e4c",
   "metadata": {},
   "outputs": [
    {
     "name": "stderr",
     "output_type": "stream",
     "text": [
      "C:\\Users\\enovap\\anaconda3\\lib\\site-packages\\sklearn\\linear_model\\_logistic.py:814: ConvergenceWarning: lbfgs failed to converge (status=1):\n",
      "STOP: TOTAL NO. of ITERATIONS REACHED LIMIT.\n",
      "\n",
      "Increase the number of iterations (max_iter) or scale the data as shown in:\n",
      "    https://scikit-learn.org/stable/modules/preprocessing.html\n",
      "Please also refer to the documentation for alternative solver options:\n",
      "    https://scikit-learn.org/stable/modules/linear_model.html#logistic-regression\n",
      "  n_iter_i = _check_optimize_result(\n",
      "C:\\Users\\enovap\\anaconda3\\lib\\site-packages\\sklearn\\linear_model\\_logistic.py:814: ConvergenceWarning: lbfgs failed to converge (status=1):\n",
      "STOP: TOTAL NO. of ITERATIONS REACHED LIMIT.\n",
      "\n",
      "Increase the number of iterations (max_iter) or scale the data as shown in:\n",
      "    https://scikit-learn.org/stable/modules/preprocessing.html\n",
      "Please also refer to the documentation for alternative solver options:\n",
      "    https://scikit-learn.org/stable/modules/linear_model.html#logistic-regression\n",
      "  n_iter_i = _check_optimize_result(\n",
      "C:\\Users\\enovap\\anaconda3\\lib\\site-packages\\sklearn\\linear_model\\_logistic.py:814: ConvergenceWarning: lbfgs failed to converge (status=1):\n",
      "STOP: TOTAL NO. of ITERATIONS REACHED LIMIT.\n",
      "\n",
      "Increase the number of iterations (max_iter) or scale the data as shown in:\n",
      "    https://scikit-learn.org/stable/modules/preprocessing.html\n",
      "Please also refer to the documentation for alternative solver options:\n",
      "    https://scikit-learn.org/stable/modules/linear_model.html#logistic-regression\n",
      "  n_iter_i = _check_optimize_result(\n",
      "C:\\Users\\enovap\\anaconda3\\lib\\site-packages\\sklearn\\linear_model\\_logistic.py:814: ConvergenceWarning: lbfgs failed to converge (status=1):\n",
      "STOP: TOTAL NO. of ITERATIONS REACHED LIMIT.\n",
      "\n",
      "Increase the number of iterations (max_iter) or scale the data as shown in:\n",
      "    https://scikit-learn.org/stable/modules/preprocessing.html\n",
      "Please also refer to the documentation for alternative solver options:\n",
      "    https://scikit-learn.org/stable/modules/linear_model.html#logistic-regression\n",
      "  n_iter_i = _check_optimize_result(\n",
      "C:\\Users\\enovap\\anaconda3\\lib\\site-packages\\sklearn\\linear_model\\_logistic.py:814: ConvergenceWarning: lbfgs failed to converge (status=1):\n",
      "STOP: TOTAL NO. of ITERATIONS REACHED LIMIT.\n",
      "\n",
      "Increase the number of iterations (max_iter) or scale the data as shown in:\n",
      "    https://scikit-learn.org/stable/modules/preprocessing.html\n",
      "Please also refer to the documentation for alternative solver options:\n",
      "    https://scikit-learn.org/stable/modules/linear_model.html#logistic-regression\n",
      "  n_iter_i = _check_optimize_result(\n",
      "C:\\Users\\enovap\\anaconda3\\lib\\site-packages\\sklearn\\linear_model\\_logistic.py:814: ConvergenceWarning: lbfgs failed to converge (status=1):\n",
      "STOP: TOTAL NO. of ITERATIONS REACHED LIMIT.\n",
      "\n",
      "Increase the number of iterations (max_iter) or scale the data as shown in:\n",
      "    https://scikit-learn.org/stable/modules/preprocessing.html\n",
      "Please also refer to the documentation for alternative solver options:\n",
      "    https://scikit-learn.org/stable/modules/linear_model.html#logistic-regression\n",
      "  n_iter_i = _check_optimize_result(\n"
     ]
    }
   ],
   "source": [
    "# Modélisation Naïves 3 après enrichissement du dataset (avec les bookmakers)\n",
    "rollings=['10', '30', '50', '100', '150', '200']\n",
    "lr_test_acc_2=[]\n",
    "rf_test_acc_2=[]\n",
    "knn_test_acc_2=[]\n",
    "svc_test_acc_2=[]\n",
    "\n",
    "for rolling in rollings:\n",
    "    \n",
    "    df = pd.read_csv('Sources/df_final_rolling_ready_'+rolling+'_with_bookodds.csv')\n",
    "    \n",
    "    # Encodage\n",
    "    le = LabelEncoder()\n",
    "    le.fit(pd.concat([df['player_1_name'], df['player_2_name']], axis=0))\n",
    "    df['player_1_name_encoded'] = le.transform(df['player_1_name'])\n",
    "    df['player_2_name_encoded'] = le.transform(df['player_2_name'])\n",
    "    \n",
    "    # Suppression player_1_name & player_2\n",
    "    df.drop(['player_1_name', 'player_2_name'], axis=1, inplace=True)\n",
    "    \n",
    "    # Dichotomisation\n",
    "    df = pd.get_dummies(df)\n",
    "    \n",
    "    # Split\n",
    "    nb_rows_train = int(round(len(df)*0.7,0))\n",
    "    X_train = df.drop('player_1_win', axis=1)[:nb_rows_train]\n",
    "    y_train = df['player_1_win'][:nb_rows_train]\n",
    "    X_test = df.drop('player_1_win', axis=1)[nb_rows_train:]\n",
    "    y_test = df['player_1_win'][nb_rows_train:]\n",
    "    \n",
    "    # Standardisation\n",
    "    scaler = StandardScaler().fit(X_train)\n",
    "    X_train_scaled = scaler.transform(X_train)\n",
    "    X_test_scaled = scaler.transform(X_test)\n",
    "    \n",
    "    # Modélisations naïves 2\n",
    "    clf_lr = LogisticRegression(random_state=0)\n",
    "    clf_rf = RandomForestClassifier(random_state=0)\n",
    "    clf_knn = KNeighborsClassifier()\n",
    "    clf_svc = SVC(random_state=0)\n",
    "    \n",
    "    clf_lr.fit(X_train_scaled, y_train)\n",
    "    clf_rf.fit(X_train_scaled, y_train)\n",
    "    clf_knn.fit(X_train_scaled, y_train)\n",
    "    clf_svc.fit(X_train_scaled, y_train)\n",
    "    \n",
    "    lr_test_acc_2.append(clf_lr.score(X_test_scaled, y_test))\n",
    "    rf_test_acc_2.append(clf_rf.score(X_test_scaled, y_test))\n",
    "    knn_test_acc_2.append(clf_knn.score(X_test_scaled, y_test))\n",
    "    svc_test_acc_2.append(clf_svc.score(X_test_scaled, y_test))"
   ]
  },
  {
   "cell_type": "code",
   "execution_count": 89,
   "id": "f869118b",
   "metadata": {},
   "outputs": [
    {
     "name": "stdout",
     "output_type": "stream",
     "text": [
      "Meilleurs accuracy:\n",
      "LR: 67.06 % pour une moyenne mobile sur 10 matchs\n",
      "RF: 67.21 % pour une moyenne mobile sur 100 matchs\n",
      "KNN: 59.03 % pour une moyenne mobile sur 100 matchs\n",
      "SVC: 66.7 % pour une moyenne mobile sur 200 matchs\n"
     ]
    }
   ],
   "source": [
    "print('Meilleurs accuracy:')\n",
    "print('LR:', str(round(np.max(lr_test_acc_2)*100,2)), '% pour une moyenne mobile sur', rollings[round(np.argmax(lr_test_acc_2),0)],'matchs')\n",
    "print('RF:', str(round(np.max(rf_test_acc_2)*100,2)), '% pour une moyenne mobile sur', rollings[round(np.argmax(rf_test_acc_2),0)],'matchs')\n",
    "print('KNN:', str(round(np.max(knn_test_acc_2)*100,2)), '% pour une moyenne mobile sur', rollings[round(np.argmax(knn_test_acc_2),0)],'matchs')\n",
    "print('SVC:', str(round(np.max(svc_test_acc_2)*100,2)), '% pour une moyenne mobile sur', rollings[round(np.argmax(svc_test_acc_2),0)],'matchs')"
   ]
  },
  {
   "cell_type": "code",
   "execution_count": 92,
   "id": "68f94312",
   "metadata": {},
   "outputs": [
    {
     "data": {
      "image/png": "[encoded data removed]",
      "text/plain": [
       "<Figure size 700x500 with 1 Axes>"
      ]
     },
     "metadata": {},
     "output_type": "display_data"
    }
   ],
   "source": [
    "plt.figure(figsize=[7, 5])\n",
    "plt.plot(rollings, lr_test_acc_2, 'b--', label='LogisticRegression')\n",
    "plt.plot(rollings, rf_test_acc_2, 'g--', label='RandomForest')\n",
    "plt.plot(rollings, knn_test_acc_2, 'y--', label='KNN')\n",
    "plt.plot(rollings, svc_test_acc_2, 'r--', label='SVC')\n",
    "plt.legend()\n",
    "plt.title('Accuracy des modèles naïfs en fonction de la moyenne mobile')\n",
    "plt.xlabel('rolling')\n",
    "plt.ylabel('accuracy')\n",
    "plt.show()"
   ]
  },
  {
   "cell_type": "code",
   "execution_count": null,
   "id": "f55f3c3e",
   "metadata": {},
   "outputs": [],
   "source": []
  }
 ],
 "metadata": {
  "kernelspec": {
   "display_name": "Python 3 (ipykernel)",
   "language": "python",
   "name": "python3"
  },
  "language_info": {
   "codemirror_mode": {
    "name": "ipython",
    "version": 3
   },
   "file_extension": ".py",
   "mimetype": "text/x-python",
   "name": "python",
   "nbconvert_exporter": "python",
   "pygments_lexer": "ipython3",
   "version": "3.9.13"
  }
 },
 "nbformat": 4,
 "nbformat_minor": 5
}
