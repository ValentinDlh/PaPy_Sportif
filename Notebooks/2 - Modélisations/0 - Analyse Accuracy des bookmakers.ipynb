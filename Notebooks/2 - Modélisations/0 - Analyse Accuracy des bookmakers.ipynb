{
 "cells": [
  {
   "cell_type": "code",
   "execution_count": 2,
   "id": "3466de0b",
   "metadata": {},
   "outputs": [],
   "source": [
    "import pandas as pd\n",
    "import numpy as np\n",
    "import matplotlib.pyplot as plt\n",
    "import seaborn as sns"
   ]
  },
  {
   "cell_type": "code",
   "execution_count": 3,
   "id": "1af17f12",
   "metadata": {},
   "outputs": [],
   "source": [
    "df_book = pd.read_csv('Sources/df_final_rolling_ready_100_with_bookodds.csv')"
   ]
  },
  {
   "cell_type": "code",
   "execution_count": 4,
   "id": "1d5eb4ab",
   "metadata": {},
   "outputs": [],
   "source": [
    "df_book = df_book[['player_1_win', 'player_1_B365', 'player_2_B365', 'player_1_PS', 'player_2_PS']]"
   ]
  },
  {
   "cell_type": "code",
   "execution_count": 5,
   "id": "ab274c04",
   "metadata": {},
   "outputs": [
    {
     "data": {
      "text/html": [
       "<div>\n",
       "<style scoped>\n",
       "    .dataframe tbody tr th:only-of-type {\n",
       "        vertical-align: middle;\n",
       "    }\n",
       "\n",
       "    .dataframe tbody tr th {\n",
       "        vertical-align: top;\n",
       "    }\n",
       "\n",
       "    .dataframe thead th {\n",
       "        text-align: right;\n",
       "    }\n",
       "</style>\n",
       "<table border=\"1\" class=\"dataframe\">\n",
       "  <thead>\n",
       "    <tr style=\"text-align: right;\">\n",
       "      <th></th>\n",
       "      <th>player_1_win</th>\n",
       "      <th>player_1_B365</th>\n",
       "      <th>player_2_B365</th>\n",
       "      <th>player_1_PS</th>\n",
       "      <th>player_2_PS</th>\n",
       "    </tr>\n",
       "  </thead>\n",
       "  <tbody>\n",
       "    <tr>\n",
       "      <th>0</th>\n",
       "      <td>0</td>\n",
       "      <td>1.364</td>\n",
       "      <td>2.875</td>\n",
       "      <td>1.385</td>\n",
       "      <td>3.250</td>\n",
       "    </tr>\n",
       "    <tr>\n",
       "      <th>1</th>\n",
       "      <td>1</td>\n",
       "      <td>1.571</td>\n",
       "      <td>2.250</td>\n",
       "      <td>1.562</td>\n",
       "      <td>2.580</td>\n",
       "    </tr>\n",
       "    <tr>\n",
       "      <th>2</th>\n",
       "      <td>1</td>\n",
       "      <td>1.727</td>\n",
       "      <td>2.000</td>\n",
       "      <td>1.714</td>\n",
       "      <td>2.240</td>\n",
       "    </tr>\n",
       "    <tr>\n",
       "      <th>3</th>\n",
       "      <td>1</td>\n",
       "      <td>1.727</td>\n",
       "      <td>2.000</td>\n",
       "      <td>1.820</td>\n",
       "      <td>2.060</td>\n",
       "    </tr>\n",
       "    <tr>\n",
       "      <th>4</th>\n",
       "      <td>1</td>\n",
       "      <td>1.727</td>\n",
       "      <td>2.000</td>\n",
       "      <td>1.885</td>\n",
       "      <td>1.971</td>\n",
       "    </tr>\n",
       "    <tr>\n",
       "      <th>...</th>\n",
       "      <td>...</td>\n",
       "      <td>...</td>\n",
       "      <td>...</td>\n",
       "      <td>...</td>\n",
       "      <td>...</td>\n",
       "    </tr>\n",
       "    <tr>\n",
       "      <th>28661</th>\n",
       "      <td>1</td>\n",
       "      <td>2.000</td>\n",
       "      <td>1.800</td>\n",
       "      <td>2.200</td>\n",
       "      <td>1.760</td>\n",
       "    </tr>\n",
       "    <tr>\n",
       "      <th>28662</th>\n",
       "      <td>0</td>\n",
       "      <td>1.360</td>\n",
       "      <td>3.200</td>\n",
       "      <td>1.420</td>\n",
       "      <td>3.120</td>\n",
       "    </tr>\n",
       "    <tr>\n",
       "      <th>28663</th>\n",
       "      <td>1</td>\n",
       "      <td>3.500</td>\n",
       "      <td>1.300</td>\n",
       "      <td>3.750</td>\n",
       "      <td>1.330</td>\n",
       "    </tr>\n",
       "    <tr>\n",
       "      <th>28664</th>\n",
       "      <td>1</td>\n",
       "      <td>1.800</td>\n",
       "      <td>2.000</td>\n",
       "      <td>1.840</td>\n",
       "      <td>2.100</td>\n",
       "    </tr>\n",
       "    <tr>\n",
       "      <th>28665</th>\n",
       "      <td>0</td>\n",
       "      <td>1.800</td>\n",
       "      <td>2.000</td>\n",
       "      <td>1.930</td>\n",
       "      <td>2.000</td>\n",
       "    </tr>\n",
       "  </tbody>\n",
       "</table>\n",
       "<p>28666 rows × 5 columns</p>\n",
       "</div>"
      ],
      "text/plain": [
       "       player_1_win  player_1_B365  player_2_B365  player_1_PS  player_2_PS\n",
       "0                 0          1.364          2.875        1.385        3.250\n",
       "1                 1          1.571          2.250        1.562        2.580\n",
       "2                 1          1.727          2.000        1.714        2.240\n",
       "3                 1          1.727          2.000        1.820        2.060\n",
       "4                 1          1.727          2.000        1.885        1.971\n",
       "...             ...            ...            ...          ...          ...\n",
       "28661             1          2.000          1.800        2.200        1.760\n",
       "28662             0          1.360          3.200        1.420        3.120\n",
       "28663             1          3.500          1.300        3.750        1.330\n",
       "28664             1          1.800          2.000        1.840        2.100\n",
       "28665             0          1.800          2.000        1.930        2.000\n",
       "\n",
       "[28666 rows x 5 columns]"
      ]
     },
     "execution_count": 5,
     "metadata": {},
     "output_type": "execute_result"
    }
   ],
   "source": [
    "df_book"
   ]
  },
  {
   "cell_type": "code",
   "execution_count": 10,
   "id": "8bb2586a",
   "metadata": {},
   "outputs": [
    {
     "name": "stdout",
     "output_type": "stream",
     "text": [
      "B365: 0.680597223191237\n",
      "Pinnacle: 0.6901207004814065\n"
     ]
    }
   ],
   "source": [
    "# Accuracy sur l'ensemble du dataset\n",
    "print('B365:', str(len(df_book[((df_book['player_1_win'] == 1) & (df_book['player_1_B365'] < df_book['player_2_B365'])) | \n",
    "       ((df_book['player_1_win'] == 0) & (df_book['player_2_B365'] < df_book['player_1_B365']))])/len(df_book)))\n",
    "print('Pinnacle:', str(len(df_book[((df_book['player_1_win'] == 1) & (df_book['player_1_PS'] < df_book['player_2_PS'])) | \n",
    "       ((df_book['player_1_win'] == 0) & (df_book['player_2_PS'] < df_book['player_1_PS']))])/len(df_book)))"
   ]
  },
  {
   "cell_type": "code",
   "execution_count": 11,
   "id": "bcd8a5d4",
   "metadata": {},
   "outputs": [],
   "source": [
    "train_sizes=[0.3, 0.4, 0.5, 0.6, 0.7, 0.8, 0.9]\n",
    "B365_acc = []\n",
    "PS_acc = []\n",
    "for train_size in train_sizes:\n",
    "    nb_rows_train = int(round(len(df_book)*train_size,0))\n",
    "    df = df_book[nb_rows_train:]\n",
    "    B365_acc.append(len(df[((df['player_1_win'] == 1) & (df['player_1_B365'] < df['player_2_B365'])) | \n",
    "       ((df['player_1_win'] == 0) & (df['player_2_B365'] < df['player_1_B365']))])/len(df))\n",
    "    PS_acc.append(len(df[((df['player_1_win'] == 1) & (df['player_1_PS'] < df['player_2_PS'])) | \n",
    "       ((df['player_1_win'] == 0) & (df['player_2_PS'] < df['player_1_PS']))])/len(df))"
   ]
  },
  {
   "cell_type": "code",
   "execution_count": 12,
   "id": "021f8a32",
   "metadata": {},
   "outputs": [
    {
     "data": {
      "text/plain": [
       "[0.6801056513505432,\n",
       " 0.6780813953488372,\n",
       " 0.6736203167515523,\n",
       " 0.6673643816500959,\n",
       " 0.6634883720930232,\n",
       " 0.6453863596720739,\n",
       " 0.6396930589466341]"
      ]
     },
     "execution_count": 12,
     "metadata": {},
     "output_type": "execute_result"
    }
   ],
   "source": [
    "B365_acc"
   ]
  },
  {
   "cell_type": "code",
   "execution_count": 13,
   "id": "2034abe9",
   "metadata": {},
   "outputs": [
    {
     "data": {
      "text/plain": [
       "[0.6888268713246287,\n",
       " 0.6867441860465117,\n",
       " 0.6832484476383172,\n",
       " 0.6780917495203209,\n",
       " 0.6746511627906977,\n",
       " 0.6574219431362288,\n",
       " 0.6550401116149285]"
      ]
     },
     "execution_count": 13,
     "metadata": {},
     "output_type": "execute_result"
    }
   ],
   "source": [
    "PS_acc"
   ]
  },
  {
   "cell_type": "code",
   "execution_count": 14,
   "id": "16065c16",
   "metadata": {},
   "outputs": [
    {
     "data": {
      "image/png": "[encoded data removed]",
      "text/plain": [
       "<Figure size 640x480 with 1 Axes>"
      ]
     },
     "metadata": {},
     "output_type": "display_data"
    }
   ],
   "source": [
    "plt.plot(train_sizes, B365_acc, 'b--', label='B635')\n",
    "plt.plot(train_sizes, PS_acc, 'g--', label='Pinnacle')\n",
    "plt.legend()\n",
    "plt.title('Accuracy des bookmakers sur la période de test en fonction du train size')\n",
    "plt.xlabel('train_size')\n",
    "plt.ylabel('accuracy')\n",
    "plt.show()"
   ]
  },
  {
   "cell_type": "code",
   "execution_count": 24,
   "id": "cd48bfdf",
   "metadata": {},
   "outputs": [
    {
     "name": "stdout",
     "output_type": "stream",
     "text": [
      "B365: 66.35 %\n",
      "Pinnacle: 67.47 %\n"
     ]
    }
   ],
   "source": [
    "# Accuracy des bookmakers sur un test_size de 30% servant de comparaison pour nos modélisations\n",
    "print('B365:', str(round(B365_acc[4]*100,2)),'%')\n",
    "print('Pinnacle:', str(round(PS_acc[4]*100,2)),'%')"
   ]
  },
  {
   "cell_type": "code",
   "execution_count": null,
   "id": "f51b6dde",
   "metadata": {},
   "outputs": [],
   "source": []
  }
 ],
 "metadata": {
  "kernelspec": {
   "display_name": "Python 3 (ipykernel)",
   "language": "python",
   "name": "python3"
  },
  "language_info": {
   "codemirror_mode": {
    "name": "ipython",
    "version": 3
   },
   "file_extension": ".py",
   "mimetype": "text/x-python",
   "name": "python",
   "nbconvert_exporter": "python",
   "pygments_lexer": "ipython3",
   "version": "3.9.13"
  }
 },
 "nbformat": 4,
 "nbformat_minor": 5
}
