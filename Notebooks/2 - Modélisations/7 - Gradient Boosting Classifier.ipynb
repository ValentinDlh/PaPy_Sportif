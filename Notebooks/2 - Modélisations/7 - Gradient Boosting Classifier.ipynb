{
 "cells": [
  {
   "cell_type": "code",
   "execution_count": 1,
   "id": "af174cee",
   "metadata": {},
   "outputs": [],
   "source": [
    "import pandas as pd\n",
    "import numpy as np\n",
    "import matplotlib.pyplot as plt\n",
    "import seaborn as sns\n",
    "%matplotlib inline"
   ]
  },
  {
   "cell_type": "code",
   "execution_count": 2,
   "id": "23c57f87",
   "metadata": {},
   "outputs": [],
   "source": [
    "# boosting & bagging\n",
    "from sklearn.ensemble import AdaBoostClassifier\n",
    "from sklearn.tree import DecisionTreeClassifier\n",
    "from sklearn.model_selection import train_test_split, cross_validate, TimeSeriesSplit, GridSearchCV\n",
    "from sklearn.metrics import f1_score\n",
    "from sklearn.ensemble import BaggingClassifier\n",
    "n_splits = 5"
   ]
  },
  {
   "cell_type": "code",
   "execution_count": 3,
   "id": "86fa8a78",
   "metadata": {},
   "outputs": [],
   "source": [
    "# Voting & Stacking\n",
    "from sklearn.ensemble import VotingClassifier, StackingClassifier, GradientBoostingClassifier\n",
    "from sklearn.linear_model import LogisticRegression\n",
    "from sklearn.ensemble import RandomForestClassifier\n",
    "from sklearn.neighbors import KNeighborsClassifier\n",
    "import xgboost as xgb"
   ]
  },
  {
   "cell_type": "code",
   "execution_count": 4,
   "id": "e500a1f3",
   "metadata": {},
   "outputs": [],
   "source": [
    "from sklearn.preprocessing import StandardScaler\n",
    "from sklearn.model_selection import TimeSeriesSplit\n",
    "from sklearn.preprocessing import LabelEncoder"
   ]
  },
  {
   "cell_type": "code",
   "execution_count": 7,
   "id": "10761ed0",
   "metadata": {},
   "outputs": [
    {
     "name": "stdout",
     "output_type": "stream",
     "text": [
      "GradientBoostingClassifier(max_depth=1, n_estimators=60, random_state=0)\n",
      "0.7007177033492823\n",
      "0.674186046511628\n"
     ]
    }
   ],
   "source": [
    "df = pd.read_csv('Sources/df_final_rolling_ready_50_with_bookodds.csv')\n",
    "    \n",
    "# Encodage\n",
    "le = LabelEncoder()\n",
    "le.fit(pd.concat([df['player_1_name'], df['player_2_name']], axis=0))\n",
    "df['player_1_name_encoded'] = le.transform(df['player_1_name'])\n",
    "df['player_2_name_encoded'] = le.transform(df['player_2_name'])\n",
    "\n",
    "# Suppression player_1_name & player_2\n",
    "df.drop(['player_1_name', 'player_2_name'], axis=1, inplace=True)\n",
    "\n",
    "# Dichotomisation\n",
    "df = pd.get_dummies(df)\n",
    "\n",
    "# Split\n",
    "nb_rows_train = int(round(len(df)*0.7,0))\n",
    "X_train = df.drop('player_1_win', axis=1)[:nb_rows_train]\n",
    "y_train = df['player_1_win'][:nb_rows_train]\n",
    "X_test = df.drop('player_1_win', axis=1)[nb_rows_train:]\n",
    "y_test = df['player_1_win'][nb_rows_train:]\n",
    "\n",
    "# Standardisation\n",
    "scaler = StandardScaler().fit(X_train)\n",
    "X_train_scaled = scaler.transform(X_train)\n",
    "X_test_scaled = scaler.transform(X_test)\n",
    "\n",
    "# GridSearch\n",
    "tscv = TimeSeriesSplit(n_splits=5)\n",
    "param_grid = {'n_estimators':range(40,101,20), 'learning_rate':[0.1, 0.2, 0.5], 'max_depth':[1, 3]}\n",
    "clf = GradientBoostingClassifier(random_state=0)\n",
    "gridcv = GridSearchCV(clf,param_grid=param_grid,cv=tscv,scoring=\"accuracy\")\n",
    "\n",
    "# Entrainement du modèle\n",
    "gridcv.fit(X_train_scaled, y_train)\n",
    "\n",
    "print(gridcv.best_estimator_)\n",
    "print(gridcv.best_score_)\n",
    "\n",
    "# Prédiction du modèle\n",
    "print(gridcv.score(X_test_scaled, y_test))"
   ]
  },
  {
   "cell_type": "code",
   "execution_count": 8,
   "id": "dd3f848c",
   "metadata": {},
   "outputs": [
    {
     "data": {
      "text/plain": [
       "{'learning_rate': 0.1, 'max_depth': 1, 'n_estimators': 60}"
      ]
     },
     "execution_count": 8,
     "metadata": {},
     "output_type": "execute_result"
    }
   ],
   "source": [
    "gridcv.best_params_"
   ]
  },
  {
   "cell_type": "code",
   "execution_count": 9,
   "id": "9d1a2056",
   "metadata": {},
   "outputs": [
    {
     "data": {
      "text/plain": [
       "['Best_GBC.joblib']"
      ]
     },
     "execution_count": 9,
     "metadata": {},
     "output_type": "execute_result"
    }
   ],
   "source": [
    "from joblib import dump, load\n",
    "\n",
    "dump(gridcv, 'Best_GBC.joblib')"
   ]
  },
  {
   "cell_type": "code",
   "execution_count": 10,
   "id": "bcf68b16",
   "metadata": {},
   "outputs": [
    {
     "data": {
      "text/plain": [
       "0.674186046511628"
      ]
     },
     "execution_count": 10,
     "metadata": {},
     "output_type": "execute_result"
    }
   ],
   "source": [
    "loaded_model = load('Best_GBC.joblib')\n",
    "\n",
    "loaded_model.predict(X_test_scaled)\n",
    "\n",
    "loaded_model.score(X_test_scaled, y_test)"
   ]
  }
 ],
 "metadata": {
  "kernelspec": {
   "display_name": "Python 3 (ipykernel)",
   "language": "python",
   "name": "python3"
  },
  "language_info": {
   "codemirror_mode": {
    "name": "ipython",
    "version": 3
   },
   "file_extension": ".py",
   "mimetype": "text/x-python",
   "name": "python",
   "nbconvert_exporter": "python",
   "pygments_lexer": "ipython3",
   "version": "3.9.13"
  }
 },
 "nbformat": 4,
 "nbformat_minor": 5
}
