{
 "cells": [
  {
   "cell_type": "code",
   "execution_count": 1,
   "id": "4e927e16",
   "metadata": {},
   "outputs": [],
   "source": [
    "import pandas as pd"
   ]
  },
  {
   "cell_type": "code",
   "execution_count": 2,
   "id": "f5e20013",
   "metadata": {},
   "outputs": [
    {
     "name": "stderr",
     "output_type": "stream",
     "text": [
      "D:\\TEMP\\ipykernel_5644\\596926457.py:1: DtypeWarning: Columns (13,39,73,124,125,126,128,155) have mixed types. Specify dtype option on import or set low_memory=False.\n",
      "  df = pd.read_csv('Sources/final_dataset.csv')\n"
     ]
    }
   ],
   "source": [
    "df = pd.read_csv('Sources/final_dataset.csv')"
   ]
  },
  {
   "cell_type": "code",
   "execution_count": 3,
   "id": "7bbf7ec1",
   "metadata": {},
   "outputs": [
    {
     "data": {
      "text/html": [
       "<div>\n",
       "<style scoped>\n",
       "    .dataframe tbody tr th:only-of-type {\n",
       "        vertical-align: middle;\n",
       "    }\n",
       "\n",
       "    .dataframe tbody tr th {\n",
       "        vertical-align: top;\n",
       "    }\n",
       "\n",
       "    .dataframe thead th {\n",
       "        text-align: right;\n",
       "    }\n",
       "</style>\n",
       "<table border=\"1\" class=\"dataframe\">\n",
       "  <thead>\n",
       "    <tr style=\"text-align: right;\">\n",
       "      <th></th>\n",
       "      <th>Unnamed: 0</th>\n",
       "      <th>ATP</th>\n",
       "      <th>Location</th>\n",
       "      <th>Tournament</th>\n",
       "      <th>Date</th>\n",
       "      <th>Series</th>\n",
       "      <th>Court</th>\n",
       "      <th>Surface</th>\n",
       "      <th>Round</th>\n",
       "      <th>Best of</th>\n",
       "      <th>...</th>\n",
       "      <th>loser_birth_month</th>\n",
       "      <th>loser_birth_day</th>\n",
       "      <th>loser_turned_pro</th>\n",
       "      <th>loser_weight_lbs</th>\n",
       "      <th>loser_weight_kg</th>\n",
       "      <th>loser_height_ft</th>\n",
       "      <th>loser_height_inches</th>\n",
       "      <th>loser_height_cm</th>\n",
       "      <th>loser_handedness</th>\n",
       "      <th>loser_backhand</th>\n",
       "    </tr>\n",
       "  </thead>\n",
       "  <tbody>\n",
       "    <tr>\n",
       "      <th>0</th>\n",
       "      <td>0</td>\n",
       "      <td>1</td>\n",
       "      <td>Adelaide</td>\n",
       "      <td>AAPT Championships</td>\n",
       "      <td>2003-01-01</td>\n",
       "      <td>International</td>\n",
       "      <td>Outdoor</td>\n",
       "      <td>Hard</td>\n",
       "      <td>1st Round</td>\n",
       "      <td>3</td>\n",
       "      <td>...</td>\n",
       "      <td>6.0</td>\n",
       "      <td>5.0</td>\n",
       "      <td>1993.0</td>\n",
       "      <td>170.0</td>\n",
       "      <td>77.0</td>\n",
       "      <td>5'10\"</td>\n",
       "      <td>70.0</td>\n",
       "      <td>178.0</td>\n",
       "      <td>Left-Handed</td>\n",
       "      <td>One-Handed Backhand</td>\n",
       "    </tr>\n",
       "    <tr>\n",
       "      <th>1</th>\n",
       "      <td>1</td>\n",
       "      <td>1</td>\n",
       "      <td>Adelaide</td>\n",
       "      <td>AAPT Championships</td>\n",
       "      <td>2003-01-01</td>\n",
       "      <td>International</td>\n",
       "      <td>Outdoor</td>\n",
       "      <td>Hard</td>\n",
       "      <td>1st Round</td>\n",
       "      <td>3</td>\n",
       "      <td>...</td>\n",
       "      <td>9.0</td>\n",
       "      <td>15.0</td>\n",
       "      <td>1989.0</td>\n",
       "      <td>187.0</td>\n",
       "      <td>85.0</td>\n",
       "      <td>6'1\"</td>\n",
       "      <td>73.0</td>\n",
       "      <td>185.0</td>\n",
       "      <td>NaN</td>\n",
       "      <td>NaN</td>\n",
       "    </tr>\n",
       "    <tr>\n",
       "      <th>2</th>\n",
       "      <td>2</td>\n",
       "      <td>1</td>\n",
       "      <td>Adelaide</td>\n",
       "      <td>AAPT Championships</td>\n",
       "      <td>2003-01-01</td>\n",
       "      <td>International</td>\n",
       "      <td>Outdoor</td>\n",
       "      <td>Hard</td>\n",
       "      <td>2nd Round</td>\n",
       "      <td>3</td>\n",
       "      <td>...</td>\n",
       "      <td>3.0</td>\n",
       "      <td>19.0</td>\n",
       "      <td>1998.0</td>\n",
       "      <td>202.0</td>\n",
       "      <td>92.0</td>\n",
       "      <td>6'4\"</td>\n",
       "      <td>76.0</td>\n",
       "      <td>193.0</td>\n",
       "      <td>Right-Handed</td>\n",
       "      <td>One-Handed Backhand</td>\n",
       "    </tr>\n",
       "    <tr>\n",
       "      <th>3</th>\n",
       "      <td>3</td>\n",
       "      <td>1</td>\n",
       "      <td>Adelaide</td>\n",
       "      <td>AAPT Championships</td>\n",
       "      <td>2003-01-01</td>\n",
       "      <td>International</td>\n",
       "      <td>Outdoor</td>\n",
       "      <td>Hard</td>\n",
       "      <td>2nd Round</td>\n",
       "      <td>3</td>\n",
       "      <td>...</td>\n",
       "      <td>7.0</td>\n",
       "      <td>6.0</td>\n",
       "      <td>1996.0</td>\n",
       "      <td>205.0</td>\n",
       "      <td>93.0</td>\n",
       "      <td>6'5\"</td>\n",
       "      <td>77.0</td>\n",
       "      <td>196.0</td>\n",
       "      <td>Right-Handed</td>\n",
       "      <td>One-Handed Backhand</td>\n",
       "    </tr>\n",
       "    <tr>\n",
       "      <th>4</th>\n",
       "      <td>4</td>\n",
       "      <td>1</td>\n",
       "      <td>Adelaide</td>\n",
       "      <td>AAPT Championships</td>\n",
       "      <td>2003-01-01</td>\n",
       "      <td>International</td>\n",
       "      <td>Outdoor</td>\n",
       "      <td>Hard</td>\n",
       "      <td>2nd Round</td>\n",
       "      <td>3</td>\n",
       "      <td>...</td>\n",
       "      <td>12.0</td>\n",
       "      <td>20.0</td>\n",
       "      <td>2000.0</td>\n",
       "      <td>160.0</td>\n",
       "      <td>73.0</td>\n",
       "      <td>5'9\"</td>\n",
       "      <td>69.0</td>\n",
       "      <td>175.0</td>\n",
       "      <td>NaN</td>\n",
       "      <td>NaN</td>\n",
       "    </tr>\n",
       "  </tbody>\n",
       "</table>\n",
       "<p>5 rows × 221 columns</p>\n",
       "</div>"
      ],
      "text/plain": [
       "   Unnamed: 0  ATP  Location          Tournament        Date         Series  \\\n",
       "0           0    1  Adelaide  AAPT Championships  2003-01-01  International   \n",
       "1           1    1  Adelaide  AAPT Championships  2003-01-01  International   \n",
       "2           2    1  Adelaide  AAPT Championships  2003-01-01  International   \n",
       "3           3    1  Adelaide  AAPT Championships  2003-01-01  International   \n",
       "4           4    1  Adelaide  AAPT Championships  2003-01-01  International   \n",
       "\n",
       "     Court Surface      Round  Best of  ... loser_birth_month loser_birth_day  \\\n",
       "0  Outdoor    Hard  1st Round        3  ...               6.0             5.0   \n",
       "1  Outdoor    Hard  1st Round        3  ...               9.0            15.0   \n",
       "2  Outdoor    Hard  2nd Round        3  ...               3.0            19.0   \n",
       "3  Outdoor    Hard  2nd Round        3  ...               7.0             6.0   \n",
       "4  Outdoor    Hard  2nd Round        3  ...              12.0            20.0   \n",
       "\n",
       "   loser_turned_pro loser_weight_lbs  loser_weight_kg  loser_height_ft  \\\n",
       "0            1993.0            170.0             77.0            5'10\"   \n",
       "1            1989.0            187.0             85.0             6'1\"   \n",
       "2            1998.0            202.0             92.0             6'4\"   \n",
       "3            1996.0            205.0             93.0             6'5\"   \n",
       "4            2000.0            160.0             73.0             5'9\"   \n",
       "\n",
       "   loser_height_inches  loser_height_cm  loser_handedness       loser_backhand  \n",
       "0                 70.0            178.0       Left-Handed  One-Handed Backhand  \n",
       "1                 73.0            185.0               NaN                  NaN  \n",
       "2                 76.0            193.0      Right-Handed  One-Handed Backhand  \n",
       "3                 77.0            196.0      Right-Handed  One-Handed Backhand  \n",
       "4                 69.0            175.0               NaN                  NaN  \n",
       "\n",
       "[5 rows x 221 columns]"
      ]
     },
     "execution_count": 3,
     "metadata": {},
     "output_type": "execute_result"
    }
   ],
   "source": [
    "df.head()"
   ]
  },
  {
   "cell_type": "code",
   "execution_count": 4,
   "id": "496e7722",
   "metadata": {},
   "outputs": [],
   "source": [
    "df = df.drop('Unnamed: 0', axis=1)"
   ]
  },
  {
   "cell_type": "code",
   "execution_count": 5,
   "id": "16ee3b57",
   "metadata": {},
   "outputs": [
    {
     "name": "stdout",
     "output_type": "stream",
     "text": [
      "<class 'pandas.core.frame.DataFrame'>\n",
      "RangeIndex: 46216 entries, 0 to 46215\n",
      "Columns: 220 entries, ATP to loser_backhand\n",
      "dtypes: float64(113), int64(23), object(84)\n",
      "memory usage: 77.6+ MB\n"
     ]
    }
   ],
   "source": [
    "df.info()"
   ]
  },
  {
   "cell_type": "code",
   "execution_count": 6,
   "id": "09c2fc61",
   "metadata": {},
   "outputs": [
    {
     "data": {
      "text/plain": [
       "array(['ATP', 'Location', 'Tournament', 'Date', 'Series', 'Court',\n",
       "       'Surface', 'Round', 'Best of', 'Winner', 'Loser', 'WRank', 'LRank',\n",
       "       'W1', 'L1', 'W2', 'L2', 'W3', 'L3', 'W4', 'L4', 'W5', 'L5',\n",
       "       'Wsets', 'Lsets', 'Comment', 'CBW', 'CBL', 'GBW', 'GBL', 'IWW',\n",
       "       'IWL', 'SBW', 'SBL', 'B365W', 'B365L', 'B&WW', 'B&WL', 'EXW',\n",
       "       'EXL', 'PSW', 'PSL', 'WPts', 'LPts', 'UBW', 'UBL', 'LBW', 'LBL',\n",
       "       'SJW', 'SJL', 'MaxW', 'MaxL', 'AvgW', 'AvgL', 'city',\n",
       "       'winner_family_name', 'loser_family_name', 'tourney_year_id',\n",
       "       'tourney_order_x', 'tourney_name_x', 'tourney_slug_x',\n",
       "       'tourney_url_suffix_x', 'start_date', 'start_year', 'start_month',\n",
       "       'start_day', 'end_date', 'end_year', 'end_month', 'end_day',\n",
       "       'currency_x', 'prize_money', 'match_index', 'tourney_round_name',\n",
       "       'round_order', 'match_order', 'winner_name', 'winner_player_id',\n",
       "       'winner_slug_x', 'loser_name', 'loser_player_id', 'loser_slug_x',\n",
       "       'winner_seed', 'loser_seed', 'match_score_tiebreaks',\n",
       "       'winner_sets_won', 'loser_sets_won', 'winner_games_won',\n",
       "       'loser_games_won', 'winner_tiebreaks_won', 'loser_tiebreaks_won',\n",
       "       'match_id', 'match_stats_url_suffix_x', 'tourney_order_y',\n",
       "       'tourney_type', 'tourney_name_y', 'tourney_id', 'tourney_slug_y',\n",
       "       'tourney_location', 'tourney_date', 'year', 'tourney_month',\n",
       "       'tourney_day', 'tourney_singles_draw', 'tourney_doubles_draw',\n",
       "       'tourney_conditions', 'tourney_surface', 'tourney_fin_commit_raw',\n",
       "       'currency_y', 'tourney_fin_commit', 'tourney_url_suffix_y',\n",
       "       'singles_winner_name', 'singles_winner_url',\n",
       "       'singles_winner_player_slug', 'singles_winner_player_id',\n",
       "       'doubles_winner_1_name', 'doubles_winner_1_url',\n",
       "       'doubles_winner_1_player_slug', 'doubles_winner_1_player_id',\n",
       "       'doubles_winner_2_name', 'doubles_winner_2_url',\n",
       "       'doubles_winner_2_player_slug', 'doubles_winner_2_player_id',\n",
       "       'tourney_slug', 'match_stats_url_suffix_y', 'match_time',\n",
       "       'match_duration', 'winner_slug_y', 'winner_serve_rating',\n",
       "       'winner_aces', 'winner_double_faults', 'winner_first_serves_in',\n",
       "       'winner_first_serves_total', 'winner_first_serve_points_won',\n",
       "       'winner_first_serve_points_total',\n",
       "       'winner_second_serve_points_won',\n",
       "       'winner_second_serve_points_total', 'winner_break_points_saved',\n",
       "       'winner_break_points_serve_total', 'winner_service_games_played',\n",
       "       'winner_return_rating', 'winner_first_serve_return_won',\n",
       "       'winner_first_serve_return_total',\n",
       "       'winner_second_serve_return_won',\n",
       "       'winner_second_serve_return_total',\n",
       "       'winner_break_points_converted',\n",
       "       'winner_break_points_return_total', 'winner_return_games_played',\n",
       "       'winner_service_points_won', 'winner_service_points_total',\n",
       "       'winner_return_points_won', 'winner_return_points_total',\n",
       "       'winner_total_points_won', 'winner_total_points_total',\n",
       "       'loser_slug_y', 'loser_serve_rating', 'loser_aces',\n",
       "       'loser_double_faults', 'loser_first_serves_in',\n",
       "       'loser_first_serves_total', 'loser_first_serve_points_won',\n",
       "       'loser_first_serve_points_total', 'loser_second_serve_points_won',\n",
       "       'loser_second_serve_points_total', 'loser_break_points_saved',\n",
       "       'loser_break_points_serve_total', 'loser_service_games_played',\n",
       "       'loser_return_rating', 'loser_first_serve_return_won',\n",
       "       'loser_first_serve_return_total', 'loser_second_serve_return_won',\n",
       "       'loser_second_serve_return_total', 'loser_break_points_converted',\n",
       "       'loser_break_points_return_total', 'loser_return_games_played',\n",
       "       'loser_service_points_won', 'loser_service_points_total',\n",
       "       'loser_return_points_won', 'loser_return_points_total',\n",
       "       'loser_total_points_won', 'loser_total_points_total', 'year1',\n",
       "       'winner_player_slug', 'winner_first_name', 'winner_last_name',\n",
       "       'winner_player_url', 'winner_flag_code', 'winner_residence',\n",
       "       'winner_birthplace', 'winner_birthdate', 'winner_birth_year',\n",
       "       'winner_birth_month', 'winner_birth_day', 'winner_turned_pro',\n",
       "       'winner_weight_lbs', 'winner_weight_kg', 'winner_height_ft',\n",
       "       'winner_height_inches', 'winner_height_cm', 'winner_handedness',\n",
       "       'winner_backhand', 'loser_player_slug', 'loser_first_name',\n",
       "       'loser_last_name', 'loser_player_url', 'loser_flag_code',\n",
       "       'loser_residence', 'loser_birthplace', 'loser_birthdate',\n",
       "       'loser_birth_year', 'loser_birth_month', 'loser_birth_day',\n",
       "       'loser_turned_pro', 'loser_weight_lbs', 'loser_weight_kg',\n",
       "       'loser_height_ft', 'loser_height_inches', 'loser_height_cm',\n",
       "       'loser_handedness', 'loser_backhand'], dtype=object)"
      ]
     },
     "execution_count": 6,
     "metadata": {},
     "output_type": "execute_result"
    }
   ],
   "source": [
    "df.columns.values"
   ]
  },
  {
   "cell_type": "code",
   "execution_count": 7,
   "id": "b2583f2f",
   "metadata": {},
   "outputs": [],
   "source": [
    "# Nettoyage du dataset"
   ]
  },
  {
   "cell_type": "code",
   "execution_count": 8,
   "id": "b2b048a7",
   "metadata": {},
   "outputs": [],
   "source": [
    "# 1ère liste de colonnes à supprimer car répétitives ou sans informations \n",
    "col_to_drop_1 = ['ATP', 'Winner', 'Loser', 'CBW', 'CBL', 'GBW', 'GBL', 'IWW', 'IWL', \n",
    "                 'SBW', 'SBL', 'B&WW', 'B&WL', 'UBW', 'UBL', 'LBW', 'LBL', 'SJW', 'SJL',\n",
    "                 'MaxW', 'MaxL', 'AvgW', 'AvgL', 'city', 'winner_family_name', 'loser_family_name', 'tourney_year_id',\n",
    "                 'tourney_order_x', 'tourney_name_x', 'tourney_slug_x', 'tourney_url_suffix_x', 'start_year', 'start_month',\n",
    "                 'start_day', 'end_year', 'end_month', 'end_day', 'match_index', 'tourney_round_name',\n",
    "                 'round_order', 'match_order', 'winner_slug_x', 'loser_slug_x', 'winner_seed', 'loser_seed', \n",
    "                 'match_score_tiebreaks', 'match_id', 'match_stats_url_suffix_x', 'tourney_order_y',\n",
    "                 'tourney_type', 'tourney_name_y', 'tourney_id', 'tourney_slug_y','tourney_location', 'tourney_date', \n",
    "                 'year', 'tourney_month', 'tourney_day', 'tourney_singles_draw', 'tourney_doubles_draw','tourney_conditions', \n",
    "                 'tourney_surface', 'tourney_fin_commit_raw', 'tourney_url_suffix_y', 'singles_winner_name', \n",
    "                 'singles_winner_url', 'singles_winner_player_slug', 'singles_winner_player_id', 'doubles_winner_1_name', \n",
    "                 'doubles_winner_1_url', 'doubles_winner_1_player_slug', 'doubles_winner_1_player_id',\n",
    "                 'doubles_winner_2_name', 'doubles_winner_2_url', 'doubles_winner_2_player_slug', 'doubles_winner_2_player_id',\n",
    "                 'tourney_slug', 'match_stats_url_suffix_y', 'match_time', 'year1', 'winner_player_slug', 'winner_first_name',\n",
    "                 'winner_last_name', 'winner_player_url', 'winner_residence', 'winner_birth_year',\n",
    "                 'winner_birth_month', 'winner_birth_day', 'winner_weight_lbs', 'winner_height_ft', 'winner_height_inches', \n",
    "                 'loser_player_slug', 'loser_first_name', 'loser_last_name', 'loser_player_url', 'loser_residence',\n",
    "                 'loser_birth_year', 'loser_birth_month', 'loser_birth_day', 'loser_weight_lbs', 'loser_height_ft', 'loser_height_inches']"
   ]
  },
  {
   "cell_type": "code",
   "execution_count": 9,
   "id": "14428c6f",
   "metadata": {},
   "outputs": [],
   "source": [
    "df = df.drop(col_to_drop_1, axis=1)"
   ]
  },
  {
   "cell_type": "code",
   "execution_count": 10,
   "id": "d1f67bc7",
   "metadata": {},
   "outputs": [
    {
     "name": "stdout",
     "output_type": "stream",
     "text": [
      "<class 'pandas.core.frame.DataFrame'>\n",
      "RangeIndex: 46216 entries, 0 to 46215\n",
      "Columns: 118 entries, Location to loser_backhand\n",
      "dtypes: float64(77), int64(11), object(30)\n",
      "memory usage: 41.6+ MB\n"
     ]
    }
   ],
   "source": [
    "df.info()"
   ]
  },
  {
   "cell_type": "code",
   "execution_count": 11,
   "id": "1fb77d03",
   "metadata": {},
   "outputs": [
    {
     "name": "stdout",
     "output_type": "stream",
     "text": [
      "818\n",
      "818\n"
     ]
    }
   ],
   "source": [
    "# Comparaison des valeurs uniques pour le winner\n",
    "print(len(df['winner_name'].unique())) # col to keep\n",
    "print(len(df['winner_player_id'].unique())) # col to keep\n"
   ]
  },
  {
   "cell_type": "code",
   "execution_count": 12,
   "id": "6f68fe55",
   "metadata": {},
   "outputs": [
    {
     "name": "stdout",
     "output_type": "stream",
     "text": [
      "1203\n",
      "1202\n"
     ]
    }
   ],
   "source": [
    "# Comparaison des valeurs uniques pour le loser\n",
    "print(len(df['loser_name'].unique())) # col to keep\n",
    "print(len(df['loser_player_id'].unique())) # col to keep\n"
   ]
  },
  {
   "cell_type": "code",
   "execution_count": 13,
   "id": "5e048e27",
   "metadata": {},
   "outputs": [
    {
     "name": "stdout",
     "output_type": "stream",
     "text": [
      "[array(['Chun-hsin Tseng', 'Chun-Hsin Tseng'], dtype=object)]\n"
     ]
    }
   ],
   "source": [
    "# recherche et modification du loser_name ayant 2 id\n",
    "loser_name = df.groupby('loser_player_id').agg({'loser_name':'unique'})\n",
    "liste = []\n",
    "for value in loser_name['loser_name']:\n",
    "    if len(value) > 1:\n",
    "        liste.append(value)\n",
    "print(liste)\n",
    "\n",
    "df['loser_name'] = df['loser_name'].replace(liste[0][1], liste[0][0])"
   ]
  },
  {
   "cell_type": "code",
   "execution_count": 14,
   "id": "0dacd180",
   "metadata": {},
   "outputs": [
    {
     "name": "stdout",
     "output_type": "stream",
     "text": [
      "1202\n",
      "1202\n"
     ]
    }
   ],
   "source": [
    "print(len(df['loser_name'].unique())) # col to keep\n",
    "print(len(df['loser_player_id'].unique())) # col to keep"
   ]
  },
  {
   "cell_type": "code",
   "execution_count": 15,
   "id": "b4665f45",
   "metadata": {},
   "outputs": [],
   "source": [
    "# changement de type pour WRank et LRank + remplacement des nan par 0\n",
    "df['WRank'] = df['WRank'].fillna(0).astype('int')"
   ]
  },
  {
   "cell_type": "code",
   "execution_count": 16,
   "id": "8a899cc7",
   "metadata": {},
   "outputs": [],
   "source": [
    "df['LRank'] = df['LRank'].fillna(0).replace('NR', 0).astype('float')"
   ]
  },
  {
   "cell_type": "code",
   "execution_count": 17,
   "id": "757e3c26",
   "metadata": {},
   "outputs": [],
   "source": [
    "df['LRank'] = df['LRank'].astype('int')"
   ]
  },
  {
   "cell_type": "code",
   "execution_count": 18,
   "id": "a7918b1c",
   "metadata": {},
   "outputs": [
    {
     "name": "stdout",
     "output_type": "stream",
     "text": [
      "<class 'pandas.core.frame.DataFrame'>\n",
      "RangeIndex: 46216 entries, 0 to 46215\n",
      "Columns: 118 entries, Location to loser_backhand\n",
      "dtypes: float64(76), int32(2), int64(11), object(29)\n",
      "memory usage: 41.3+ MB\n"
     ]
    }
   ],
   "source": [
    "df.info()"
   ]
  },
  {
   "cell_type": "code",
   "execution_count": 19,
   "id": "db634341",
   "metadata": {},
   "outputs": [
    {
     "data": {
      "text/plain": [
       "ATP250                13238\n",
       "Grand Slam             9045\n",
       "International          6838\n",
       "Masters 1000           6679\n",
       "ATP500                 4701\n",
       "Masters                3364\n",
       "International Gold     2196\n",
       "Masters Cup             155\n",
       "Name: Series, dtype: int64"
      ]
     },
     "execution_count": 19,
     "metadata": {},
     "output_type": "execute_result"
    }
   ],
   "source": [
    "df['Series'].value_counts()"
   ]
  },
  {
   "cell_type": "code",
   "execution_count": 20,
   "id": "7e725c36",
   "metadata": {},
   "outputs": [],
   "source": [
    "# suppression de 'winner_slug_y' et 'loser_slug_y'\n",
    "df = df.drop(['winner_slug_y', 'loser_slug_y'], axis=1)"
   ]
  },
  {
   "cell_type": "code",
   "execution_count": 21,
   "id": "b3f30e9f",
   "metadata": {},
   "outputs": [
    {
     "name": "stdout",
     "output_type": "stream",
     "text": [
      "<class 'pandas.core.frame.DataFrame'>\n",
      "RangeIndex: 46216 entries, 0 to 46215\n",
      "Columns: 116 entries, Location to loser_backhand\n",
      "dtypes: float64(76), int32(2), int64(11), object(27)\n",
      "memory usage: 40.5+ MB\n"
     ]
    }
   ],
   "source": [
    "df.info()"
   ]
  },
  {
   "cell_type": "code",
   "execution_count": 22,
   "id": "7f29ae6e",
   "metadata": {},
   "outputs": [
    {
     "data": {
      "text/html": [
       "<div>\n",
       "<style scoped>\n",
       "    .dataframe tbody tr th:only-of-type {\n",
       "        vertical-align: middle;\n",
       "    }\n",
       "\n",
       "    .dataframe tbody tr th {\n",
       "        vertical-align: top;\n",
       "    }\n",
       "\n",
       "    .dataframe thead th {\n",
       "        text-align: right;\n",
       "    }\n",
       "</style>\n",
       "<table border=\"1\" class=\"dataframe\">\n",
       "  <thead>\n",
       "    <tr style=\"text-align: right;\">\n",
       "      <th></th>\n",
       "      <th>currency_x</th>\n",
       "      <th>prize_money</th>\n",
       "      <th>currency_y</th>\n",
       "      <th>tourney_fin_commit</th>\n",
       "    </tr>\n",
       "  </thead>\n",
       "  <tbody>\n",
       "    <tr>\n",
       "      <th>0</th>\n",
       "      <td>USD</td>\n",
       "      <td>332000.0</td>\n",
       "      <td>USD</td>\n",
       "      <td>347000.0</td>\n",
       "    </tr>\n",
       "    <tr>\n",
       "      <th>1</th>\n",
       "      <td>USD</td>\n",
       "      <td>332000.0</td>\n",
       "      <td>USD</td>\n",
       "      <td>347000.0</td>\n",
       "    </tr>\n",
       "    <tr>\n",
       "      <th>2</th>\n",
       "      <td>USD</td>\n",
       "      <td>332000.0</td>\n",
       "      <td>USD</td>\n",
       "      <td>347000.0</td>\n",
       "    </tr>\n",
       "    <tr>\n",
       "      <th>3</th>\n",
       "      <td>USD</td>\n",
       "      <td>332000.0</td>\n",
       "      <td>USD</td>\n",
       "      <td>347000.0</td>\n",
       "    </tr>\n",
       "    <tr>\n",
       "      <th>4</th>\n",
       "      <td>USD</td>\n",
       "      <td>332000.0</td>\n",
       "      <td>USD</td>\n",
       "      <td>347000.0</td>\n",
       "    </tr>\n",
       "    <tr>\n",
       "      <th>...</th>\n",
       "      <td>...</td>\n",
       "      <td>...</td>\n",
       "      <td>...</td>\n",
       "      <td>...</td>\n",
       "    </tr>\n",
       "    <tr>\n",
       "      <th>46211</th>\n",
       "      <td>EUR</td>\n",
       "      <td>5415410.0</td>\n",
       "      <td>EUR</td>\n",
       "      <td>6008725.0</td>\n",
       "    </tr>\n",
       "    <tr>\n",
       "      <th>46212</th>\n",
       "      <td>EUR</td>\n",
       "      <td>5415410.0</td>\n",
       "      <td>EUR</td>\n",
       "      <td>6008725.0</td>\n",
       "    </tr>\n",
       "    <tr>\n",
       "      <th>46213</th>\n",
       "      <td>EUR</td>\n",
       "      <td>5415410.0</td>\n",
       "      <td>EUR</td>\n",
       "      <td>6008725.0</td>\n",
       "    </tr>\n",
       "    <tr>\n",
       "      <th>46214</th>\n",
       "      <td>EUR</td>\n",
       "      <td>5415410.0</td>\n",
       "      <td>EUR</td>\n",
       "      <td>6008725.0</td>\n",
       "    </tr>\n",
       "    <tr>\n",
       "      <th>46215</th>\n",
       "      <td>EUR</td>\n",
       "      <td>5415410.0</td>\n",
       "      <td>EUR</td>\n",
       "      <td>6008725.0</td>\n",
       "    </tr>\n",
       "  </tbody>\n",
       "</table>\n",
       "<p>46216 rows × 4 columns</p>\n",
       "</div>"
      ],
      "text/plain": [
       "      currency_x  prize_money currency_y  tourney_fin_commit\n",
       "0            USD     332000.0        USD            347000.0\n",
       "1            USD     332000.0        USD            347000.0\n",
       "2            USD     332000.0        USD            347000.0\n",
       "3            USD     332000.0        USD            347000.0\n",
       "4            USD     332000.0        USD            347000.0\n",
       "...          ...          ...        ...                 ...\n",
       "46211        EUR    5415410.0        EUR           6008725.0\n",
       "46212        EUR    5415410.0        EUR           6008725.0\n",
       "46213        EUR    5415410.0        EUR           6008725.0\n",
       "46214        EUR    5415410.0        EUR           6008725.0\n",
       "46215        EUR    5415410.0        EUR           6008725.0\n",
       "\n",
       "[46216 rows x 4 columns]"
      ]
     },
     "execution_count": 22,
     "metadata": {},
     "output_type": "execute_result"
    }
   ],
   "source": [
    "# comparaison prix et currency\n",
    "df[['currency_x', 'prize_money', 'currency_y', 'tourney_fin_commit']]"
   ]
  },
  {
   "cell_type": "code",
   "execution_count": 23,
   "id": "68c65142",
   "metadata": {},
   "outputs": [],
   "source": [
    "# suppression de 'currency_x' et 'prize_money'\n",
    "df = df.drop(['currency_x', 'prize_money'], axis=1)"
   ]
  },
  {
   "cell_type": "code",
   "execution_count": 24,
   "id": "63ae8876",
   "metadata": {},
   "outputs": [
    {
     "name": "stdout",
     "output_type": "stream",
     "text": [
      "<class 'pandas.core.frame.DataFrame'>\n",
      "RangeIndex: 46216 entries, 0 to 46215\n",
      "Columns: 114 entries, Location to loser_backhand\n",
      "dtypes: float64(75), int32(2), int64(11), object(26)\n",
      "memory usage: 39.8+ MB\n"
     ]
    }
   ],
   "source": [
    "df.info()"
   ]
  },
  {
   "cell_type": "code",
   "execution_count": 25,
   "id": "0d3a5ae3",
   "metadata": {},
   "outputs": [
    {
     "data": {
      "text/plain": [
       "Completed    44543\n",
       "Retired       1425\n",
       "Walkover       245\n",
       "Awarded          1\n",
       "Sched            1\n",
       "Rrtired          1\n",
       "Name: Comment, dtype: int64"
      ]
     },
     "execution_count": 25,
     "metadata": {},
     "output_type": "execute_result"
    }
   ],
   "source": [
    "df['Comment'].value_counts()"
   ]
  },
  {
   "cell_type": "code",
   "execution_count": 26,
   "id": "e790f9a2",
   "metadata": {},
   "outputs": [],
   "source": [
    "df.to_csv('Sources/final_dataset_firstclean.csv')"
   ]
  },
  {
   "cell_type": "code",
   "execution_count": 27,
   "id": "c1c3d2a1",
   "metadata": {},
   "outputs": [
    {
     "name": "stdout",
     "output_type": "stream",
     "text": [
      "<class 'pandas.core.frame.DataFrame'>\n",
      "RangeIndex: 46216 entries, 0 to 46215\n",
      "Columns: 114 entries, Location to loser_backhand\n",
      "dtypes: float64(75), int32(2), int64(11), object(26)\n",
      "memory usage: 39.8+ MB\n"
     ]
    }
   ],
   "source": [
    "df.info()"
   ]
  },
  {
   "cell_type": "code",
   "execution_count": null,
   "id": "a3bd1189",
   "metadata": {},
   "outputs": [],
   "source": []
  }
 ],
 "metadata": {
  "kernelspec": {
   "display_name": "Python 3 (ipykernel)",
   "language": "python",
   "name": "python3"
  },
  "language_info": {
   "codemirror_mode": {
    "name": "ipython",
    "version": 3
   },
   "file_extension": ".py",
   "mimetype": "text/x-python",
   "name": "python",
   "nbconvert_exporter": "python",
   "pygments_lexer": "ipython3",
   "version": "3.9.13"
  }
 },
 "nbformat": 4,
 "nbformat_minor": 5
}
