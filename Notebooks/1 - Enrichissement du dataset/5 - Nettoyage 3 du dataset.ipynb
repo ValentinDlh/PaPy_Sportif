{
 "cells": [
  {
   "cell_type": "code",
   "execution_count": 1,
   "id": "5a2a604c",
   "metadata": {},
   "outputs": [],
   "source": [
    "import pandas as pd\n",
    "import numpy as np\n",
    "import matplotlib.pyplot as plt\n",
    "import seaborn as sns\n",
    "%matplotlib inline"
   ]
  },
  {
   "cell_type": "code",
   "execution_count": 2,
   "id": "666c059b",
   "metadata": {},
   "outputs": [],
   "source": [
    "df = pd.read_csv('Sources/final_dataset_secondclean.csv')"
   ]
  },
  {
   "cell_type": "code",
   "execution_count": 3,
   "id": "7976f783",
   "metadata": {},
   "outputs": [],
   "source": [
    "# (Re)Définitions des taux suivants :\n",
    "# The Serve Rating© adds four service metrics percentages plus the average number of aces per match and subtracts the average number of double faults per match.\n",
    "# A player's Return Rating© is determined by adding his winning percentage in the four service return categories.\n",
    "# A player's Under Pressure Rating© is calculated by adding the percentage of break points converted and saved, percentage of tie-breaks won and percentage of deciding sets won."
   ]
  },
  {
   "cell_type": "code",
   "execution_count": 4,
   "id": "9b1bac2e",
   "metadata": {},
   "outputs": [],
   "source": [
    "winner_deciding_sets_won = []\n",
    "for value1, value2, value3 in zip(list(df['winner_sets_won'].astype('int')), list(df['loser_sets_won'].astype('int')), list(df['Best of'])):\n",
    "    if (value1 + value2) == value3:\n",
    "        winner_deciding_sets_won.append(1)\n",
    "    else:\n",
    "        winner_deciding_sets_won.append(0)\n",
    "\n",
    "df['winner_deciding_sets_won'] = pd.Series(winner_deciding_sets_won)"
   ]
  },
  {
   "cell_type": "code",
   "execution_count": 5,
   "id": "2de1482e",
   "metadata": {},
   "outputs": [],
   "source": [
    "# transformation en pourcentage\n",
    "df['winner_sets_won'] = df['winner_sets_won'] / df['nb_sets']\n",
    "df['loser_sets_won'] = df['loser_sets_won'] / df['nb_sets']\n",
    "\n",
    "df['winner_games_won'] = df['winner_games_won'] / df['nb_games']\n",
    "df['loser_games_won'] = df['loser_games_won'] / df['nb_games']\n",
    "\n",
    "df['winner_tiebreaks_won'] = df['winner_tiebreaks_won'] / df['nb_tiebreaks']\n",
    "df['loser_tiebreaks_won'] = df['loser_tiebreaks_won'] / df['nb_tiebreaks']\n",
    "\n",
    "df['winner_points_won'] = df['winner_points_won'] / df['nb_points']\n",
    "df['loser_points_won'] = df['loser_points_won'] / df['nb_points']"
   ]
  },
  {
   "cell_type": "code",
   "execution_count": 6,
   "id": "ea2cac88",
   "metadata": {},
   "outputs": [],
   "source": [
    "df['winner_tiebreaks_won'].fillna(0, inplace=True)\n",
    "df['loser_tiebreaks_won'].fillna(0, inplace=True)"
   ]
  },
  {
   "cell_type": "code",
   "execution_count": 7,
   "id": "f976729a",
   "metadata": {},
   "outputs": [],
   "source": [
    "# serve_rating\n",
    "df['winner_serve_rating'] = (df['winner_first_serves_in'] + df['winner_first_serve_points_won'] + df['winner_second_serve_points_won'] + df['winner_break_points_saved']) * 100 + df['winner_aces'] - df['winner_double_faults']\n",
    "df['loser_serve_rating'] = (df['loser_first_serves_in'] + df['loser_first_serve_points_won'] + df['loser_second_serve_points_won'] + df['loser_break_points_saved']) * 100 + df['loser_aces'] - df['loser_double_faults']"
   ]
  },
  {
   "cell_type": "code",
   "execution_count": 8,
   "id": "3fbdaea5",
   "metadata": {},
   "outputs": [],
   "source": [
    "# return_rating\n",
    "df['winner_return_rating'] = (df['winner_first_serve_return_won'] + df['winner_second_serve_return_won'] + df['winner_break_points_converted']) * 100\n",
    "df['loser_return_rating'] = (df['loser_first_serve_return_won'] + df['loser_second_serve_return_won'] + df['loser_break_points_converted']) * 100"
   ]
  },
  {
   "cell_type": "code",
   "execution_count": 9,
   "id": "b03cb9a4",
   "metadata": {},
   "outputs": [],
   "source": [
    "# under_pressure_rating\n",
    "df['winner_under_pressure_rating'] = (df['winner_break_points_saved'] + df['winner_break_points_converted'] + df['winner_tiebreaks_won'] + df['winner_deciding_sets_won'])*100\n",
    "df['loser_under_pressure_rating'] = (df['loser_break_points_saved'] + df['loser_break_points_converted'] + df['loser_tiebreaks_won'])*100"
   ]
  },
  {
   "cell_type": "code",
   "execution_count": 10,
   "id": "6cbc7e64",
   "metadata": {},
   "outputs": [],
   "source": [
    "#col_to_drop suite aux regroupements des stats selon les trois indicateurs\n",
    "col_to_drop = ['winner_total_points_won', 'loser_total_points_won', 'winner_deciding_sets_won']"
   ]
  },
  {
   "cell_type": "code",
   "execution_count": 11,
   "id": "0db04d45",
   "metadata": {},
   "outputs": [],
   "source": [
    "df = df.drop(col_to_drop, axis=1)"
   ]
  },
  {
   "cell_type": "code",
   "execution_count": 12,
   "id": "d997380f",
   "metadata": {},
   "outputs": [],
   "source": [
    "df.rename({'WRank':'winner_rank', 'LRank':'loser_rank'}, axis=1, inplace=True)"
   ]
  },
  {
   "cell_type": "code",
   "execution_count": 13,
   "id": "ff284051",
   "metadata": {},
   "outputs": [],
   "source": [
    "df = df[['Tournament', 'Date', 'year', 'month', 'day', 'Series', 'Court', 'Surface', 'prize_money_euro', 'Round', 'Best of', 'match_duration', \n",
    "         'nb_sets', 'nb_games', 'nb_tiebreaks', 'nb_points','B365W', 'B365L', 'PSW', 'PSL',\n",
    "         'winner_name', 'winner_rank', 'winner_height_cm', 'winner_weight_kg', 'winner_handedness', 'winner_backhand', \n",
    "         'winner_at_home', 'winner_age', 'winner_nb_year_xp',\n",
    "         'winner_sets_won', 'winner_games_won', 'winner_tiebreaks_won', 'winner_points_won', \n",
    "         'winner_serve_rating', 'winner_aces', 'winner_double_faults', 'winner_first_serves_in', 'winner_first_serves_total', \n",
    "         'winner_first_serve_points_won', 'winner_first_serve_points_total', 'winner_second_serve_points_won', \n",
    "         'winner_second_serve_points_total', 'winner_break_points_saved', 'winner_break_points_serve_total', 'winner_service_games_played', \n",
    "         'winner_return_rating', 'winner_first_serve_return_won', 'winner_first_serve_return_total',\n",
    "         'winner_second_serve_return_won', 'winner_second_serve_return_total', 'winner_break_points_converted',\n",
    "         'winner_break_points_return_total', 'winner_return_games_played', \n",
    "         'winner_service_points_won', 'winner_service_points_total', 'winner_return_points_won', 'winner_return_points_total', \n",
    "         'winner_under_pressure_rating', \n",
    "         'loser_name', 'loser_rank', 'loser_height_cm', 'loser_weight_kg', 'loser_handedness', 'loser_backhand', \n",
    "         'loser_at_home', 'loser_age', 'loser_nb_year_xp',\n",
    "         'loser_sets_won', 'loser_games_won', 'loser_tiebreaks_won', 'loser_points_won', \n",
    "         'loser_serve_rating', 'loser_aces', 'loser_double_faults', 'loser_first_serves_in', 'loser_first_serves_total',\n",
    "         'loser_first_serve_points_won', 'loser_first_serve_points_total', 'loser_second_serve_points_won', \n",
    "         'loser_second_serve_points_total', 'loser_break_points_saved', 'loser_break_points_serve_total', \n",
    "         'loser_service_games_played', 'loser_return_rating', 'loser_first_serve_return_won', \n",
    "         'loser_first_serve_return_total', 'loser_second_serve_return_won', 'loser_second_serve_return_total',\n",
    "         'loser_break_points_converted', 'loser_break_points_return_total', 'loser_return_games_played', \n",
    "         'loser_service_points_won', 'loser_service_points_total', 'loser_return_points_won', 'loser_return_points_total', \n",
    "         'loser_under_pressure_rating']]"
   ]
  },
  {
   "cell_type": "code",
   "execution_count": 14,
   "id": "24e17feb",
   "metadata": {},
   "outputs": [],
   "source": [
    "# conversion de certaines données\n",
    "df['prize_money_euro'] = df['prize_money_euro'].astype('int')\n",
    "df['match_duration'] = df['match_duration'].astype('int')\n",
    "df['nb_sets'] = df['nb_sets'].astype('int')\n",
    "df['nb_games'] = df['nb_games'].astype('int')\n",
    "df['nb_tiebreaks'] = df['nb_tiebreaks'].astype('int')\n",
    "df['nb_points'] = df['nb_points'].astype('int')\n",
    "df['winner_height_cm'] = df['winner_height_cm'].astype('int')\n",
    "df['winner_weight_kg'] = df['winner_weight_kg'].astype('int')\n",
    "df['winner_at_home'] = df['winner_at_home'].astype('int')\n",
    "df['winner_nb_year_xp'] = df['winner_nb_year_xp'].astype('int')\n",
    "df['winner_service_games_played'] = df['winner_service_games_played'].astype('int')\n",
    "df['winner_return_games_played'] = df['winner_return_games_played'].astype('int')\n",
    "df['loser_height_cm'] = df['loser_height_cm'].astype('int')\n",
    "df['loser_weight_kg'] = df['loser_weight_kg'].astype('int')\n",
    "df['loser_at_home'] = df['loser_at_home'].astype('int')\n",
    "df['loser_nb_year_xp'] = df['loser_nb_year_xp'].astype('int')\n",
    "df['loser_service_games_played'] = df['loser_service_games_played'].astype('int')\n",
    "df['loser_return_games_played'] = df['loser_return_games_played'].astype('int')\n"
   ]
  },
  {
   "cell_type": "code",
   "execution_count": 15,
   "id": "1d4ff1b0",
   "metadata": {},
   "outputs": [
    {
     "name": "stdout",
     "output_type": "stream",
     "text": [
      "<class 'pandas.core.frame.DataFrame'>\n",
      "RangeIndex: 33545 entries, 0 to 33544\n",
      "Data columns (total 96 columns):\n",
      " #   Column                            Non-Null Count  Dtype  \n",
      "---  ------                            --------------  -----  \n",
      " 0   Tournament                        33545 non-null  object \n",
      " 1   Date                              33545 non-null  object \n",
      " 2   year                              33545 non-null  int64  \n",
      " 3   month                             33545 non-null  int64  \n",
      " 4   day                               33545 non-null  int64  \n",
      " 5   Series                            33545 non-null  object \n",
      " 6   Court                             33545 non-null  object \n",
      " 7   Surface                           33545 non-null  object \n",
      " 8   prize_money_euro                  33545 non-null  int32  \n",
      " 9   Round                             33545 non-null  object \n",
      " 10  Best of                           33545 non-null  int64  \n",
      " 11  match_duration                    33545 non-null  int32  \n",
      " 12  nb_sets                           33545 non-null  int32  \n",
      " 13  nb_games                          33545 non-null  int32  \n",
      " 14  nb_tiebreaks                      33545 non-null  int32  \n",
      " 15  nb_points                         33545 non-null  int32  \n",
      " 16  B365W                             33545 non-null  float64\n",
      " 17  B365L                             33545 non-null  float64\n",
      " 18  PSW                               33545 non-null  float64\n",
      " 19  PSL                               33545 non-null  float64\n",
      " 20  winner_name                       33545 non-null  object \n",
      " 21  winner_rank                       33545 non-null  int64  \n",
      " 22  winner_height_cm                  33545 non-null  int32  \n",
      " 23  winner_weight_kg                  33545 non-null  int32  \n",
      " 24  winner_handedness                 33545 non-null  object \n",
      " 25  winner_backhand                   33545 non-null  object \n",
      " 26  winner_at_home                    33545 non-null  int32  \n",
      " 27  winner_age                        33545 non-null  float64\n",
      " 28  winner_nb_year_xp                 33545 non-null  int32  \n",
      " 29  winner_sets_won                   33545 non-null  float64\n",
      " 30  winner_games_won                  33545 non-null  float64\n",
      " 31  winner_tiebreaks_won              33545 non-null  float64\n",
      " 32  winner_points_won                 33545 non-null  float64\n",
      " 33  winner_serve_rating               33545 non-null  float64\n",
      " 34  winner_aces                       33545 non-null  float64\n",
      " 35  winner_double_faults              33545 non-null  float64\n",
      " 36  winner_first_serves_in            33545 non-null  float64\n",
      " 37  winner_first_serves_total         33545 non-null  float64\n",
      " 38  winner_first_serve_points_won     33545 non-null  float64\n",
      " 39  winner_first_serve_points_total   33545 non-null  float64\n",
      " 40  winner_second_serve_points_won    33545 non-null  float64\n",
      " 41  winner_second_serve_points_total  33545 non-null  float64\n",
      " 42  winner_break_points_saved         33545 non-null  float64\n",
      " 43  winner_break_points_serve_total   33545 non-null  float64\n",
      " 44  winner_service_games_played       33545 non-null  int32  \n",
      " 45  winner_return_rating              33545 non-null  float64\n",
      " 46  winner_first_serve_return_won     33545 non-null  float64\n",
      " 47  winner_first_serve_return_total   33545 non-null  float64\n",
      " 48  winner_second_serve_return_won    33545 non-null  float64\n",
      " 49  winner_second_serve_return_total  33545 non-null  float64\n",
      " 50  winner_break_points_converted     33545 non-null  float64\n",
      " 51  winner_break_points_return_total  33545 non-null  float64\n",
      " 52  winner_return_games_played        33545 non-null  int32  \n",
      " 53  winner_service_points_won         33545 non-null  float64\n",
      " 54  winner_service_points_total       33545 non-null  float64\n",
      " 55  winner_return_points_won          33545 non-null  float64\n",
      " 56  winner_return_points_total        33545 non-null  float64\n",
      " 57  winner_under_pressure_rating      33545 non-null  float64\n",
      " 58  loser_name                        33545 non-null  object \n",
      " 59  loser_rank                        33545 non-null  int64  \n",
      " 60  loser_height_cm                   33545 non-null  int32  \n",
      " 61  loser_weight_kg                   33545 non-null  int32  \n",
      " 62  loser_handedness                  33545 non-null  object \n",
      " 63  loser_backhand                    33545 non-null  object \n",
      " 64  loser_at_home                     33545 non-null  int32  \n",
      " 65  loser_age                         33545 non-null  float64\n",
      " 66  loser_nb_year_xp                  33545 non-null  int32  \n",
      " 67  loser_sets_won                    33545 non-null  float64\n",
      " 68  loser_games_won                   33545 non-null  float64\n",
      " 69  loser_tiebreaks_won               33545 non-null  float64\n",
      " 70  loser_points_won                  33545 non-null  float64\n",
      " 71  loser_serve_rating                33545 non-null  float64\n",
      " 72  loser_aces                        33545 non-null  float64\n",
      " 73  loser_double_faults               33545 non-null  float64\n",
      " 74  loser_first_serves_in             33545 non-null  float64\n",
      " 75  loser_first_serves_total          33545 non-null  float64\n",
      " 76  loser_first_serve_points_won      33545 non-null  float64\n",
      " 77  loser_first_serve_points_total    33545 non-null  float64\n",
      " 78  loser_second_serve_points_won     33545 non-null  float64\n",
      " 79  loser_second_serve_points_total   33545 non-null  float64\n",
      " 80  loser_break_points_saved          33545 non-null  float64\n",
      " 81  loser_break_points_serve_total    33545 non-null  float64\n",
      " 82  loser_service_games_played        33545 non-null  int32  \n",
      " 83  loser_return_rating               33545 non-null  float64\n",
      " 84  loser_first_serve_return_won      33545 non-null  float64\n",
      " 85  loser_first_serve_return_total    33545 non-null  float64\n",
      " 86  loser_second_serve_return_won     33545 non-null  float64\n",
      " 87  loser_second_serve_return_total   33545 non-null  float64\n",
      " 88  loser_break_points_converted      33545 non-null  float64\n",
      " 89  loser_break_points_return_total   33545 non-null  float64\n",
      " 90  loser_return_games_played         33545 non-null  int32  \n",
      " 91  loser_service_points_won          33545 non-null  float64\n",
      " 92  loser_service_points_total        33545 non-null  float64\n",
      " 93  loser_return_points_won           33545 non-null  float64\n",
      " 94  loser_return_points_total         33545 non-null  float64\n",
      " 95  loser_under_pressure_rating       33545 non-null  float64\n",
      "dtypes: float64(60), int32(18), int64(6), object(12)\n",
      "memory usage: 22.3+ MB\n"
     ]
    }
   ],
   "source": [
    "df.info()"
   ]
  },
  {
   "cell_type": "code",
   "execution_count": 16,
   "id": "1971d85c",
   "metadata": {},
   "outputs": [],
   "source": [
    "df.to_csv('Sources/final_dataset_thirdclean.csv', index=False)"
   ]
  }
 ],
 "metadata": {
  "kernelspec": {
   "display_name": "Python 3 (ipykernel)",
   "language": "python",
   "name": "python3"
  },
  "language_info": {
   "codemirror_mode": {
    "name": "ipython",
    "version": 3
   },
   "file_extension": ".py",
   "mimetype": "text/x-python",
   "name": "python",
   "nbconvert_exporter": "python",
   "pygments_lexer": "ipython3",
   "version": "3.9.13"
  }
 },
 "nbformat": 4,
 "nbformat_minor": 5
}
